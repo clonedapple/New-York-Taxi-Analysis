{
 "cells": [
  {
   "cell_type": "code",
   "execution_count": 1,
   "id": "fcf17ee9",
   "metadata": {},
   "outputs": [],
   "source": [
    "import glob\n",
    "import numpy as np\n",
    "import pandas as pd\n",
    "import pylab as plt\n",
    "import seaborn as sns\n",
    "import vaex\n",
    "import plotly.graph_objects as go "
   ]
  },
  {
   "cell_type": "code",
   "execution_count": 2,
   "id": "2e5ff80b",
   "metadata": {},
   "outputs": [],
   "source": [
    "# path = r'yellowtaxi'\n",
    "# all_files = glob.glob(path + \"/*.csv\")\n",
    "\n",
    "# li = []\n",
    "\n",
    "# for filename in all_files:\n",
    "#     df_temp = pd.read_csv(filename, index_col=None, header=0)\n",
    "#     li.append(df_temp)\n",
    "\n",
    "# df = pd.concat(li, axis=0, ignore_index=True)"
   ]
  },
  {
   "cell_type": "code",
   "execution_count": 3,
   "id": "23de2f3e",
   "metadata": {},
   "outputs": [],
   "source": [
    "# del df['store_and_fwd_flag']"
   ]
  },
  {
   "cell_type": "code",
   "execution_count": 4,
   "id": "a3418370",
   "metadata": {},
   "outputs": [],
   "source": [
    "# df['tpep_pickup_datetime'] = pd.to_datetime(df['tpep_pickup_datetime'])\n",
    "# df['tpep_dropoff_datetime'] = pd.to_datetime(df['tpep_dropoff_datetime'])"
   ]
  },
  {
   "cell_type": "code",
   "execution_count": 5,
   "id": "72734585",
   "metadata": {},
   "outputs": [],
   "source": [
    "# yellow_taxi_data = vaex.from_pandas(df, copy_index=False)"
   ]
  },
  {
   "cell_type": "code",
   "execution_count": 6,
   "id": "b6468b6a",
   "metadata": {},
   "outputs": [],
   "source": [
    "# yellow_taxi_data"
   ]
  },
  {
   "cell_type": "markdown",
   "id": "71bb5eaf",
   "metadata": {},
   "source": [
    "## 30 Million rows"
   ]
  },
  {
   "cell_type": "code",
   "execution_count": 7,
   "id": "330c42a4",
   "metadata": {},
   "outputs": [],
   "source": [
    "# path = r'fhv_taxi'\n",
    "# all_files = glob.glob(path + \"/*.csv\")\n",
    "\n",
    "# li = []\n",
    "# date_cols = ['pickup_datetime','dropoff_datetime']\n",
    "\n",
    "# for filename in all_files:\n",
    "#     df_temp = pd.read_csv(filename, index_col=None, header=0,parse_dates=date_cols)\n",
    "#     li.append(df_temp)\n",
    "\n",
    "# df2 = pd.concat(li, axis=0, ignore_index=True)"
   ]
  },
  {
   "cell_type": "code",
   "execution_count": 8,
   "id": "7d01d63d",
   "metadata": {},
   "outputs": [],
   "source": [
    "# df2"
   ]
  },
  {
   "cell_type": "markdown",
   "id": "006b5330",
   "metadata": {},
   "source": [
    "## 103 million rows"
   ]
  },
  {
   "cell_type": "markdown",
   "id": "92a40760",
   "metadata": {},
   "source": [
    "Saving as hdf5 and re-reading into dataset"
   ]
  },
  {
   "cell_type": "code",
   "execution_count": 9,
   "id": "47f90e39",
   "metadata": {},
   "outputs": [],
   "source": [
    "# fhv_taxi_data = vaex.from_pandas(df2, copy_index=False)"
   ]
  },
  {
   "cell_type": "code",
   "execution_count": 10,
   "id": "c073738e",
   "metadata": {},
   "outputs": [],
   "source": [
    "# yellow_taxi_data.export_hdf5('yellow_taxi_data.hdf5')\n",
    "# fhv_taxi_data.export_hdf5('fhv_taxi_data.hdf5')"
   ]
  },
  {
   "cell_type": "code",
   "execution_count": 11,
   "id": "003ccb33",
   "metadata": {},
   "outputs": [
    {
     "data": {
      "text/html": [
       "<table>\n",
       "<thead>\n",
       "<tr><th>#                                     </th><th>VendorID  </th><th>tpep_pickup_datetime         </th><th>tpep_dropoff_datetime        </th><th>passenger_count  </th><th>trip_distance  </th><th>RatecodeID  </th><th>PULocationID  </th><th>DOLocationID  </th><th>payment_type  </th><th>fare_amount  </th><th>extra  </th><th>mta_tax  </th><th>tip_amount  </th><th>tolls_amount  </th><th>improvement_surcharge  </th><th>total_amount  </th><th>congestion_surcharge  </th></tr>\n",
       "</thead>\n",
       "<tbody>\n",
       "<tr><td><i style='opacity: 0.6'>0</i>         </td><td>1.0       </td><td>2019-11-01 00:30:41.000000000</td><td>2019-11-01 00:32:25.000000000</td><td>1.0              </td><td>0.0            </td><td>1.0         </td><td>145           </td><td>145           </td><td>2.0           </td><td>3.0          </td><td>0.5    </td><td>0.5      </td><td>0.0         </td><td>0.0           </td><td>0.3                    </td><td>4.3           </td><td>0.0                   </td></tr>\n",
       "<tr><td><i style='opacity: 0.6'>1</i>         </td><td>1.0       </td><td>2019-11-01 00:34:01.000000000</td><td>2019-11-01 00:34:09.000000000</td><td>1.0              </td><td>0.0            </td><td>1.0         </td><td>145           </td><td>145           </td><td>2.0           </td><td>2.5          </td><td>0.5    </td><td>0.5      </td><td>0.0         </td><td>0.0           </td><td>0.3                    </td><td>3.8           </td><td>0.0                   </td></tr>\n",
       "<tr><td><i style='opacity: 0.6'>2</i>         </td><td>2.0       </td><td>2019-11-01 00:41:59.000000000</td><td>2019-11-01 00:42:23.000000000</td><td>1.0              </td><td>0.0            </td><td>1.0         </td><td>193           </td><td>193           </td><td>1.0           </td><td>2.5          </td><td>0.5    </td><td>0.5      </td><td>0.95        </td><td>0.0           </td><td>0.3                    </td><td>4.75          </td><td>0.0                   </td></tr>\n",
       "<tr><td><i style='opacity: 0.6'>3</i>         </td><td>2.0       </td><td>2019-11-01 00:02:39.000000000</td><td>2019-11-01 00:02:51.000000000</td><td>1.0              </td><td>0.0            </td><td>1.0         </td><td>193           </td><td>193           </td><td>1.0           </td><td>2.5          </td><td>0.5    </td><td>0.5      </td><td>0.95        </td><td>0.0           </td><td>0.3                    </td><td>4.75          </td><td>0.0                   </td></tr>\n",
       "<tr><td><i style='opacity: 0.6'>4</i>         </td><td>2.0       </td><td>2019-11-01 00:18:30.000000000</td><td>2019-11-01 00:18:39.000000000</td><td>2.0              </td><td>0.0            </td><td>1.0         </td><td>226           </td><td>226           </td><td>2.0           </td><td>2.5          </td><td>0.0    </td><td>0.5      </td><td>0.0         </td><td>0.0           </td><td>0.3                    </td><td>3.3           </td><td>0.0                   </td></tr>\n",
       "<tr><td>...                                   </td><td>...       </td><td>...                          </td><td>...                          </td><td>...              </td><td>...            </td><td>...         </td><td>...           </td><td>...           </td><td>...           </td><td>...          </td><td>...    </td><td>...      </td><td>...         </td><td>...           </td><td>...                    </td><td>...           </td><td>...                   </td></tr>\n",
       "<tr><td><i style='opacity: 0.6'>29,724,070</i></td><td>nan       </td><td>2020-04-30 19:47:00.000000000</td><td>2020-04-30 20:07:00.000000000</td><td>nan              </td><td>10.41          </td><td>nan         </td><td>42            </td><td>3             </td><td>nan           </td><td>28.82        </td><td>0.0    </td><td>0.5      </td><td>0.0         </td><td>0.0           </td><td>0.3                    </td><td>29.62         </td><td>0.0                   </td></tr>\n",
       "<tr><td><i style='opacity: 0.6'>29,724,071</i></td><td>nan       </td><td>2020-04-30 19:34:00.000000000</td><td>2020-04-30 19:39:00.000000000</td><td>nan              </td><td>0.93           </td><td>nan         </td><td>42            </td><td>74            </td><td>nan           </td><td>5.05         </td><td>0.0    </td><td>0.5      </td><td>0.0         </td><td>0.0           </td><td>0.3                    </td><td>5.85          </td><td>0.0                   </td></tr>\n",
       "<tr><td><i style='opacity: 0.6'>29,724,072</i></td><td>nan       </td><td>2020-04-30 19:58:14.000000000</td><td>2020-04-30 20:03:47.000000000</td><td>nan              </td><td>2.44           </td><td>nan         </td><td>137           </td><td>4             </td><td>nan           </td><td>8.09         </td><td>0.0    </td><td>0.0      </td><td>0.0         </td><td>0.0           </td><td>0.3                    </td><td>10.89         </td><td>2.5                   </td></tr>\n",
       "<tr><td><i style='opacity: 0.6'>29,724,073</i></td><td>nan       </td><td>2020-04-30 19:35:15.000000000</td><td>2020-04-30 19:56:51.000000000</td><td>nan              </td><td>6.68           </td><td>nan         </td><td>137           </td><td>198           </td><td>nan           </td><td>22.42        </td><td>0.0    </td><td>0.5      </td><td>0.0         </td><td>6.12          </td><td>0.3                    </td><td>31.84         </td><td>2.5                   </td></tr>\n",
       "<tr><td><i style='opacity: 0.6'>29,724,074</i></td><td>nan       </td><td>2020-04-30 19:27:47.000000000</td><td>2020-04-30 19:45:00.000000000</td><td>nan              </td><td>4.35           </td><td>nan         </td><td>36            </td><td>65            </td><td>nan           </td><td>16.41        </td><td>0.0    </td><td>0.5      </td><td>0.0         </td><td>0.0           </td><td>0.3                    </td><td>17.21         </td><td>0.0                   </td></tr>\n",
       "</tbody>\n",
       "</table>"
      ],
      "text/plain": [
       "#           VendorID    tpep_pickup_datetime           tpep_dropoff_datetime          passenger_count    trip_distance    RatecodeID    PULocationID    DOLocationID    payment_type    fare_amount    extra    mta_tax    tip_amount    tolls_amount    improvement_surcharge    total_amount    congestion_surcharge\n",
       "0           1.0         2019-11-01 00:30:41.000000000  2019-11-01 00:32:25.000000000  1.0                0.0              1.0           145             145             2.0             3.0            0.5      0.5        0.0           0.0             0.3                      4.3             0.0\n",
       "1           1.0         2019-11-01 00:34:01.000000000  2019-11-01 00:34:09.000000000  1.0                0.0              1.0           145             145             2.0             2.5            0.5      0.5        0.0           0.0             0.3                      3.8             0.0\n",
       "2           2.0         2019-11-01 00:41:59.000000000  2019-11-01 00:42:23.000000000  1.0                0.0              1.0           193             193             1.0             2.5            0.5      0.5        0.95          0.0             0.3                      4.75            0.0\n",
       "3           2.0         2019-11-01 00:02:39.000000000  2019-11-01 00:02:51.000000000  1.0                0.0              1.0           193             193             1.0             2.5            0.5      0.5        0.95          0.0             0.3                      4.75            0.0\n",
       "4           2.0         2019-11-01 00:18:30.000000000  2019-11-01 00:18:39.000000000  2.0                0.0              1.0           226             226             2.0             2.5            0.0      0.5        0.0           0.0             0.3                      3.3             0.0\n",
       "...         ...         ...                            ...                            ...                ...              ...           ...             ...             ...             ...            ...      ...        ...           ...             ...                      ...             ...\n",
       "29,724,070  nan         2020-04-30 19:47:00.000000000  2020-04-30 20:07:00.000000000  nan                10.41            nan           42              3               nan             28.82          0.0      0.5        0.0           0.0             0.3                      29.62           0.0\n",
       "29,724,071  nan         2020-04-30 19:34:00.000000000  2020-04-30 19:39:00.000000000  nan                0.93             nan           42              74              nan             5.05           0.0      0.5        0.0           0.0             0.3                      5.85            0.0\n",
       "29,724,072  nan         2020-04-30 19:58:14.000000000  2020-04-30 20:03:47.000000000  nan                2.44             nan           137             4               nan             8.09           0.0      0.0        0.0           0.0             0.3                      10.89           2.5\n",
       "29,724,073  nan         2020-04-30 19:35:15.000000000  2020-04-30 19:56:51.000000000  nan                6.68             nan           137             198             nan             22.42          0.0      0.5        0.0           6.12            0.3                      31.84           2.5\n",
       "29,724,074  nan         2020-04-30 19:27:47.000000000  2020-04-30 19:45:00.000000000  nan                4.35             nan           36              65              nan             16.41          0.0      0.5        0.0           0.0             0.3                      17.21           0.0"
      ]
     },
     "execution_count": 11,
     "metadata": {},
     "output_type": "execute_result"
    }
   ],
   "source": [
    "yellow_df = vaex.open('yellow_taxi_data.hdf5')\n",
    "yellow_df"
   ]
  },
  {
   "cell_type": "code",
   "execution_count": 12,
   "id": "654d6b84",
   "metadata": {},
   "outputs": [],
   "source": [
    "fhv_df = vaex.open('fhv_taxi_data.hdf5')"
   ]
  },
  {
   "cell_type": "code",
   "execution_count": 13,
   "id": "e400715a",
   "metadata": {},
   "outputs": [
    {
     "data": {
      "text/html": [
       "<table>\n",
       "<thead>\n",
       "<tr><th>#                                      </th><th>hvfhs_license_num  </th><th>dispatching_base_num  </th><th>pickup_datetime              </th><th>dropoff_datetime             </th><th>PULocationID  </th><th>DOLocationID  </th><th>SR_Flag  </th></tr>\n",
       "</thead>\n",
       "<tbody>\n",
       "<tr><td><i style='opacity: 0.6'>0</i>          </td><td>&#x27;HV0002&#x27;           </td><td>&#x27;B03035&#x27;              </td><td>2019-11-01 00:18:05.000000000</td><td>2019-11-01 00:35:35.000000000</td><td>230           </td><td>243           </td><td>nan      </td></tr>\n",
       "<tr><td><i style='opacity: 0.6'>1</i>          </td><td>&#x27;HV0003&#x27;           </td><td>&#x27;B02765&#x27;              </td><td>2019-11-01 00:27:51.000000000</td><td>2019-11-01 00:51:07.000000000</td><td>148           </td><td>263           </td><td>nan      </td></tr>\n",
       "<tr><td><i style='opacity: 0.6'>2</i>          </td><td>&#x27;HV0005&#x27;           </td><td>&#x27;B02510&#x27;              </td><td>2019-11-01 00:38:31.000000000</td><td>2019-11-01 00:49:01.000000000</td><td>180           </td><td>63            </td><td>nan      </td></tr>\n",
       "<tr><td><i style='opacity: 0.6'>3</i>          </td><td>&#x27;HV0005&#x27;           </td><td>&#x27;B02510&#x27;              </td><td>2019-11-01 00:59:38.000000000</td><td>2019-11-01 01:26:26.000000000</td><td>180           </td><td>112           </td><td>nan      </td></tr>\n",
       "<tr><td><i style='opacity: 0.6'>4</i>          </td><td>&#x27;HV0005&#x27;           </td><td>&#x27;B02510&#x27;              </td><td>2019-11-01 00:13:25.000000000</td><td>2019-11-01 00:24:09.000000000</td><td>90            </td><td>164           </td><td>nan      </td></tr>\n",
       "<tr><td>...                                    </td><td>...                </td><td>...                   </td><td>...                          </td><td>...                          </td><td>...           </td><td>...           </td><td>...      </td></tr>\n",
       "<tr><td><i style='opacity: 0.6'>103,878,655</i></td><td>&#x27;HV0005&#x27;           </td><td>&#x27;B02510&#x27;              </td><td>2020-04-30 23:13:55.000000000</td><td>2020-04-30 23:24:03.000000000</td><td>78            </td><td>126           </td><td>nan      </td></tr>\n",
       "<tr><td><i style='opacity: 0.6'>103,878,656</i></td><td>&#x27;HV0005&#x27;           </td><td>&#x27;B02510&#x27;              </td><td>2020-04-30 23:32:35.000000000</td><td>2020-04-30 23:37:18.000000000</td><td>167           </td><td>147           </td><td>nan      </td></tr>\n",
       "<tr><td><i style='opacity: 0.6'>103,878,657</i></td><td>&#x27;HV0005&#x27;           </td><td>&#x27;B02510&#x27;              </td><td>2020-04-30 23:42:19.000000000</td><td>2020-04-30 23:50:02.000000000</td><td>147           </td><td>167           </td><td>nan      </td></tr>\n",
       "<tr><td><i style='opacity: 0.6'>103,878,658</i></td><td>&#x27;HV0003&#x27;           </td><td>&#x27;B02864&#x27;              </td><td>2020-04-30 23:12:58.000000000</td><td>2020-04-30 23:25:10.000000000</td><td>260           </td><td>193           </td><td>nan      </td></tr>\n",
       "<tr><td><i style='opacity: 0.6'>103,878,659</i></td><td>&#x27;HV0003&#x27;           </td><td>&#x27;B02864&#x27;              </td><td>2020-04-30 23:32:38.000000000</td><td>2020-04-30 23:49:12.000000000</td><td>140           </td><td>247           </td><td>nan      </td></tr>\n",
       "</tbody>\n",
       "</table>"
      ],
      "text/plain": [
       "#            hvfhs_license_num    dispatching_base_num    pickup_datetime                dropoff_datetime               PULocationID    DOLocationID    SR_Flag\n",
       "0            'HV0002'             'B03035'                2019-11-01 00:18:05.000000000  2019-11-01 00:35:35.000000000  230             243             nan\n",
       "1            'HV0003'             'B02765'                2019-11-01 00:27:51.000000000  2019-11-01 00:51:07.000000000  148             263             nan\n",
       "2            'HV0005'             'B02510'                2019-11-01 00:38:31.000000000  2019-11-01 00:49:01.000000000  180             63              nan\n",
       "3            'HV0005'             'B02510'                2019-11-01 00:59:38.000000000  2019-11-01 01:26:26.000000000  180             112             nan\n",
       "4            'HV0005'             'B02510'                2019-11-01 00:13:25.000000000  2019-11-01 00:24:09.000000000  90              164             nan\n",
       "...          ...                  ...                     ...                            ...                            ...             ...             ...\n",
       "103,878,655  'HV0005'             'B02510'                2020-04-30 23:13:55.000000000  2020-04-30 23:24:03.000000000  78              126             nan\n",
       "103,878,656  'HV0005'             'B02510'                2020-04-30 23:32:35.000000000  2020-04-30 23:37:18.000000000  167             147             nan\n",
       "103,878,657  'HV0005'             'B02510'                2020-04-30 23:42:19.000000000  2020-04-30 23:50:02.000000000  147             167             nan\n",
       "103,878,658  'HV0003'             'B02864'                2020-04-30 23:12:58.000000000  2020-04-30 23:25:10.000000000  260             193             nan\n",
       "103,878,659  'HV0003'             'B02864'                2020-04-30 23:32:38.000000000  2020-04-30 23:49:12.000000000  140             247             nan"
      ]
     },
     "execution_count": 13,
     "metadata": {},
     "output_type": "execute_result"
    }
   ],
   "source": [
    "fhv_df"
   ]
  },
  {
   "cell_type": "markdown",
   "id": "eeb84434",
   "metadata": {},
   "source": [
    "### Pickups over the day:"
   ]
  },
  {
   "cell_type": "code",
   "execution_count": 14,
   "id": "088c9d72",
   "metadata": {},
   "outputs": [],
   "source": [
    "yellow_df['pickup_hour'] = yellow_df['tpep_pickup_datetime'].dt.hour\n",
    "yellow_pickup_times = yellow_df.groupby(by='pickup_hour',agg={ 'cnt' : vaex.agg.count() } )\n",
    "yellow_pickup_times = yellow_pickup_times.sort(by=\"pickup_hour\")"
   ]
  },
  {
   "cell_type": "code",
   "execution_count": 15,
   "id": "78fd8bbc",
   "metadata": {},
   "outputs": [],
   "source": [
    "fhv_df['pickup_hour'] = fhv_df['pickup_datetime'].dt.hour\n",
    "fhv_pickup_times = fhv_df.groupby(by='pickup_hour',agg={ 'cnt' : vaex.agg.count() } )\n",
    "fhv_pickup_times = fhv_pickup_times.sort(by=\"pickup_hour\")"
   ]
  },
  {
   "cell_type": "code",
   "execution_count": 16,
   "id": "f125de8b",
   "metadata": {},
   "outputs": [],
   "source": [
    "yellow_pickup_df = yellow_pickup_times.to_pandas_df()\n",
    "fhv_pickup_df = fhv_pickup_times.to_pandas_df()"
   ]
  },
  {
   "cell_type": "code",
   "execution_count": 214,
   "id": "b1bbdf27",
   "metadata": {},
   "outputs": [
    {
     "data": {
      "application/vnd.plotly.v1+json": {
       "config": {
        "plotlyServerURL": "https://plot.ly"
       },
       "data": [
        {
         "line": {
          "color": "rgba(255, 180, 20,100)"
         },
         "mode": "lines+markers",
         "name": "Yellow Taxi",
         "type": "scatter",
         "x": [
          0,
          1,
          2,
          3,
          4,
          5,
          6,
          7,
          8,
          9,
          10,
          11,
          12,
          13,
          14,
          15,
          16,
          17,
          18,
          19,
          20,
          21,
          22,
          23
         ],
         "xaxis": "x",
         "y": [
          842164,
          592632,
          405806,
          288680,
          223889,
          260997,
          582396,
          1078628,
          1364052,
          1385349,
          1403053,
          1481094,
          1589791,
          1614592,
          1705776,
          1733030,
          1628281,
          1823967,
          1985476,
          1828082,
          1635361,
          1623129,
          1490053,
          1157797
         ],
         "yaxis": "y"
        },
        {
         "mode": "lines+markers",
         "name": "FHV Taxi",
         "type": "scatter",
         "x": [
          0,
          1,
          2,
          3,
          4,
          5,
          6,
          7,
          8,
          9,
          10,
          11,
          12,
          13,
          14,
          15,
          16,
          17,
          18,
          19,
          20,
          21,
          22,
          23
         ],
         "xaxis": "x2",
         "y": [
          3897782,
          2768640,
          1931509,
          1516627,
          1444149,
          1688489,
          2692419,
          4188936,
          5116037,
          4685097,
          4187548,
          4165347,
          4327357,
          4529491,
          4873359,
          5127912,
          5331437,
          6062030,
          6515525,
          6424560,
          6024906,
          5795757,
          5606518,
          4977228
         ],
         "yaxis": "y2"
        }
       ],
       "layout": {
        "legend": {
         "title": {
          "text": "Taxi Type"
         }
        },
        "plot_bgcolor": "rgba(245, 245, 245 ,10)",
        "template": {
         "data": {
          "bar": [
           {
            "error_x": {
             "color": "#2a3f5f"
            },
            "error_y": {
             "color": "#2a3f5f"
            },
            "marker": {
             "line": {
              "color": "#E5ECF6",
              "width": 0.5
             }
            },
            "type": "bar"
           }
          ],
          "barpolar": [
           {
            "marker": {
             "line": {
              "color": "#E5ECF6",
              "width": 0.5
             }
            },
            "type": "barpolar"
           }
          ],
          "carpet": [
           {
            "aaxis": {
             "endlinecolor": "#2a3f5f",
             "gridcolor": "white",
             "linecolor": "white",
             "minorgridcolor": "white",
             "startlinecolor": "#2a3f5f"
            },
            "baxis": {
             "endlinecolor": "#2a3f5f",
             "gridcolor": "white",
             "linecolor": "white",
             "minorgridcolor": "white",
             "startlinecolor": "#2a3f5f"
            },
            "type": "carpet"
           }
          ],
          "choropleth": [
           {
            "colorbar": {
             "outlinewidth": 0,
             "ticks": ""
            },
            "type": "choropleth"
           }
          ],
          "contour": [
           {
            "colorbar": {
             "outlinewidth": 0,
             "ticks": ""
            },
            "colorscale": [
             [
              0,
              "#0d0887"
             ],
             [
              0.1111111111111111,
              "#46039f"
             ],
             [
              0.2222222222222222,
              "#7201a8"
             ],
             [
              0.3333333333333333,
              "#9c179e"
             ],
             [
              0.4444444444444444,
              "#bd3786"
             ],
             [
              0.5555555555555556,
              "#d8576b"
             ],
             [
              0.6666666666666666,
              "#ed7953"
             ],
             [
              0.7777777777777778,
              "#fb9f3a"
             ],
             [
              0.8888888888888888,
              "#fdca26"
             ],
             [
              1,
              "#f0f921"
             ]
            ],
            "type": "contour"
           }
          ],
          "contourcarpet": [
           {
            "colorbar": {
             "outlinewidth": 0,
             "ticks": ""
            },
            "type": "contourcarpet"
           }
          ],
          "heatmap": [
           {
            "colorbar": {
             "outlinewidth": 0,
             "ticks": ""
            },
            "colorscale": [
             [
              0,
              "#0d0887"
             ],
             [
              0.1111111111111111,
              "#46039f"
             ],
             [
              0.2222222222222222,
              "#7201a8"
             ],
             [
              0.3333333333333333,
              "#9c179e"
             ],
             [
              0.4444444444444444,
              "#bd3786"
             ],
             [
              0.5555555555555556,
              "#d8576b"
             ],
             [
              0.6666666666666666,
              "#ed7953"
             ],
             [
              0.7777777777777778,
              "#fb9f3a"
             ],
             [
              0.8888888888888888,
              "#fdca26"
             ],
             [
              1,
              "#f0f921"
             ]
            ],
            "type": "heatmap"
           }
          ],
          "heatmapgl": [
           {
            "colorbar": {
             "outlinewidth": 0,
             "ticks": ""
            },
            "colorscale": [
             [
              0,
              "#0d0887"
             ],
             [
              0.1111111111111111,
              "#46039f"
             ],
             [
              0.2222222222222222,
              "#7201a8"
             ],
             [
              0.3333333333333333,
              "#9c179e"
             ],
             [
              0.4444444444444444,
              "#bd3786"
             ],
             [
              0.5555555555555556,
              "#d8576b"
             ],
             [
              0.6666666666666666,
              "#ed7953"
             ],
             [
              0.7777777777777778,
              "#fb9f3a"
             ],
             [
              0.8888888888888888,
              "#fdca26"
             ],
             [
              1,
              "#f0f921"
             ]
            ],
            "type": "heatmapgl"
           }
          ],
          "histogram": [
           {
            "marker": {
             "colorbar": {
              "outlinewidth": 0,
              "ticks": ""
             }
            },
            "type": "histogram"
           }
          ],
          "histogram2d": [
           {
            "colorbar": {
             "outlinewidth": 0,
             "ticks": ""
            },
            "colorscale": [
             [
              0,
              "#0d0887"
             ],
             [
              0.1111111111111111,
              "#46039f"
             ],
             [
              0.2222222222222222,
              "#7201a8"
             ],
             [
              0.3333333333333333,
              "#9c179e"
             ],
             [
              0.4444444444444444,
              "#bd3786"
             ],
             [
              0.5555555555555556,
              "#d8576b"
             ],
             [
              0.6666666666666666,
              "#ed7953"
             ],
             [
              0.7777777777777778,
              "#fb9f3a"
             ],
             [
              0.8888888888888888,
              "#fdca26"
             ],
             [
              1,
              "#f0f921"
             ]
            ],
            "type": "histogram2d"
           }
          ],
          "histogram2dcontour": [
           {
            "colorbar": {
             "outlinewidth": 0,
             "ticks": ""
            },
            "colorscale": [
             [
              0,
              "#0d0887"
             ],
             [
              0.1111111111111111,
              "#46039f"
             ],
             [
              0.2222222222222222,
              "#7201a8"
             ],
             [
              0.3333333333333333,
              "#9c179e"
             ],
             [
              0.4444444444444444,
              "#bd3786"
             ],
             [
              0.5555555555555556,
              "#d8576b"
             ],
             [
              0.6666666666666666,
              "#ed7953"
             ],
             [
              0.7777777777777778,
              "#fb9f3a"
             ],
             [
              0.8888888888888888,
              "#fdca26"
             ],
             [
              1,
              "#f0f921"
             ]
            ],
            "type": "histogram2dcontour"
           }
          ],
          "mesh3d": [
           {
            "colorbar": {
             "outlinewidth": 0,
             "ticks": ""
            },
            "type": "mesh3d"
           }
          ],
          "parcoords": [
           {
            "line": {
             "colorbar": {
              "outlinewidth": 0,
              "ticks": ""
             }
            },
            "type": "parcoords"
           }
          ],
          "pie": [
           {
            "automargin": true,
            "type": "pie"
           }
          ],
          "scatter": [
           {
            "marker": {
             "colorbar": {
              "outlinewidth": 0,
              "ticks": ""
             }
            },
            "type": "scatter"
           }
          ],
          "scatter3d": [
           {
            "line": {
             "colorbar": {
              "outlinewidth": 0,
              "ticks": ""
             }
            },
            "marker": {
             "colorbar": {
              "outlinewidth": 0,
              "ticks": ""
             }
            },
            "type": "scatter3d"
           }
          ],
          "scattercarpet": [
           {
            "marker": {
             "colorbar": {
              "outlinewidth": 0,
              "ticks": ""
             }
            },
            "type": "scattercarpet"
           }
          ],
          "scattergeo": [
           {
            "marker": {
             "colorbar": {
              "outlinewidth": 0,
              "ticks": ""
             }
            },
            "type": "scattergeo"
           }
          ],
          "scattergl": [
           {
            "marker": {
             "colorbar": {
              "outlinewidth": 0,
              "ticks": ""
             }
            },
            "type": "scattergl"
           }
          ],
          "scattermapbox": [
           {
            "marker": {
             "colorbar": {
              "outlinewidth": 0,
              "ticks": ""
             }
            },
            "type": "scattermapbox"
           }
          ],
          "scatterpolar": [
           {
            "marker": {
             "colorbar": {
              "outlinewidth": 0,
              "ticks": ""
             }
            },
            "type": "scatterpolar"
           }
          ],
          "scatterpolargl": [
           {
            "marker": {
             "colorbar": {
              "outlinewidth": 0,
              "ticks": ""
             }
            },
            "type": "scatterpolargl"
           }
          ],
          "scatterternary": [
           {
            "marker": {
             "colorbar": {
              "outlinewidth": 0,
              "ticks": ""
             }
            },
            "type": "scatterternary"
           }
          ],
          "surface": [
           {
            "colorbar": {
             "outlinewidth": 0,
             "ticks": ""
            },
            "colorscale": [
             [
              0,
              "#0d0887"
             ],
             [
              0.1111111111111111,
              "#46039f"
             ],
             [
              0.2222222222222222,
              "#7201a8"
             ],
             [
              0.3333333333333333,
              "#9c179e"
             ],
             [
              0.4444444444444444,
              "#bd3786"
             ],
             [
              0.5555555555555556,
              "#d8576b"
             ],
             [
              0.6666666666666666,
              "#ed7953"
             ],
             [
              0.7777777777777778,
              "#fb9f3a"
             ],
             [
              0.8888888888888888,
              "#fdca26"
             ],
             [
              1,
              "#f0f921"
             ]
            ],
            "type": "surface"
           }
          ],
          "table": [
           {
            "cells": {
             "fill": {
              "color": "#EBF0F8"
             },
             "line": {
              "color": "white"
             }
            },
            "header": {
             "fill": {
              "color": "#C8D4E3"
             },
             "line": {
              "color": "white"
             }
            },
            "type": "table"
           }
          ]
         },
         "layout": {
          "annotationdefaults": {
           "arrowcolor": "#2a3f5f",
           "arrowhead": 0,
           "arrowwidth": 1
          },
          "autotypenumbers": "strict",
          "coloraxis": {
           "colorbar": {
            "outlinewidth": 0,
            "ticks": ""
           }
          },
          "colorscale": {
           "diverging": [
            [
             0,
             "#8e0152"
            ],
            [
             0.1,
             "#c51b7d"
            ],
            [
             0.2,
             "#de77ae"
            ],
            [
             0.3,
             "#f1b6da"
            ],
            [
             0.4,
             "#fde0ef"
            ],
            [
             0.5,
             "#f7f7f7"
            ],
            [
             0.6,
             "#e6f5d0"
            ],
            [
             0.7,
             "#b8e186"
            ],
            [
             0.8,
             "#7fbc41"
            ],
            [
             0.9,
             "#4d9221"
            ],
            [
             1,
             "#276419"
            ]
           ],
           "sequential": [
            [
             0,
             "#0d0887"
            ],
            [
             0.1111111111111111,
             "#46039f"
            ],
            [
             0.2222222222222222,
             "#7201a8"
            ],
            [
             0.3333333333333333,
             "#9c179e"
            ],
            [
             0.4444444444444444,
             "#bd3786"
            ],
            [
             0.5555555555555556,
             "#d8576b"
            ],
            [
             0.6666666666666666,
             "#ed7953"
            ],
            [
             0.7777777777777778,
             "#fb9f3a"
            ],
            [
             0.8888888888888888,
             "#fdca26"
            ],
            [
             1,
             "#f0f921"
            ]
           ],
           "sequentialminus": [
            [
             0,
             "#0d0887"
            ],
            [
             0.1111111111111111,
             "#46039f"
            ],
            [
             0.2222222222222222,
             "#7201a8"
            ],
            [
             0.3333333333333333,
             "#9c179e"
            ],
            [
             0.4444444444444444,
             "#bd3786"
            ],
            [
             0.5555555555555556,
             "#d8576b"
            ],
            [
             0.6666666666666666,
             "#ed7953"
            ],
            [
             0.7777777777777778,
             "#fb9f3a"
            ],
            [
             0.8888888888888888,
             "#fdca26"
            ],
            [
             1,
             "#f0f921"
            ]
           ]
          },
          "colorway": [
           "#636efa",
           "#EF553B",
           "#00cc96",
           "#ab63fa",
           "#FFA15A",
           "#19d3f3",
           "#FF6692",
           "#B6E880",
           "#FF97FF",
           "#FECB52"
          ],
          "font": {
           "color": "#2a3f5f"
          },
          "geo": {
           "bgcolor": "white",
           "lakecolor": "white",
           "landcolor": "#E5ECF6",
           "showlakes": true,
           "showland": true,
           "subunitcolor": "white"
          },
          "hoverlabel": {
           "align": "left"
          },
          "hovermode": "closest",
          "mapbox": {
           "style": "light"
          },
          "paper_bgcolor": "white",
          "plot_bgcolor": "#E5ECF6",
          "polar": {
           "angularaxis": {
            "gridcolor": "white",
            "linecolor": "white",
            "ticks": ""
           },
           "bgcolor": "#E5ECF6",
           "radialaxis": {
            "gridcolor": "white",
            "linecolor": "white",
            "ticks": ""
           }
          },
          "scene": {
           "xaxis": {
            "backgroundcolor": "#E5ECF6",
            "gridcolor": "white",
            "gridwidth": 2,
            "linecolor": "white",
            "showbackground": true,
            "ticks": "",
            "zerolinecolor": "white"
           },
           "yaxis": {
            "backgroundcolor": "#E5ECF6",
            "gridcolor": "white",
            "gridwidth": 2,
            "linecolor": "white",
            "showbackground": true,
            "ticks": "",
            "zerolinecolor": "white"
           },
           "zaxis": {
            "backgroundcolor": "#E5ECF6",
            "gridcolor": "white",
            "gridwidth": 2,
            "linecolor": "white",
            "showbackground": true,
            "ticks": "",
            "zerolinecolor": "white"
           }
          },
          "shapedefaults": {
           "line": {
            "color": "#2a3f5f"
           }
          },
          "ternary": {
           "aaxis": {
            "gridcolor": "white",
            "linecolor": "white",
            "ticks": ""
           },
           "baxis": {
            "gridcolor": "white",
            "linecolor": "white",
            "ticks": ""
           },
           "bgcolor": "#E5ECF6",
           "caxis": {
            "gridcolor": "white",
            "linecolor": "white",
            "ticks": ""
           }
          },
          "title": {
           "x": 0.05
          },
          "xaxis": {
           "automargin": true,
           "gridcolor": "white",
           "linecolor": "white",
           "ticks": "",
           "title": {
            "standoff": 15
           },
           "zerolinecolor": "white",
           "zerolinewidth": 2
          },
          "yaxis": {
           "automargin": true,
           "gridcolor": "white",
           "linecolor": "white",
           "ticks": "",
           "title": {
            "standoff": 15
           },
           "zerolinecolor": "white",
           "zerolinewidth": 2
          }
         }
        },
        "title": {
         "text": "Number of Pickups throughout the Day"
        },
        "xaxis": {
         "anchor": "y",
         "domain": [
          0,
          1
         ],
         "gridcolor": "rgb(227, 227, 227)",
         "tickangle": 45,
         "tickmode": "array",
         "ticktext": [
          "0 hr",
          "1 hr",
          "2 hr",
          "3 hr",
          "4 hr",
          "5 hr",
          "6 hr",
          "7 hr",
          "8 hr",
          "9 hr",
          "10 hr",
          "11 hr",
          "12 hr",
          "13 hr",
          "14 hr",
          "15 hr",
          "16 hr",
          "17 hr",
          "18 hr",
          "19 hr",
          "20 hr",
          "21 hr",
          "22 hr",
          "23 hr"
         ],
         "tickvals": [
          0,
          1,
          2,
          3,
          4,
          5,
          6,
          7,
          8,
          9,
          10,
          11,
          12,
          13,
          14,
          15,
          16,
          17,
          18,
          19,
          20,
          21,
          22,
          23
         ],
         "title": {
          "text": "Time"
         },
         "zerolinecolor": "rgb(125, 125, 125)",
         "zerolinewidth": 3
        },
        "xaxis2": {
         "anchor": "y2",
         "domain": [
          0,
          1
         ],
         "gridcolor": "rgb(227, 227, 227)",
         "tickangle": 45,
         "tickmode": "array",
         "ticktext": [
          "0 hr",
          "1 hr",
          "2 hr",
          "3 hr",
          "4 hr",
          "5 hr",
          "6 hr",
          "7 hr",
          "8 hr",
          "9 hr",
          "10 hr",
          "11 hr",
          "12 hr",
          "13 hr",
          "14 hr",
          "15 hr",
          "16 hr",
          "17 hr",
          "18 hr",
          "19 hr",
          "20 hr",
          "21 hr",
          "22 hr",
          "23 hr"
         ],
         "tickvals": [
          0,
          1,
          2,
          3,
          4,
          5,
          6,
          7,
          8,
          9,
          10,
          11,
          12,
          13,
          14,
          15,
          16,
          17,
          18,
          19,
          20,
          21,
          22,
          23
         ],
         "title": {
          "text": "Time"
         },
         "zerolinecolor": "rgb(125, 125, 125)",
         "zerolinewidth": 3
        },
        "yaxis": {
         "anchor": "x",
         "domain": [
          0.6499999999999999,
          0.9999999999999999
         ],
         "gridcolor": "rgb(227, 227, 227)",
         "title": {
          "text": "Number of Pickups"
         }
        },
        "yaxis2": {
         "anchor": "x2",
         "domain": [
          0,
          0.35
         ],
         "gridcolor": "rgb(227, 227, 227)",
         "title": {
          "text": "Number of Pickups"
         }
        }
       }
      },
      "text/html": [
       "<div>                            <div id=\"e94249d2-f5b1-467d-ba32-c7d71888d907\" class=\"plotly-graph-div\" style=\"height:525px; width:100%;\"></div>            <script type=\"text/javascript\">                require([\"plotly\"], function(Plotly) {                    window.PLOTLYENV=window.PLOTLYENV || {};                                    if (document.getElementById(\"e94249d2-f5b1-467d-ba32-c7d71888d907\")) {                    Plotly.newPlot(                        \"e94249d2-f5b1-467d-ba32-c7d71888d907\",                        [{\"line\": {\"color\": \"rgba(255, 180, 20,100)\"}, \"mode\": \"lines+markers\", \"name\": \"Yellow Taxi\", \"type\": \"scatter\", \"x\": [0, 1, 2, 3, 4, 5, 6, 7, 8, 9, 10, 11, 12, 13, 14, 15, 16, 17, 18, 19, 20, 21, 22, 23], \"xaxis\": \"x\", \"y\": [842164, 592632, 405806, 288680, 223889, 260997, 582396, 1078628, 1364052, 1385349, 1403053, 1481094, 1589791, 1614592, 1705776, 1733030, 1628281, 1823967, 1985476, 1828082, 1635361, 1623129, 1490053, 1157797], \"yaxis\": \"y\"}, {\"mode\": \"lines+markers\", \"name\": \"FHV Taxi\", \"type\": \"scatter\", \"x\": [0, 1, 2, 3, 4, 5, 6, 7, 8, 9, 10, 11, 12, 13, 14, 15, 16, 17, 18, 19, 20, 21, 22, 23], \"xaxis\": \"x2\", \"y\": [3897782, 2768640, 1931509, 1516627, 1444149, 1688489, 2692419, 4188936, 5116037, 4685097, 4187548, 4165347, 4327357, 4529491, 4873359, 5127912, 5331437, 6062030, 6515525, 6424560, 6024906, 5795757, 5606518, 4977228], \"yaxis\": \"y2\"}],                        {\"legend\": {\"title\": {\"text\": \"Taxi Type\"}}, \"plot_bgcolor\": \"rgba(245, 245, 245 ,10)\", \"template\": {\"data\": {\"bar\": [{\"error_x\": {\"color\": \"#2a3f5f\"}, \"error_y\": {\"color\": \"#2a3f5f\"}, \"marker\": {\"line\": {\"color\": \"#E5ECF6\", \"width\": 0.5}}, \"type\": \"bar\"}], \"barpolar\": [{\"marker\": {\"line\": {\"color\": \"#E5ECF6\", \"width\": 0.5}}, \"type\": \"barpolar\"}], \"carpet\": [{\"aaxis\": {\"endlinecolor\": \"#2a3f5f\", \"gridcolor\": \"white\", \"linecolor\": \"white\", \"minorgridcolor\": \"white\", \"startlinecolor\": \"#2a3f5f\"}, \"baxis\": {\"endlinecolor\": \"#2a3f5f\", \"gridcolor\": \"white\", \"linecolor\": \"white\", \"minorgridcolor\": \"white\", \"startlinecolor\": \"#2a3f5f\"}, \"type\": \"carpet\"}], \"choropleth\": [{\"colorbar\": {\"outlinewidth\": 0, \"ticks\": \"\"}, \"type\": \"choropleth\"}], \"contour\": [{\"colorbar\": {\"outlinewidth\": 0, \"ticks\": \"\"}, \"colorscale\": [[0.0, \"#0d0887\"], [0.1111111111111111, \"#46039f\"], [0.2222222222222222, \"#7201a8\"], [0.3333333333333333, \"#9c179e\"], [0.4444444444444444, \"#bd3786\"], [0.5555555555555556, \"#d8576b\"], [0.6666666666666666, \"#ed7953\"], [0.7777777777777778, \"#fb9f3a\"], [0.8888888888888888, \"#fdca26\"], [1.0, \"#f0f921\"]], \"type\": \"contour\"}], \"contourcarpet\": [{\"colorbar\": {\"outlinewidth\": 0, \"ticks\": \"\"}, \"type\": \"contourcarpet\"}], \"heatmap\": [{\"colorbar\": {\"outlinewidth\": 0, \"ticks\": \"\"}, \"colorscale\": [[0.0, \"#0d0887\"], [0.1111111111111111, \"#46039f\"], [0.2222222222222222, \"#7201a8\"], [0.3333333333333333, \"#9c179e\"], [0.4444444444444444, \"#bd3786\"], [0.5555555555555556, \"#d8576b\"], [0.6666666666666666, \"#ed7953\"], [0.7777777777777778, \"#fb9f3a\"], [0.8888888888888888, \"#fdca26\"], [1.0, \"#f0f921\"]], \"type\": \"heatmap\"}], \"heatmapgl\": [{\"colorbar\": {\"outlinewidth\": 0, \"ticks\": \"\"}, \"colorscale\": [[0.0, \"#0d0887\"], [0.1111111111111111, \"#46039f\"], [0.2222222222222222, \"#7201a8\"], [0.3333333333333333, \"#9c179e\"], [0.4444444444444444, \"#bd3786\"], [0.5555555555555556, \"#d8576b\"], [0.6666666666666666, \"#ed7953\"], [0.7777777777777778, \"#fb9f3a\"], [0.8888888888888888, \"#fdca26\"], [1.0, \"#f0f921\"]], \"type\": \"heatmapgl\"}], \"histogram\": [{\"marker\": {\"colorbar\": {\"outlinewidth\": 0, \"ticks\": \"\"}}, \"type\": \"histogram\"}], \"histogram2d\": [{\"colorbar\": {\"outlinewidth\": 0, \"ticks\": \"\"}, \"colorscale\": [[0.0, \"#0d0887\"], [0.1111111111111111, \"#46039f\"], [0.2222222222222222, \"#7201a8\"], [0.3333333333333333, \"#9c179e\"], [0.4444444444444444, \"#bd3786\"], [0.5555555555555556, \"#d8576b\"], [0.6666666666666666, \"#ed7953\"], [0.7777777777777778, \"#fb9f3a\"], [0.8888888888888888, \"#fdca26\"], [1.0, \"#f0f921\"]], \"type\": \"histogram2d\"}], \"histogram2dcontour\": [{\"colorbar\": {\"outlinewidth\": 0, \"ticks\": \"\"}, \"colorscale\": [[0.0, \"#0d0887\"], [0.1111111111111111, \"#46039f\"], [0.2222222222222222, \"#7201a8\"], [0.3333333333333333, \"#9c179e\"], [0.4444444444444444, \"#bd3786\"], [0.5555555555555556, \"#d8576b\"], [0.6666666666666666, \"#ed7953\"], [0.7777777777777778, \"#fb9f3a\"], [0.8888888888888888, \"#fdca26\"], [1.0, \"#f0f921\"]], \"type\": \"histogram2dcontour\"}], \"mesh3d\": [{\"colorbar\": {\"outlinewidth\": 0, \"ticks\": \"\"}, \"type\": \"mesh3d\"}], \"parcoords\": [{\"line\": {\"colorbar\": {\"outlinewidth\": 0, \"ticks\": \"\"}}, \"type\": \"parcoords\"}], \"pie\": [{\"automargin\": true, \"type\": \"pie\"}], \"scatter\": [{\"marker\": {\"colorbar\": {\"outlinewidth\": 0, \"ticks\": \"\"}}, \"type\": \"scatter\"}], \"scatter3d\": [{\"line\": {\"colorbar\": {\"outlinewidth\": 0, \"ticks\": \"\"}}, \"marker\": {\"colorbar\": {\"outlinewidth\": 0, \"ticks\": \"\"}}, \"type\": \"scatter3d\"}], \"scattercarpet\": [{\"marker\": {\"colorbar\": {\"outlinewidth\": 0, \"ticks\": \"\"}}, \"type\": \"scattercarpet\"}], \"scattergeo\": [{\"marker\": {\"colorbar\": {\"outlinewidth\": 0, \"ticks\": \"\"}}, \"type\": \"scattergeo\"}], \"scattergl\": [{\"marker\": {\"colorbar\": {\"outlinewidth\": 0, \"ticks\": \"\"}}, \"type\": \"scattergl\"}], \"scattermapbox\": [{\"marker\": {\"colorbar\": {\"outlinewidth\": 0, \"ticks\": \"\"}}, \"type\": \"scattermapbox\"}], \"scatterpolar\": [{\"marker\": {\"colorbar\": {\"outlinewidth\": 0, \"ticks\": \"\"}}, \"type\": \"scatterpolar\"}], \"scatterpolargl\": [{\"marker\": {\"colorbar\": {\"outlinewidth\": 0, \"ticks\": \"\"}}, \"type\": \"scatterpolargl\"}], \"scatterternary\": [{\"marker\": {\"colorbar\": {\"outlinewidth\": 0, \"ticks\": \"\"}}, \"type\": \"scatterternary\"}], \"surface\": [{\"colorbar\": {\"outlinewidth\": 0, \"ticks\": \"\"}, \"colorscale\": [[0.0, \"#0d0887\"], [0.1111111111111111, \"#46039f\"], [0.2222222222222222, \"#7201a8\"], [0.3333333333333333, \"#9c179e\"], [0.4444444444444444, \"#bd3786\"], [0.5555555555555556, \"#d8576b\"], [0.6666666666666666, \"#ed7953\"], [0.7777777777777778, \"#fb9f3a\"], [0.8888888888888888, \"#fdca26\"], [1.0, \"#f0f921\"]], \"type\": \"surface\"}], \"table\": [{\"cells\": {\"fill\": {\"color\": \"#EBF0F8\"}, \"line\": {\"color\": \"white\"}}, \"header\": {\"fill\": {\"color\": \"#C8D4E3\"}, \"line\": {\"color\": \"white\"}}, \"type\": \"table\"}]}, \"layout\": {\"annotationdefaults\": {\"arrowcolor\": \"#2a3f5f\", \"arrowhead\": 0, \"arrowwidth\": 1}, \"autotypenumbers\": \"strict\", \"coloraxis\": {\"colorbar\": {\"outlinewidth\": 0, \"ticks\": \"\"}}, \"colorscale\": {\"diverging\": [[0, \"#8e0152\"], [0.1, \"#c51b7d\"], [0.2, \"#de77ae\"], [0.3, \"#f1b6da\"], [0.4, \"#fde0ef\"], [0.5, \"#f7f7f7\"], [0.6, \"#e6f5d0\"], [0.7, \"#b8e186\"], [0.8, \"#7fbc41\"], [0.9, \"#4d9221\"], [1, \"#276419\"]], \"sequential\": [[0.0, \"#0d0887\"], [0.1111111111111111, \"#46039f\"], [0.2222222222222222, \"#7201a8\"], [0.3333333333333333, \"#9c179e\"], [0.4444444444444444, \"#bd3786\"], [0.5555555555555556, \"#d8576b\"], [0.6666666666666666, \"#ed7953\"], [0.7777777777777778, \"#fb9f3a\"], [0.8888888888888888, \"#fdca26\"], [1.0, \"#f0f921\"]], \"sequentialminus\": [[0.0, \"#0d0887\"], [0.1111111111111111, \"#46039f\"], [0.2222222222222222, \"#7201a8\"], [0.3333333333333333, \"#9c179e\"], [0.4444444444444444, \"#bd3786\"], [0.5555555555555556, \"#d8576b\"], [0.6666666666666666, \"#ed7953\"], [0.7777777777777778, \"#fb9f3a\"], [0.8888888888888888, \"#fdca26\"], [1.0, \"#f0f921\"]]}, \"colorway\": [\"#636efa\", \"#EF553B\", \"#00cc96\", \"#ab63fa\", \"#FFA15A\", \"#19d3f3\", \"#FF6692\", \"#B6E880\", \"#FF97FF\", \"#FECB52\"], \"font\": {\"color\": \"#2a3f5f\"}, \"geo\": {\"bgcolor\": \"white\", \"lakecolor\": \"white\", \"landcolor\": \"#E5ECF6\", \"showlakes\": true, \"showland\": true, \"subunitcolor\": \"white\"}, \"hoverlabel\": {\"align\": \"left\"}, \"hovermode\": \"closest\", \"mapbox\": {\"style\": \"light\"}, \"paper_bgcolor\": \"white\", \"plot_bgcolor\": \"#E5ECF6\", \"polar\": {\"angularaxis\": {\"gridcolor\": \"white\", \"linecolor\": \"white\", \"ticks\": \"\"}, \"bgcolor\": \"#E5ECF6\", \"radialaxis\": {\"gridcolor\": \"white\", \"linecolor\": \"white\", \"ticks\": \"\"}}, \"scene\": {\"xaxis\": {\"backgroundcolor\": \"#E5ECF6\", \"gridcolor\": \"white\", \"gridwidth\": 2, \"linecolor\": \"white\", \"showbackground\": true, \"ticks\": \"\", \"zerolinecolor\": \"white\"}, \"yaxis\": {\"backgroundcolor\": \"#E5ECF6\", \"gridcolor\": \"white\", \"gridwidth\": 2, \"linecolor\": \"white\", \"showbackground\": true, \"ticks\": \"\", \"zerolinecolor\": \"white\"}, \"zaxis\": {\"backgroundcolor\": \"#E5ECF6\", \"gridcolor\": \"white\", \"gridwidth\": 2, \"linecolor\": \"white\", \"showbackground\": true, \"ticks\": \"\", \"zerolinecolor\": \"white\"}}, \"shapedefaults\": {\"line\": {\"color\": \"#2a3f5f\"}}, \"ternary\": {\"aaxis\": {\"gridcolor\": \"white\", \"linecolor\": \"white\", \"ticks\": \"\"}, \"baxis\": {\"gridcolor\": \"white\", \"linecolor\": \"white\", \"ticks\": \"\"}, \"bgcolor\": \"#E5ECF6\", \"caxis\": {\"gridcolor\": \"white\", \"linecolor\": \"white\", \"ticks\": \"\"}}, \"title\": {\"x\": 0.05}, \"xaxis\": {\"automargin\": true, \"gridcolor\": \"white\", \"linecolor\": \"white\", \"ticks\": \"\", \"title\": {\"standoff\": 15}, \"zerolinecolor\": \"white\", \"zerolinewidth\": 2}, \"yaxis\": {\"automargin\": true, \"gridcolor\": \"white\", \"linecolor\": \"white\", \"ticks\": \"\", \"title\": {\"standoff\": 15}, \"zerolinecolor\": \"white\", \"zerolinewidth\": 2}}}, \"title\": {\"text\": \"Number of Pickups throughout the Day\"}, \"xaxis\": {\"anchor\": \"y\", \"domain\": [0.0, 1.0], \"gridcolor\": \"rgb(227, 227, 227)\", \"tickangle\": 45, \"tickmode\": \"array\", \"ticktext\": [\"0 hr\", \"1 hr\", \"2 hr\", \"3 hr\", \"4 hr\", \"5 hr\", \"6 hr\", \"7 hr\", \"8 hr\", \"9 hr\", \"10 hr\", \"11 hr\", \"12 hr\", \"13 hr\", \"14 hr\", \"15 hr\", \"16 hr\", \"17 hr\", \"18 hr\", \"19 hr\", \"20 hr\", \"21 hr\", \"22 hr\", \"23 hr\"], \"tickvals\": [0, 1, 2, 3, 4, 5, 6, 7, 8, 9, 10, 11, 12, 13, 14, 15, 16, 17, 18, 19, 20, 21, 22, 23], \"title\": {\"text\": \"Time\"}, \"zerolinecolor\": \"rgb(125, 125, 125)\", \"zerolinewidth\": 3}, \"xaxis2\": {\"anchor\": \"y2\", \"domain\": [0.0, 1.0], \"gridcolor\": \"rgb(227, 227, 227)\", \"tickangle\": 45, \"tickmode\": \"array\", \"ticktext\": [\"0 hr\", \"1 hr\", \"2 hr\", \"3 hr\", \"4 hr\", \"5 hr\", \"6 hr\", \"7 hr\", \"8 hr\", \"9 hr\", \"10 hr\", \"11 hr\", \"12 hr\", \"13 hr\", \"14 hr\", \"15 hr\", \"16 hr\", \"17 hr\", \"18 hr\", \"19 hr\", \"20 hr\", \"21 hr\", \"22 hr\", \"23 hr\"], \"tickvals\": [0, 1, 2, 3, 4, 5, 6, 7, 8, 9, 10, 11, 12, 13, 14, 15, 16, 17, 18, 19, 20, 21, 22, 23], \"title\": {\"text\": \"Time\"}, \"zerolinecolor\": \"rgb(125, 125, 125)\", \"zerolinewidth\": 3}, \"yaxis\": {\"anchor\": \"x\", \"domain\": [0.6499999999999999, 0.9999999999999999], \"gridcolor\": \"rgb(227, 227, 227)\", \"title\": {\"text\": \"Number of Pickups\"}}, \"yaxis2\": {\"anchor\": \"x2\", \"domain\": [0.0, 0.35], \"gridcolor\": \"rgb(227, 227, 227)\", \"title\": {\"text\": \"Number of Pickups\"}}},                        {\"responsive\": true}                    ).then(function(){\n",
       "                            \n",
       "var gd = document.getElementById('e94249d2-f5b1-467d-ba32-c7d71888d907');\n",
       "var x = new MutationObserver(function (mutations, observer) {{\n",
       "        var display = window.getComputedStyle(gd).display;\n",
       "        if (!display || display === 'none') {{\n",
       "            console.log([gd, 'removed!']);\n",
       "            Plotly.purge(gd);\n",
       "            observer.disconnect();\n",
       "        }}\n",
       "}});\n",
       "\n",
       "// Listen for the removal of the full notebook cells\n",
       "var notebookContainer = gd.closest('#notebook-container');\n",
       "if (notebookContainer) {{\n",
       "    x.observe(notebookContainer, {childList: true});\n",
       "}}\n",
       "\n",
       "// Listen for the clearing of the current output cell\n",
       "var outputEl = gd.closest('.output');\n",
       "if (outputEl) {{\n",
       "    x.observe(outputEl, {childList: true});\n",
       "}}\n",
       "\n",
       "                        })                };                });            </script>        </div>"
      ]
     },
     "metadata": {},
     "output_type": "display_data"
    }
   ],
   "source": [
    "from plotly.subplots import make_subplots\n",
    "\n",
    "ticks = [x for x in range(0,24)]\n",
    "ticks_text = [str(x)+\" hr\" for x in ticks]\n",
    "\n",
    "fig = make_subplots(rows=2,cols=1, vertical_spacing=0.3)\n",
    "fig.add_trace(go.Scatter(x=yellow_pickup_df['pickup_hour'], y=yellow_pickup_df['cnt'],mode='lines+markers',name='Yellow Taxi',line_color='rgba(255, 180, 20,100)',),row=1,col=1)\n",
    "fig.add_trace(go.Scatter(x=fhv_pickup_df['pickup_hour'], y=fhv_pickup_df['cnt'],mode='lines+markers',name='FHV Taxi'),row=2,col=1)\n",
    "\n",
    "fig.update_layout(\n",
    "    title=\"Number of Pickups throughout the Day\",\n",
    "    legend_title=\"Taxi Type\",\n",
    "    plot_bgcolor='rgba(245, 245, 245 ,10)',\n",
    "    xaxis = dict(\n",
    "            tickmode = 'array',\n",
    "            tickvals = ticks,\n",
    "            ticktext = ticks_text,\n",
    "            tickangle = 45,\n",
    "            gridcolor= 'rgb(227, 227, 227)',\n",
    "            zerolinewidth=3, \n",
    "            zerolinecolor='rgb(125, 125, 125)'\n",
    "    ),\n",
    "    xaxis2 = dict(\n",
    "            tickmode = 'array',\n",
    "            tickvals = ticks,\n",
    "            ticktext = ticks_text,\n",
    "            tickangle = 45,\n",
    "            gridcolor= 'rgb(227, 227, 227)',\n",
    "            zerolinewidth=3, \n",
    "            zerolinecolor='rgb(125, 125, 125)'\n",
    "    )\n",
    ")\n",
    "\n",
    "fig.update_xaxes(title_text=\"Time\", row=1, col=1)\n",
    "fig.update_xaxes(title_text=\"Time\", row=2, col=1)\n",
    "\n",
    "fig.update_yaxes(title_text=\"Number of Pickups\", row=1, col=1,gridcolor= 'rgb(227, 227, 227)')\n",
    "fig.update_yaxes(title_text=\"Number of Pickups\", row=2, col=1,gridcolor= 'rgb(227, 227, 227)')\n",
    "fig.show()"
   ]
  },
  {
   "cell_type": "markdown",
   "id": "b2ba9422",
   "metadata": {},
   "source": [
    "### Trip frequency throughout the week"
   ]
  },
  {
   "cell_type": "code",
   "execution_count": 18,
   "id": "188a417b",
   "metadata": {},
   "outputs": [],
   "source": [
    "yellow_df['pickup_day'] = yellow_df['tpep_pickup_datetime'].dt.day_name\n",
    "yellow_pickup_days = yellow_df.groupby(by='pickup_day',agg={ 'cnt' : vaex.agg.count() } )\n",
    "yellow_pickup_days = yellow_pickup_days.sort(by=\"pickup_day\")\n",
    "\n",
    "\n",
    "fhv_df['pickup_day'] = fhv_df['pickup_datetime'].dt.day_name\n",
    "fhv_pickup_days = fhv_df.groupby(by='pickup_day',agg={ 'cnt' : vaex.agg.count() } )\n",
    "fhv_pickup_days = fhv_pickup_days.sort(by=\"pickup_day\")"
   ]
  },
  {
   "cell_type": "code",
   "execution_count": 19,
   "id": "f9c7b700",
   "metadata": {},
   "outputs": [],
   "source": [
    "day_dict = {\n",
    "    'Monday':1,\n",
    "    'Tuesday':2,\n",
    "    'Wednesday':3,\n",
    "    'Thursday':4,\n",
    "    'Friday':5,\n",
    "    'Saturday':6,\n",
    "    'Sunday':7\n",
    "}"
   ]
  },
  {
   "cell_type": "code",
   "execution_count": null,
   "id": "636d1992",
   "metadata": {},
   "outputs": [],
   "source": []
  },
  {
   "cell_type": "code",
   "execution_count": 20,
   "id": "86aec617",
   "metadata": {},
   "outputs": [],
   "source": [
    "yellow_days_df = yellow_pickup_days.to_pandas_df()\n",
    "fhv_days_df = fhv_pickup_days.to_pandas_df()"
   ]
  },
  {
   "cell_type": "code",
   "execution_count": null,
   "id": "15386579",
   "metadata": {},
   "outputs": [],
   "source": []
  },
  {
   "cell_type": "code",
   "execution_count": 21,
   "id": "a3b973c4",
   "metadata": {},
   "outputs": [],
   "source": [
    "days_pickups = yellow_days_df.set_index('pickup_day').add(fhv_days_df.set_index('pickup_day'), fill_value=0).reset_index()"
   ]
  },
  {
   "cell_type": "code",
   "execution_count": 22,
   "id": "705e81b3",
   "metadata": {},
   "outputs": [],
   "source": [
    "days_pickups['day_num'] = days_pickups['pickup_day'].map(day_dict)"
   ]
  },
  {
   "cell_type": "code",
   "execution_count": 23,
   "id": "ca3af83f",
   "metadata": {},
   "outputs": [
    {
     "data": {
      "text/html": [
       "<div>\n",
       "<style scoped>\n",
       "    .dataframe tbody tr th:only-of-type {\n",
       "        vertical-align: middle;\n",
       "    }\n",
       "\n",
       "    .dataframe tbody tr th {\n",
       "        vertical-align: top;\n",
       "    }\n",
       "\n",
       "    .dataframe thead th {\n",
       "        text-align: right;\n",
       "    }\n",
       "</style>\n",
       "<table border=\"1\" class=\"dataframe\">\n",
       "  <thead>\n",
       "    <tr style=\"text-align: right;\">\n",
       "      <th></th>\n",
       "      <th>pickup_day</th>\n",
       "      <th>cnt</th>\n",
       "      <th>day_num</th>\n",
       "    </tr>\n",
       "  </thead>\n",
       "  <tbody>\n",
       "    <tr>\n",
       "      <th>1</th>\n",
       "      <td>Monday</td>\n",
       "      <td>16983546</td>\n",
       "      <td>1</td>\n",
       "    </tr>\n",
       "    <tr>\n",
       "      <th>5</th>\n",
       "      <td>Tuesday</td>\n",
       "      <td>17706271</td>\n",
       "      <td>2</td>\n",
       "    </tr>\n",
       "    <tr>\n",
       "      <th>6</th>\n",
       "      <td>Wednesday</td>\n",
       "      <td>18020863</td>\n",
       "      <td>3</td>\n",
       "    </tr>\n",
       "    <tr>\n",
       "      <th>4</th>\n",
       "      <td>Thursday</td>\n",
       "      <td>18800793</td>\n",
       "      <td>4</td>\n",
       "    </tr>\n",
       "    <tr>\n",
       "      <th>0</th>\n",
       "      <td>Friday</td>\n",
       "      <td>21452461</td>\n",
       "      <td>5</td>\n",
       "    </tr>\n",
       "    <tr>\n",
       "      <th>2</th>\n",
       "      <td>Saturday</td>\n",
       "      <td>21844594</td>\n",
       "      <td>6</td>\n",
       "    </tr>\n",
       "    <tr>\n",
       "      <th>3</th>\n",
       "      <td>Sunday</td>\n",
       "      <td>18794207</td>\n",
       "      <td>7</td>\n",
       "    </tr>\n",
       "  </tbody>\n",
       "</table>\n",
       "</div>"
      ],
      "text/plain": [
       "  pickup_day       cnt  day_num\n",
       "1     Monday  16983546        1\n",
       "5    Tuesday  17706271        2\n",
       "6  Wednesday  18020863        3\n",
       "4   Thursday  18800793        4\n",
       "0     Friday  21452461        5\n",
       "2   Saturday  21844594        6\n",
       "3     Sunday  18794207        7"
      ]
     },
     "execution_count": 23,
     "metadata": {},
     "output_type": "execute_result"
    }
   ],
   "source": [
    "days_pickups = days_pickups.sort_values('day_num')\n",
    "days_pickups"
   ]
  },
  {
   "cell_type": "code",
   "execution_count": 212,
   "id": "daa97b5d",
   "metadata": {},
   "outputs": [
    {
     "data": {
      "application/vnd.plotly.v1+json": {
       "config": {
        "plotlyServerURL": "https://plot.ly"
       },
       "data": [
        {
         "marker": {
          "color": "rgb(255, 135, 45)"
         },
         "type": "bar",
         "x": [
          "Monday",
          "Tuesday",
          "Wednesday",
          "Thursday",
          "Friday",
          "Saturday",
          "Sunday"
         ],
         "y": [
          16983546,
          17706271,
          18020863,
          18800793,
          21452461,
          21844594,
          18794207
         ]
        }
       ],
       "layout": {
        "plot_bgcolor": "rgba(245, 245, 245 ,10)",
        "template": {
         "data": {
          "bar": [
           {
            "error_x": {
             "color": "#2a3f5f"
            },
            "error_y": {
             "color": "#2a3f5f"
            },
            "marker": {
             "line": {
              "color": "#E5ECF6",
              "width": 0.5
             }
            },
            "type": "bar"
           }
          ],
          "barpolar": [
           {
            "marker": {
             "line": {
              "color": "#E5ECF6",
              "width": 0.5
             }
            },
            "type": "barpolar"
           }
          ],
          "carpet": [
           {
            "aaxis": {
             "endlinecolor": "#2a3f5f",
             "gridcolor": "white",
             "linecolor": "white",
             "minorgridcolor": "white",
             "startlinecolor": "#2a3f5f"
            },
            "baxis": {
             "endlinecolor": "#2a3f5f",
             "gridcolor": "white",
             "linecolor": "white",
             "minorgridcolor": "white",
             "startlinecolor": "#2a3f5f"
            },
            "type": "carpet"
           }
          ],
          "choropleth": [
           {
            "colorbar": {
             "outlinewidth": 0,
             "ticks": ""
            },
            "type": "choropleth"
           }
          ],
          "contour": [
           {
            "colorbar": {
             "outlinewidth": 0,
             "ticks": ""
            },
            "colorscale": [
             [
              0,
              "#0d0887"
             ],
             [
              0.1111111111111111,
              "#46039f"
             ],
             [
              0.2222222222222222,
              "#7201a8"
             ],
             [
              0.3333333333333333,
              "#9c179e"
             ],
             [
              0.4444444444444444,
              "#bd3786"
             ],
             [
              0.5555555555555556,
              "#d8576b"
             ],
             [
              0.6666666666666666,
              "#ed7953"
             ],
             [
              0.7777777777777778,
              "#fb9f3a"
             ],
             [
              0.8888888888888888,
              "#fdca26"
             ],
             [
              1,
              "#f0f921"
             ]
            ],
            "type": "contour"
           }
          ],
          "contourcarpet": [
           {
            "colorbar": {
             "outlinewidth": 0,
             "ticks": ""
            },
            "type": "contourcarpet"
           }
          ],
          "heatmap": [
           {
            "colorbar": {
             "outlinewidth": 0,
             "ticks": ""
            },
            "colorscale": [
             [
              0,
              "#0d0887"
             ],
             [
              0.1111111111111111,
              "#46039f"
             ],
             [
              0.2222222222222222,
              "#7201a8"
             ],
             [
              0.3333333333333333,
              "#9c179e"
             ],
             [
              0.4444444444444444,
              "#bd3786"
             ],
             [
              0.5555555555555556,
              "#d8576b"
             ],
             [
              0.6666666666666666,
              "#ed7953"
             ],
             [
              0.7777777777777778,
              "#fb9f3a"
             ],
             [
              0.8888888888888888,
              "#fdca26"
             ],
             [
              1,
              "#f0f921"
             ]
            ],
            "type": "heatmap"
           }
          ],
          "heatmapgl": [
           {
            "colorbar": {
             "outlinewidth": 0,
             "ticks": ""
            },
            "colorscale": [
             [
              0,
              "#0d0887"
             ],
             [
              0.1111111111111111,
              "#46039f"
             ],
             [
              0.2222222222222222,
              "#7201a8"
             ],
             [
              0.3333333333333333,
              "#9c179e"
             ],
             [
              0.4444444444444444,
              "#bd3786"
             ],
             [
              0.5555555555555556,
              "#d8576b"
             ],
             [
              0.6666666666666666,
              "#ed7953"
             ],
             [
              0.7777777777777778,
              "#fb9f3a"
             ],
             [
              0.8888888888888888,
              "#fdca26"
             ],
             [
              1,
              "#f0f921"
             ]
            ],
            "type": "heatmapgl"
           }
          ],
          "histogram": [
           {
            "marker": {
             "colorbar": {
              "outlinewidth": 0,
              "ticks": ""
             }
            },
            "type": "histogram"
           }
          ],
          "histogram2d": [
           {
            "colorbar": {
             "outlinewidth": 0,
             "ticks": ""
            },
            "colorscale": [
             [
              0,
              "#0d0887"
             ],
             [
              0.1111111111111111,
              "#46039f"
             ],
             [
              0.2222222222222222,
              "#7201a8"
             ],
             [
              0.3333333333333333,
              "#9c179e"
             ],
             [
              0.4444444444444444,
              "#bd3786"
             ],
             [
              0.5555555555555556,
              "#d8576b"
             ],
             [
              0.6666666666666666,
              "#ed7953"
             ],
             [
              0.7777777777777778,
              "#fb9f3a"
             ],
             [
              0.8888888888888888,
              "#fdca26"
             ],
             [
              1,
              "#f0f921"
             ]
            ],
            "type": "histogram2d"
           }
          ],
          "histogram2dcontour": [
           {
            "colorbar": {
             "outlinewidth": 0,
             "ticks": ""
            },
            "colorscale": [
             [
              0,
              "#0d0887"
             ],
             [
              0.1111111111111111,
              "#46039f"
             ],
             [
              0.2222222222222222,
              "#7201a8"
             ],
             [
              0.3333333333333333,
              "#9c179e"
             ],
             [
              0.4444444444444444,
              "#bd3786"
             ],
             [
              0.5555555555555556,
              "#d8576b"
             ],
             [
              0.6666666666666666,
              "#ed7953"
             ],
             [
              0.7777777777777778,
              "#fb9f3a"
             ],
             [
              0.8888888888888888,
              "#fdca26"
             ],
             [
              1,
              "#f0f921"
             ]
            ],
            "type": "histogram2dcontour"
           }
          ],
          "mesh3d": [
           {
            "colorbar": {
             "outlinewidth": 0,
             "ticks": ""
            },
            "type": "mesh3d"
           }
          ],
          "parcoords": [
           {
            "line": {
             "colorbar": {
              "outlinewidth": 0,
              "ticks": ""
             }
            },
            "type": "parcoords"
           }
          ],
          "pie": [
           {
            "automargin": true,
            "type": "pie"
           }
          ],
          "scatter": [
           {
            "marker": {
             "colorbar": {
              "outlinewidth": 0,
              "ticks": ""
             }
            },
            "type": "scatter"
           }
          ],
          "scatter3d": [
           {
            "line": {
             "colorbar": {
              "outlinewidth": 0,
              "ticks": ""
             }
            },
            "marker": {
             "colorbar": {
              "outlinewidth": 0,
              "ticks": ""
             }
            },
            "type": "scatter3d"
           }
          ],
          "scattercarpet": [
           {
            "marker": {
             "colorbar": {
              "outlinewidth": 0,
              "ticks": ""
             }
            },
            "type": "scattercarpet"
           }
          ],
          "scattergeo": [
           {
            "marker": {
             "colorbar": {
              "outlinewidth": 0,
              "ticks": ""
             }
            },
            "type": "scattergeo"
           }
          ],
          "scattergl": [
           {
            "marker": {
             "colorbar": {
              "outlinewidth": 0,
              "ticks": ""
             }
            },
            "type": "scattergl"
           }
          ],
          "scattermapbox": [
           {
            "marker": {
             "colorbar": {
              "outlinewidth": 0,
              "ticks": ""
             }
            },
            "type": "scattermapbox"
           }
          ],
          "scatterpolar": [
           {
            "marker": {
             "colorbar": {
              "outlinewidth": 0,
              "ticks": ""
             }
            },
            "type": "scatterpolar"
           }
          ],
          "scatterpolargl": [
           {
            "marker": {
             "colorbar": {
              "outlinewidth": 0,
              "ticks": ""
             }
            },
            "type": "scatterpolargl"
           }
          ],
          "scatterternary": [
           {
            "marker": {
             "colorbar": {
              "outlinewidth": 0,
              "ticks": ""
             }
            },
            "type": "scatterternary"
           }
          ],
          "surface": [
           {
            "colorbar": {
             "outlinewidth": 0,
             "ticks": ""
            },
            "colorscale": [
             [
              0,
              "#0d0887"
             ],
             [
              0.1111111111111111,
              "#46039f"
             ],
             [
              0.2222222222222222,
              "#7201a8"
             ],
             [
              0.3333333333333333,
              "#9c179e"
             ],
             [
              0.4444444444444444,
              "#bd3786"
             ],
             [
              0.5555555555555556,
              "#d8576b"
             ],
             [
              0.6666666666666666,
              "#ed7953"
             ],
             [
              0.7777777777777778,
              "#fb9f3a"
             ],
             [
              0.8888888888888888,
              "#fdca26"
             ],
             [
              1,
              "#f0f921"
             ]
            ],
            "type": "surface"
           }
          ],
          "table": [
           {
            "cells": {
             "fill": {
              "color": "#EBF0F8"
             },
             "line": {
              "color": "white"
             }
            },
            "header": {
             "fill": {
              "color": "#C8D4E3"
             },
             "line": {
              "color": "white"
             }
            },
            "type": "table"
           }
          ]
         },
         "layout": {
          "annotationdefaults": {
           "arrowcolor": "#2a3f5f",
           "arrowhead": 0,
           "arrowwidth": 1
          },
          "autotypenumbers": "strict",
          "coloraxis": {
           "colorbar": {
            "outlinewidth": 0,
            "ticks": ""
           }
          },
          "colorscale": {
           "diverging": [
            [
             0,
             "#8e0152"
            ],
            [
             0.1,
             "#c51b7d"
            ],
            [
             0.2,
             "#de77ae"
            ],
            [
             0.3,
             "#f1b6da"
            ],
            [
             0.4,
             "#fde0ef"
            ],
            [
             0.5,
             "#f7f7f7"
            ],
            [
             0.6,
             "#e6f5d0"
            ],
            [
             0.7,
             "#b8e186"
            ],
            [
             0.8,
             "#7fbc41"
            ],
            [
             0.9,
             "#4d9221"
            ],
            [
             1,
             "#276419"
            ]
           ],
           "sequential": [
            [
             0,
             "#0d0887"
            ],
            [
             0.1111111111111111,
             "#46039f"
            ],
            [
             0.2222222222222222,
             "#7201a8"
            ],
            [
             0.3333333333333333,
             "#9c179e"
            ],
            [
             0.4444444444444444,
             "#bd3786"
            ],
            [
             0.5555555555555556,
             "#d8576b"
            ],
            [
             0.6666666666666666,
             "#ed7953"
            ],
            [
             0.7777777777777778,
             "#fb9f3a"
            ],
            [
             0.8888888888888888,
             "#fdca26"
            ],
            [
             1,
             "#f0f921"
            ]
           ],
           "sequentialminus": [
            [
             0,
             "#0d0887"
            ],
            [
             0.1111111111111111,
             "#46039f"
            ],
            [
             0.2222222222222222,
             "#7201a8"
            ],
            [
             0.3333333333333333,
             "#9c179e"
            ],
            [
             0.4444444444444444,
             "#bd3786"
            ],
            [
             0.5555555555555556,
             "#d8576b"
            ],
            [
             0.6666666666666666,
             "#ed7953"
            ],
            [
             0.7777777777777778,
             "#fb9f3a"
            ],
            [
             0.8888888888888888,
             "#fdca26"
            ],
            [
             1,
             "#f0f921"
            ]
           ]
          },
          "colorway": [
           "#636efa",
           "#EF553B",
           "#00cc96",
           "#ab63fa",
           "#FFA15A",
           "#19d3f3",
           "#FF6692",
           "#B6E880",
           "#FF97FF",
           "#FECB52"
          ],
          "font": {
           "color": "#2a3f5f"
          },
          "geo": {
           "bgcolor": "white",
           "lakecolor": "white",
           "landcolor": "#E5ECF6",
           "showlakes": true,
           "showland": true,
           "subunitcolor": "white"
          },
          "hoverlabel": {
           "align": "left"
          },
          "hovermode": "closest",
          "mapbox": {
           "style": "light"
          },
          "paper_bgcolor": "white",
          "plot_bgcolor": "#E5ECF6",
          "polar": {
           "angularaxis": {
            "gridcolor": "white",
            "linecolor": "white",
            "ticks": ""
           },
           "bgcolor": "#E5ECF6",
           "radialaxis": {
            "gridcolor": "white",
            "linecolor": "white",
            "ticks": ""
           }
          },
          "scene": {
           "xaxis": {
            "backgroundcolor": "#E5ECF6",
            "gridcolor": "white",
            "gridwidth": 2,
            "linecolor": "white",
            "showbackground": true,
            "ticks": "",
            "zerolinecolor": "white"
           },
           "yaxis": {
            "backgroundcolor": "#E5ECF6",
            "gridcolor": "white",
            "gridwidth": 2,
            "linecolor": "white",
            "showbackground": true,
            "ticks": "",
            "zerolinecolor": "white"
           },
           "zaxis": {
            "backgroundcolor": "#E5ECF6",
            "gridcolor": "white",
            "gridwidth": 2,
            "linecolor": "white",
            "showbackground": true,
            "ticks": "",
            "zerolinecolor": "white"
           }
          },
          "shapedefaults": {
           "line": {
            "color": "#2a3f5f"
           }
          },
          "ternary": {
           "aaxis": {
            "gridcolor": "white",
            "linecolor": "white",
            "ticks": ""
           },
           "baxis": {
            "gridcolor": "white",
            "linecolor": "white",
            "ticks": ""
           },
           "bgcolor": "#E5ECF6",
           "caxis": {
            "gridcolor": "white",
            "linecolor": "white",
            "ticks": ""
           }
          },
          "title": {
           "x": 0.05
          },
          "xaxis": {
           "automargin": true,
           "gridcolor": "white",
           "linecolor": "white",
           "ticks": "",
           "title": {
            "standoff": 15
           },
           "zerolinecolor": "white",
           "zerolinewidth": 2
          },
          "yaxis": {
           "automargin": true,
           "gridcolor": "white",
           "linecolor": "white",
           "ticks": "",
           "title": {
            "standoff": 15
           },
           "zerolinecolor": "white",
           "zerolinewidth": 2
          }
         }
        },
        "title": {
         "text": "Number of Pickups over Days of the Week"
        },
        "xaxis": {
         "showgrid": false,
         "title": {
          "text": "Days"
         }
        },
        "yaxis": {
         "gridcolor": "rgb(209, 207, 207)",
         "title": {
          "text": "Pickups"
         }
        }
       }
      },
      "text/html": [
       "<div>                            <div id=\"09e06e7c-8d10-4bcd-ad3b-066e37c070ac\" class=\"plotly-graph-div\" style=\"height:525px; width:100%;\"></div>            <script type=\"text/javascript\">                require([\"plotly\"], function(Plotly) {                    window.PLOTLYENV=window.PLOTLYENV || {};                                    if (document.getElementById(\"09e06e7c-8d10-4bcd-ad3b-066e37c070ac\")) {                    Plotly.newPlot(                        \"09e06e7c-8d10-4bcd-ad3b-066e37c070ac\",                        [{\"marker\": {\"color\": \"rgb(255, 135, 45)\"}, \"type\": \"bar\", \"x\": [\"Monday\", \"Tuesday\", \"Wednesday\", \"Thursday\", \"Friday\", \"Saturday\", \"Sunday\"], \"y\": [16983546, 17706271, 18020863, 18800793, 21452461, 21844594, 18794207]}],                        {\"plot_bgcolor\": \"rgba(245, 245, 245 ,10)\", \"template\": {\"data\": {\"bar\": [{\"error_x\": {\"color\": \"#2a3f5f\"}, \"error_y\": {\"color\": \"#2a3f5f\"}, \"marker\": {\"line\": {\"color\": \"#E5ECF6\", \"width\": 0.5}}, \"type\": \"bar\"}], \"barpolar\": [{\"marker\": {\"line\": {\"color\": \"#E5ECF6\", \"width\": 0.5}}, \"type\": \"barpolar\"}], \"carpet\": [{\"aaxis\": {\"endlinecolor\": \"#2a3f5f\", \"gridcolor\": \"white\", \"linecolor\": \"white\", \"minorgridcolor\": \"white\", \"startlinecolor\": \"#2a3f5f\"}, \"baxis\": {\"endlinecolor\": \"#2a3f5f\", \"gridcolor\": \"white\", \"linecolor\": \"white\", \"minorgridcolor\": \"white\", \"startlinecolor\": \"#2a3f5f\"}, \"type\": \"carpet\"}], \"choropleth\": [{\"colorbar\": {\"outlinewidth\": 0, \"ticks\": \"\"}, \"type\": \"choropleth\"}], \"contour\": [{\"colorbar\": {\"outlinewidth\": 0, \"ticks\": \"\"}, \"colorscale\": [[0.0, \"#0d0887\"], [0.1111111111111111, \"#46039f\"], [0.2222222222222222, \"#7201a8\"], [0.3333333333333333, \"#9c179e\"], [0.4444444444444444, \"#bd3786\"], [0.5555555555555556, \"#d8576b\"], [0.6666666666666666, \"#ed7953\"], [0.7777777777777778, \"#fb9f3a\"], [0.8888888888888888, \"#fdca26\"], [1.0, \"#f0f921\"]], \"type\": \"contour\"}], \"contourcarpet\": [{\"colorbar\": {\"outlinewidth\": 0, \"ticks\": \"\"}, \"type\": \"contourcarpet\"}], \"heatmap\": [{\"colorbar\": {\"outlinewidth\": 0, \"ticks\": \"\"}, \"colorscale\": [[0.0, \"#0d0887\"], [0.1111111111111111, \"#46039f\"], [0.2222222222222222, \"#7201a8\"], [0.3333333333333333, \"#9c179e\"], [0.4444444444444444, \"#bd3786\"], [0.5555555555555556, \"#d8576b\"], [0.6666666666666666, \"#ed7953\"], [0.7777777777777778, \"#fb9f3a\"], [0.8888888888888888, \"#fdca26\"], [1.0, \"#f0f921\"]], \"type\": \"heatmap\"}], \"heatmapgl\": [{\"colorbar\": {\"outlinewidth\": 0, \"ticks\": \"\"}, \"colorscale\": [[0.0, \"#0d0887\"], [0.1111111111111111, \"#46039f\"], [0.2222222222222222, \"#7201a8\"], [0.3333333333333333, \"#9c179e\"], [0.4444444444444444, \"#bd3786\"], [0.5555555555555556, \"#d8576b\"], [0.6666666666666666, \"#ed7953\"], [0.7777777777777778, \"#fb9f3a\"], [0.8888888888888888, \"#fdca26\"], [1.0, \"#f0f921\"]], \"type\": \"heatmapgl\"}], \"histogram\": [{\"marker\": {\"colorbar\": {\"outlinewidth\": 0, \"ticks\": \"\"}}, \"type\": \"histogram\"}], \"histogram2d\": [{\"colorbar\": {\"outlinewidth\": 0, \"ticks\": \"\"}, \"colorscale\": [[0.0, \"#0d0887\"], [0.1111111111111111, \"#46039f\"], [0.2222222222222222, \"#7201a8\"], [0.3333333333333333, \"#9c179e\"], [0.4444444444444444, \"#bd3786\"], [0.5555555555555556, \"#d8576b\"], [0.6666666666666666, \"#ed7953\"], [0.7777777777777778, \"#fb9f3a\"], [0.8888888888888888, \"#fdca26\"], [1.0, \"#f0f921\"]], \"type\": \"histogram2d\"}], \"histogram2dcontour\": [{\"colorbar\": {\"outlinewidth\": 0, \"ticks\": \"\"}, \"colorscale\": [[0.0, \"#0d0887\"], [0.1111111111111111, \"#46039f\"], [0.2222222222222222, \"#7201a8\"], [0.3333333333333333, \"#9c179e\"], [0.4444444444444444, \"#bd3786\"], [0.5555555555555556, \"#d8576b\"], [0.6666666666666666, \"#ed7953\"], [0.7777777777777778, \"#fb9f3a\"], [0.8888888888888888, \"#fdca26\"], [1.0, \"#f0f921\"]], \"type\": \"histogram2dcontour\"}], \"mesh3d\": [{\"colorbar\": {\"outlinewidth\": 0, \"ticks\": \"\"}, \"type\": \"mesh3d\"}], \"parcoords\": [{\"line\": {\"colorbar\": {\"outlinewidth\": 0, \"ticks\": \"\"}}, \"type\": \"parcoords\"}], \"pie\": [{\"automargin\": true, \"type\": \"pie\"}], \"scatter\": [{\"marker\": {\"colorbar\": {\"outlinewidth\": 0, \"ticks\": \"\"}}, \"type\": \"scatter\"}], \"scatter3d\": [{\"line\": {\"colorbar\": {\"outlinewidth\": 0, \"ticks\": \"\"}}, \"marker\": {\"colorbar\": {\"outlinewidth\": 0, \"ticks\": \"\"}}, \"type\": \"scatter3d\"}], \"scattercarpet\": [{\"marker\": {\"colorbar\": {\"outlinewidth\": 0, \"ticks\": \"\"}}, \"type\": \"scattercarpet\"}], \"scattergeo\": [{\"marker\": {\"colorbar\": {\"outlinewidth\": 0, \"ticks\": \"\"}}, \"type\": \"scattergeo\"}], \"scattergl\": [{\"marker\": {\"colorbar\": {\"outlinewidth\": 0, \"ticks\": \"\"}}, \"type\": \"scattergl\"}], \"scattermapbox\": [{\"marker\": {\"colorbar\": {\"outlinewidth\": 0, \"ticks\": \"\"}}, \"type\": \"scattermapbox\"}], \"scatterpolar\": [{\"marker\": {\"colorbar\": {\"outlinewidth\": 0, \"ticks\": \"\"}}, \"type\": \"scatterpolar\"}], \"scatterpolargl\": [{\"marker\": {\"colorbar\": {\"outlinewidth\": 0, \"ticks\": \"\"}}, \"type\": \"scatterpolargl\"}], \"scatterternary\": [{\"marker\": {\"colorbar\": {\"outlinewidth\": 0, \"ticks\": \"\"}}, \"type\": \"scatterternary\"}], \"surface\": [{\"colorbar\": {\"outlinewidth\": 0, \"ticks\": \"\"}, \"colorscale\": [[0.0, \"#0d0887\"], [0.1111111111111111, \"#46039f\"], [0.2222222222222222, \"#7201a8\"], [0.3333333333333333, \"#9c179e\"], [0.4444444444444444, \"#bd3786\"], [0.5555555555555556, \"#d8576b\"], [0.6666666666666666, \"#ed7953\"], [0.7777777777777778, \"#fb9f3a\"], [0.8888888888888888, \"#fdca26\"], [1.0, \"#f0f921\"]], \"type\": \"surface\"}], \"table\": [{\"cells\": {\"fill\": {\"color\": \"#EBF0F8\"}, \"line\": {\"color\": \"white\"}}, \"header\": {\"fill\": {\"color\": \"#C8D4E3\"}, \"line\": {\"color\": \"white\"}}, \"type\": \"table\"}]}, \"layout\": {\"annotationdefaults\": {\"arrowcolor\": \"#2a3f5f\", \"arrowhead\": 0, \"arrowwidth\": 1}, \"autotypenumbers\": \"strict\", \"coloraxis\": {\"colorbar\": {\"outlinewidth\": 0, \"ticks\": \"\"}}, \"colorscale\": {\"diverging\": [[0, \"#8e0152\"], [0.1, \"#c51b7d\"], [0.2, \"#de77ae\"], [0.3, \"#f1b6da\"], [0.4, \"#fde0ef\"], [0.5, \"#f7f7f7\"], [0.6, \"#e6f5d0\"], [0.7, \"#b8e186\"], [0.8, \"#7fbc41\"], [0.9, \"#4d9221\"], [1, \"#276419\"]], \"sequential\": [[0.0, \"#0d0887\"], [0.1111111111111111, \"#46039f\"], [0.2222222222222222, \"#7201a8\"], [0.3333333333333333, \"#9c179e\"], [0.4444444444444444, \"#bd3786\"], [0.5555555555555556, \"#d8576b\"], [0.6666666666666666, \"#ed7953\"], [0.7777777777777778, \"#fb9f3a\"], [0.8888888888888888, \"#fdca26\"], [1.0, \"#f0f921\"]], \"sequentialminus\": [[0.0, \"#0d0887\"], [0.1111111111111111, \"#46039f\"], [0.2222222222222222, \"#7201a8\"], [0.3333333333333333, \"#9c179e\"], [0.4444444444444444, \"#bd3786\"], [0.5555555555555556, \"#d8576b\"], [0.6666666666666666, \"#ed7953\"], [0.7777777777777778, \"#fb9f3a\"], [0.8888888888888888, \"#fdca26\"], [1.0, \"#f0f921\"]]}, \"colorway\": [\"#636efa\", \"#EF553B\", \"#00cc96\", \"#ab63fa\", \"#FFA15A\", \"#19d3f3\", \"#FF6692\", \"#B6E880\", \"#FF97FF\", \"#FECB52\"], \"font\": {\"color\": \"#2a3f5f\"}, \"geo\": {\"bgcolor\": \"white\", \"lakecolor\": \"white\", \"landcolor\": \"#E5ECF6\", \"showlakes\": true, \"showland\": true, \"subunitcolor\": \"white\"}, \"hoverlabel\": {\"align\": \"left\"}, \"hovermode\": \"closest\", \"mapbox\": {\"style\": \"light\"}, \"paper_bgcolor\": \"white\", \"plot_bgcolor\": \"#E5ECF6\", \"polar\": {\"angularaxis\": {\"gridcolor\": \"white\", \"linecolor\": \"white\", \"ticks\": \"\"}, \"bgcolor\": \"#E5ECF6\", \"radialaxis\": {\"gridcolor\": \"white\", \"linecolor\": \"white\", \"ticks\": \"\"}}, \"scene\": {\"xaxis\": {\"backgroundcolor\": \"#E5ECF6\", \"gridcolor\": \"white\", \"gridwidth\": 2, \"linecolor\": \"white\", \"showbackground\": true, \"ticks\": \"\", \"zerolinecolor\": \"white\"}, \"yaxis\": {\"backgroundcolor\": \"#E5ECF6\", \"gridcolor\": \"white\", \"gridwidth\": 2, \"linecolor\": \"white\", \"showbackground\": true, \"ticks\": \"\", \"zerolinecolor\": \"white\"}, \"zaxis\": {\"backgroundcolor\": \"#E5ECF6\", \"gridcolor\": \"white\", \"gridwidth\": 2, \"linecolor\": \"white\", \"showbackground\": true, \"ticks\": \"\", \"zerolinecolor\": \"white\"}}, \"shapedefaults\": {\"line\": {\"color\": \"#2a3f5f\"}}, \"ternary\": {\"aaxis\": {\"gridcolor\": \"white\", \"linecolor\": \"white\", \"ticks\": \"\"}, \"baxis\": {\"gridcolor\": \"white\", \"linecolor\": \"white\", \"ticks\": \"\"}, \"bgcolor\": \"#E5ECF6\", \"caxis\": {\"gridcolor\": \"white\", \"linecolor\": \"white\", \"ticks\": \"\"}}, \"title\": {\"x\": 0.05}, \"xaxis\": {\"automargin\": true, \"gridcolor\": \"white\", \"linecolor\": \"white\", \"ticks\": \"\", \"title\": {\"standoff\": 15}, \"zerolinecolor\": \"white\", \"zerolinewidth\": 2}, \"yaxis\": {\"automargin\": true, \"gridcolor\": \"white\", \"linecolor\": \"white\", \"ticks\": \"\", \"title\": {\"standoff\": 15}, \"zerolinecolor\": \"white\", \"zerolinewidth\": 2}}}, \"title\": {\"text\": \"Number of Pickups over Days of the Week\"}, \"xaxis\": {\"showgrid\": false, \"title\": {\"text\": \"Days\"}}, \"yaxis\": {\"gridcolor\": \"rgb(209, 207, 207)\", \"title\": {\"text\": \"Pickups\"}}},                        {\"responsive\": true}                    ).then(function(){\n",
       "                            \n",
       "var gd = document.getElementById('09e06e7c-8d10-4bcd-ad3b-066e37c070ac');\n",
       "var x = new MutationObserver(function (mutations, observer) {{\n",
       "        var display = window.getComputedStyle(gd).display;\n",
       "        if (!display || display === 'none') {{\n",
       "            console.log([gd, 'removed!']);\n",
       "            Plotly.purge(gd);\n",
       "            observer.disconnect();\n",
       "        }}\n",
       "}});\n",
       "\n",
       "// Listen for the removal of the full notebook cells\n",
       "var notebookContainer = gd.closest('#notebook-container');\n",
       "if (notebookContainer) {{\n",
       "    x.observe(notebookContainer, {childList: true});\n",
       "}}\n",
       "\n",
       "// Listen for the clearing of the current output cell\n",
       "var outputEl = gd.closest('.output');\n",
       "if (outputEl) {{\n",
       "    x.observe(outputEl, {childList: true});\n",
       "}}\n",
       "\n",
       "                        })                };                });            </script>        </div>"
      ]
     },
     "metadata": {},
     "output_type": "display_data"
    }
   ],
   "source": [
    "fig2 = go.Figure([go.Bar(x=days_pickups['pickup_day'], y=days_pickups['cnt'],marker_color='rgb(255, 135, 45)')])\n",
    "fig2.update_xaxes(showgrid=False, title_text=\"Days\")\n",
    "fig2.update_yaxes(gridcolor= 'rgb(209, 207, 207)', title_text=\"Pickups\")\n",
    "fig2.update_layout(\n",
    "    title=\"Number of Pickups over Days of the Week\",\n",
    "    plot_bgcolor='rgba(245, 245, 245 ,10)'\n",
    ")\n",
    "fig2.show()"
   ]
  },
  {
   "cell_type": "code",
   "execution_count": 25,
   "id": "6d142250",
   "metadata": {},
   "outputs": [],
   "source": [
    "# Try log scale too"
   ]
  },
  {
   "cell_type": "markdown",
   "id": "a92d4843",
   "metadata": {},
   "source": [
    "### Pickup time vs trip duration"
   ]
  },
  {
   "cell_type": "code",
   "execution_count": 26,
   "id": "069c482a",
   "metadata": {},
   "outputs": [],
   "source": [
    "yellow_df['trip_duration'] = (abs(yellow_df['tpep_dropoff_datetime'] - yellow_df['tpep_pickup_datetime']) / np.timedelta64(1, 'm')).round(decimals=4)"
   ]
  },
  {
   "cell_type": "code",
   "execution_count": 27,
   "id": "2952dcec",
   "metadata": {},
   "outputs": [],
   "source": [
    "fhv_df['trip_duration'] = (abs(fhv_df['dropoff_datetime'] - fhv_df['pickup_datetime']) / np.timedelta64(1, 'm')).round(decimals=4)"
   ]
  },
  {
   "cell_type": "code",
   "execution_count": 28,
   "id": "2fdd7228",
   "metadata": {},
   "outputs": [],
   "source": [
    "# filter values based on trip duration? (trip duration < 5 mins)"
   ]
  },
  {
   "cell_type": "code",
   "execution_count": 29,
   "id": "520b2189",
   "metadata": {},
   "outputs": [
    {
     "data": {
      "text/html": [
       "<table>\n",
       "<thead>\n",
       "<tr><th>#                                     </th><th>VendorID  </th><th>tpep_pickup_datetime         </th><th>tpep_dropoff_datetime        </th><th>passenger_count  </th><th>trip_distance  </th><th>RatecodeID  </th><th>PULocationID  </th><th>DOLocationID  </th><th>payment_type  </th><th>fare_amount  </th><th>extra  </th><th>mta_tax  </th><th>tip_amount  </th><th>tolls_amount  </th><th>improvement_surcharge  </th><th>total_amount  </th><th>congestion_surcharge  </th><th>pickup_hour  </th><th>pickup_day  </th><th>trip_duration  </th></tr>\n",
       "</thead>\n",
       "<tbody>\n",
       "<tr><td><i style='opacity: 0.6'>0</i>         </td><td>1.0       </td><td>2019-11-01 00:30:41.000000000</td><td>2019-11-01 00:32:25.000000000</td><td>1.0              </td><td>0.0            </td><td>1.0         </td><td>145           </td><td>145           </td><td>2.0           </td><td>3.0          </td><td>0.5    </td><td>0.5      </td><td>0.0         </td><td>0.0           </td><td>0.3                    </td><td>4.3           </td><td>0.0                   </td><td>0            </td><td>&#x27;Friday&#x27;    </td><td>1.7333         </td></tr>\n",
       "<tr><td><i style='opacity: 0.6'>1</i>         </td><td>1.0       </td><td>2019-11-01 00:34:01.000000000</td><td>2019-11-01 00:34:09.000000000</td><td>1.0              </td><td>0.0            </td><td>1.0         </td><td>145           </td><td>145           </td><td>2.0           </td><td>2.5          </td><td>0.5    </td><td>0.5      </td><td>0.0         </td><td>0.0           </td><td>0.3                    </td><td>3.8           </td><td>0.0                   </td><td>0            </td><td>&#x27;Friday&#x27;    </td><td>0.1333         </td></tr>\n",
       "<tr><td><i style='opacity: 0.6'>2</i>         </td><td>2.0       </td><td>2019-11-01 00:41:59.000000000</td><td>2019-11-01 00:42:23.000000000</td><td>1.0              </td><td>0.0            </td><td>1.0         </td><td>193           </td><td>193           </td><td>1.0           </td><td>2.5          </td><td>0.5    </td><td>0.5      </td><td>0.95        </td><td>0.0           </td><td>0.3                    </td><td>4.75          </td><td>0.0                   </td><td>0            </td><td>&#x27;Friday&#x27;    </td><td>0.4            </td></tr>\n",
       "<tr><td><i style='opacity: 0.6'>3</i>         </td><td>2.0       </td><td>2019-11-01 00:02:39.000000000</td><td>2019-11-01 00:02:51.000000000</td><td>1.0              </td><td>0.0            </td><td>1.0         </td><td>193           </td><td>193           </td><td>1.0           </td><td>2.5          </td><td>0.5    </td><td>0.5      </td><td>0.95        </td><td>0.0           </td><td>0.3                    </td><td>4.75          </td><td>0.0                   </td><td>0            </td><td>&#x27;Friday&#x27;    </td><td>0.2            </td></tr>\n",
       "<tr><td><i style='opacity: 0.6'>4</i>         </td><td>2.0       </td><td>2019-11-01 00:18:30.000000000</td><td>2019-11-01 00:18:39.000000000</td><td>2.0              </td><td>0.0            </td><td>1.0         </td><td>226           </td><td>226           </td><td>2.0           </td><td>2.5          </td><td>0.0    </td><td>0.5      </td><td>0.0         </td><td>0.0           </td><td>0.3                    </td><td>3.3           </td><td>0.0                   </td><td>0            </td><td>&#x27;Friday&#x27;    </td><td>0.15           </td></tr>\n",
       "<tr><td>...                                   </td><td>...       </td><td>...                          </td><td>...                          </td><td>...              </td><td>...            </td><td>...         </td><td>...           </td><td>...           </td><td>...           </td><td>...          </td><td>...    </td><td>...      </td><td>...         </td><td>...           </td><td>...                    </td><td>...           </td><td>...                   </td><td>...          </td><td>...         </td><td>...            </td></tr>\n",
       "<tr><td><i style='opacity: 0.6'>29,724,070</i></td><td>nan       </td><td>2020-04-30 19:47:00.000000000</td><td>2020-04-30 20:07:00.000000000</td><td>nan              </td><td>10.41          </td><td>nan         </td><td>42            </td><td>3             </td><td>nan           </td><td>28.82        </td><td>0.0    </td><td>0.5      </td><td>0.0         </td><td>0.0           </td><td>0.3                    </td><td>29.62         </td><td>0.0                   </td><td>19           </td><td>&#x27;Thursday&#x27;  </td><td>20.0           </td></tr>\n",
       "<tr><td><i style='opacity: 0.6'>29,724,071</i></td><td>nan       </td><td>2020-04-30 19:34:00.000000000</td><td>2020-04-30 19:39:00.000000000</td><td>nan              </td><td>0.93           </td><td>nan         </td><td>42            </td><td>74            </td><td>nan           </td><td>5.05         </td><td>0.0    </td><td>0.5      </td><td>0.0         </td><td>0.0           </td><td>0.3                    </td><td>5.85          </td><td>0.0                   </td><td>19           </td><td>&#x27;Thursday&#x27;  </td><td>5.0            </td></tr>\n",
       "<tr><td><i style='opacity: 0.6'>29,724,072</i></td><td>nan       </td><td>2020-04-30 19:58:14.000000000</td><td>2020-04-30 20:03:47.000000000</td><td>nan              </td><td>2.44           </td><td>nan         </td><td>137           </td><td>4             </td><td>nan           </td><td>8.09         </td><td>0.0    </td><td>0.0      </td><td>0.0         </td><td>0.0           </td><td>0.3                    </td><td>10.89         </td><td>2.5                   </td><td>19           </td><td>&#x27;Thursday&#x27;  </td><td>5.55           </td></tr>\n",
       "<tr><td><i style='opacity: 0.6'>29,724,073</i></td><td>nan       </td><td>2020-04-30 19:35:15.000000000</td><td>2020-04-30 19:56:51.000000000</td><td>nan              </td><td>6.68           </td><td>nan         </td><td>137           </td><td>198           </td><td>nan           </td><td>22.42        </td><td>0.0    </td><td>0.5      </td><td>0.0         </td><td>6.12          </td><td>0.3                    </td><td>31.84         </td><td>2.5                   </td><td>19           </td><td>&#x27;Thursday&#x27;  </td><td>21.6           </td></tr>\n",
       "<tr><td><i style='opacity: 0.6'>29,724,074</i></td><td>nan       </td><td>2020-04-30 19:27:47.000000000</td><td>2020-04-30 19:45:00.000000000</td><td>nan              </td><td>4.35           </td><td>nan         </td><td>36            </td><td>65            </td><td>nan           </td><td>16.41        </td><td>0.0    </td><td>0.5      </td><td>0.0         </td><td>0.0           </td><td>0.3                    </td><td>17.21         </td><td>0.0                   </td><td>19           </td><td>&#x27;Thursday&#x27;  </td><td>17.2167        </td></tr>\n",
       "</tbody>\n",
       "</table>"
      ],
      "text/plain": [
       "#           VendorID    tpep_pickup_datetime           tpep_dropoff_datetime          passenger_count    trip_distance    RatecodeID    PULocationID    DOLocationID    payment_type    fare_amount    extra    mta_tax    tip_amount    tolls_amount    improvement_surcharge    total_amount    congestion_surcharge    pickup_hour    pickup_day    trip_duration\n",
       "0           1.0         2019-11-01 00:30:41.000000000  2019-11-01 00:32:25.000000000  1.0                0.0              1.0           145             145             2.0             3.0            0.5      0.5        0.0           0.0             0.3                      4.3             0.0                     0              'Friday'      1.7333\n",
       "1           1.0         2019-11-01 00:34:01.000000000  2019-11-01 00:34:09.000000000  1.0                0.0              1.0           145             145             2.0             2.5            0.5      0.5        0.0           0.0             0.3                      3.8             0.0                     0              'Friday'      0.1333\n",
       "2           2.0         2019-11-01 00:41:59.000000000  2019-11-01 00:42:23.000000000  1.0                0.0              1.0           193             193             1.0             2.5            0.5      0.5        0.95          0.0             0.3                      4.75            0.0                     0              'Friday'      0.4\n",
       "3           2.0         2019-11-01 00:02:39.000000000  2019-11-01 00:02:51.000000000  1.0                0.0              1.0           193             193             1.0             2.5            0.5      0.5        0.95          0.0             0.3                      4.75            0.0                     0              'Friday'      0.2\n",
       "4           2.0         2019-11-01 00:18:30.000000000  2019-11-01 00:18:39.000000000  2.0                0.0              1.0           226             226             2.0             2.5            0.0      0.5        0.0           0.0             0.3                      3.3             0.0                     0              'Friday'      0.15\n",
       "...         ...         ...                            ...                            ...                ...              ...           ...             ...             ...             ...            ...      ...        ...           ...             ...                      ...             ...                     ...            ...           ...\n",
       "29,724,070  nan         2020-04-30 19:47:00.000000000  2020-04-30 20:07:00.000000000  nan                10.41            nan           42              3               nan             28.82          0.0      0.5        0.0           0.0             0.3                      29.62           0.0                     19             'Thursday'    20.0\n",
       "29,724,071  nan         2020-04-30 19:34:00.000000000  2020-04-30 19:39:00.000000000  nan                0.93             nan           42              74              nan             5.05           0.0      0.5        0.0           0.0             0.3                      5.85            0.0                     19             'Thursday'    5.0\n",
       "29,724,072  nan         2020-04-30 19:58:14.000000000  2020-04-30 20:03:47.000000000  nan                2.44             nan           137             4               nan             8.09           0.0      0.0        0.0           0.0             0.3                      10.89           2.5                     19             'Thursday'    5.55\n",
       "29,724,073  nan         2020-04-30 19:35:15.000000000  2020-04-30 19:56:51.000000000  nan                6.68             nan           137             198             nan             22.42          0.0      0.5        0.0           6.12            0.3                      31.84           2.5                     19             'Thursday'    21.6\n",
       "29,724,074  nan         2020-04-30 19:27:47.000000000  2020-04-30 19:45:00.000000000  nan                4.35             nan           36              65              nan             16.41          0.0      0.5        0.0           0.0             0.3                      17.21           0.0                     19             'Thursday'    17.2167"
      ]
     },
     "execution_count": 29,
     "metadata": {},
     "output_type": "execute_result"
    }
   ],
   "source": [
    "yellow_df"
   ]
  },
  {
   "cell_type": "code",
   "execution_count": 30,
   "id": "dfd2a771",
   "metadata": {},
   "outputs": [],
   "source": [
    "yellow_trip_duration = yellow_df['pickup_hour','trip_duration']\n",
    "fhv_trip_duration = fhv_df['pickup_hour','trip_duration']"
   ]
  },
  {
   "cell_type": "code",
   "execution_count": 31,
   "id": "981212c7",
   "metadata": {},
   "outputs": [
    {
     "data": {
      "text/html": [
       "<table>\n",
       "<thead>\n",
       "<tr><th>#                                      </th><th>pickup_hour  </th><th>trip_duration  </th></tr>\n",
       "</thead>\n",
       "<tbody>\n",
       "<tr><td><i style='opacity: 0.6'>0</i>          </td><td>0            </td><td>1.7333         </td></tr>\n",
       "<tr><td><i style='opacity: 0.6'>1</i>          </td><td>0            </td><td>0.1333         </td></tr>\n",
       "<tr><td><i style='opacity: 0.6'>2</i>          </td><td>0            </td><td>0.4            </td></tr>\n",
       "<tr><td><i style='opacity: 0.6'>3</i>          </td><td>0            </td><td>0.2            </td></tr>\n",
       "<tr><td><i style='opacity: 0.6'>4</i>          </td><td>0            </td><td>0.15           </td></tr>\n",
       "<tr><td>...                                    </td><td>...          </td><td>...            </td></tr>\n",
       "<tr><td><i style='opacity: 0.6'>133,602,730</i></td><td>23           </td><td>10.1333        </td></tr>\n",
       "<tr><td><i style='opacity: 0.6'>133,602,731</i></td><td>23           </td><td>4.7167         </td></tr>\n",
       "<tr><td><i style='opacity: 0.6'>133,602,732</i></td><td>23           </td><td>7.7167         </td></tr>\n",
       "<tr><td><i style='opacity: 0.6'>133,602,733</i></td><td>23           </td><td>12.2           </td></tr>\n",
       "<tr><td><i style='opacity: 0.6'>133,602,734</i></td><td>23           </td><td>16.5667        </td></tr>\n",
       "</tbody>\n",
       "</table>"
      ],
      "text/plain": [
       "#            pickup_hour    trip_duration\n",
       "0            0              1.7333\n",
       "1            0              0.1333\n",
       "2            0              0.4\n",
       "3            0              0.2\n",
       "4            0              0.15\n",
       "...          ...            ...\n",
       "133,602,730  23             10.1333\n",
       "133,602,731  23             4.7167\n",
       "133,602,732  23             7.7167\n",
       "133,602,733  23             12.2\n",
       "133,602,734  23             16.5667"
      ]
     },
     "execution_count": 31,
     "metadata": {},
     "output_type": "execute_result"
    }
   ],
   "source": [
    "trip_duration = yellow_trip_duration.concat(fhv_trip_duration)\n",
    "trip_duration"
   ]
  },
  {
   "cell_type": "code",
   "execution_count": 32,
   "id": "74c67980",
   "metadata": {},
   "outputs": [],
   "source": [
    "# filtering values that are less than 3 minutes trip duration."
   ]
  },
  {
   "cell_type": "code",
   "execution_count": 33,
   "id": "6eeff6b9",
   "metadata": {},
   "outputs": [
    {
     "data": {
      "text/html": [
       "<table>\n",
       "<thead>\n",
       "<tr><th>#                                      </th><th>pickup_hour  </th><th>trip_duration  </th></tr>\n",
       "</thead>\n",
       "<tbody>\n",
       "<tr><td><i style='opacity: 0.6'>0</i>          </td><td>0            </td><td>37.4           </td></tr>\n",
       "<tr><td><i style='opacity: 0.6'>1</i>          </td><td>0            </td><td>8.0            </td></tr>\n",
       "<tr><td><i style='opacity: 0.6'>2</i>          </td><td>0            </td><td>6.4667         </td></tr>\n",
       "<tr><td><i style='opacity: 0.6'>3</i>          </td><td>0            </td><td>11.3333        </td></tr>\n",
       "<tr><td><i style='opacity: 0.6'>4</i>          </td><td>0            </td><td>5.95           </td></tr>\n",
       "<tr><td>...                                    </td><td>...          </td><td>...            </td></tr>\n",
       "<tr><td><i style='opacity: 0.6'>131,111,175</i></td><td>23           </td><td>10.1333        </td></tr>\n",
       "<tr><td><i style='opacity: 0.6'>131,111,176</i></td><td>23           </td><td>4.7167         </td></tr>\n",
       "<tr><td><i style='opacity: 0.6'>131,111,177</i></td><td>23           </td><td>7.7167         </td></tr>\n",
       "<tr><td><i style='opacity: 0.6'>131,111,178</i></td><td>23           </td><td>12.2           </td></tr>\n",
       "<tr><td><i style='opacity: 0.6'>131,111,179</i></td><td>23           </td><td>16.5667        </td></tr>\n",
       "</tbody>\n",
       "</table>"
      ],
      "text/plain": [
       "#            pickup_hour    trip_duration\n",
       "0            0              37.4\n",
       "1            0              8.0\n",
       "2            0              6.4667\n",
       "3            0              11.3333\n",
       "4            0              5.95\n",
       "...          ...            ...\n",
       "131,111,175  23             10.1333\n",
       "131,111,176  23             4.7167\n",
       "131,111,177  23             7.7167\n",
       "131,111,178  23             12.2\n",
       "131,111,179  23             16.5667"
      ]
     },
     "execution_count": 33,
     "metadata": {},
     "output_type": "execute_result"
    }
   ],
   "source": [
    "trip_duration = trip_duration[trip_duration['trip_duration']>3]\n",
    "trip_duration"
   ]
  },
  {
   "cell_type": "code",
   "execution_count": 34,
   "id": "520b3af3",
   "metadata": {},
   "outputs": [
    {
     "data": {
      "text/html": [
       "<div>\n",
       "<style scoped>\n",
       "    .dataframe tbody tr th:only-of-type {\n",
       "        vertical-align: middle;\n",
       "    }\n",
       "\n",
       "    .dataframe tbody tr th {\n",
       "        vertical-align: top;\n",
       "    }\n",
       "\n",
       "    .dataframe thead th {\n",
       "        text-align: right;\n",
       "    }\n",
       "</style>\n",
       "<table border=\"1\" class=\"dataframe\">\n",
       "  <thead>\n",
       "    <tr style=\"text-align: right;\">\n",
       "      <th></th>\n",
       "      <th>pickup_hour</th>\n",
       "      <th>dur</th>\n",
       "    </tr>\n",
       "  </thead>\n",
       "  <tbody>\n",
       "    <tr>\n",
       "      <th>3</th>\n",
       "      <td>0</td>\n",
       "      <td>16.408676</td>\n",
       "    </tr>\n",
       "    <tr>\n",
       "      <th>15</th>\n",
       "      <td>1</td>\n",
       "      <td>16.402132</td>\n",
       "    </tr>\n",
       "    <tr>\n",
       "      <th>16</th>\n",
       "      <td>2</td>\n",
       "      <td>15.486497</td>\n",
       "    </tr>\n",
       "    <tr>\n",
       "      <th>17</th>\n",
       "      <td>3</td>\n",
       "      <td>15.918739</td>\n",
       "    </tr>\n",
       "    <tr>\n",
       "      <th>18</th>\n",
       "      <td>4</td>\n",
       "      <td>16.741074</td>\n",
       "    </tr>\n",
       "    <tr>\n",
       "      <th>19</th>\n",
       "      <td>5</td>\n",
       "      <td>17.870393</td>\n",
       "    </tr>\n",
       "    <tr>\n",
       "      <th>20</th>\n",
       "      <td>6</td>\n",
       "      <td>17.808790</td>\n",
       "    </tr>\n",
       "    <tr>\n",
       "      <th>21</th>\n",
       "      <td>7</td>\n",
       "      <td>18.018743</td>\n",
       "    </tr>\n",
       "    <tr>\n",
       "      <th>5</th>\n",
       "      <td>8</td>\n",
       "      <td>18.150418</td>\n",
       "    </tr>\n",
       "    <tr>\n",
       "      <th>22</th>\n",
       "      <td>9</td>\n",
       "      <td>17.726340</td>\n",
       "    </tr>\n",
       "    <tr>\n",
       "      <th>23</th>\n",
       "      <td>10</td>\n",
       "      <td>17.523062</td>\n",
       "    </tr>\n",
       "    <tr>\n",
       "      <th>12</th>\n",
       "      <td>11</td>\n",
       "      <td>17.697466</td>\n",
       "    </tr>\n",
       "    <tr>\n",
       "      <th>7</th>\n",
       "      <td>12</td>\n",
       "      <td>17.985815</td>\n",
       "    </tr>\n",
       "    <tr>\n",
       "      <th>4</th>\n",
       "      <td>13</td>\n",
       "      <td>18.569426</td>\n",
       "    </tr>\n",
       "    <tr>\n",
       "      <th>1</th>\n",
       "      <td>14</td>\n",
       "      <td>19.578086</td>\n",
       "    </tr>\n",
       "    <tr>\n",
       "      <th>0</th>\n",
       "      <td>15</td>\n",
       "      <td>20.372389</td>\n",
       "    </tr>\n",
       "    <tr>\n",
       "      <th>2</th>\n",
       "      <td>16</td>\n",
       "      <td>20.551239</td>\n",
       "    </tr>\n",
       "    <tr>\n",
       "      <th>6</th>\n",
       "      <td>17</td>\n",
       "      <td>19.938675</td>\n",
       "    </tr>\n",
       "    <tr>\n",
       "      <th>8</th>\n",
       "      <td>18</td>\n",
       "      <td>18.564006</td>\n",
       "    </tr>\n",
       "    <tr>\n",
       "      <th>10</th>\n",
       "      <td>19</td>\n",
       "      <td>17.452452</td>\n",
       "    </tr>\n",
       "    <tr>\n",
       "      <th>11</th>\n",
       "      <td>20</td>\n",
       "      <td>17.158063</td>\n",
       "    </tr>\n",
       "    <tr>\n",
       "      <th>14</th>\n",
       "      <td>21</td>\n",
       "      <td>17.044083</td>\n",
       "    </tr>\n",
       "    <tr>\n",
       "      <th>9</th>\n",
       "      <td>22</td>\n",
       "      <td>17.011465</td>\n",
       "    </tr>\n",
       "    <tr>\n",
       "      <th>13</th>\n",
       "      <td>23</td>\n",
       "      <td>16.704492</td>\n",
       "    </tr>\n",
       "  </tbody>\n",
       "</table>\n",
       "</div>"
      ],
      "text/plain": [
       "    pickup_hour        dur\n",
       "3             0  16.408676\n",
       "15            1  16.402132\n",
       "16            2  15.486497\n",
       "17            3  15.918739\n",
       "18            4  16.741074\n",
       "19            5  17.870393\n",
       "20            6  17.808790\n",
       "21            7  18.018743\n",
       "5             8  18.150418\n",
       "22            9  17.726340\n",
       "23           10  17.523062\n",
       "12           11  17.697466\n",
       "7            12  17.985815\n",
       "4            13  18.569426\n",
       "1            14  19.578086\n",
       "0            15  20.372389\n",
       "2            16  20.551239\n",
       "6            17  19.938675\n",
       "8            18  18.564006\n",
       "10           19  17.452452\n",
       "11           20  17.158063\n",
       "14           21  17.044083\n",
       "9            22  17.011465\n",
       "13           23  16.704492"
      ]
     },
     "execution_count": 34,
     "metadata": {},
     "output_type": "execute_result"
    }
   ],
   "source": [
    "trip_duration = trip_duration.groupby(by='pickup_hour',agg={ 'dur' : vaex.agg.mean('trip_duration') } )\n",
    "trip_duration_df = trip_duration.to_pandas_df()\n",
    "trip_duration_df = trip_duration_df.sort_values('pickup_hour')\n",
    "trip_duration_df"
   ]
  },
  {
   "cell_type": "code",
   "execution_count": 144,
   "id": "5d5fd3a8",
   "metadata": {},
   "outputs": [
    {
     "data": {
      "application/vnd.plotly.v1+json": {
       "config": {
        "plotlyServerURL": "https://plot.ly"
       },
       "data": [
        {
         "marker": {
          "color": "rgb(255, 135, 45)"
         },
         "mode": "lines+markers",
         "type": "scatter",
         "x": [
          0,
          1,
          2,
          3,
          4,
          5,
          6,
          7,
          8,
          9,
          10,
          11,
          12,
          13,
          14,
          15,
          16,
          17,
          18,
          19,
          20,
          21,
          22,
          23
         ],
         "y": [
          16.408675522274688,
          16.40213158238324,
          15.486496932538898,
          15.918739449359729,
          16.74107363902601,
          17.87039298425154,
          17.808790093248682,
          18.018742830670018,
          18.150417509121418,
          17.726339771787217,
          17.523061788144044,
          17.69746622976874,
          17.98581456239812,
          18.569426026623358,
          19.57808550295331,
          20.37238859128382,
          20.551238610946104,
          19.938675333132615,
          18.564006425011453,
          17.452452388607448,
          17.158062853927323,
          17.04408304106107,
          17.011465011042937,
          16.704491896814528
         ]
        }
       ],
       "layout": {
        "plot_bgcolor": "rgba(245, 245, 245 ,10)",
        "template": {
         "data": {
          "bar": [
           {
            "error_x": {
             "color": "#2a3f5f"
            },
            "error_y": {
             "color": "#2a3f5f"
            },
            "marker": {
             "line": {
              "color": "#E5ECF6",
              "width": 0.5
             }
            },
            "type": "bar"
           }
          ],
          "barpolar": [
           {
            "marker": {
             "line": {
              "color": "#E5ECF6",
              "width": 0.5
             }
            },
            "type": "barpolar"
           }
          ],
          "carpet": [
           {
            "aaxis": {
             "endlinecolor": "#2a3f5f",
             "gridcolor": "white",
             "linecolor": "white",
             "minorgridcolor": "white",
             "startlinecolor": "#2a3f5f"
            },
            "baxis": {
             "endlinecolor": "#2a3f5f",
             "gridcolor": "white",
             "linecolor": "white",
             "minorgridcolor": "white",
             "startlinecolor": "#2a3f5f"
            },
            "type": "carpet"
           }
          ],
          "choropleth": [
           {
            "colorbar": {
             "outlinewidth": 0,
             "ticks": ""
            },
            "type": "choropleth"
           }
          ],
          "contour": [
           {
            "colorbar": {
             "outlinewidth": 0,
             "ticks": ""
            },
            "colorscale": [
             [
              0,
              "#0d0887"
             ],
             [
              0.1111111111111111,
              "#46039f"
             ],
             [
              0.2222222222222222,
              "#7201a8"
             ],
             [
              0.3333333333333333,
              "#9c179e"
             ],
             [
              0.4444444444444444,
              "#bd3786"
             ],
             [
              0.5555555555555556,
              "#d8576b"
             ],
             [
              0.6666666666666666,
              "#ed7953"
             ],
             [
              0.7777777777777778,
              "#fb9f3a"
             ],
             [
              0.8888888888888888,
              "#fdca26"
             ],
             [
              1,
              "#f0f921"
             ]
            ],
            "type": "contour"
           }
          ],
          "contourcarpet": [
           {
            "colorbar": {
             "outlinewidth": 0,
             "ticks": ""
            },
            "type": "contourcarpet"
           }
          ],
          "heatmap": [
           {
            "colorbar": {
             "outlinewidth": 0,
             "ticks": ""
            },
            "colorscale": [
             [
              0,
              "#0d0887"
             ],
             [
              0.1111111111111111,
              "#46039f"
             ],
             [
              0.2222222222222222,
              "#7201a8"
             ],
             [
              0.3333333333333333,
              "#9c179e"
             ],
             [
              0.4444444444444444,
              "#bd3786"
             ],
             [
              0.5555555555555556,
              "#d8576b"
             ],
             [
              0.6666666666666666,
              "#ed7953"
             ],
             [
              0.7777777777777778,
              "#fb9f3a"
             ],
             [
              0.8888888888888888,
              "#fdca26"
             ],
             [
              1,
              "#f0f921"
             ]
            ],
            "type": "heatmap"
           }
          ],
          "heatmapgl": [
           {
            "colorbar": {
             "outlinewidth": 0,
             "ticks": ""
            },
            "colorscale": [
             [
              0,
              "#0d0887"
             ],
             [
              0.1111111111111111,
              "#46039f"
             ],
             [
              0.2222222222222222,
              "#7201a8"
             ],
             [
              0.3333333333333333,
              "#9c179e"
             ],
             [
              0.4444444444444444,
              "#bd3786"
             ],
             [
              0.5555555555555556,
              "#d8576b"
             ],
             [
              0.6666666666666666,
              "#ed7953"
             ],
             [
              0.7777777777777778,
              "#fb9f3a"
             ],
             [
              0.8888888888888888,
              "#fdca26"
             ],
             [
              1,
              "#f0f921"
             ]
            ],
            "type": "heatmapgl"
           }
          ],
          "histogram": [
           {
            "marker": {
             "colorbar": {
              "outlinewidth": 0,
              "ticks": ""
             }
            },
            "type": "histogram"
           }
          ],
          "histogram2d": [
           {
            "colorbar": {
             "outlinewidth": 0,
             "ticks": ""
            },
            "colorscale": [
             [
              0,
              "#0d0887"
             ],
             [
              0.1111111111111111,
              "#46039f"
             ],
             [
              0.2222222222222222,
              "#7201a8"
             ],
             [
              0.3333333333333333,
              "#9c179e"
             ],
             [
              0.4444444444444444,
              "#bd3786"
             ],
             [
              0.5555555555555556,
              "#d8576b"
             ],
             [
              0.6666666666666666,
              "#ed7953"
             ],
             [
              0.7777777777777778,
              "#fb9f3a"
             ],
             [
              0.8888888888888888,
              "#fdca26"
             ],
             [
              1,
              "#f0f921"
             ]
            ],
            "type": "histogram2d"
           }
          ],
          "histogram2dcontour": [
           {
            "colorbar": {
             "outlinewidth": 0,
             "ticks": ""
            },
            "colorscale": [
             [
              0,
              "#0d0887"
             ],
             [
              0.1111111111111111,
              "#46039f"
             ],
             [
              0.2222222222222222,
              "#7201a8"
             ],
             [
              0.3333333333333333,
              "#9c179e"
             ],
             [
              0.4444444444444444,
              "#bd3786"
             ],
             [
              0.5555555555555556,
              "#d8576b"
             ],
             [
              0.6666666666666666,
              "#ed7953"
             ],
             [
              0.7777777777777778,
              "#fb9f3a"
             ],
             [
              0.8888888888888888,
              "#fdca26"
             ],
             [
              1,
              "#f0f921"
             ]
            ],
            "type": "histogram2dcontour"
           }
          ],
          "mesh3d": [
           {
            "colorbar": {
             "outlinewidth": 0,
             "ticks": ""
            },
            "type": "mesh3d"
           }
          ],
          "parcoords": [
           {
            "line": {
             "colorbar": {
              "outlinewidth": 0,
              "ticks": ""
             }
            },
            "type": "parcoords"
           }
          ],
          "pie": [
           {
            "automargin": true,
            "type": "pie"
           }
          ],
          "scatter": [
           {
            "marker": {
             "colorbar": {
              "outlinewidth": 0,
              "ticks": ""
             }
            },
            "type": "scatter"
           }
          ],
          "scatter3d": [
           {
            "line": {
             "colorbar": {
              "outlinewidth": 0,
              "ticks": ""
             }
            },
            "marker": {
             "colorbar": {
              "outlinewidth": 0,
              "ticks": ""
             }
            },
            "type": "scatter3d"
           }
          ],
          "scattercarpet": [
           {
            "marker": {
             "colorbar": {
              "outlinewidth": 0,
              "ticks": ""
             }
            },
            "type": "scattercarpet"
           }
          ],
          "scattergeo": [
           {
            "marker": {
             "colorbar": {
              "outlinewidth": 0,
              "ticks": ""
             }
            },
            "type": "scattergeo"
           }
          ],
          "scattergl": [
           {
            "marker": {
             "colorbar": {
              "outlinewidth": 0,
              "ticks": ""
             }
            },
            "type": "scattergl"
           }
          ],
          "scattermapbox": [
           {
            "marker": {
             "colorbar": {
              "outlinewidth": 0,
              "ticks": ""
             }
            },
            "type": "scattermapbox"
           }
          ],
          "scatterpolar": [
           {
            "marker": {
             "colorbar": {
              "outlinewidth": 0,
              "ticks": ""
             }
            },
            "type": "scatterpolar"
           }
          ],
          "scatterpolargl": [
           {
            "marker": {
             "colorbar": {
              "outlinewidth": 0,
              "ticks": ""
             }
            },
            "type": "scatterpolargl"
           }
          ],
          "scatterternary": [
           {
            "marker": {
             "colorbar": {
              "outlinewidth": 0,
              "ticks": ""
             }
            },
            "type": "scatterternary"
           }
          ],
          "surface": [
           {
            "colorbar": {
             "outlinewidth": 0,
             "ticks": ""
            },
            "colorscale": [
             [
              0,
              "#0d0887"
             ],
             [
              0.1111111111111111,
              "#46039f"
             ],
             [
              0.2222222222222222,
              "#7201a8"
             ],
             [
              0.3333333333333333,
              "#9c179e"
             ],
             [
              0.4444444444444444,
              "#bd3786"
             ],
             [
              0.5555555555555556,
              "#d8576b"
             ],
             [
              0.6666666666666666,
              "#ed7953"
             ],
             [
              0.7777777777777778,
              "#fb9f3a"
             ],
             [
              0.8888888888888888,
              "#fdca26"
             ],
             [
              1,
              "#f0f921"
             ]
            ],
            "type": "surface"
           }
          ],
          "table": [
           {
            "cells": {
             "fill": {
              "color": "#EBF0F8"
             },
             "line": {
              "color": "white"
             }
            },
            "header": {
             "fill": {
              "color": "#C8D4E3"
             },
             "line": {
              "color": "white"
             }
            },
            "type": "table"
           }
          ]
         },
         "layout": {
          "annotationdefaults": {
           "arrowcolor": "#2a3f5f",
           "arrowhead": 0,
           "arrowwidth": 1
          },
          "autotypenumbers": "strict",
          "coloraxis": {
           "colorbar": {
            "outlinewidth": 0,
            "ticks": ""
           }
          },
          "colorscale": {
           "diverging": [
            [
             0,
             "#8e0152"
            ],
            [
             0.1,
             "#c51b7d"
            ],
            [
             0.2,
             "#de77ae"
            ],
            [
             0.3,
             "#f1b6da"
            ],
            [
             0.4,
             "#fde0ef"
            ],
            [
             0.5,
             "#f7f7f7"
            ],
            [
             0.6,
             "#e6f5d0"
            ],
            [
             0.7,
             "#b8e186"
            ],
            [
             0.8,
             "#7fbc41"
            ],
            [
             0.9,
             "#4d9221"
            ],
            [
             1,
             "#276419"
            ]
           ],
           "sequential": [
            [
             0,
             "#0d0887"
            ],
            [
             0.1111111111111111,
             "#46039f"
            ],
            [
             0.2222222222222222,
             "#7201a8"
            ],
            [
             0.3333333333333333,
             "#9c179e"
            ],
            [
             0.4444444444444444,
             "#bd3786"
            ],
            [
             0.5555555555555556,
             "#d8576b"
            ],
            [
             0.6666666666666666,
             "#ed7953"
            ],
            [
             0.7777777777777778,
             "#fb9f3a"
            ],
            [
             0.8888888888888888,
             "#fdca26"
            ],
            [
             1,
             "#f0f921"
            ]
           ],
           "sequentialminus": [
            [
             0,
             "#0d0887"
            ],
            [
             0.1111111111111111,
             "#46039f"
            ],
            [
             0.2222222222222222,
             "#7201a8"
            ],
            [
             0.3333333333333333,
             "#9c179e"
            ],
            [
             0.4444444444444444,
             "#bd3786"
            ],
            [
             0.5555555555555556,
             "#d8576b"
            ],
            [
             0.6666666666666666,
             "#ed7953"
            ],
            [
             0.7777777777777778,
             "#fb9f3a"
            ],
            [
             0.8888888888888888,
             "#fdca26"
            ],
            [
             1,
             "#f0f921"
            ]
           ]
          },
          "colorway": [
           "#636efa",
           "#EF553B",
           "#00cc96",
           "#ab63fa",
           "#FFA15A",
           "#19d3f3",
           "#FF6692",
           "#B6E880",
           "#FF97FF",
           "#FECB52"
          ],
          "font": {
           "color": "#2a3f5f"
          },
          "geo": {
           "bgcolor": "white",
           "lakecolor": "white",
           "landcolor": "#E5ECF6",
           "showlakes": true,
           "showland": true,
           "subunitcolor": "white"
          },
          "hoverlabel": {
           "align": "left"
          },
          "hovermode": "closest",
          "mapbox": {
           "style": "light"
          },
          "paper_bgcolor": "white",
          "plot_bgcolor": "#E5ECF6",
          "polar": {
           "angularaxis": {
            "gridcolor": "white",
            "linecolor": "white",
            "ticks": ""
           },
           "bgcolor": "#E5ECF6",
           "radialaxis": {
            "gridcolor": "white",
            "linecolor": "white",
            "ticks": ""
           }
          },
          "scene": {
           "xaxis": {
            "backgroundcolor": "#E5ECF6",
            "gridcolor": "white",
            "gridwidth": 2,
            "linecolor": "white",
            "showbackground": true,
            "ticks": "",
            "zerolinecolor": "white"
           },
           "yaxis": {
            "backgroundcolor": "#E5ECF6",
            "gridcolor": "white",
            "gridwidth": 2,
            "linecolor": "white",
            "showbackground": true,
            "ticks": "",
            "zerolinecolor": "white"
           },
           "zaxis": {
            "backgroundcolor": "#E5ECF6",
            "gridcolor": "white",
            "gridwidth": 2,
            "linecolor": "white",
            "showbackground": true,
            "ticks": "",
            "zerolinecolor": "white"
           }
          },
          "shapedefaults": {
           "line": {
            "color": "#2a3f5f"
           }
          },
          "ternary": {
           "aaxis": {
            "gridcolor": "white",
            "linecolor": "white",
            "ticks": ""
           },
           "baxis": {
            "gridcolor": "white",
            "linecolor": "white",
            "ticks": ""
           },
           "bgcolor": "#E5ECF6",
           "caxis": {
            "gridcolor": "white",
            "linecolor": "white",
            "ticks": ""
           }
          },
          "title": {
           "x": 0.05
          },
          "xaxis": {
           "automargin": true,
           "gridcolor": "white",
           "linecolor": "white",
           "ticks": "",
           "title": {
            "standoff": 15
           },
           "zerolinecolor": "white",
           "zerolinewidth": 2
          },
          "yaxis": {
           "automargin": true,
           "gridcolor": "white",
           "linecolor": "white",
           "ticks": "",
           "title": {
            "standoff": 15
           },
           "zerolinecolor": "white",
           "zerolinewidth": 2
          }
         }
        },
        "title": {
         "text": "Trip Duration Throughout The Day"
        },
        "xaxis": {
         "gridcolor": "rgb(227, 227, 227)",
         "tickangle": 45,
         "tickmode": "array",
         "ticktext": [
          "0 hr",
          "1 hr",
          "2 hr",
          "3 hr",
          "4 hr",
          "5 hr",
          "6 hr",
          "7 hr",
          "8 hr",
          "9 hr",
          "10 hr",
          "11 hr",
          "12 hr",
          "13 hr",
          "14 hr",
          "15 hr",
          "16 hr",
          "17 hr",
          "18 hr",
          "19 hr",
          "20 hr",
          "21 hr",
          "22 hr",
          "23 hr"
         ],
         "tickvals": [
          0,
          1,
          2,
          3,
          4,
          5,
          6,
          7,
          8,
          9,
          10,
          11,
          12,
          13,
          14,
          15,
          16,
          17,
          18,
          19,
          20,
          21,
          22,
          23
         ],
         "title": {
          "text": "Time"
         },
         "zerolinecolor": "rgb(125, 125, 125)",
         "zerolinewidth": 3
        },
        "yaxis": {
         "gridcolor": "rgb(227, 227, 227)",
         "title": {
          "text": "Trip Duration (in Minutes)"
         }
        }
       }
      },
      "text/html": [
       "<div>                            <div id=\"28036b0f-dabe-4b0e-8ae9-60b3a140f9c3\" class=\"plotly-graph-div\" style=\"height:525px; width:100%;\"></div>            <script type=\"text/javascript\">                require([\"plotly\"], function(Plotly) {                    window.PLOTLYENV=window.PLOTLYENV || {};                                    if (document.getElementById(\"28036b0f-dabe-4b0e-8ae9-60b3a140f9c3\")) {                    Plotly.newPlot(                        \"28036b0f-dabe-4b0e-8ae9-60b3a140f9c3\",                        [{\"marker\": {\"color\": \"rgb(255, 135, 45)\"}, \"mode\": \"lines+markers\", \"type\": \"scatter\", \"x\": [0, 1, 2, 3, 4, 5, 6, 7, 8, 9, 10, 11, 12, 13, 14, 15, 16, 17, 18, 19, 20, 21, 22, 23], \"y\": [16.408675522274688, 16.40213158238324, 15.486496932538898, 15.918739449359729, 16.74107363902601, 17.87039298425154, 17.808790093248682, 18.018742830670018, 18.150417509121418, 17.726339771787217, 17.523061788144044, 17.69746622976874, 17.98581456239812, 18.569426026623358, 19.57808550295331, 20.37238859128382, 20.551238610946104, 19.938675333132615, 18.564006425011453, 17.452452388607448, 17.158062853927323, 17.04408304106107, 17.011465011042937, 16.704491896814528]}],                        {\"plot_bgcolor\": \"rgba(245, 245, 245 ,10)\", \"template\": {\"data\": {\"bar\": [{\"error_x\": {\"color\": \"#2a3f5f\"}, \"error_y\": {\"color\": \"#2a3f5f\"}, \"marker\": {\"line\": {\"color\": \"#E5ECF6\", \"width\": 0.5}}, \"type\": \"bar\"}], \"barpolar\": [{\"marker\": {\"line\": {\"color\": \"#E5ECF6\", \"width\": 0.5}}, \"type\": \"barpolar\"}], \"carpet\": [{\"aaxis\": {\"endlinecolor\": \"#2a3f5f\", \"gridcolor\": \"white\", \"linecolor\": \"white\", \"minorgridcolor\": \"white\", \"startlinecolor\": \"#2a3f5f\"}, \"baxis\": {\"endlinecolor\": \"#2a3f5f\", \"gridcolor\": \"white\", \"linecolor\": \"white\", \"minorgridcolor\": \"white\", \"startlinecolor\": \"#2a3f5f\"}, \"type\": \"carpet\"}], \"choropleth\": [{\"colorbar\": {\"outlinewidth\": 0, \"ticks\": \"\"}, \"type\": \"choropleth\"}], \"contour\": [{\"colorbar\": {\"outlinewidth\": 0, \"ticks\": \"\"}, \"colorscale\": [[0.0, \"#0d0887\"], [0.1111111111111111, \"#46039f\"], [0.2222222222222222, \"#7201a8\"], [0.3333333333333333, \"#9c179e\"], [0.4444444444444444, \"#bd3786\"], [0.5555555555555556, \"#d8576b\"], [0.6666666666666666, \"#ed7953\"], [0.7777777777777778, \"#fb9f3a\"], [0.8888888888888888, \"#fdca26\"], [1.0, \"#f0f921\"]], \"type\": \"contour\"}], \"contourcarpet\": [{\"colorbar\": {\"outlinewidth\": 0, \"ticks\": \"\"}, \"type\": \"contourcarpet\"}], \"heatmap\": [{\"colorbar\": {\"outlinewidth\": 0, \"ticks\": \"\"}, \"colorscale\": [[0.0, \"#0d0887\"], [0.1111111111111111, \"#46039f\"], [0.2222222222222222, \"#7201a8\"], [0.3333333333333333, \"#9c179e\"], [0.4444444444444444, \"#bd3786\"], [0.5555555555555556, \"#d8576b\"], [0.6666666666666666, \"#ed7953\"], [0.7777777777777778, \"#fb9f3a\"], [0.8888888888888888, \"#fdca26\"], [1.0, \"#f0f921\"]], \"type\": \"heatmap\"}], \"heatmapgl\": [{\"colorbar\": {\"outlinewidth\": 0, \"ticks\": \"\"}, \"colorscale\": [[0.0, \"#0d0887\"], [0.1111111111111111, \"#46039f\"], [0.2222222222222222, \"#7201a8\"], [0.3333333333333333, \"#9c179e\"], [0.4444444444444444, \"#bd3786\"], [0.5555555555555556, \"#d8576b\"], [0.6666666666666666, \"#ed7953\"], [0.7777777777777778, \"#fb9f3a\"], [0.8888888888888888, \"#fdca26\"], [1.0, \"#f0f921\"]], \"type\": \"heatmapgl\"}], \"histogram\": [{\"marker\": {\"colorbar\": {\"outlinewidth\": 0, \"ticks\": \"\"}}, \"type\": \"histogram\"}], \"histogram2d\": [{\"colorbar\": {\"outlinewidth\": 0, \"ticks\": \"\"}, \"colorscale\": [[0.0, \"#0d0887\"], [0.1111111111111111, \"#46039f\"], [0.2222222222222222, \"#7201a8\"], [0.3333333333333333, \"#9c179e\"], [0.4444444444444444, \"#bd3786\"], [0.5555555555555556, \"#d8576b\"], [0.6666666666666666, \"#ed7953\"], [0.7777777777777778, \"#fb9f3a\"], [0.8888888888888888, \"#fdca26\"], [1.0, \"#f0f921\"]], \"type\": \"histogram2d\"}], \"histogram2dcontour\": [{\"colorbar\": {\"outlinewidth\": 0, \"ticks\": \"\"}, \"colorscale\": [[0.0, \"#0d0887\"], [0.1111111111111111, \"#46039f\"], [0.2222222222222222, \"#7201a8\"], [0.3333333333333333, \"#9c179e\"], [0.4444444444444444, \"#bd3786\"], [0.5555555555555556, \"#d8576b\"], [0.6666666666666666, \"#ed7953\"], [0.7777777777777778, \"#fb9f3a\"], [0.8888888888888888, \"#fdca26\"], [1.0, \"#f0f921\"]], \"type\": \"histogram2dcontour\"}], \"mesh3d\": [{\"colorbar\": {\"outlinewidth\": 0, \"ticks\": \"\"}, \"type\": \"mesh3d\"}], \"parcoords\": [{\"line\": {\"colorbar\": {\"outlinewidth\": 0, \"ticks\": \"\"}}, \"type\": \"parcoords\"}], \"pie\": [{\"automargin\": true, \"type\": \"pie\"}], \"scatter\": [{\"marker\": {\"colorbar\": {\"outlinewidth\": 0, \"ticks\": \"\"}}, \"type\": \"scatter\"}], \"scatter3d\": [{\"line\": {\"colorbar\": {\"outlinewidth\": 0, \"ticks\": \"\"}}, \"marker\": {\"colorbar\": {\"outlinewidth\": 0, \"ticks\": \"\"}}, \"type\": \"scatter3d\"}], \"scattercarpet\": [{\"marker\": {\"colorbar\": {\"outlinewidth\": 0, \"ticks\": \"\"}}, \"type\": \"scattercarpet\"}], \"scattergeo\": [{\"marker\": {\"colorbar\": {\"outlinewidth\": 0, \"ticks\": \"\"}}, \"type\": \"scattergeo\"}], \"scattergl\": [{\"marker\": {\"colorbar\": {\"outlinewidth\": 0, \"ticks\": \"\"}}, \"type\": \"scattergl\"}], \"scattermapbox\": [{\"marker\": {\"colorbar\": {\"outlinewidth\": 0, \"ticks\": \"\"}}, \"type\": \"scattermapbox\"}], \"scatterpolar\": [{\"marker\": {\"colorbar\": {\"outlinewidth\": 0, \"ticks\": \"\"}}, \"type\": \"scatterpolar\"}], \"scatterpolargl\": [{\"marker\": {\"colorbar\": {\"outlinewidth\": 0, \"ticks\": \"\"}}, \"type\": \"scatterpolargl\"}], \"scatterternary\": [{\"marker\": {\"colorbar\": {\"outlinewidth\": 0, \"ticks\": \"\"}}, \"type\": \"scatterternary\"}], \"surface\": [{\"colorbar\": {\"outlinewidth\": 0, \"ticks\": \"\"}, \"colorscale\": [[0.0, \"#0d0887\"], [0.1111111111111111, \"#46039f\"], [0.2222222222222222, \"#7201a8\"], [0.3333333333333333, \"#9c179e\"], [0.4444444444444444, \"#bd3786\"], [0.5555555555555556, \"#d8576b\"], [0.6666666666666666, \"#ed7953\"], [0.7777777777777778, \"#fb9f3a\"], [0.8888888888888888, \"#fdca26\"], [1.0, \"#f0f921\"]], \"type\": \"surface\"}], \"table\": [{\"cells\": {\"fill\": {\"color\": \"#EBF0F8\"}, \"line\": {\"color\": \"white\"}}, \"header\": {\"fill\": {\"color\": \"#C8D4E3\"}, \"line\": {\"color\": \"white\"}}, \"type\": \"table\"}]}, \"layout\": {\"annotationdefaults\": {\"arrowcolor\": \"#2a3f5f\", \"arrowhead\": 0, \"arrowwidth\": 1}, \"autotypenumbers\": \"strict\", \"coloraxis\": {\"colorbar\": {\"outlinewidth\": 0, \"ticks\": \"\"}}, \"colorscale\": {\"diverging\": [[0, \"#8e0152\"], [0.1, \"#c51b7d\"], [0.2, \"#de77ae\"], [0.3, \"#f1b6da\"], [0.4, \"#fde0ef\"], [0.5, \"#f7f7f7\"], [0.6, \"#e6f5d0\"], [0.7, \"#b8e186\"], [0.8, \"#7fbc41\"], [0.9, \"#4d9221\"], [1, \"#276419\"]], \"sequential\": [[0.0, \"#0d0887\"], [0.1111111111111111, \"#46039f\"], [0.2222222222222222, \"#7201a8\"], [0.3333333333333333, \"#9c179e\"], [0.4444444444444444, \"#bd3786\"], [0.5555555555555556, \"#d8576b\"], [0.6666666666666666, \"#ed7953\"], [0.7777777777777778, \"#fb9f3a\"], [0.8888888888888888, \"#fdca26\"], [1.0, \"#f0f921\"]], \"sequentialminus\": [[0.0, \"#0d0887\"], [0.1111111111111111, \"#46039f\"], [0.2222222222222222, \"#7201a8\"], [0.3333333333333333, \"#9c179e\"], [0.4444444444444444, \"#bd3786\"], [0.5555555555555556, \"#d8576b\"], [0.6666666666666666, \"#ed7953\"], [0.7777777777777778, \"#fb9f3a\"], [0.8888888888888888, \"#fdca26\"], [1.0, \"#f0f921\"]]}, \"colorway\": [\"#636efa\", \"#EF553B\", \"#00cc96\", \"#ab63fa\", \"#FFA15A\", \"#19d3f3\", \"#FF6692\", \"#B6E880\", \"#FF97FF\", \"#FECB52\"], \"font\": {\"color\": \"#2a3f5f\"}, \"geo\": {\"bgcolor\": \"white\", \"lakecolor\": \"white\", \"landcolor\": \"#E5ECF6\", \"showlakes\": true, \"showland\": true, \"subunitcolor\": \"white\"}, \"hoverlabel\": {\"align\": \"left\"}, \"hovermode\": \"closest\", \"mapbox\": {\"style\": \"light\"}, \"paper_bgcolor\": \"white\", \"plot_bgcolor\": \"#E5ECF6\", \"polar\": {\"angularaxis\": {\"gridcolor\": \"white\", \"linecolor\": \"white\", \"ticks\": \"\"}, \"bgcolor\": \"#E5ECF6\", \"radialaxis\": {\"gridcolor\": \"white\", \"linecolor\": \"white\", \"ticks\": \"\"}}, \"scene\": {\"xaxis\": {\"backgroundcolor\": \"#E5ECF6\", \"gridcolor\": \"white\", \"gridwidth\": 2, \"linecolor\": \"white\", \"showbackground\": true, \"ticks\": \"\", \"zerolinecolor\": \"white\"}, \"yaxis\": {\"backgroundcolor\": \"#E5ECF6\", \"gridcolor\": \"white\", \"gridwidth\": 2, \"linecolor\": \"white\", \"showbackground\": true, \"ticks\": \"\", \"zerolinecolor\": \"white\"}, \"zaxis\": {\"backgroundcolor\": \"#E5ECF6\", \"gridcolor\": \"white\", \"gridwidth\": 2, \"linecolor\": \"white\", \"showbackground\": true, \"ticks\": \"\", \"zerolinecolor\": \"white\"}}, \"shapedefaults\": {\"line\": {\"color\": \"#2a3f5f\"}}, \"ternary\": {\"aaxis\": {\"gridcolor\": \"white\", \"linecolor\": \"white\", \"ticks\": \"\"}, \"baxis\": {\"gridcolor\": \"white\", \"linecolor\": \"white\", \"ticks\": \"\"}, \"bgcolor\": \"#E5ECF6\", \"caxis\": {\"gridcolor\": \"white\", \"linecolor\": \"white\", \"ticks\": \"\"}}, \"title\": {\"x\": 0.05}, \"xaxis\": {\"automargin\": true, \"gridcolor\": \"white\", \"linecolor\": \"white\", \"ticks\": \"\", \"title\": {\"standoff\": 15}, \"zerolinecolor\": \"white\", \"zerolinewidth\": 2}, \"yaxis\": {\"automargin\": true, \"gridcolor\": \"white\", \"linecolor\": \"white\", \"ticks\": \"\", \"title\": {\"standoff\": 15}, \"zerolinecolor\": \"white\", \"zerolinewidth\": 2}}}, \"title\": {\"text\": \"Trip Duration Throughout The Day\"}, \"xaxis\": {\"gridcolor\": \"rgb(227, 227, 227)\", \"tickangle\": 45, \"tickmode\": \"array\", \"ticktext\": [\"0 hr\", \"1 hr\", \"2 hr\", \"3 hr\", \"4 hr\", \"5 hr\", \"6 hr\", \"7 hr\", \"8 hr\", \"9 hr\", \"10 hr\", \"11 hr\", \"12 hr\", \"13 hr\", \"14 hr\", \"15 hr\", \"16 hr\", \"17 hr\", \"18 hr\", \"19 hr\", \"20 hr\", \"21 hr\", \"22 hr\", \"23 hr\"], \"tickvals\": [0, 1, 2, 3, 4, 5, 6, 7, 8, 9, 10, 11, 12, 13, 14, 15, 16, 17, 18, 19, 20, 21, 22, 23], \"title\": {\"text\": \"Time\"}, \"zerolinecolor\": \"rgb(125, 125, 125)\", \"zerolinewidth\": 3}, \"yaxis\": {\"gridcolor\": \"rgb(227, 227, 227)\", \"title\": {\"text\": \"Trip Duration (in Minutes)\"}}},                        {\"responsive\": true}                    ).then(function(){\n",
       "                            \n",
       "var gd = document.getElementById('28036b0f-dabe-4b0e-8ae9-60b3a140f9c3');\n",
       "var x = new MutationObserver(function (mutations, observer) {{\n",
       "        var display = window.getComputedStyle(gd).display;\n",
       "        if (!display || display === 'none') {{\n",
       "            console.log([gd, 'removed!']);\n",
       "            Plotly.purge(gd);\n",
       "            observer.disconnect();\n",
       "        }}\n",
       "}});\n",
       "\n",
       "// Listen for the removal of the full notebook cells\n",
       "var notebookContainer = gd.closest('#notebook-container');\n",
       "if (notebookContainer) {{\n",
       "    x.observe(notebookContainer, {childList: true});\n",
       "}}\n",
       "\n",
       "// Listen for the clearing of the current output cell\n",
       "var outputEl = gd.closest('.output');\n",
       "if (outputEl) {{\n",
       "    x.observe(outputEl, {childList: true});\n",
       "}}\n",
       "\n",
       "                        })                };                });            </script>        </div>"
      ]
     },
     "metadata": {},
     "output_type": "display_data"
    }
   ],
   "source": [
    "fig3=go.Figure(data=go.Scatter(x=trip_duration_df['pickup_hour'], y=trip_duration_df['dur'],mode='lines+markers',marker_color='rgb(255, 135, 45)'))\n",
    "fig3.update_layout(\n",
    "    title=\"Trip Duration Throughout The Day\",\n",
    "    plot_bgcolor='rgba(245, 245, 245 ,10)',\n",
    "    xaxis = dict(\n",
    "            tickmode = 'array',\n",
    "            tickvals = ticks,\n",
    "            ticktext = ticks_text,\n",
    "            tickangle = 45\n",
    "    )\n",
    ")\n",
    "fig3.update_xaxes(title_text=\"Time\",gridcolor= 'rgb(227, 227, 227)',zerolinewidth=3, \n",
    "            zerolinecolor='rgb(125, 125, 125)')\n",
    "fig3.update_yaxes(title_text=\"Trip Duration (in Minutes)\",gridcolor= 'rgb(227, 227, 227)')\n",
    "fig3.show()          "
   ]
  },
  {
   "cell_type": "markdown",
   "id": "d3bdc5fc",
   "metadata": {},
   "source": [
    "### Relationship between trip duration and vendors"
   ]
  },
  {
   "cell_type": "code",
   "execution_count": 36,
   "id": "54c12b82",
   "metadata": {},
   "outputs": [
    {
     "data": {
      "text/html": [
       "<table>\n",
       "<thead>\n",
       "<tr><th>#                                      </th><th>pickup_hour  </th><th>trip_duration  </th></tr>\n",
       "</thead>\n",
       "<tbody>\n",
       "<tr><td><i style='opacity: 0.6'>0</i>          </td><td>0            </td><td>17.5           </td></tr>\n",
       "<tr><td><i style='opacity: 0.6'>1</i>          </td><td>0            </td><td>23.2667        </td></tr>\n",
       "<tr><td><i style='opacity: 0.6'>2</i>          </td><td>0            </td><td>10.5           </td></tr>\n",
       "<tr><td><i style='opacity: 0.6'>3</i>          </td><td>0            </td><td>26.8           </td></tr>\n",
       "<tr><td><i style='opacity: 0.6'>4</i>          </td><td>0            </td><td>10.7333        </td></tr>\n",
       "<tr><td>...                                    </td><td>...          </td><td>...            </td></tr>\n",
       "<tr><td><i style='opacity: 0.6'>103,878,655</i></td><td>23           </td><td>10.1333        </td></tr>\n",
       "<tr><td><i style='opacity: 0.6'>103,878,656</i></td><td>23           </td><td>4.7167         </td></tr>\n",
       "<tr><td><i style='opacity: 0.6'>103,878,657</i></td><td>23           </td><td>7.7167         </td></tr>\n",
       "<tr><td><i style='opacity: 0.6'>103,878,658</i></td><td>23           </td><td>12.2           </td></tr>\n",
       "<tr><td><i style='opacity: 0.6'>103,878,659</i></td><td>23           </td><td>16.5667        </td></tr>\n",
       "</tbody>\n",
       "</table>"
      ],
      "text/plain": [
       "#            pickup_hour    trip_duration\n",
       "0            0              17.5\n",
       "1            0              23.2667\n",
       "2            0              10.5\n",
       "3            0              26.8\n",
       "4            0              10.7333\n",
       "...          ...            ...\n",
       "103,878,655  23             10.1333\n",
       "103,878,656  23             4.7167\n",
       "103,878,657  23             7.7167\n",
       "103,878,658  23             12.2\n",
       "103,878,659  23             16.5667"
      ]
     },
     "execution_count": 36,
     "metadata": {},
     "output_type": "execute_result"
    }
   ],
   "source": [
    "fhv_trip_duration\n"
   ]
  },
  {
   "cell_type": "code",
   "execution_count": 37,
   "id": "60727247",
   "metadata": {},
   "outputs": [],
   "source": [
    "yellow_trip_duration = yellow_trip_duration[yellow_trip_duration['trip_duration']>3]\n",
    "\n",
    "fhv_trip_duration = fhv_trip_duration[fhv_trip_duration['trip_duration']>3]\n"
   ]
  },
  {
   "cell_type": "code",
   "execution_count": null,
   "id": "5bede199",
   "metadata": {},
   "outputs": [],
   "source": []
  },
  {
   "cell_type": "code",
   "execution_count": 38,
   "id": "227394f9",
   "metadata": {},
   "outputs": [
    {
     "data": {
      "text/html": [
       "<div>\n",
       "<style scoped>\n",
       "    .dataframe tbody tr th:only-of-type {\n",
       "        vertical-align: middle;\n",
       "    }\n",
       "\n",
       "    .dataframe tbody tr th {\n",
       "        vertical-align: top;\n",
       "    }\n",
       "\n",
       "    .dataframe thead th {\n",
       "        text-align: right;\n",
       "    }\n",
       "</style>\n",
       "<table border=\"1\" class=\"dataframe\">\n",
       "  <thead>\n",
       "    <tr style=\"text-align: right;\">\n",
       "      <th></th>\n",
       "      <th>pickup_hour</th>\n",
       "      <th>dur</th>\n",
       "    </tr>\n",
       "  </thead>\n",
       "  <tbody>\n",
       "    <tr>\n",
       "      <th>7</th>\n",
       "      <td>0</td>\n",
       "      <td>16.199327</td>\n",
       "    </tr>\n",
       "    <tr>\n",
       "      <th>8</th>\n",
       "      <td>1</td>\n",
       "      <td>15.753868</td>\n",
       "    </tr>\n",
       "    <tr>\n",
       "      <th>9</th>\n",
       "      <td>2</td>\n",
       "      <td>15.269864</td>\n",
       "    </tr>\n",
       "    <tr>\n",
       "      <th>10</th>\n",
       "      <td>3</td>\n",
       "      <td>15.655408</td>\n",
       "    </tr>\n",
       "    <tr>\n",
       "      <th>11</th>\n",
       "      <td>4</td>\n",
       "      <td>16.510913</td>\n",
       "    </tr>\n",
       "    <tr>\n",
       "      <th>12</th>\n",
       "      <td>5</td>\n",
       "      <td>17.735300</td>\n",
       "    </tr>\n",
       "    <tr>\n",
       "      <th>13</th>\n",
       "      <td>6</td>\n",
       "      <td>18.077430</td>\n",
       "    </tr>\n",
       "    <tr>\n",
       "      <th>14</th>\n",
       "      <td>7</td>\n",
       "      <td>18.260010</td>\n",
       "    </tr>\n",
       "    <tr>\n",
       "      <th>15</th>\n",
       "      <td>8</td>\n",
       "      <td>18.386295</td>\n",
       "    </tr>\n",
       "    <tr>\n",
       "      <th>16</th>\n",
       "      <td>9</td>\n",
       "      <td>17.889973</td>\n",
       "    </tr>\n",
       "    <tr>\n",
       "      <th>17</th>\n",
       "      <td>10</td>\n",
       "      <td>17.609369</td>\n",
       "    </tr>\n",
       "    <tr>\n",
       "      <th>18</th>\n",
       "      <td>11</td>\n",
       "      <td>17.828230</td>\n",
       "    </tr>\n",
       "    <tr>\n",
       "      <th>19</th>\n",
       "      <td>12</td>\n",
       "      <td>18.079082</td>\n",
       "    </tr>\n",
       "    <tr>\n",
       "      <th>20</th>\n",
       "      <td>13</td>\n",
       "      <td>18.622493</td>\n",
       "    </tr>\n",
       "    <tr>\n",
       "      <th>21</th>\n",
       "      <td>14</td>\n",
       "      <td>19.642081</td>\n",
       "    </tr>\n",
       "    <tr>\n",
       "      <th>22</th>\n",
       "      <td>15</td>\n",
       "      <td>20.510264</td>\n",
       "    </tr>\n",
       "    <tr>\n",
       "      <th>23</th>\n",
       "      <td>16</td>\n",
       "      <td>20.637737</td>\n",
       "    </tr>\n",
       "    <tr>\n",
       "      <th>0</th>\n",
       "      <td>17</td>\n",
       "      <td>20.062595</td>\n",
       "    </tr>\n",
       "    <tr>\n",
       "      <th>1</th>\n",
       "      <td>18</td>\n",
       "      <td>18.693823</td>\n",
       "    </tr>\n",
       "    <tr>\n",
       "      <th>2</th>\n",
       "      <td>19</td>\n",
       "      <td>17.544416</td>\n",
       "    </tr>\n",
       "    <tr>\n",
       "      <th>3</th>\n",
       "      <td>20</td>\n",
       "      <td>17.250159</td>\n",
       "    </tr>\n",
       "    <tr>\n",
       "      <th>4</th>\n",
       "      <td>21</td>\n",
       "      <td>17.159180</td>\n",
       "    </tr>\n",
       "    <tr>\n",
       "      <th>5</th>\n",
       "      <td>22</td>\n",
       "      <td>17.065285</td>\n",
       "    </tr>\n",
       "    <tr>\n",
       "      <th>6</th>\n",
       "      <td>23</td>\n",
       "      <td>16.662418</td>\n",
       "    </tr>\n",
       "  </tbody>\n",
       "</table>\n",
       "</div>"
      ],
      "text/plain": [
       "    pickup_hour        dur\n",
       "7             0  16.199327\n",
       "8             1  15.753868\n",
       "9             2  15.269864\n",
       "10            3  15.655408\n",
       "11            4  16.510913\n",
       "12            5  17.735300\n",
       "13            6  18.077430\n",
       "14            7  18.260010\n",
       "15            8  18.386295\n",
       "16            9  17.889973\n",
       "17           10  17.609369\n",
       "18           11  17.828230\n",
       "19           12  18.079082\n",
       "20           13  18.622493\n",
       "21           14  19.642081\n",
       "22           15  20.510264\n",
       "23           16  20.637737\n",
       "0            17  20.062595\n",
       "1            18  18.693823\n",
       "2            19  17.544416\n",
       "3            20  17.250159\n",
       "4            21  17.159180\n",
       "5            22  17.065285\n",
       "6            23  16.662418"
      ]
     },
     "execution_count": 38,
     "metadata": {},
     "output_type": "execute_result"
    }
   ],
   "source": [
    "ytrip_duration = yellow_trip_duration.groupby(by='pickup_hour',agg={ 'dur' : vaex.agg.mean('trip_duration') } )\n",
    "ytrip_duration_df = ytrip_duration.to_pandas_df()\n",
    "ytrip_duration_df = ytrip_duration_df.sort_values('pickup_hour')\n",
    "ytrip_duration_df\n",
    "\n",
    "ftrip_duration = fhv_trip_duration.groupby(by='pickup_hour',agg={ 'dur' : vaex.agg.mean('trip_duration') } )\n",
    "ftrip_duration_df = ftrip_duration.to_pandas_df()\n",
    "ftrip_duration_df = ftrip_duration_df.sort_values('pickup_hour')\n",
    "ftrip_duration_df"
   ]
  },
  {
   "cell_type": "code",
   "execution_count": 153,
   "id": "46bc31d1",
   "metadata": {},
   "outputs": [
    {
     "data": {
      "application/vnd.plotly.v1+json": {
       "config": {
        "plotlyServerURL": "https://plot.ly"
       },
       "data": [
        {
         "line": {
          "color": "rgba(255, 154, 31,100)"
         },
         "mode": "lines+markers",
         "name": "Yellow Taxi",
         "type": "scatter",
         "x": [
          0,
          1,
          2,
          3,
          4,
          5,
          6,
          7,
          8,
          9,
          10,
          11,
          12,
          13,
          14,
          15,
          16,
          17,
          18,
          19,
          20,
          21,
          22,
          23
         ],
         "y": [
          17.430676405695042,
          19.618987373658225,
          16.58870265540794,
          17.41345929574194,
          18.361279987123307,
          18.832903413331483,
          16.462091434825204,
          17.029207667658216,
          17.22402149473388,
          17.14637989485973,
          17.253386750738805,
          17.31363753079425,
          17.72104501305991,
          18.414187860627163,
          19.387789210010375,
          19.947756506766073,
          20.255464938354077,
          19.51059817123826,
          18.121918269442926,
          17.116239839197192,
          16.8050739745298,
          16.617154091442593,
          16.801177272173828,
          16.893563968174384
         ]
        },
        {
         "line": {
          "color": "rgba(191, 19, 88,100)"
         },
         "mode": "lines+markers",
         "name": "FHV Taxi",
         "type": "scatter",
         "x": [
          0,
          1,
          2,
          3,
          4,
          5,
          6,
          7,
          8,
          9,
          10,
          11,
          12,
          13,
          14,
          15,
          16,
          17,
          18,
          19,
          20,
          21,
          22,
          23
         ],
         "y": [
          16.199327230621822,
          15.753868451137556,
          15.26986441659146,
          15.655408360109666,
          16.510912783924827,
          17.73530039330373,
          18.07742967569986,
          18.260010010002702,
          18.38629513697018,
          17.889973453256186,
          17.609369301209167,
          17.828230319654786,
          18.079081970736457,
          18.62249278487577,
          19.642080877898678,
          20.5102640612303,
          20.637737339069435,
          20.06259515457802,
          18.69382264513004,
          17.544415688144475,
          17.250158519390723,
          17.159179769694255,
          17.06528469193573,
          16.662417742017112
         ]
        }
       ],
       "layout": {
        "legend": {
         "title": {
          "text": "Taxi Type"
         }
        },
        "plot_bgcolor": "rgba(245, 245, 245 ,10)",
        "template": {
         "data": {
          "bar": [
           {
            "error_x": {
             "color": "#2a3f5f"
            },
            "error_y": {
             "color": "#2a3f5f"
            },
            "marker": {
             "line": {
              "color": "#E5ECF6",
              "width": 0.5
             }
            },
            "type": "bar"
           }
          ],
          "barpolar": [
           {
            "marker": {
             "line": {
              "color": "#E5ECF6",
              "width": 0.5
             }
            },
            "type": "barpolar"
           }
          ],
          "carpet": [
           {
            "aaxis": {
             "endlinecolor": "#2a3f5f",
             "gridcolor": "white",
             "linecolor": "white",
             "minorgridcolor": "white",
             "startlinecolor": "#2a3f5f"
            },
            "baxis": {
             "endlinecolor": "#2a3f5f",
             "gridcolor": "white",
             "linecolor": "white",
             "minorgridcolor": "white",
             "startlinecolor": "#2a3f5f"
            },
            "type": "carpet"
           }
          ],
          "choropleth": [
           {
            "colorbar": {
             "outlinewidth": 0,
             "ticks": ""
            },
            "type": "choropleth"
           }
          ],
          "contour": [
           {
            "colorbar": {
             "outlinewidth": 0,
             "ticks": ""
            },
            "colorscale": [
             [
              0,
              "#0d0887"
             ],
             [
              0.1111111111111111,
              "#46039f"
             ],
             [
              0.2222222222222222,
              "#7201a8"
             ],
             [
              0.3333333333333333,
              "#9c179e"
             ],
             [
              0.4444444444444444,
              "#bd3786"
             ],
             [
              0.5555555555555556,
              "#d8576b"
             ],
             [
              0.6666666666666666,
              "#ed7953"
             ],
             [
              0.7777777777777778,
              "#fb9f3a"
             ],
             [
              0.8888888888888888,
              "#fdca26"
             ],
             [
              1,
              "#f0f921"
             ]
            ],
            "type": "contour"
           }
          ],
          "contourcarpet": [
           {
            "colorbar": {
             "outlinewidth": 0,
             "ticks": ""
            },
            "type": "contourcarpet"
           }
          ],
          "heatmap": [
           {
            "colorbar": {
             "outlinewidth": 0,
             "ticks": ""
            },
            "colorscale": [
             [
              0,
              "#0d0887"
             ],
             [
              0.1111111111111111,
              "#46039f"
             ],
             [
              0.2222222222222222,
              "#7201a8"
             ],
             [
              0.3333333333333333,
              "#9c179e"
             ],
             [
              0.4444444444444444,
              "#bd3786"
             ],
             [
              0.5555555555555556,
              "#d8576b"
             ],
             [
              0.6666666666666666,
              "#ed7953"
             ],
             [
              0.7777777777777778,
              "#fb9f3a"
             ],
             [
              0.8888888888888888,
              "#fdca26"
             ],
             [
              1,
              "#f0f921"
             ]
            ],
            "type": "heatmap"
           }
          ],
          "heatmapgl": [
           {
            "colorbar": {
             "outlinewidth": 0,
             "ticks": ""
            },
            "colorscale": [
             [
              0,
              "#0d0887"
             ],
             [
              0.1111111111111111,
              "#46039f"
             ],
             [
              0.2222222222222222,
              "#7201a8"
             ],
             [
              0.3333333333333333,
              "#9c179e"
             ],
             [
              0.4444444444444444,
              "#bd3786"
             ],
             [
              0.5555555555555556,
              "#d8576b"
             ],
             [
              0.6666666666666666,
              "#ed7953"
             ],
             [
              0.7777777777777778,
              "#fb9f3a"
             ],
             [
              0.8888888888888888,
              "#fdca26"
             ],
             [
              1,
              "#f0f921"
             ]
            ],
            "type": "heatmapgl"
           }
          ],
          "histogram": [
           {
            "marker": {
             "colorbar": {
              "outlinewidth": 0,
              "ticks": ""
             }
            },
            "type": "histogram"
           }
          ],
          "histogram2d": [
           {
            "colorbar": {
             "outlinewidth": 0,
             "ticks": ""
            },
            "colorscale": [
             [
              0,
              "#0d0887"
             ],
             [
              0.1111111111111111,
              "#46039f"
             ],
             [
              0.2222222222222222,
              "#7201a8"
             ],
             [
              0.3333333333333333,
              "#9c179e"
             ],
             [
              0.4444444444444444,
              "#bd3786"
             ],
             [
              0.5555555555555556,
              "#d8576b"
             ],
             [
              0.6666666666666666,
              "#ed7953"
             ],
             [
              0.7777777777777778,
              "#fb9f3a"
             ],
             [
              0.8888888888888888,
              "#fdca26"
             ],
             [
              1,
              "#f0f921"
             ]
            ],
            "type": "histogram2d"
           }
          ],
          "histogram2dcontour": [
           {
            "colorbar": {
             "outlinewidth": 0,
             "ticks": ""
            },
            "colorscale": [
             [
              0,
              "#0d0887"
             ],
             [
              0.1111111111111111,
              "#46039f"
             ],
             [
              0.2222222222222222,
              "#7201a8"
             ],
             [
              0.3333333333333333,
              "#9c179e"
             ],
             [
              0.4444444444444444,
              "#bd3786"
             ],
             [
              0.5555555555555556,
              "#d8576b"
             ],
             [
              0.6666666666666666,
              "#ed7953"
             ],
             [
              0.7777777777777778,
              "#fb9f3a"
             ],
             [
              0.8888888888888888,
              "#fdca26"
             ],
             [
              1,
              "#f0f921"
             ]
            ],
            "type": "histogram2dcontour"
           }
          ],
          "mesh3d": [
           {
            "colorbar": {
             "outlinewidth": 0,
             "ticks": ""
            },
            "type": "mesh3d"
           }
          ],
          "parcoords": [
           {
            "line": {
             "colorbar": {
              "outlinewidth": 0,
              "ticks": ""
             }
            },
            "type": "parcoords"
           }
          ],
          "pie": [
           {
            "automargin": true,
            "type": "pie"
           }
          ],
          "scatter": [
           {
            "marker": {
             "colorbar": {
              "outlinewidth": 0,
              "ticks": ""
             }
            },
            "type": "scatter"
           }
          ],
          "scatter3d": [
           {
            "line": {
             "colorbar": {
              "outlinewidth": 0,
              "ticks": ""
             }
            },
            "marker": {
             "colorbar": {
              "outlinewidth": 0,
              "ticks": ""
             }
            },
            "type": "scatter3d"
           }
          ],
          "scattercarpet": [
           {
            "marker": {
             "colorbar": {
              "outlinewidth": 0,
              "ticks": ""
             }
            },
            "type": "scattercarpet"
           }
          ],
          "scattergeo": [
           {
            "marker": {
             "colorbar": {
              "outlinewidth": 0,
              "ticks": ""
             }
            },
            "type": "scattergeo"
           }
          ],
          "scattergl": [
           {
            "marker": {
             "colorbar": {
              "outlinewidth": 0,
              "ticks": ""
             }
            },
            "type": "scattergl"
           }
          ],
          "scattermapbox": [
           {
            "marker": {
             "colorbar": {
              "outlinewidth": 0,
              "ticks": ""
             }
            },
            "type": "scattermapbox"
           }
          ],
          "scatterpolar": [
           {
            "marker": {
             "colorbar": {
              "outlinewidth": 0,
              "ticks": ""
             }
            },
            "type": "scatterpolar"
           }
          ],
          "scatterpolargl": [
           {
            "marker": {
             "colorbar": {
              "outlinewidth": 0,
              "ticks": ""
             }
            },
            "type": "scatterpolargl"
           }
          ],
          "scatterternary": [
           {
            "marker": {
             "colorbar": {
              "outlinewidth": 0,
              "ticks": ""
             }
            },
            "type": "scatterternary"
           }
          ],
          "surface": [
           {
            "colorbar": {
             "outlinewidth": 0,
             "ticks": ""
            },
            "colorscale": [
             [
              0,
              "#0d0887"
             ],
             [
              0.1111111111111111,
              "#46039f"
             ],
             [
              0.2222222222222222,
              "#7201a8"
             ],
             [
              0.3333333333333333,
              "#9c179e"
             ],
             [
              0.4444444444444444,
              "#bd3786"
             ],
             [
              0.5555555555555556,
              "#d8576b"
             ],
             [
              0.6666666666666666,
              "#ed7953"
             ],
             [
              0.7777777777777778,
              "#fb9f3a"
             ],
             [
              0.8888888888888888,
              "#fdca26"
             ],
             [
              1,
              "#f0f921"
             ]
            ],
            "type": "surface"
           }
          ],
          "table": [
           {
            "cells": {
             "fill": {
              "color": "#EBF0F8"
             },
             "line": {
              "color": "white"
             }
            },
            "header": {
             "fill": {
              "color": "#C8D4E3"
             },
             "line": {
              "color": "white"
             }
            },
            "type": "table"
           }
          ]
         },
         "layout": {
          "annotationdefaults": {
           "arrowcolor": "#2a3f5f",
           "arrowhead": 0,
           "arrowwidth": 1
          },
          "autotypenumbers": "strict",
          "coloraxis": {
           "colorbar": {
            "outlinewidth": 0,
            "ticks": ""
           }
          },
          "colorscale": {
           "diverging": [
            [
             0,
             "#8e0152"
            ],
            [
             0.1,
             "#c51b7d"
            ],
            [
             0.2,
             "#de77ae"
            ],
            [
             0.3,
             "#f1b6da"
            ],
            [
             0.4,
             "#fde0ef"
            ],
            [
             0.5,
             "#f7f7f7"
            ],
            [
             0.6,
             "#e6f5d0"
            ],
            [
             0.7,
             "#b8e186"
            ],
            [
             0.8,
             "#7fbc41"
            ],
            [
             0.9,
             "#4d9221"
            ],
            [
             1,
             "#276419"
            ]
           ],
           "sequential": [
            [
             0,
             "#0d0887"
            ],
            [
             0.1111111111111111,
             "#46039f"
            ],
            [
             0.2222222222222222,
             "#7201a8"
            ],
            [
             0.3333333333333333,
             "#9c179e"
            ],
            [
             0.4444444444444444,
             "#bd3786"
            ],
            [
             0.5555555555555556,
             "#d8576b"
            ],
            [
             0.6666666666666666,
             "#ed7953"
            ],
            [
             0.7777777777777778,
             "#fb9f3a"
            ],
            [
             0.8888888888888888,
             "#fdca26"
            ],
            [
             1,
             "#f0f921"
            ]
           ],
           "sequentialminus": [
            [
             0,
             "#0d0887"
            ],
            [
             0.1111111111111111,
             "#46039f"
            ],
            [
             0.2222222222222222,
             "#7201a8"
            ],
            [
             0.3333333333333333,
             "#9c179e"
            ],
            [
             0.4444444444444444,
             "#bd3786"
            ],
            [
             0.5555555555555556,
             "#d8576b"
            ],
            [
             0.6666666666666666,
             "#ed7953"
            ],
            [
             0.7777777777777778,
             "#fb9f3a"
            ],
            [
             0.8888888888888888,
             "#fdca26"
            ],
            [
             1,
             "#f0f921"
            ]
           ]
          },
          "colorway": [
           "#636efa",
           "#EF553B",
           "#00cc96",
           "#ab63fa",
           "#FFA15A",
           "#19d3f3",
           "#FF6692",
           "#B6E880",
           "#FF97FF",
           "#FECB52"
          ],
          "font": {
           "color": "#2a3f5f"
          },
          "geo": {
           "bgcolor": "white",
           "lakecolor": "white",
           "landcolor": "#E5ECF6",
           "showlakes": true,
           "showland": true,
           "subunitcolor": "white"
          },
          "hoverlabel": {
           "align": "left"
          },
          "hovermode": "closest",
          "mapbox": {
           "style": "light"
          },
          "paper_bgcolor": "white",
          "plot_bgcolor": "#E5ECF6",
          "polar": {
           "angularaxis": {
            "gridcolor": "white",
            "linecolor": "white",
            "ticks": ""
           },
           "bgcolor": "#E5ECF6",
           "radialaxis": {
            "gridcolor": "white",
            "linecolor": "white",
            "ticks": ""
           }
          },
          "scene": {
           "xaxis": {
            "backgroundcolor": "#E5ECF6",
            "gridcolor": "white",
            "gridwidth": 2,
            "linecolor": "white",
            "showbackground": true,
            "ticks": "",
            "zerolinecolor": "white"
           },
           "yaxis": {
            "backgroundcolor": "#E5ECF6",
            "gridcolor": "white",
            "gridwidth": 2,
            "linecolor": "white",
            "showbackground": true,
            "ticks": "",
            "zerolinecolor": "white"
           },
           "zaxis": {
            "backgroundcolor": "#E5ECF6",
            "gridcolor": "white",
            "gridwidth": 2,
            "linecolor": "white",
            "showbackground": true,
            "ticks": "",
            "zerolinecolor": "white"
           }
          },
          "shapedefaults": {
           "line": {
            "color": "#2a3f5f"
           }
          },
          "ternary": {
           "aaxis": {
            "gridcolor": "white",
            "linecolor": "white",
            "ticks": ""
           },
           "baxis": {
            "gridcolor": "white",
            "linecolor": "white",
            "ticks": ""
           },
           "bgcolor": "#E5ECF6",
           "caxis": {
            "gridcolor": "white",
            "linecolor": "white",
            "ticks": ""
           }
          },
          "title": {
           "x": 0.05
          },
          "xaxis": {
           "automargin": true,
           "gridcolor": "white",
           "linecolor": "white",
           "ticks": "",
           "title": {
            "standoff": 15
           },
           "zerolinecolor": "white",
           "zerolinewidth": 2
          },
          "yaxis": {
           "automargin": true,
           "gridcolor": "white",
           "linecolor": "white",
           "ticks": "",
           "title": {
            "standoff": 15
           },
           "zerolinecolor": "white",
           "zerolinewidth": 2
          }
         }
        },
        "title": {
         "text": "Average Trip duration Throughout The Day Across Vendors"
        },
        "xaxis": {
         "gridcolor": "rgb(227, 227, 227)",
         "tickangle": 45,
         "tickmode": "array",
         "ticktext": [
          "0 hr",
          "1 hr",
          "2 hr",
          "3 hr",
          "4 hr",
          "5 hr",
          "6 hr",
          "7 hr",
          "8 hr",
          "9 hr",
          "10 hr",
          "11 hr",
          "12 hr",
          "13 hr",
          "14 hr",
          "15 hr",
          "16 hr",
          "17 hr",
          "18 hr",
          "19 hr",
          "20 hr",
          "21 hr",
          "22 hr",
          "23 hr"
         ],
         "tickvals": [
          0,
          1,
          2,
          3,
          4,
          5,
          6,
          7,
          8,
          9,
          10,
          11,
          12,
          13,
          14,
          15,
          16,
          17,
          18,
          19,
          20,
          21,
          22,
          23
         ],
         "title": {
          "text": "Time"
         },
         "zerolinecolor": "rgb(125, 125, 125)",
         "zerolinewidth": 3
        },
        "yaxis": {
         "gridcolor": "rgb(227, 227, 227)",
         "title": {
          "text": "Average Trip Duration (in Minutes)"
         },
         "zerolinecolor": "rgb(125, 125, 125)",
         "zerolinewidth": 3
        }
       }
      },
      "text/html": [
       "<div>                            <div id=\"91dae7e0-eef0-4b34-9de4-d2b9a72bfb26\" class=\"plotly-graph-div\" style=\"height:525px; width:100%;\"></div>            <script type=\"text/javascript\">                require([\"plotly\"], function(Plotly) {                    window.PLOTLYENV=window.PLOTLYENV || {};                                    if (document.getElementById(\"91dae7e0-eef0-4b34-9de4-d2b9a72bfb26\")) {                    Plotly.newPlot(                        \"91dae7e0-eef0-4b34-9de4-d2b9a72bfb26\",                        [{\"line\": {\"color\": \"rgba(255, 154, 31,100)\"}, \"mode\": \"lines+markers\", \"name\": \"Yellow Taxi\", \"type\": \"scatter\", \"x\": [0, 1, 2, 3, 4, 5, 6, 7, 8, 9, 10, 11, 12, 13, 14, 15, 16, 17, 18, 19, 20, 21, 22, 23], \"y\": [17.430676405695042, 19.618987373658225, 16.58870265540794, 17.41345929574194, 18.361279987123307, 18.832903413331483, 16.462091434825204, 17.029207667658216, 17.22402149473388, 17.14637989485973, 17.253386750738805, 17.31363753079425, 17.72104501305991, 18.414187860627163, 19.387789210010375, 19.947756506766073, 20.255464938354077, 19.51059817123826, 18.121918269442926, 17.116239839197192, 16.8050739745298, 16.617154091442593, 16.801177272173828, 16.893563968174384]}, {\"line\": {\"color\": \"rgba(191, 19, 88,100)\"}, \"mode\": \"lines+markers\", \"name\": \"FHV Taxi\", \"type\": \"scatter\", \"x\": [0, 1, 2, 3, 4, 5, 6, 7, 8, 9, 10, 11, 12, 13, 14, 15, 16, 17, 18, 19, 20, 21, 22, 23], \"y\": [16.199327230621822, 15.753868451137556, 15.26986441659146, 15.655408360109666, 16.510912783924827, 17.73530039330373, 18.07742967569986, 18.260010010002702, 18.38629513697018, 17.889973453256186, 17.609369301209167, 17.828230319654786, 18.079081970736457, 18.62249278487577, 19.642080877898678, 20.5102640612303, 20.637737339069435, 20.06259515457802, 18.69382264513004, 17.544415688144475, 17.250158519390723, 17.159179769694255, 17.06528469193573, 16.662417742017112]}],                        {\"legend\": {\"title\": {\"text\": \"Taxi Type\"}}, \"plot_bgcolor\": \"rgba(245, 245, 245 ,10)\", \"template\": {\"data\": {\"bar\": [{\"error_x\": {\"color\": \"#2a3f5f\"}, \"error_y\": {\"color\": \"#2a3f5f\"}, \"marker\": {\"line\": {\"color\": \"#E5ECF6\", \"width\": 0.5}}, \"type\": \"bar\"}], \"barpolar\": [{\"marker\": {\"line\": {\"color\": \"#E5ECF6\", \"width\": 0.5}}, \"type\": \"barpolar\"}], \"carpet\": [{\"aaxis\": {\"endlinecolor\": \"#2a3f5f\", \"gridcolor\": \"white\", \"linecolor\": \"white\", \"minorgridcolor\": \"white\", \"startlinecolor\": \"#2a3f5f\"}, \"baxis\": {\"endlinecolor\": \"#2a3f5f\", \"gridcolor\": \"white\", \"linecolor\": \"white\", \"minorgridcolor\": \"white\", \"startlinecolor\": \"#2a3f5f\"}, \"type\": \"carpet\"}], \"choropleth\": [{\"colorbar\": {\"outlinewidth\": 0, \"ticks\": \"\"}, \"type\": \"choropleth\"}], \"contour\": [{\"colorbar\": {\"outlinewidth\": 0, \"ticks\": \"\"}, \"colorscale\": [[0.0, \"#0d0887\"], [0.1111111111111111, \"#46039f\"], [0.2222222222222222, \"#7201a8\"], [0.3333333333333333, \"#9c179e\"], [0.4444444444444444, \"#bd3786\"], [0.5555555555555556, \"#d8576b\"], [0.6666666666666666, \"#ed7953\"], [0.7777777777777778, \"#fb9f3a\"], [0.8888888888888888, \"#fdca26\"], [1.0, \"#f0f921\"]], \"type\": \"contour\"}], \"contourcarpet\": [{\"colorbar\": {\"outlinewidth\": 0, \"ticks\": \"\"}, \"type\": \"contourcarpet\"}], \"heatmap\": [{\"colorbar\": {\"outlinewidth\": 0, \"ticks\": \"\"}, \"colorscale\": [[0.0, \"#0d0887\"], [0.1111111111111111, \"#46039f\"], [0.2222222222222222, \"#7201a8\"], [0.3333333333333333, \"#9c179e\"], [0.4444444444444444, \"#bd3786\"], [0.5555555555555556, \"#d8576b\"], [0.6666666666666666, \"#ed7953\"], [0.7777777777777778, \"#fb9f3a\"], [0.8888888888888888, \"#fdca26\"], [1.0, \"#f0f921\"]], \"type\": \"heatmap\"}], \"heatmapgl\": [{\"colorbar\": {\"outlinewidth\": 0, \"ticks\": \"\"}, \"colorscale\": [[0.0, \"#0d0887\"], [0.1111111111111111, \"#46039f\"], [0.2222222222222222, \"#7201a8\"], [0.3333333333333333, \"#9c179e\"], [0.4444444444444444, \"#bd3786\"], [0.5555555555555556, \"#d8576b\"], [0.6666666666666666, \"#ed7953\"], [0.7777777777777778, \"#fb9f3a\"], [0.8888888888888888, \"#fdca26\"], [1.0, \"#f0f921\"]], \"type\": \"heatmapgl\"}], \"histogram\": [{\"marker\": {\"colorbar\": {\"outlinewidth\": 0, \"ticks\": \"\"}}, \"type\": \"histogram\"}], \"histogram2d\": [{\"colorbar\": {\"outlinewidth\": 0, \"ticks\": \"\"}, \"colorscale\": [[0.0, \"#0d0887\"], [0.1111111111111111, \"#46039f\"], [0.2222222222222222, \"#7201a8\"], [0.3333333333333333, \"#9c179e\"], [0.4444444444444444, \"#bd3786\"], [0.5555555555555556, \"#d8576b\"], [0.6666666666666666, \"#ed7953\"], [0.7777777777777778, \"#fb9f3a\"], [0.8888888888888888, \"#fdca26\"], [1.0, \"#f0f921\"]], \"type\": \"histogram2d\"}], \"histogram2dcontour\": [{\"colorbar\": {\"outlinewidth\": 0, \"ticks\": \"\"}, \"colorscale\": [[0.0, \"#0d0887\"], [0.1111111111111111, \"#46039f\"], [0.2222222222222222, \"#7201a8\"], [0.3333333333333333, \"#9c179e\"], [0.4444444444444444, \"#bd3786\"], [0.5555555555555556, \"#d8576b\"], [0.6666666666666666, \"#ed7953\"], [0.7777777777777778, \"#fb9f3a\"], [0.8888888888888888, \"#fdca26\"], [1.0, \"#f0f921\"]], \"type\": \"histogram2dcontour\"}], \"mesh3d\": [{\"colorbar\": {\"outlinewidth\": 0, \"ticks\": \"\"}, \"type\": \"mesh3d\"}], \"parcoords\": [{\"line\": {\"colorbar\": {\"outlinewidth\": 0, \"ticks\": \"\"}}, \"type\": \"parcoords\"}], \"pie\": [{\"automargin\": true, \"type\": \"pie\"}], \"scatter\": [{\"marker\": {\"colorbar\": {\"outlinewidth\": 0, \"ticks\": \"\"}}, \"type\": \"scatter\"}], \"scatter3d\": [{\"line\": {\"colorbar\": {\"outlinewidth\": 0, \"ticks\": \"\"}}, \"marker\": {\"colorbar\": {\"outlinewidth\": 0, \"ticks\": \"\"}}, \"type\": \"scatter3d\"}], \"scattercarpet\": [{\"marker\": {\"colorbar\": {\"outlinewidth\": 0, \"ticks\": \"\"}}, \"type\": \"scattercarpet\"}], \"scattergeo\": [{\"marker\": {\"colorbar\": {\"outlinewidth\": 0, \"ticks\": \"\"}}, \"type\": \"scattergeo\"}], \"scattergl\": [{\"marker\": {\"colorbar\": {\"outlinewidth\": 0, \"ticks\": \"\"}}, \"type\": \"scattergl\"}], \"scattermapbox\": [{\"marker\": {\"colorbar\": {\"outlinewidth\": 0, \"ticks\": \"\"}}, \"type\": \"scattermapbox\"}], \"scatterpolar\": [{\"marker\": {\"colorbar\": {\"outlinewidth\": 0, \"ticks\": \"\"}}, \"type\": \"scatterpolar\"}], \"scatterpolargl\": [{\"marker\": {\"colorbar\": {\"outlinewidth\": 0, \"ticks\": \"\"}}, \"type\": \"scatterpolargl\"}], \"scatterternary\": [{\"marker\": {\"colorbar\": {\"outlinewidth\": 0, \"ticks\": \"\"}}, \"type\": \"scatterternary\"}], \"surface\": [{\"colorbar\": {\"outlinewidth\": 0, \"ticks\": \"\"}, \"colorscale\": [[0.0, \"#0d0887\"], [0.1111111111111111, \"#46039f\"], [0.2222222222222222, \"#7201a8\"], [0.3333333333333333, \"#9c179e\"], [0.4444444444444444, \"#bd3786\"], [0.5555555555555556, \"#d8576b\"], [0.6666666666666666, \"#ed7953\"], [0.7777777777777778, \"#fb9f3a\"], [0.8888888888888888, \"#fdca26\"], [1.0, \"#f0f921\"]], \"type\": \"surface\"}], \"table\": [{\"cells\": {\"fill\": {\"color\": \"#EBF0F8\"}, \"line\": {\"color\": \"white\"}}, \"header\": {\"fill\": {\"color\": \"#C8D4E3\"}, \"line\": {\"color\": \"white\"}}, \"type\": \"table\"}]}, \"layout\": {\"annotationdefaults\": {\"arrowcolor\": \"#2a3f5f\", \"arrowhead\": 0, \"arrowwidth\": 1}, \"autotypenumbers\": \"strict\", \"coloraxis\": {\"colorbar\": {\"outlinewidth\": 0, \"ticks\": \"\"}}, \"colorscale\": {\"diverging\": [[0, \"#8e0152\"], [0.1, \"#c51b7d\"], [0.2, \"#de77ae\"], [0.3, \"#f1b6da\"], [0.4, \"#fde0ef\"], [0.5, \"#f7f7f7\"], [0.6, \"#e6f5d0\"], [0.7, \"#b8e186\"], [0.8, \"#7fbc41\"], [0.9, \"#4d9221\"], [1, \"#276419\"]], \"sequential\": [[0.0, \"#0d0887\"], [0.1111111111111111, \"#46039f\"], [0.2222222222222222, \"#7201a8\"], [0.3333333333333333, \"#9c179e\"], [0.4444444444444444, \"#bd3786\"], [0.5555555555555556, \"#d8576b\"], [0.6666666666666666, \"#ed7953\"], [0.7777777777777778, \"#fb9f3a\"], [0.8888888888888888, \"#fdca26\"], [1.0, \"#f0f921\"]], \"sequentialminus\": [[0.0, \"#0d0887\"], [0.1111111111111111, \"#46039f\"], [0.2222222222222222, \"#7201a8\"], [0.3333333333333333, \"#9c179e\"], [0.4444444444444444, \"#bd3786\"], [0.5555555555555556, \"#d8576b\"], [0.6666666666666666, \"#ed7953\"], [0.7777777777777778, \"#fb9f3a\"], [0.8888888888888888, \"#fdca26\"], [1.0, \"#f0f921\"]]}, \"colorway\": [\"#636efa\", \"#EF553B\", \"#00cc96\", \"#ab63fa\", \"#FFA15A\", \"#19d3f3\", \"#FF6692\", \"#B6E880\", \"#FF97FF\", \"#FECB52\"], \"font\": {\"color\": \"#2a3f5f\"}, \"geo\": {\"bgcolor\": \"white\", \"lakecolor\": \"white\", \"landcolor\": \"#E5ECF6\", \"showlakes\": true, \"showland\": true, \"subunitcolor\": \"white\"}, \"hoverlabel\": {\"align\": \"left\"}, \"hovermode\": \"closest\", \"mapbox\": {\"style\": \"light\"}, \"paper_bgcolor\": \"white\", \"plot_bgcolor\": \"#E5ECF6\", \"polar\": {\"angularaxis\": {\"gridcolor\": \"white\", \"linecolor\": \"white\", \"ticks\": \"\"}, \"bgcolor\": \"#E5ECF6\", \"radialaxis\": {\"gridcolor\": \"white\", \"linecolor\": \"white\", \"ticks\": \"\"}}, \"scene\": {\"xaxis\": {\"backgroundcolor\": \"#E5ECF6\", \"gridcolor\": \"white\", \"gridwidth\": 2, \"linecolor\": \"white\", \"showbackground\": true, \"ticks\": \"\", \"zerolinecolor\": \"white\"}, \"yaxis\": {\"backgroundcolor\": \"#E5ECF6\", \"gridcolor\": \"white\", \"gridwidth\": 2, \"linecolor\": \"white\", \"showbackground\": true, \"ticks\": \"\", \"zerolinecolor\": \"white\"}, \"zaxis\": {\"backgroundcolor\": \"#E5ECF6\", \"gridcolor\": \"white\", \"gridwidth\": 2, \"linecolor\": \"white\", \"showbackground\": true, \"ticks\": \"\", \"zerolinecolor\": \"white\"}}, \"shapedefaults\": {\"line\": {\"color\": \"#2a3f5f\"}}, \"ternary\": {\"aaxis\": {\"gridcolor\": \"white\", \"linecolor\": \"white\", \"ticks\": \"\"}, \"baxis\": {\"gridcolor\": \"white\", \"linecolor\": \"white\", \"ticks\": \"\"}, \"bgcolor\": \"#E5ECF6\", \"caxis\": {\"gridcolor\": \"white\", \"linecolor\": \"white\", \"ticks\": \"\"}}, \"title\": {\"x\": 0.05}, \"xaxis\": {\"automargin\": true, \"gridcolor\": \"white\", \"linecolor\": \"white\", \"ticks\": \"\", \"title\": {\"standoff\": 15}, \"zerolinecolor\": \"white\", \"zerolinewidth\": 2}, \"yaxis\": {\"automargin\": true, \"gridcolor\": \"white\", \"linecolor\": \"white\", \"ticks\": \"\", \"title\": {\"standoff\": 15}, \"zerolinecolor\": \"white\", \"zerolinewidth\": 2}}}, \"title\": {\"text\": \"Average Trip duration Throughout The Day Across Vendors\"}, \"xaxis\": {\"gridcolor\": \"rgb(227, 227, 227)\", \"tickangle\": 45, \"tickmode\": \"array\", \"ticktext\": [\"0 hr\", \"1 hr\", \"2 hr\", \"3 hr\", \"4 hr\", \"5 hr\", \"6 hr\", \"7 hr\", \"8 hr\", \"9 hr\", \"10 hr\", \"11 hr\", \"12 hr\", \"13 hr\", \"14 hr\", \"15 hr\", \"16 hr\", \"17 hr\", \"18 hr\", \"19 hr\", \"20 hr\", \"21 hr\", \"22 hr\", \"23 hr\"], \"tickvals\": [0, 1, 2, 3, 4, 5, 6, 7, 8, 9, 10, 11, 12, 13, 14, 15, 16, 17, 18, 19, 20, 21, 22, 23], \"title\": {\"text\": \"Time\"}, \"zerolinecolor\": \"rgb(125, 125, 125)\", \"zerolinewidth\": 3}, \"yaxis\": {\"gridcolor\": \"rgb(227, 227, 227)\", \"title\": {\"text\": \"Average Trip Duration (in Minutes)\"}, \"zerolinecolor\": \"rgb(125, 125, 125)\", \"zerolinewidth\": 3}},                        {\"responsive\": true}                    ).then(function(){\n",
       "                            \n",
       "var gd = document.getElementById('91dae7e0-eef0-4b34-9de4-d2b9a72bfb26');\n",
       "var x = new MutationObserver(function (mutations, observer) {{\n",
       "        var display = window.getComputedStyle(gd).display;\n",
       "        if (!display || display === 'none') {{\n",
       "            console.log([gd, 'removed!']);\n",
       "            Plotly.purge(gd);\n",
       "            observer.disconnect();\n",
       "        }}\n",
       "}});\n",
       "\n",
       "// Listen for the removal of the full notebook cells\n",
       "var notebookContainer = gd.closest('#notebook-container');\n",
       "if (notebookContainer) {{\n",
       "    x.observe(notebookContainer, {childList: true});\n",
       "}}\n",
       "\n",
       "// Listen for the clearing of the current output cell\n",
       "var outputEl = gd.closest('.output');\n",
       "if (outputEl) {{\n",
       "    x.observe(outputEl, {childList: true});\n",
       "}}\n",
       "\n",
       "                        })                };                });            </script>        </div>"
      ]
     },
     "metadata": {},
     "output_type": "display_data"
    }
   ],
   "source": [
    "\n",
    "# fig4 = make_subplots(rows=2,cols=1, vertical_spacing=0.3)\n",
    "fig4 = go.Figure()\n",
    "fig4.add_trace(go.Scatter(x=ytrip_duration_df['pickup_hour'], y=ytrip_duration_df['dur'],mode='lines+markers',name='Yellow Taxi',line_color='rgba(255, 154, 31,100)'))\n",
    "fig4.add_trace(go.Scatter(x=ftrip_duration_df['pickup_hour'], y=ftrip_duration_df['dur'],mode='lines+markers',name='FHV Taxi',line_color='rgba(191, 19, 88,100)'))\n",
    "\n",
    "fig4.update_layout(\n",
    "    title=\"Average Trip duration Throughout The Day Across Vendors\",\n",
    "    legend_title=\"Taxi Type\",\n",
    "    plot_bgcolor='rgba(245, 245, 245 ,10)',\n",
    "    xaxis = dict(\n",
    "            tickmode = 'array',\n",
    "            tickvals = ticks,\n",
    "            ticktext = ticks_text,\n",
    "            tickangle = 45\n",
    "    )\n",
    ")\n",
    "\n",
    "fig4.update_xaxes(title_text=\"Time\",gridcolor= 'rgb(227, 227, 227)',zerolinewidth=3, \n",
    "            zerolinecolor='rgb(125, 125, 125)')\n",
    "fig4.update_yaxes(title_text=\"Average Trip Duration (in Minutes)\",gridcolor= 'rgb(227, 227, 227)',zerolinewidth=3, \n",
    "            zerolinecolor='rgb(125, 125, 125)')\n",
    "\n",
    "fig4.show()"
   ]
  },
  {
   "cell_type": "markdown",
   "id": "a3d75ab7",
   "metadata": {},
   "source": [
    "### Top 10 common routes"
   ]
  },
  {
   "cell_type": "code",
   "execution_count": 40,
   "id": "0fd36aac",
   "metadata": {},
   "outputs": [
    {
     "data": {
      "text/html": [
       "<table>\n",
       "<thead>\n",
       "<tr><th>#                                     </th><th>PULocationID  </th><th>DOLocationID  </th></tr>\n",
       "</thead>\n",
       "<tbody>\n",
       "<tr><td><i style='opacity: 0.6'>0</i>         </td><td>145           </td><td>145           </td></tr>\n",
       "<tr><td><i style='opacity: 0.6'>1</i>         </td><td>145           </td><td>145           </td></tr>\n",
       "<tr><td><i style='opacity: 0.6'>2</i>         </td><td>193           </td><td>193           </td></tr>\n",
       "<tr><td><i style='opacity: 0.6'>3</i>         </td><td>193           </td><td>193           </td></tr>\n",
       "<tr><td><i style='opacity: 0.6'>4</i>         </td><td>226           </td><td>226           </td></tr>\n",
       "<tr><td>...                                   </td><td>...           </td><td>...           </td></tr>\n",
       "<tr><td><i style='opacity: 0.6'>29,724,070</i></td><td>42            </td><td>3             </td></tr>\n",
       "<tr><td><i style='opacity: 0.6'>29,724,071</i></td><td>42            </td><td>74            </td></tr>\n",
       "<tr><td><i style='opacity: 0.6'>29,724,072</i></td><td>137           </td><td>4             </td></tr>\n",
       "<tr><td><i style='opacity: 0.6'>29,724,073</i></td><td>137           </td><td>198           </td></tr>\n",
       "<tr><td><i style='opacity: 0.6'>29,724,074</i></td><td>36            </td><td>65            </td></tr>\n",
       "</tbody>\n",
       "</table>"
      ],
      "text/plain": [
       "#           PULocationID    DOLocationID\n",
       "0           145             145\n",
       "1           145             145\n",
       "2           193             193\n",
       "3           193             193\n",
       "4           226             226\n",
       "...         ...             ...\n",
       "29,724,070  42              3\n",
       "29,724,071  42              74\n",
       "29,724,072  137             4\n",
       "29,724,073  137             198\n",
       "29,724,074  36              65"
      ]
     },
     "execution_count": 40,
     "metadata": {},
     "output_type": "execute_result"
    }
   ],
   "source": [
    "common_yellow = yellow_df['PULocationID','DOLocationID']\n",
    "common_yellow"
   ]
  },
  {
   "cell_type": "code",
   "execution_count": 41,
   "id": "ed6c0f0e",
   "metadata": {},
   "outputs": [
    {
     "data": {
      "text/html": [
       "<table>\n",
       "<thead>\n",
       "<tr><th>#                                      </th><th>PULocationID  </th><th>DOLocationID  </th></tr>\n",
       "</thead>\n",
       "<tbody>\n",
       "<tr><td><i style='opacity: 0.6'>0</i>          </td><td>230           </td><td>243           </td></tr>\n",
       "<tr><td><i style='opacity: 0.6'>1</i>          </td><td>148           </td><td>263           </td></tr>\n",
       "<tr><td><i style='opacity: 0.6'>2</i>          </td><td>180           </td><td>63            </td></tr>\n",
       "<tr><td><i style='opacity: 0.6'>3</i>          </td><td>180           </td><td>112           </td></tr>\n",
       "<tr><td><i style='opacity: 0.6'>4</i>          </td><td>90            </td><td>164           </td></tr>\n",
       "<tr><td>...                                    </td><td>...           </td><td>...           </td></tr>\n",
       "<tr><td><i style='opacity: 0.6'>103,878,655</i></td><td>78            </td><td>126           </td></tr>\n",
       "<tr><td><i style='opacity: 0.6'>103,878,656</i></td><td>167           </td><td>147           </td></tr>\n",
       "<tr><td><i style='opacity: 0.6'>103,878,657</i></td><td>147           </td><td>167           </td></tr>\n",
       "<tr><td><i style='opacity: 0.6'>103,878,658</i></td><td>260           </td><td>193           </td></tr>\n",
       "<tr><td><i style='opacity: 0.6'>103,878,659</i></td><td>140           </td><td>247           </td></tr>\n",
       "</tbody>\n",
       "</table>"
      ],
      "text/plain": [
       "#            PULocationID    DOLocationID\n",
       "0            230             243\n",
       "1            148             263\n",
       "2            180             63\n",
       "3            180             112\n",
       "4            90              164\n",
       "...          ...             ...\n",
       "103,878,655  78              126\n",
       "103,878,656  167             147\n",
       "103,878,657  147             167\n",
       "103,878,658  260             193\n",
       "103,878,659  140             247"
      ]
     },
     "execution_count": 41,
     "metadata": {},
     "output_type": "execute_result"
    }
   ],
   "source": [
    "common_fhv = fhv_df['PULocationID','DOLocationID']\n",
    "common_fhv"
   ]
  },
  {
   "cell_type": "code",
   "execution_count": 42,
   "id": "a7943370",
   "metadata": {},
   "outputs": [],
   "source": [
    "common_routes = common_yellow.concat(common_fhv)"
   ]
  },
  {
   "cell_type": "code",
   "execution_count": 43,
   "id": "1f4a490a",
   "metadata": {},
   "outputs": [],
   "source": [
    "common_routes = common_routes.groupby(by=['PULocationID','DOLocationID'],agg={ 'cnt' : vaex.agg.count() } )"
   ]
  },
  {
   "cell_type": "code",
   "execution_count": 44,
   "id": "bdc3a947",
   "metadata": {},
   "outputs": [],
   "source": [
    "common_routes = common_routes[common_routes['PULocationID']!=265 | common_routes['DOLocationID']!=265]"
   ]
  },
  {
   "cell_type": "code",
   "execution_count": 159,
   "id": "d810a8e2",
   "metadata": {},
   "outputs": [
    {
     "data": {
      "text/html": [
       "<div>\n",
       "<style scoped>\n",
       "    .dataframe tbody tr th:only-of-type {\n",
       "        vertical-align: middle;\n",
       "    }\n",
       "\n",
       "    .dataframe tbody tr th {\n",
       "        vertical-align: top;\n",
       "    }\n",
       "\n",
       "    .dataframe thead th {\n",
       "        text-align: right;\n",
       "    }\n",
       "</style>\n",
       "<table border=\"1\" class=\"dataframe\">\n",
       "  <thead>\n",
       "    <tr style=\"text-align: right;\">\n",
       "      <th></th>\n",
       "      <th>PULocationID</th>\n",
       "      <th>DOLocationID</th>\n",
       "      <th>cnt</th>\n",
       "    </tr>\n",
       "  </thead>\n",
       "  <tbody>\n",
       "    <tr>\n",
       "      <th>0</th>\n",
       "      <td>76</td>\n",
       "      <td>76</td>\n",
       "      <td>308274</td>\n",
       "    </tr>\n",
       "    <tr>\n",
       "      <th>1</th>\n",
       "      <td>237</td>\n",
       "      <td>236</td>\n",
       "      <td>262027</td>\n",
       "    </tr>\n",
       "    <tr>\n",
       "      <th>2</th>\n",
       "      <td>236</td>\n",
       "      <td>237</td>\n",
       "      <td>228318</td>\n",
       "    </tr>\n",
       "    <tr>\n",
       "      <th>3</th>\n",
       "      <td>26</td>\n",
       "      <td>26</td>\n",
       "      <td>218780</td>\n",
       "    </tr>\n",
       "    <tr>\n",
       "      <th>4</th>\n",
       "      <td>236</td>\n",
       "      <td>236</td>\n",
       "      <td>213755</td>\n",
       "    </tr>\n",
       "    <tr>\n",
       "      <th>5</th>\n",
       "      <td>237</td>\n",
       "      <td>237</td>\n",
       "      <td>204472</td>\n",
       "    </tr>\n",
       "    <tr>\n",
       "      <th>6</th>\n",
       "      <td>39</td>\n",
       "      <td>39</td>\n",
       "      <td>200136</td>\n",
       "    </tr>\n",
       "    <tr>\n",
       "      <th>7</th>\n",
       "      <td>61</td>\n",
       "      <td>61</td>\n",
       "      <td>192843</td>\n",
       "    </tr>\n",
       "    <tr>\n",
       "      <th>8</th>\n",
       "      <td>7</td>\n",
       "      <td>7</td>\n",
       "      <td>151265</td>\n",
       "    </tr>\n",
       "    <tr>\n",
       "      <th>9</th>\n",
       "      <td>129</td>\n",
       "      <td>129</td>\n",
       "      <td>148547</td>\n",
       "    </tr>\n",
       "  </tbody>\n",
       "</table>\n",
       "</div>"
      ],
      "text/plain": [
       "   PULocationID  DOLocationID     cnt\n",
       "0            76            76  308274\n",
       "1           237           236  262027\n",
       "2           236           237  228318\n",
       "3            26            26  218780\n",
       "4           236           236  213755\n",
       "5           237           237  204472\n",
       "6            39            39  200136\n",
       "7            61            61  192843\n",
       "8             7             7  151265\n",
       "9           129           129  148547"
      ]
     },
     "execution_count": 159,
     "metadata": {},
     "output_type": "execute_result"
    }
   ],
   "source": [
    "top10_common_routes = common_routes.sort('cnt',ascending=False).head(n=10)\n",
    "top10_common_routes = top10_common_routes.to_pandas_df()\n",
    "top10_common_routes"
   ]
  },
  {
   "cell_type": "code",
   "execution_count": 160,
   "id": "b0202d41",
   "metadata": {},
   "outputs": [],
   "source": [
    "import csv\n",
    "\n",
    "lookup_table = {}\n",
    "\n",
    "with open('taxi+_zone_lookup.csv') as f:\n",
    "    reader = csv.reader(f)\n",
    "    next(reader, None)\n",
    "    for line in reader:\n",
    "        lookup_table[int(line[0])] = line[2]"
   ]
  },
  {
   "cell_type": "code",
   "execution_count": 161,
   "id": "4d73b435",
   "metadata": {},
   "outputs": [],
   "source": [
    "top10_common_routes['Pickup_Location'] = top10_common_routes['PULocationID'].map(lookup_table)\n",
    "top10_common_routes['Dropoff_Location'] = top10_common_routes['DOLocationID'].map(lookup_table)\n",
    "\n",
    "top10_display = top10_common_routes[['Pickup_Location','Dropoff_Location','cnt']]\n",
    "top10_display.columns = ['Pickup Location', 'Dropoff Location', 'Count']"
   ]
  },
  {
   "cell_type": "code",
   "execution_count": 154,
   "id": "19d0175c",
   "metadata": {},
   "outputs": [],
   "source": [
    "\n"
   ]
  },
  {
   "cell_type": "code",
   "execution_count": 162,
   "id": "9d792828",
   "metadata": {},
   "outputs": [
    {
     "data": {
      "text/html": [
       "<div>\n",
       "<style scoped>\n",
       "    .dataframe tbody tr th:only-of-type {\n",
       "        vertical-align: middle;\n",
       "    }\n",
       "\n",
       "    .dataframe tbody tr th {\n",
       "        vertical-align: top;\n",
       "    }\n",
       "\n",
       "    .dataframe thead th {\n",
       "        text-align: right;\n",
       "    }\n",
       "</style>\n",
       "<table border=\"1\" class=\"dataframe\">\n",
       "  <thead>\n",
       "    <tr style=\"text-align: right;\">\n",
       "      <th></th>\n",
       "      <th>PULocationID</th>\n",
       "      <th>DOLocationID</th>\n",
       "      <th>cnt</th>\n",
       "      <th>Pickup_Location</th>\n",
       "      <th>Dropoff_Location</th>\n",
       "    </tr>\n",
       "  </thead>\n",
       "  <tbody>\n",
       "    <tr>\n",
       "      <th>0</th>\n",
       "      <td>76</td>\n",
       "      <td>76</td>\n",
       "      <td>308274</td>\n",
       "      <td>East New York</td>\n",
       "      <td>East New York</td>\n",
       "    </tr>\n",
       "    <tr>\n",
       "      <th>1</th>\n",
       "      <td>237</td>\n",
       "      <td>236</td>\n",
       "      <td>262027</td>\n",
       "      <td>Upper East Side South</td>\n",
       "      <td>Upper East Side North</td>\n",
       "    </tr>\n",
       "    <tr>\n",
       "      <th>2</th>\n",
       "      <td>236</td>\n",
       "      <td>237</td>\n",
       "      <td>228318</td>\n",
       "      <td>Upper East Side North</td>\n",
       "      <td>Upper East Side South</td>\n",
       "    </tr>\n",
       "    <tr>\n",
       "      <th>3</th>\n",
       "      <td>26</td>\n",
       "      <td>26</td>\n",
       "      <td>218780</td>\n",
       "      <td>Borough Park</td>\n",
       "      <td>Borough Park</td>\n",
       "    </tr>\n",
       "    <tr>\n",
       "      <th>4</th>\n",
       "      <td>236</td>\n",
       "      <td>236</td>\n",
       "      <td>213755</td>\n",
       "      <td>Upper East Side North</td>\n",
       "      <td>Upper East Side North</td>\n",
       "    </tr>\n",
       "    <tr>\n",
       "      <th>5</th>\n",
       "      <td>237</td>\n",
       "      <td>237</td>\n",
       "      <td>204472</td>\n",
       "      <td>Upper East Side South</td>\n",
       "      <td>Upper East Side South</td>\n",
       "    </tr>\n",
       "    <tr>\n",
       "      <th>6</th>\n",
       "      <td>39</td>\n",
       "      <td>39</td>\n",
       "      <td>200136</td>\n",
       "      <td>Canarsie</td>\n",
       "      <td>Canarsie</td>\n",
       "    </tr>\n",
       "    <tr>\n",
       "      <th>7</th>\n",
       "      <td>61</td>\n",
       "      <td>61</td>\n",
       "      <td>192843</td>\n",
       "      <td>Crown Heights North</td>\n",
       "      <td>Crown Heights North</td>\n",
       "    </tr>\n",
       "    <tr>\n",
       "      <th>8</th>\n",
       "      <td>7</td>\n",
       "      <td>7</td>\n",
       "      <td>151265</td>\n",
       "      <td>Astoria</td>\n",
       "      <td>Astoria</td>\n",
       "    </tr>\n",
       "    <tr>\n",
       "      <th>9</th>\n",
       "      <td>129</td>\n",
       "      <td>129</td>\n",
       "      <td>148547</td>\n",
       "      <td>Jackson Heights</td>\n",
       "      <td>Jackson Heights</td>\n",
       "    </tr>\n",
       "  </tbody>\n",
       "</table>\n",
       "</div>"
      ],
      "text/plain": [
       "   PULocationID  DOLocationID     cnt        Pickup_Location  \\\n",
       "0            76            76  308274          East New York   \n",
       "1           237           236  262027  Upper East Side South   \n",
       "2           236           237  228318  Upper East Side North   \n",
       "3            26            26  218780           Borough Park   \n",
       "4           236           236  213755  Upper East Side North   \n",
       "5           237           237  204472  Upper East Side South   \n",
       "6            39            39  200136               Canarsie   \n",
       "7            61            61  192843    Crown Heights North   \n",
       "8             7             7  151265                Astoria   \n",
       "9           129           129  148547        Jackson Heights   \n",
       "\n",
       "        Dropoff_Location  \n",
       "0          East New York  \n",
       "1  Upper East Side North  \n",
       "2  Upper East Side South  \n",
       "3           Borough Park  \n",
       "4  Upper East Side North  \n",
       "5  Upper East Side South  \n",
       "6               Canarsie  \n",
       "7    Crown Heights North  \n",
       "8                Astoria  \n",
       "9        Jackson Heights  "
      ]
     },
     "execution_count": 162,
     "metadata": {},
     "output_type": "execute_result"
    }
   ],
   "source": [
    "top10_common_routes"
   ]
  },
  {
   "cell_type": "code",
   "execution_count": 219,
   "id": "85bb0ca4",
   "metadata": {},
   "outputs": [
    {
     "data": {
      "application/vnd.plotly.v1+json": {
       "config": {
        "plotlyServerURL": "https://plot.ly"
       },
       "data": [
        {
         "cells": {
          "align": "center",
          "fill": {
           "color": [
            [
             "rgb(171.0, 171.0, 171.0)",
             "rgb(180.33333333333334, 180.33333333333334, 180.33333333333334)",
             "rgb(189.66666666666666, 189.66666666666666, 189.66666666666666)",
             "rgb(199.0, 199.0, 199.0)",
             "rgb(208.33333333333334, 208.33333333333334, 208.33333333333334)",
             "rgb(217.66666666666669, 217.66666666666669, 217.66666666666669)",
             "rgb(227.0, 227.0, 227.0)",
             "rgb(236.33333333333334, 236.33333333333334, 236.33333333333334)",
             "rgb(245.66666666666669, 245.66666666666669, 245.66666666666669)",
             "rgb(255.0, 255.0, 255.0)"
            ],
            [
             "rgb(171.0, 171.0, 171.0)",
             "rgb(180.33333333333334, 180.33333333333334, 180.33333333333334)",
             "rgb(189.66666666666666, 189.66666666666666, 189.66666666666666)",
             "rgb(199.0, 199.0, 199.0)",
             "rgb(208.33333333333334, 208.33333333333334, 208.33333333333334)",
             "rgb(217.66666666666669, 217.66666666666669, 217.66666666666669)",
             "rgb(227.0, 227.0, 227.0)",
             "rgb(236.33333333333334, 236.33333333333334, 236.33333333333334)",
             "rgb(245.66666666666669, 245.66666666666669, 245.66666666666669)",
             "rgb(255.0, 255.0, 255.0)"
            ],
            [
             "rgb(232.0, 79.0, 115.0)",
             "rgb(234.55555555555554, 97.22222222222223, 119.55555555555556)",
             "rgb(237.11111111111111, 115.44444444444444, 124.11111111111111)",
             "rgb(239.66666666666666, 133.66666666666666, 128.66666666666666)",
             "rgb(242.22222222222223, 151.88888888888889, 133.22222222222223)",
             "rgb(244.77777777777777, 170.11111111111111, 137.77777777777777)",
             "rgb(247.33333333333334, 188.33333333333331, 142.33333333333334)",
             "rgb(249.88888888888889, 206.55555555555554, 146.88888888888889)",
             "rgb(252.44444444444446, 224.77777777777777, 151.44444444444446)",
             "rgb(255.0, 243.0, 156.0)"
            ]
           ]
          },
          "font": {
           "color": "black",
           "family": "Arial",
           "size": 14
          },
          "height": 30,
          "line": {
           "color": "black"
          },
          "values": [
           [
            "East New York",
            "Upper East Side South",
            "Upper East Side North",
            "Borough Park",
            "Upper East Side North",
            "Upper East Side South",
            "Canarsie",
            "Crown Heights North",
            "Astoria",
            "Jackson Heights"
           ],
           [
            "East New York",
            "Upper East Side North",
            "Upper East Side South",
            "Borough Park",
            "Upper East Side North",
            "Upper East Side South",
            "Canarsie",
            "Crown Heights North",
            "Astoria",
            "Jackson Heights"
           ],
           [
            308274,
            262027,
            228318,
            218780,
            213755,
            204472,
            200136,
            192843,
            151265,
            148547
           ]
          ]
         },
         "header": {
          "align": "center",
          "fill": {
           "color": [
            "rgb(51, 51, 51)"
           ]
          },
          "font": {
           "color": "white",
           "size": 14
          },
          "line": {
           "color": "black"
          },
          "values": [
           "Pickup Location",
           "Dropoff Location",
           "Count"
          ]
         },
         "type": "table"
        }
       ],
       "layout": {
        "template": {
         "data": {
          "bar": [
           {
            "error_x": {
             "color": "#2a3f5f"
            },
            "error_y": {
             "color": "#2a3f5f"
            },
            "marker": {
             "line": {
              "color": "#E5ECF6",
              "width": 0.5
             }
            },
            "type": "bar"
           }
          ],
          "barpolar": [
           {
            "marker": {
             "line": {
              "color": "#E5ECF6",
              "width": 0.5
             }
            },
            "type": "barpolar"
           }
          ],
          "carpet": [
           {
            "aaxis": {
             "endlinecolor": "#2a3f5f",
             "gridcolor": "white",
             "linecolor": "white",
             "minorgridcolor": "white",
             "startlinecolor": "#2a3f5f"
            },
            "baxis": {
             "endlinecolor": "#2a3f5f",
             "gridcolor": "white",
             "linecolor": "white",
             "minorgridcolor": "white",
             "startlinecolor": "#2a3f5f"
            },
            "type": "carpet"
           }
          ],
          "choropleth": [
           {
            "colorbar": {
             "outlinewidth": 0,
             "ticks": ""
            },
            "type": "choropleth"
           }
          ],
          "contour": [
           {
            "colorbar": {
             "outlinewidth": 0,
             "ticks": ""
            },
            "colorscale": [
             [
              0,
              "#0d0887"
             ],
             [
              0.1111111111111111,
              "#46039f"
             ],
             [
              0.2222222222222222,
              "#7201a8"
             ],
             [
              0.3333333333333333,
              "#9c179e"
             ],
             [
              0.4444444444444444,
              "#bd3786"
             ],
             [
              0.5555555555555556,
              "#d8576b"
             ],
             [
              0.6666666666666666,
              "#ed7953"
             ],
             [
              0.7777777777777778,
              "#fb9f3a"
             ],
             [
              0.8888888888888888,
              "#fdca26"
             ],
             [
              1,
              "#f0f921"
             ]
            ],
            "type": "contour"
           }
          ],
          "contourcarpet": [
           {
            "colorbar": {
             "outlinewidth": 0,
             "ticks": ""
            },
            "type": "contourcarpet"
           }
          ],
          "heatmap": [
           {
            "colorbar": {
             "outlinewidth": 0,
             "ticks": ""
            },
            "colorscale": [
             [
              0,
              "#0d0887"
             ],
             [
              0.1111111111111111,
              "#46039f"
             ],
             [
              0.2222222222222222,
              "#7201a8"
             ],
             [
              0.3333333333333333,
              "#9c179e"
             ],
             [
              0.4444444444444444,
              "#bd3786"
             ],
             [
              0.5555555555555556,
              "#d8576b"
             ],
             [
              0.6666666666666666,
              "#ed7953"
             ],
             [
              0.7777777777777778,
              "#fb9f3a"
             ],
             [
              0.8888888888888888,
              "#fdca26"
             ],
             [
              1,
              "#f0f921"
             ]
            ],
            "type": "heatmap"
           }
          ],
          "heatmapgl": [
           {
            "colorbar": {
             "outlinewidth": 0,
             "ticks": ""
            },
            "colorscale": [
             [
              0,
              "#0d0887"
             ],
             [
              0.1111111111111111,
              "#46039f"
             ],
             [
              0.2222222222222222,
              "#7201a8"
             ],
             [
              0.3333333333333333,
              "#9c179e"
             ],
             [
              0.4444444444444444,
              "#bd3786"
             ],
             [
              0.5555555555555556,
              "#d8576b"
             ],
             [
              0.6666666666666666,
              "#ed7953"
             ],
             [
              0.7777777777777778,
              "#fb9f3a"
             ],
             [
              0.8888888888888888,
              "#fdca26"
             ],
             [
              1,
              "#f0f921"
             ]
            ],
            "type": "heatmapgl"
           }
          ],
          "histogram": [
           {
            "marker": {
             "colorbar": {
              "outlinewidth": 0,
              "ticks": ""
             }
            },
            "type": "histogram"
           }
          ],
          "histogram2d": [
           {
            "colorbar": {
             "outlinewidth": 0,
             "ticks": ""
            },
            "colorscale": [
             [
              0,
              "#0d0887"
             ],
             [
              0.1111111111111111,
              "#46039f"
             ],
             [
              0.2222222222222222,
              "#7201a8"
             ],
             [
              0.3333333333333333,
              "#9c179e"
             ],
             [
              0.4444444444444444,
              "#bd3786"
             ],
             [
              0.5555555555555556,
              "#d8576b"
             ],
             [
              0.6666666666666666,
              "#ed7953"
             ],
             [
              0.7777777777777778,
              "#fb9f3a"
             ],
             [
              0.8888888888888888,
              "#fdca26"
             ],
             [
              1,
              "#f0f921"
             ]
            ],
            "type": "histogram2d"
           }
          ],
          "histogram2dcontour": [
           {
            "colorbar": {
             "outlinewidth": 0,
             "ticks": ""
            },
            "colorscale": [
             [
              0,
              "#0d0887"
             ],
             [
              0.1111111111111111,
              "#46039f"
             ],
             [
              0.2222222222222222,
              "#7201a8"
             ],
             [
              0.3333333333333333,
              "#9c179e"
             ],
             [
              0.4444444444444444,
              "#bd3786"
             ],
             [
              0.5555555555555556,
              "#d8576b"
             ],
             [
              0.6666666666666666,
              "#ed7953"
             ],
             [
              0.7777777777777778,
              "#fb9f3a"
             ],
             [
              0.8888888888888888,
              "#fdca26"
             ],
             [
              1,
              "#f0f921"
             ]
            ],
            "type": "histogram2dcontour"
           }
          ],
          "mesh3d": [
           {
            "colorbar": {
             "outlinewidth": 0,
             "ticks": ""
            },
            "type": "mesh3d"
           }
          ],
          "parcoords": [
           {
            "line": {
             "colorbar": {
              "outlinewidth": 0,
              "ticks": ""
             }
            },
            "type": "parcoords"
           }
          ],
          "pie": [
           {
            "automargin": true,
            "type": "pie"
           }
          ],
          "scatter": [
           {
            "marker": {
             "colorbar": {
              "outlinewidth": 0,
              "ticks": ""
             }
            },
            "type": "scatter"
           }
          ],
          "scatter3d": [
           {
            "line": {
             "colorbar": {
              "outlinewidth": 0,
              "ticks": ""
             }
            },
            "marker": {
             "colorbar": {
              "outlinewidth": 0,
              "ticks": ""
             }
            },
            "type": "scatter3d"
           }
          ],
          "scattercarpet": [
           {
            "marker": {
             "colorbar": {
              "outlinewidth": 0,
              "ticks": ""
             }
            },
            "type": "scattercarpet"
           }
          ],
          "scattergeo": [
           {
            "marker": {
             "colorbar": {
              "outlinewidth": 0,
              "ticks": ""
             }
            },
            "type": "scattergeo"
           }
          ],
          "scattergl": [
           {
            "marker": {
             "colorbar": {
              "outlinewidth": 0,
              "ticks": ""
             }
            },
            "type": "scattergl"
           }
          ],
          "scattermapbox": [
           {
            "marker": {
             "colorbar": {
              "outlinewidth": 0,
              "ticks": ""
             }
            },
            "type": "scattermapbox"
           }
          ],
          "scatterpolar": [
           {
            "marker": {
             "colorbar": {
              "outlinewidth": 0,
              "ticks": ""
             }
            },
            "type": "scatterpolar"
           }
          ],
          "scatterpolargl": [
           {
            "marker": {
             "colorbar": {
              "outlinewidth": 0,
              "ticks": ""
             }
            },
            "type": "scatterpolargl"
           }
          ],
          "scatterternary": [
           {
            "marker": {
             "colorbar": {
              "outlinewidth": 0,
              "ticks": ""
             }
            },
            "type": "scatterternary"
           }
          ],
          "surface": [
           {
            "colorbar": {
             "outlinewidth": 0,
             "ticks": ""
            },
            "colorscale": [
             [
              0,
              "#0d0887"
             ],
             [
              0.1111111111111111,
              "#46039f"
             ],
             [
              0.2222222222222222,
              "#7201a8"
             ],
             [
              0.3333333333333333,
              "#9c179e"
             ],
             [
              0.4444444444444444,
              "#bd3786"
             ],
             [
              0.5555555555555556,
              "#d8576b"
             ],
             [
              0.6666666666666666,
              "#ed7953"
             ],
             [
              0.7777777777777778,
              "#fb9f3a"
             ],
             [
              0.8888888888888888,
              "#fdca26"
             ],
             [
              1,
              "#f0f921"
             ]
            ],
            "type": "surface"
           }
          ],
          "table": [
           {
            "cells": {
             "fill": {
              "color": "#EBF0F8"
             },
             "line": {
              "color": "white"
             }
            },
            "header": {
             "fill": {
              "color": "#C8D4E3"
             },
             "line": {
              "color": "white"
             }
            },
            "type": "table"
           }
          ]
         },
         "layout": {
          "annotationdefaults": {
           "arrowcolor": "#2a3f5f",
           "arrowhead": 0,
           "arrowwidth": 1
          },
          "autotypenumbers": "strict",
          "coloraxis": {
           "colorbar": {
            "outlinewidth": 0,
            "ticks": ""
           }
          },
          "colorscale": {
           "diverging": [
            [
             0,
             "#8e0152"
            ],
            [
             0.1,
             "#c51b7d"
            ],
            [
             0.2,
             "#de77ae"
            ],
            [
             0.3,
             "#f1b6da"
            ],
            [
             0.4,
             "#fde0ef"
            ],
            [
             0.5,
             "#f7f7f7"
            ],
            [
             0.6,
             "#e6f5d0"
            ],
            [
             0.7,
             "#b8e186"
            ],
            [
             0.8,
             "#7fbc41"
            ],
            [
             0.9,
             "#4d9221"
            ],
            [
             1,
             "#276419"
            ]
           ],
           "sequential": [
            [
             0,
             "#0d0887"
            ],
            [
             0.1111111111111111,
             "#46039f"
            ],
            [
             0.2222222222222222,
             "#7201a8"
            ],
            [
             0.3333333333333333,
             "#9c179e"
            ],
            [
             0.4444444444444444,
             "#bd3786"
            ],
            [
             0.5555555555555556,
             "#d8576b"
            ],
            [
             0.6666666666666666,
             "#ed7953"
            ],
            [
             0.7777777777777778,
             "#fb9f3a"
            ],
            [
             0.8888888888888888,
             "#fdca26"
            ],
            [
             1,
             "#f0f921"
            ]
           ],
           "sequentialminus": [
            [
             0,
             "#0d0887"
            ],
            [
             0.1111111111111111,
             "#46039f"
            ],
            [
             0.2222222222222222,
             "#7201a8"
            ],
            [
             0.3333333333333333,
             "#9c179e"
            ],
            [
             0.4444444444444444,
             "#bd3786"
            ],
            [
             0.5555555555555556,
             "#d8576b"
            ],
            [
             0.6666666666666666,
             "#ed7953"
            ],
            [
             0.7777777777777778,
             "#fb9f3a"
            ],
            [
             0.8888888888888888,
             "#fdca26"
            ],
            [
             1,
             "#f0f921"
            ]
           ]
          },
          "colorway": [
           "#636efa",
           "#EF553B",
           "#00cc96",
           "#ab63fa",
           "#FFA15A",
           "#19d3f3",
           "#FF6692",
           "#B6E880",
           "#FF97FF",
           "#FECB52"
          ],
          "font": {
           "color": "#2a3f5f"
          },
          "geo": {
           "bgcolor": "white",
           "lakecolor": "white",
           "landcolor": "#E5ECF6",
           "showlakes": true,
           "showland": true,
           "subunitcolor": "white"
          },
          "hoverlabel": {
           "align": "left"
          },
          "hovermode": "closest",
          "mapbox": {
           "style": "light"
          },
          "paper_bgcolor": "white",
          "plot_bgcolor": "#E5ECF6",
          "polar": {
           "angularaxis": {
            "gridcolor": "white",
            "linecolor": "white",
            "ticks": ""
           },
           "bgcolor": "#E5ECF6",
           "radialaxis": {
            "gridcolor": "white",
            "linecolor": "white",
            "ticks": ""
           }
          },
          "scene": {
           "xaxis": {
            "backgroundcolor": "#E5ECF6",
            "gridcolor": "white",
            "gridwidth": 2,
            "linecolor": "white",
            "showbackground": true,
            "ticks": "",
            "zerolinecolor": "white"
           },
           "yaxis": {
            "backgroundcolor": "#E5ECF6",
            "gridcolor": "white",
            "gridwidth": 2,
            "linecolor": "white",
            "showbackground": true,
            "ticks": "",
            "zerolinecolor": "white"
           },
           "zaxis": {
            "backgroundcolor": "#E5ECF6",
            "gridcolor": "white",
            "gridwidth": 2,
            "linecolor": "white",
            "showbackground": true,
            "ticks": "",
            "zerolinecolor": "white"
           }
          },
          "shapedefaults": {
           "line": {
            "color": "#2a3f5f"
           }
          },
          "ternary": {
           "aaxis": {
            "gridcolor": "white",
            "linecolor": "white",
            "ticks": ""
           },
           "baxis": {
            "gridcolor": "white",
            "linecolor": "white",
            "ticks": ""
           },
           "bgcolor": "#E5ECF6",
           "caxis": {
            "gridcolor": "white",
            "linecolor": "white",
            "ticks": ""
           }
          },
          "title": {
           "x": 0.05
          },
          "xaxis": {
           "automargin": true,
           "gridcolor": "white",
           "linecolor": "white",
           "ticks": "",
           "title": {
            "standoff": 15
           },
           "zerolinecolor": "white",
           "zerolinewidth": 2
          },
          "yaxis": {
           "automargin": true,
           "gridcolor": "white",
           "linecolor": "white",
           "ticks": "",
           "title": {
            "standoff": 15
           },
           "zerolinecolor": "white",
           "zerolinewidth": 2
          }
         }
        }
       }
      },
      "text/html": [
       "<div>                            <div id=\"ee4e9aff-3366-4d62-a5a6-eca665560376\" class=\"plotly-graph-div\" style=\"height:525px; width:100%;\"></div>            <script type=\"text/javascript\">                require([\"plotly\"], function(Plotly) {                    window.PLOTLYENV=window.PLOTLYENV || {};                                    if (document.getElementById(\"ee4e9aff-3366-4d62-a5a6-eca665560376\")) {                    Plotly.newPlot(                        \"ee4e9aff-3366-4d62-a5a6-eca665560376\",                        [{\"cells\": {\"align\": \"center\", \"fill\": {\"color\": [[\"rgb(171.0, 171.0, 171.0)\", \"rgb(180.33333333333334, 180.33333333333334, 180.33333333333334)\", \"rgb(189.66666666666666, 189.66666666666666, 189.66666666666666)\", \"rgb(199.0, 199.0, 199.0)\", \"rgb(208.33333333333334, 208.33333333333334, 208.33333333333334)\", \"rgb(217.66666666666669, 217.66666666666669, 217.66666666666669)\", \"rgb(227.0, 227.0, 227.0)\", \"rgb(236.33333333333334, 236.33333333333334, 236.33333333333334)\", \"rgb(245.66666666666669, 245.66666666666669, 245.66666666666669)\", \"rgb(255.0, 255.0, 255.0)\"], [\"rgb(171.0, 171.0, 171.0)\", \"rgb(180.33333333333334, 180.33333333333334, 180.33333333333334)\", \"rgb(189.66666666666666, 189.66666666666666, 189.66666666666666)\", \"rgb(199.0, 199.0, 199.0)\", \"rgb(208.33333333333334, 208.33333333333334, 208.33333333333334)\", \"rgb(217.66666666666669, 217.66666666666669, 217.66666666666669)\", \"rgb(227.0, 227.0, 227.0)\", \"rgb(236.33333333333334, 236.33333333333334, 236.33333333333334)\", \"rgb(245.66666666666669, 245.66666666666669, 245.66666666666669)\", \"rgb(255.0, 255.0, 255.0)\"], [\"rgb(232.0, 79.0, 115.0)\", \"rgb(234.55555555555554, 97.22222222222223, 119.55555555555556)\", \"rgb(237.11111111111111, 115.44444444444444, 124.11111111111111)\", \"rgb(239.66666666666666, 133.66666666666666, 128.66666666666666)\", \"rgb(242.22222222222223, 151.88888888888889, 133.22222222222223)\", \"rgb(244.77777777777777, 170.11111111111111, 137.77777777777777)\", \"rgb(247.33333333333334, 188.33333333333331, 142.33333333333334)\", \"rgb(249.88888888888889, 206.55555555555554, 146.88888888888889)\", \"rgb(252.44444444444446, 224.77777777777777, 151.44444444444446)\", \"rgb(255.0, 243.0, 156.0)\"]]}, \"font\": {\"color\": \"black\", \"family\": \"Arial\", \"size\": 14}, \"height\": 30, \"line\": {\"color\": \"black\"}, \"values\": [[\"East New York\", \"Upper East Side South\", \"Upper East Side North\", \"Borough Park\", \"Upper East Side North\", \"Upper East Side South\", \"Canarsie\", \"Crown Heights North\", \"Astoria\", \"Jackson Heights\"], [\"East New York\", \"Upper East Side North\", \"Upper East Side South\", \"Borough Park\", \"Upper East Side North\", \"Upper East Side South\", \"Canarsie\", \"Crown Heights North\", \"Astoria\", \"Jackson Heights\"], [308274, 262027, 228318, 218780, 213755, 204472, 200136, 192843, 151265, 148547]]}, \"header\": {\"align\": \"center\", \"fill\": {\"color\": [\"rgb(51, 51, 51)\"]}, \"font\": {\"color\": \"white\", \"size\": 14}, \"line\": {\"color\": \"black\"}, \"values\": [\"Pickup Location\", \"Dropoff Location\", \"Count\"]}, \"type\": \"table\"}],                        {\"template\": {\"data\": {\"bar\": [{\"error_x\": {\"color\": \"#2a3f5f\"}, \"error_y\": {\"color\": \"#2a3f5f\"}, \"marker\": {\"line\": {\"color\": \"#E5ECF6\", \"width\": 0.5}}, \"type\": \"bar\"}], \"barpolar\": [{\"marker\": {\"line\": {\"color\": \"#E5ECF6\", \"width\": 0.5}}, \"type\": \"barpolar\"}], \"carpet\": [{\"aaxis\": {\"endlinecolor\": \"#2a3f5f\", \"gridcolor\": \"white\", \"linecolor\": \"white\", \"minorgridcolor\": \"white\", \"startlinecolor\": \"#2a3f5f\"}, \"baxis\": {\"endlinecolor\": \"#2a3f5f\", \"gridcolor\": \"white\", \"linecolor\": \"white\", \"minorgridcolor\": \"white\", \"startlinecolor\": \"#2a3f5f\"}, \"type\": \"carpet\"}], \"choropleth\": [{\"colorbar\": {\"outlinewidth\": 0, \"ticks\": \"\"}, \"type\": \"choropleth\"}], \"contour\": [{\"colorbar\": {\"outlinewidth\": 0, \"ticks\": \"\"}, \"colorscale\": [[0.0, \"#0d0887\"], [0.1111111111111111, \"#46039f\"], [0.2222222222222222, \"#7201a8\"], [0.3333333333333333, \"#9c179e\"], [0.4444444444444444, \"#bd3786\"], [0.5555555555555556, \"#d8576b\"], [0.6666666666666666, \"#ed7953\"], [0.7777777777777778, \"#fb9f3a\"], [0.8888888888888888, \"#fdca26\"], [1.0, \"#f0f921\"]], \"type\": \"contour\"}], \"contourcarpet\": [{\"colorbar\": {\"outlinewidth\": 0, \"ticks\": \"\"}, \"type\": \"contourcarpet\"}], \"heatmap\": [{\"colorbar\": {\"outlinewidth\": 0, \"ticks\": \"\"}, \"colorscale\": [[0.0, \"#0d0887\"], [0.1111111111111111, \"#46039f\"], [0.2222222222222222, \"#7201a8\"], [0.3333333333333333, \"#9c179e\"], [0.4444444444444444, \"#bd3786\"], [0.5555555555555556, \"#d8576b\"], [0.6666666666666666, \"#ed7953\"], [0.7777777777777778, \"#fb9f3a\"], [0.8888888888888888, \"#fdca26\"], [1.0, \"#f0f921\"]], \"type\": \"heatmap\"}], \"heatmapgl\": [{\"colorbar\": {\"outlinewidth\": 0, \"ticks\": \"\"}, \"colorscale\": [[0.0, \"#0d0887\"], [0.1111111111111111, \"#46039f\"], [0.2222222222222222, \"#7201a8\"], [0.3333333333333333, \"#9c179e\"], [0.4444444444444444, \"#bd3786\"], [0.5555555555555556, \"#d8576b\"], [0.6666666666666666, \"#ed7953\"], [0.7777777777777778, \"#fb9f3a\"], [0.8888888888888888, \"#fdca26\"], [1.0, \"#f0f921\"]], \"type\": \"heatmapgl\"}], \"histogram\": [{\"marker\": {\"colorbar\": {\"outlinewidth\": 0, \"ticks\": \"\"}}, \"type\": \"histogram\"}], \"histogram2d\": [{\"colorbar\": {\"outlinewidth\": 0, \"ticks\": \"\"}, \"colorscale\": [[0.0, \"#0d0887\"], [0.1111111111111111, \"#46039f\"], [0.2222222222222222, \"#7201a8\"], [0.3333333333333333, \"#9c179e\"], [0.4444444444444444, \"#bd3786\"], [0.5555555555555556, \"#d8576b\"], [0.6666666666666666, \"#ed7953\"], [0.7777777777777778, \"#fb9f3a\"], [0.8888888888888888, \"#fdca26\"], [1.0, \"#f0f921\"]], \"type\": \"histogram2d\"}], \"histogram2dcontour\": [{\"colorbar\": {\"outlinewidth\": 0, \"ticks\": \"\"}, \"colorscale\": [[0.0, \"#0d0887\"], [0.1111111111111111, \"#46039f\"], [0.2222222222222222, \"#7201a8\"], [0.3333333333333333, \"#9c179e\"], [0.4444444444444444, \"#bd3786\"], [0.5555555555555556, \"#d8576b\"], [0.6666666666666666, \"#ed7953\"], [0.7777777777777778, \"#fb9f3a\"], [0.8888888888888888, \"#fdca26\"], [1.0, \"#f0f921\"]], \"type\": \"histogram2dcontour\"}], \"mesh3d\": [{\"colorbar\": {\"outlinewidth\": 0, \"ticks\": \"\"}, \"type\": \"mesh3d\"}], \"parcoords\": [{\"line\": {\"colorbar\": {\"outlinewidth\": 0, \"ticks\": \"\"}}, \"type\": \"parcoords\"}], \"pie\": [{\"automargin\": true, \"type\": \"pie\"}], \"scatter\": [{\"marker\": {\"colorbar\": {\"outlinewidth\": 0, \"ticks\": \"\"}}, \"type\": \"scatter\"}], \"scatter3d\": [{\"line\": {\"colorbar\": {\"outlinewidth\": 0, \"ticks\": \"\"}}, \"marker\": {\"colorbar\": {\"outlinewidth\": 0, \"ticks\": \"\"}}, \"type\": \"scatter3d\"}], \"scattercarpet\": [{\"marker\": {\"colorbar\": {\"outlinewidth\": 0, \"ticks\": \"\"}}, \"type\": \"scattercarpet\"}], \"scattergeo\": [{\"marker\": {\"colorbar\": {\"outlinewidth\": 0, \"ticks\": \"\"}}, \"type\": \"scattergeo\"}], \"scattergl\": [{\"marker\": {\"colorbar\": {\"outlinewidth\": 0, \"ticks\": \"\"}}, \"type\": \"scattergl\"}], \"scattermapbox\": [{\"marker\": {\"colorbar\": {\"outlinewidth\": 0, \"ticks\": \"\"}}, \"type\": \"scattermapbox\"}], \"scatterpolar\": [{\"marker\": {\"colorbar\": {\"outlinewidth\": 0, \"ticks\": \"\"}}, \"type\": \"scatterpolar\"}], \"scatterpolargl\": [{\"marker\": {\"colorbar\": {\"outlinewidth\": 0, \"ticks\": \"\"}}, \"type\": \"scatterpolargl\"}], \"scatterternary\": [{\"marker\": {\"colorbar\": {\"outlinewidth\": 0, \"ticks\": \"\"}}, \"type\": \"scatterternary\"}], \"surface\": [{\"colorbar\": {\"outlinewidth\": 0, \"ticks\": \"\"}, \"colorscale\": [[0.0, \"#0d0887\"], [0.1111111111111111, \"#46039f\"], [0.2222222222222222, \"#7201a8\"], [0.3333333333333333, \"#9c179e\"], [0.4444444444444444, \"#bd3786\"], [0.5555555555555556, \"#d8576b\"], [0.6666666666666666, \"#ed7953\"], [0.7777777777777778, \"#fb9f3a\"], [0.8888888888888888, \"#fdca26\"], [1.0, \"#f0f921\"]], \"type\": \"surface\"}], \"table\": [{\"cells\": {\"fill\": {\"color\": \"#EBF0F8\"}, \"line\": {\"color\": \"white\"}}, \"header\": {\"fill\": {\"color\": \"#C8D4E3\"}, \"line\": {\"color\": \"white\"}}, \"type\": \"table\"}]}, \"layout\": {\"annotationdefaults\": {\"arrowcolor\": \"#2a3f5f\", \"arrowhead\": 0, \"arrowwidth\": 1}, \"autotypenumbers\": \"strict\", \"coloraxis\": {\"colorbar\": {\"outlinewidth\": 0, \"ticks\": \"\"}}, \"colorscale\": {\"diverging\": [[0, \"#8e0152\"], [0.1, \"#c51b7d\"], [0.2, \"#de77ae\"], [0.3, \"#f1b6da\"], [0.4, \"#fde0ef\"], [0.5, \"#f7f7f7\"], [0.6, \"#e6f5d0\"], [0.7, \"#b8e186\"], [0.8, \"#7fbc41\"], [0.9, \"#4d9221\"], [1, \"#276419\"]], \"sequential\": [[0.0, \"#0d0887\"], [0.1111111111111111, \"#46039f\"], [0.2222222222222222, \"#7201a8\"], [0.3333333333333333, \"#9c179e\"], [0.4444444444444444, \"#bd3786\"], [0.5555555555555556, \"#d8576b\"], [0.6666666666666666, \"#ed7953\"], [0.7777777777777778, \"#fb9f3a\"], [0.8888888888888888, \"#fdca26\"], [1.0, \"#f0f921\"]], \"sequentialminus\": [[0.0, \"#0d0887\"], [0.1111111111111111, \"#46039f\"], [0.2222222222222222, \"#7201a8\"], [0.3333333333333333, \"#9c179e\"], [0.4444444444444444, \"#bd3786\"], [0.5555555555555556, \"#d8576b\"], [0.6666666666666666, \"#ed7953\"], [0.7777777777777778, \"#fb9f3a\"], [0.8888888888888888, \"#fdca26\"], [1.0, \"#f0f921\"]]}, \"colorway\": [\"#636efa\", \"#EF553B\", \"#00cc96\", \"#ab63fa\", \"#FFA15A\", \"#19d3f3\", \"#FF6692\", \"#B6E880\", \"#FF97FF\", \"#FECB52\"], \"font\": {\"color\": \"#2a3f5f\"}, \"geo\": {\"bgcolor\": \"white\", \"lakecolor\": \"white\", \"landcolor\": \"#E5ECF6\", \"showlakes\": true, \"showland\": true, \"subunitcolor\": \"white\"}, \"hoverlabel\": {\"align\": \"left\"}, \"hovermode\": \"closest\", \"mapbox\": {\"style\": \"light\"}, \"paper_bgcolor\": \"white\", \"plot_bgcolor\": \"#E5ECF6\", \"polar\": {\"angularaxis\": {\"gridcolor\": \"white\", \"linecolor\": \"white\", \"ticks\": \"\"}, \"bgcolor\": \"#E5ECF6\", \"radialaxis\": {\"gridcolor\": \"white\", \"linecolor\": \"white\", \"ticks\": \"\"}}, \"scene\": {\"xaxis\": {\"backgroundcolor\": \"#E5ECF6\", \"gridcolor\": \"white\", \"gridwidth\": 2, \"linecolor\": \"white\", \"showbackground\": true, \"ticks\": \"\", \"zerolinecolor\": \"white\"}, \"yaxis\": {\"backgroundcolor\": \"#E5ECF6\", \"gridcolor\": \"white\", \"gridwidth\": 2, \"linecolor\": \"white\", \"showbackground\": true, \"ticks\": \"\", \"zerolinecolor\": \"white\"}, \"zaxis\": {\"backgroundcolor\": \"#E5ECF6\", \"gridcolor\": \"white\", \"gridwidth\": 2, \"linecolor\": \"white\", \"showbackground\": true, \"ticks\": \"\", \"zerolinecolor\": \"white\"}}, \"shapedefaults\": {\"line\": {\"color\": \"#2a3f5f\"}}, \"ternary\": {\"aaxis\": {\"gridcolor\": \"white\", \"linecolor\": \"white\", \"ticks\": \"\"}, \"baxis\": {\"gridcolor\": \"white\", \"linecolor\": \"white\", \"ticks\": \"\"}, \"bgcolor\": \"#E5ECF6\", \"caxis\": {\"gridcolor\": \"white\", \"linecolor\": \"white\", \"ticks\": \"\"}}, \"title\": {\"x\": 0.05}, \"xaxis\": {\"automargin\": true, \"gridcolor\": \"white\", \"linecolor\": \"white\", \"ticks\": \"\", \"title\": {\"standoff\": 15}, \"zerolinecolor\": \"white\", \"zerolinewidth\": 2}, \"yaxis\": {\"automargin\": true, \"gridcolor\": \"white\", \"linecolor\": \"white\", \"ticks\": \"\", \"title\": {\"standoff\": 15}, \"zerolinecolor\": \"white\", \"zerolinewidth\": 2}}}},                        {\"responsive\": true}                    ).then(function(){\n",
       "                            \n",
       "var gd = document.getElementById('ee4e9aff-3366-4d62-a5a6-eca665560376');\n",
       "var x = new MutationObserver(function (mutations, observer) {{\n",
       "        var display = window.getComputedStyle(gd).display;\n",
       "        if (!display || display === 'none') {{\n",
       "            console.log([gd, 'removed!']);\n",
       "            Plotly.purge(gd);\n",
       "            observer.disconnect();\n",
       "        }}\n",
       "}});\n",
       "\n",
       "// Listen for the removal of the full notebook cells\n",
       "var notebookContainer = gd.closest('#notebook-container');\n",
       "if (notebookContainer) {{\n",
       "    x.observe(notebookContainer, {childList: true});\n",
       "}}\n",
       "\n",
       "// Listen for the clearing of the current output cell\n",
       "var outputEl = gd.closest('.output');\n",
       "if (outputEl) {{\n",
       "    x.observe(outputEl, {childList: true});\n",
       "}}\n",
       "\n",
       "                        })                };                });            </script>        </div>"
      ]
     },
     "metadata": {},
     "output_type": "display_data"
    }
   ],
   "source": [
    "from plotly.colors import n_colors\n",
    "\n",
    "colors1 = n_colors('rgb(232, 79, 115)', 'rgb(255, 243, 156)', 10, colortype='rgb')\n",
    "colors2 = n_colors('rgb(171, 171, 171)', 'rgb(255, 255, 255)', 10, colortype='rgb')\n",
    "a = top10_common_routes.index\n",
    "fig = go.Figure(data=[go.Table(\n",
    "  header=dict(\n",
    "    values=['Pickup Location', 'Dropoff Location', 'Count'],\n",
    "    fill_color = ['rgb(51, 51, 51)'],\n",
    "    line_color='black',\n",
    "    align='center',font=dict(color='white', size=14)\n",
    "  ),\n",
    "  cells=dict(\n",
    "    values=[top10_common_routes['Pickup_Location'],top10_common_routes['Dropoff_Location'],top10_common_routes['cnt']],\n",
    "    fill_color=[np.array(colors2)[a],np.array(colors2)[a],np.array(colors1)[a]],\n",
    "    line_color = 'black',\n",
    "    align='center', \n",
    "    font=dict(family='Arial',color='black', size=14),\n",
    "    height=30\n",
    "      \n",
    "    ))\n",
    "])\n",
    "\n",
    "\n",
    "\n",
    "fig.show()"
   ]
  },
  {
   "cell_type": "markdown",
   "id": "feee605e",
   "metadata": {},
   "source": [
    "### Map view of Pickups"
   ]
  },
  {
   "cell_type": "code",
   "execution_count": 50,
   "id": "31d048dc",
   "metadata": {},
   "outputs": [],
   "source": [
    "pickups_shp = common_yellow.concat(common_fhv)"
   ]
  },
  {
   "cell_type": "code",
   "execution_count": 51,
   "id": "97b2c1e4",
   "metadata": {},
   "outputs": [],
   "source": [
    "pickups_loc = pickups_shp.groupby(by=['PULocationID'],agg={ 'cnt' : vaex.agg.count() } )"
   ]
  },
  {
   "cell_type": "code",
   "execution_count": 52,
   "id": "7006d367",
   "metadata": {},
   "outputs": [],
   "source": [
    "pickups_loc_df = pickups_loc.to_pandas_df()"
   ]
  },
  {
   "cell_type": "code",
   "execution_count": 53,
   "id": "87158dff",
   "metadata": {},
   "outputs": [
    {
     "data": {
      "text/html": [
       "<table>\n",
       "<thead>\n",
       "<tr><th>#                              </th><th>PULocationID  </th><th>cnt    </th></tr>\n",
       "</thead>\n",
       "<tbody>\n",
       "<tr><td><i style='opacity: 0.6'>0</i>  </td><td>74            </td><td>874117 </td></tr>\n",
       "<tr><td><i style='opacity: 0.6'>1</i>  </td><td>75            </td><td>906396 </td></tr>\n",
       "<tr><td><i style='opacity: 0.6'>2</i>  </td><td>163           </td><td>1635219</td></tr>\n",
       "<tr><td><i style='opacity: 0.6'>3</i>  </td><td>238           </td><td>1299708</td></tr>\n",
       "<tr><td><i style='opacity: 0.6'>4</i>  </td><td>239           </td><td>1561716</td></tr>\n",
       "<tr><td>...                            </td><td>...           </td><td>...    </td></tr>\n",
       "<tr><td><i style='opacity: 0.6'>258</i></td><td>204           </td><td>21721  </td></tr>\n",
       "<tr><td><i style='opacity: 0.6'>259</i></td><td>99            </td><td>2032   </td></tr>\n",
       "<tr><td><i style='opacity: 0.6'>260</i></td><td>30            </td><td>3511   </td></tr>\n",
       "<tr><td><i style='opacity: 0.6'>261</i></td><td>110           </td><td>90     </td></tr>\n",
       "<tr><td><i style='opacity: 0.6'>262</i></td><td>199           </td><td>12     </td></tr>\n",
       "</tbody>\n",
       "</table>"
      ],
      "text/plain": [
       "#    PULocationID    cnt\n",
       "0    74              874117\n",
       "1    75              906396\n",
       "2    163             1635219\n",
       "3    238             1299708\n",
       "4    239             1561716\n",
       "...  ...             ...\n",
       "258  204             21721\n",
       "259  99              2032\n",
       "260  30              3511\n",
       "261  110             90\n",
       "262  199             12"
      ]
     },
     "execution_count": 53,
     "metadata": {},
     "output_type": "execute_result"
    }
   ],
   "source": [
    "pickups_loc"
   ]
  },
  {
   "cell_type": "code",
   "execution_count": 54,
   "id": "7320af6a",
   "metadata": {},
   "outputs": [],
   "source": [
    "lookup = pickups_loc_df.set_index('PULocationID')['cnt'].to_dict()"
   ]
  },
  {
   "cell_type": "code",
   "execution_count": null,
   "id": "ea189105",
   "metadata": {
    "scrolled": true
   },
   "outputs": [],
   "source": []
  },
  {
   "cell_type": "code",
   "execution_count": 56,
   "id": "35a79d9e",
   "metadata": {},
   "outputs": [],
   "source": [
    "import geopandas as gpd\n",
    "shapefile = gpd.read_file(\"shapefile/taxi_zones.shp\")"
   ]
  },
  {
   "cell_type": "code",
   "execution_count": 57,
   "id": "e0d2c9e8",
   "metadata": {},
   "outputs": [],
   "source": [
    "shapefile['Count'] = shapefile['LocationID'].map(lookup)"
   ]
  },
  {
   "cell_type": "code",
   "execution_count": 58,
   "id": "34b107da",
   "metadata": {},
   "outputs": [
    {
     "data": {
      "text/plain": [
       "0      POLYGON ((933100.918 192536.086, 933091.011 19...\n",
       "1      MULTIPOLYGON (((1033269.244 172126.008, 103343...\n",
       "2      POLYGON ((1026308.770 256767.698, 1026495.593 ...\n",
       "3      POLYGON ((992073.467 203714.076, 992068.667 20...\n",
       "4      POLYGON ((935843.310 144283.336, 936046.565 14...\n",
       "                             ...                        \n",
       "258    POLYGON ((1025414.782 270986.139, 1025138.624 ...\n",
       "259    POLYGON ((1011466.966 216463.005, 1011545.889 ...\n",
       "260    POLYGON ((980555.204 196138.486, 980570.792 19...\n",
       "261    MULTIPOLYGON (((999804.795 224498.527, 999824....\n",
       "262    POLYGON ((997493.323 220912.386, 997355.264 22...\n",
       "Name: geometry, Length: 263, dtype: geometry"
      ]
     },
     "execution_count": 58,
     "metadata": {},
     "output_type": "execute_result"
    }
   ],
   "source": [
    "shapefile.geometry"
   ]
  },
  {
   "cell_type": "code",
   "execution_count": 59,
   "id": "22e0889f",
   "metadata": {},
   "outputs": [],
   "source": [
    "# import json\n",
    "# shapefile.to_file(\"geoJ\", driver = \"GeoJSON\")\n",
    "# with open(\"/yellowtaxi\") as geofile:\n",
    "#     j_file = json.load(geofile)"
   ]
  },
  {
   "cell_type": "code",
   "execution_count": null,
   "id": "374756b4",
   "metadata": {},
   "outputs": [],
   "source": []
  },
  {
   "cell_type": "code",
   "execution_count": 60,
   "id": "6a50ad90",
   "metadata": {
    "scrolled": true
   },
   "outputs": [],
   "source": [
    "# import plotly.express as px\n",
    "# fig = px.choropleth_mapbox(shapefile, geojson=shapefile.geometry, locations=shapefile.LocationID, color='Count',\n",
    "#                            color_continuous_scale=\"Viridis\",\n",
    "#                            range_color=(0, 12),\n",
    "#                            mapbox_style=\"carto-positron\",\n",
    "#                            zoom=3, center = {\"lat\": 37.0902, \"lon\": -95.7129},\n",
    "#                            opacity=0.5,\n",
    "#                            labels={'unemp':'unemployment rate'}\n",
    "#                           )\n",
    "# fig.update_layout(margin={\"r\":0,\"t\":0,\"l\":0,\"b\":0})\n",
    "# fig.show()"
   ]
  },
  {
   "cell_type": "code",
   "execution_count": null,
   "id": "72e0296c",
   "metadata": {
    "scrolled": false
   },
   "outputs": [],
   "source": []
  },
  {
   "cell_type": "code",
   "execution_count": 213,
   "id": "e7183208",
   "metadata": {},
   "outputs": [
    {
     "data": {
      "image/png": "[encoded data removed]",
      "text/plain": [
       "<Figure size 2160x1080 with 2 Axes>"
      ]
     },
     "metadata": {
      "needs_background": "light"
     },
     "output_type": "display_data"
    }
   ],
   "source": [
    "fig99, ax = plt.subplots(1, figsize=(30, 15))\n",
    "ax.axis('off')\n",
    "ax.set_title('Number of Pickups for each Taxi Zone (in Millions)', fontdict={'fontsize': '25', 'fontweight' : '3'})\n",
    "\n",
    "shp = shapefile.plot(column = 'Count',figsize=(20, 20),legend=True,cmap='viridis',ax=ax)\n"
   ]
  },
  {
   "cell_type": "markdown",
   "id": "334ae8f8",
   "metadata": {},
   "source": [
    "### Trends of pickup volume throughout six months\n"
   ]
  },
  {
   "cell_type": "code",
   "execution_count": 62,
   "id": "14d7b81a",
   "metadata": {},
   "outputs": [],
   "source": [
    "yellow_df[\"date\"]=yellow_df['tpep_pickup_datetime'].dt.date\n"
   ]
  },
  {
   "cell_type": "code",
   "execution_count": null,
   "id": "7c9b84ca",
   "metadata": {},
   "outputs": [],
   "source": []
  },
  {
   "cell_type": "code",
   "execution_count": 63,
   "id": "61a468d6",
   "metadata": {},
   "outputs": [],
   "source": [
    "ytrip_6months = yellow_df.groupby(by='date',agg={ 'cnt':vaex.agg.count()})"
   ]
  },
  {
   "cell_type": "code",
   "execution_count": 64,
   "id": "2e394da7",
   "metadata": {
    "scrolled": false
   },
   "outputs": [],
   "source": [
    "start_date = pd.to_datetime('2019-10-31')\n",
    "end_date = pd.to_datetime('2020-05-01')"
   ]
  },
  {
   "cell_type": "code",
   "execution_count": 65,
   "id": "85f6f05d",
   "metadata": {},
   "outputs": [],
   "source": [
    "ytrip_6months_df = ytrip_6months.to_pandas_df()"
   ]
  },
  {
   "cell_type": "code",
   "execution_count": 66,
   "id": "dc23a3dd",
   "metadata": {},
   "outputs": [],
   "source": [
    "ytrip_6months_df = ytrip_6months_df[(ytrip_6months_df['date']>start_date) & (ytrip_6months_df['date']<end_date)]"
   ]
  },
  {
   "cell_type": "code",
   "execution_count": 67,
   "id": "b323ad87",
   "metadata": {},
   "outputs": [],
   "source": [
    "ytrip_6months_df = ytrip_6months_df.sort_values('date')"
   ]
  },
  {
   "cell_type": "code",
   "execution_count": 68,
   "id": "914070d8",
   "metadata": {
    "scrolled": false
   },
   "outputs": [
    {
     "data": {
      "text/html": [
       "<table>\n",
       "<thead>\n",
       "<tr><th>#                                      </th><th>hvfhs_license_num  </th><th>dispatching_base_num  </th><th>pickup_datetime              </th><th>dropoff_datetime             </th><th>PULocationID  </th><th>DOLocationID  </th><th>SR_Flag  </th><th>pickup_hour  </th><th>pickup_day  </th><th>trip_duration  </th><th>date      </th></tr>\n",
       "</thead>\n",
       "<tbody>\n",
       "<tr><td><i style='opacity: 0.6'>0</i>          </td><td>&#x27;HV0002&#x27;           </td><td>&#x27;B03035&#x27;              </td><td>2019-11-01 00:18:05.000000000</td><td>2019-11-01 00:35:35.000000000</td><td>230           </td><td>243           </td><td>nan      </td><td>0            </td><td>&#x27;Friday&#x27;    </td><td>17.5           </td><td>2019-11-01</td></tr>\n",
       "<tr><td><i style='opacity: 0.6'>1</i>          </td><td>&#x27;HV0003&#x27;           </td><td>&#x27;B02765&#x27;              </td><td>2019-11-01 00:27:51.000000000</td><td>2019-11-01 00:51:07.000000000</td><td>148           </td><td>263           </td><td>nan      </td><td>0            </td><td>&#x27;Friday&#x27;    </td><td>23.2667        </td><td>2019-11-01</td></tr>\n",
       "<tr><td><i style='opacity: 0.6'>2</i>          </td><td>&#x27;HV0005&#x27;           </td><td>&#x27;B02510&#x27;              </td><td>2019-11-01 00:38:31.000000000</td><td>2019-11-01 00:49:01.000000000</td><td>180           </td><td>63            </td><td>nan      </td><td>0            </td><td>&#x27;Friday&#x27;    </td><td>10.5           </td><td>2019-11-01</td></tr>\n",
       "<tr><td><i style='opacity: 0.6'>3</i>          </td><td>&#x27;HV0005&#x27;           </td><td>&#x27;B02510&#x27;              </td><td>2019-11-01 00:59:38.000000000</td><td>2019-11-01 01:26:26.000000000</td><td>180           </td><td>112           </td><td>nan      </td><td>0            </td><td>&#x27;Friday&#x27;    </td><td>26.8           </td><td>2019-11-01</td></tr>\n",
       "<tr><td><i style='opacity: 0.6'>4</i>          </td><td>&#x27;HV0005&#x27;           </td><td>&#x27;B02510&#x27;              </td><td>2019-11-01 00:13:25.000000000</td><td>2019-11-01 00:24:09.000000000</td><td>90            </td><td>164           </td><td>nan      </td><td>0            </td><td>&#x27;Friday&#x27;    </td><td>10.7333        </td><td>2019-11-01</td></tr>\n",
       "<tr><td>...                                    </td><td>...                </td><td>...                   </td><td>...                          </td><td>...                          </td><td>...           </td><td>...           </td><td>...      </td><td>...          </td><td>...         </td><td>...            </td><td>...       </td></tr>\n",
       "<tr><td><i style='opacity: 0.6'>103,878,655</i></td><td>&#x27;HV0005&#x27;           </td><td>&#x27;B02510&#x27;              </td><td>2020-04-30 23:13:55.000000000</td><td>2020-04-30 23:24:03.000000000</td><td>78            </td><td>126           </td><td>nan      </td><td>23           </td><td>&#x27;Thursday&#x27;  </td><td>10.1333        </td><td>2020-04-30</td></tr>\n",
       "<tr><td><i style='opacity: 0.6'>103,878,656</i></td><td>&#x27;HV0005&#x27;           </td><td>&#x27;B02510&#x27;              </td><td>2020-04-30 23:32:35.000000000</td><td>2020-04-30 23:37:18.000000000</td><td>167           </td><td>147           </td><td>nan      </td><td>23           </td><td>&#x27;Thursday&#x27;  </td><td>4.7167         </td><td>2020-04-30</td></tr>\n",
       "<tr><td><i style='opacity: 0.6'>103,878,657</i></td><td>&#x27;HV0005&#x27;           </td><td>&#x27;B02510&#x27;              </td><td>2020-04-30 23:42:19.000000000</td><td>2020-04-30 23:50:02.000000000</td><td>147           </td><td>167           </td><td>nan      </td><td>23           </td><td>&#x27;Thursday&#x27;  </td><td>7.7167         </td><td>2020-04-30</td></tr>\n",
       "<tr><td><i style='opacity: 0.6'>103,878,658</i></td><td>&#x27;HV0003&#x27;           </td><td>&#x27;B02864&#x27;              </td><td>2020-04-30 23:12:58.000000000</td><td>2020-04-30 23:25:10.000000000</td><td>260           </td><td>193           </td><td>nan      </td><td>23           </td><td>&#x27;Thursday&#x27;  </td><td>12.2           </td><td>2020-04-30</td></tr>\n",
       "<tr><td><i style='opacity: 0.6'>103,878,659</i></td><td>&#x27;HV0003&#x27;           </td><td>&#x27;B02864&#x27;              </td><td>2020-04-30 23:32:38.000000000</td><td>2020-04-30 23:49:12.000000000</td><td>140           </td><td>247           </td><td>nan      </td><td>23           </td><td>&#x27;Thursday&#x27;  </td><td>16.5667        </td><td>2020-04-30</td></tr>\n",
       "</tbody>\n",
       "</table>"
      ],
      "text/plain": [
       "#            hvfhs_license_num    dispatching_base_num    pickup_datetime                dropoff_datetime               PULocationID    DOLocationID    SR_Flag    pickup_hour    pickup_day    trip_duration    date\n",
       "0            'HV0002'             'B03035'                2019-11-01 00:18:05.000000000  2019-11-01 00:35:35.000000000  230             243             nan        0              'Friday'      17.5             2019-11-01\n",
       "1            'HV0003'             'B02765'                2019-11-01 00:27:51.000000000  2019-11-01 00:51:07.000000000  148             263             nan        0              'Friday'      23.2667          2019-11-01\n",
       "2            'HV0005'             'B02510'                2019-11-01 00:38:31.000000000  2019-11-01 00:49:01.000000000  180             63              nan        0              'Friday'      10.5             2019-11-01\n",
       "3            'HV0005'             'B02510'                2019-11-01 00:59:38.000000000  2019-11-01 01:26:26.000000000  180             112             nan        0              'Friday'      26.8             2019-11-01\n",
       "4            'HV0005'             'B02510'                2019-11-01 00:13:25.000000000  2019-11-01 00:24:09.000000000  90              164             nan        0              'Friday'      10.7333          2019-11-01\n",
       "...          ...                  ...                     ...                            ...                            ...             ...             ...        ...            ...           ...              ...\n",
       "103,878,655  'HV0005'             'B02510'                2020-04-30 23:13:55.000000000  2020-04-30 23:24:03.000000000  78              126             nan        23             'Thursday'    10.1333          2020-04-30\n",
       "103,878,656  'HV0005'             'B02510'                2020-04-30 23:32:35.000000000  2020-04-30 23:37:18.000000000  167             147             nan        23             'Thursday'    4.7167           2020-04-30\n",
       "103,878,657  'HV0005'             'B02510'                2020-04-30 23:42:19.000000000  2020-04-30 23:50:02.000000000  147             167             nan        23             'Thursday'    7.7167           2020-04-30\n",
       "103,878,658  'HV0003'             'B02864'                2020-04-30 23:12:58.000000000  2020-04-30 23:25:10.000000000  260             193             nan        23             'Thursday'    12.2             2020-04-30\n",
       "103,878,659  'HV0003'             'B02864'                2020-04-30 23:32:38.000000000  2020-04-30 23:49:12.000000000  140             247             nan        23             'Thursday'    16.5667          2020-04-30"
      ]
     },
     "execution_count": 68,
     "metadata": {},
     "output_type": "execute_result"
    }
   ],
   "source": [
    "fhv_df[\"date\"]=fhv_df['pickup_datetime'].dt.date\n",
    "fhv_df"
   ]
  },
  {
   "cell_type": "code",
   "execution_count": null,
   "id": "9b4d0e04",
   "metadata": {},
   "outputs": [],
   "source": []
  },
  {
   "cell_type": "code",
   "execution_count": 69,
   "id": "04a302a1",
   "metadata": {},
   "outputs": [],
   "source": [
    "ftrip_6months = fhv_df.groupby(by=['date','hvfhs_license_num'],agg={ 'cnt':vaex.agg.count()})"
   ]
  },
  {
   "cell_type": "code",
   "execution_count": 70,
   "id": "2cb8e7b0",
   "metadata": {},
   "outputs": [
    {
     "data": {
      "text/html": [
       "<table>\n",
       "<thead>\n",
       "<tr><th>#                              </th><th>date      </th><th>hvfhs_license_num  </th><th>cnt   </th></tr>\n",
       "</thead>\n",
       "<tbody>\n",
       "<tr><td><i style='opacity: 0.6'>0</i>  </td><td>2019-11-12</td><td>&#x27;HV0003&#x27;           </td><td>515430</td></tr>\n",
       "<tr><td><i style='opacity: 0.6'>1</i>  </td><td>2019-11-12</td><td>&#x27;HV0005&#x27;           </td><td>151179</td></tr>\n",
       "<tr><td><i style='opacity: 0.6'>2</i>  </td><td>2019-11-12</td><td>&#x27;HV0004&#x27;           </td><td>29102 </td></tr>\n",
       "<tr><td><i style='opacity: 0.6'>3</i>  </td><td>2019-11-12</td><td>&#x27;HV0002&#x27;           </td><td>6068  </td></tr>\n",
       "<tr><td><i style='opacity: 0.6'>4</i>  </td><td>2019-11-13</td><td>&#x27;HV0003&#x27;           </td><td>524123</td></tr>\n",
       "<tr><td>...                            </td><td>...       </td><td>...                </td><td>...   </td></tr>\n",
       "<tr><td><i style='opacity: 0.6'>559</i></td><td>2020-02-03</td><td>&#x27;HV0005&#x27;           </td><td>144684</td></tr>\n",
       "<tr><td><i style='opacity: 0.6'>560</i></td><td>2020-02-03</td><td>&#x27;HV0004&#x27;           </td><td>24159 </td></tr>\n",
       "<tr><td><i style='opacity: 0.6'>561</i></td><td>2019-11-24</td><td>&#x27;HV0003&#x27;           </td><td>572001</td></tr>\n",
       "<tr><td><i style='opacity: 0.6'>562</i></td><td>2019-11-24</td><td>&#x27;HV0005&#x27;           </td><td>204295</td></tr>\n",
       "<tr><td><i style='opacity: 0.6'>563</i></td><td>2019-11-24</td><td>&#x27;HV0004&#x27;           </td><td>20247 </td></tr>\n",
       "</tbody>\n",
       "</table>"
      ],
      "text/plain": [
       "#    date        hvfhs_license_num    cnt\n",
       "0    2019-11-12  'HV0003'             515430\n",
       "1    2019-11-12  'HV0005'             151179\n",
       "2    2019-11-12  'HV0004'             29102\n",
       "3    2019-11-12  'HV0002'             6068\n",
       "4    2019-11-13  'HV0003'             524123\n",
       "...  ...         ...                  ...\n",
       "559  2020-02-03  'HV0005'             144684\n",
       "560  2020-02-03  'HV0004'             24159\n",
       "561  2019-11-24  'HV0003'             572001\n",
       "562  2019-11-24  'HV0005'             204295\n",
       "563  2019-11-24  'HV0004'             20247"
      ]
     },
     "execution_count": 70,
     "metadata": {},
     "output_type": "execute_result"
    }
   ],
   "source": [
    "ftrip_6months"
   ]
  },
  {
   "cell_type": "code",
   "execution_count": 71,
   "id": "b673d6d8",
   "metadata": {},
   "outputs": [],
   "source": [
    "ftrip_6months_df = ftrip_6months.to_pandas_df()\n",
    "ftrip_6months_df = ftrip_6months_df.sort_values('date')"
   ]
  },
  {
   "cell_type": "code",
   "execution_count": 72,
   "id": "cf3cf07d",
   "metadata": {},
   "outputs": [],
   "source": [
    "ftrip_6months_Uber = ftrip_6months_df[ftrip_6months_df['hvfhs_license_num']=='HV0003'].sort_values('date')\n",
    "ftrip_6months_Juno = ftrip_6months_df[ftrip_6months_df['hvfhs_license_num']=='HV0002'].sort_values('date')\n",
    "ftrip_6months_Lyft = ftrip_6months_df[ftrip_6months_df['hvfhs_license_num']=='HV0005'].sort_values('date')\n",
    "ftrip_6months_Via = ftrip_6months_df[ftrip_6months_df['hvfhs_license_num']=='HV0004'].sort_values('date')"
   ]
  },
  {
   "cell_type": "code",
   "execution_count": 73,
   "id": "d5ddad9b",
   "metadata": {},
   "outputs": [
    {
     "data": {
      "text/html": [
       "<div>\n",
       "<style scoped>\n",
       "    .dataframe tbody tr th:only-of-type {\n",
       "        vertical-align: middle;\n",
       "    }\n",
       "\n",
       "    .dataframe tbody tr th {\n",
       "        vertical-align: top;\n",
       "    }\n",
       "\n",
       "    .dataframe thead th {\n",
       "        text-align: right;\n",
       "    }\n",
       "</style>\n",
       "<table border=\"1\" class=\"dataframe\">\n",
       "  <thead>\n",
       "    <tr style=\"text-align: right;\">\n",
       "      <th></th>\n",
       "      <th>date</th>\n",
       "      <th>hvfhs_license_num</th>\n",
       "      <th>cnt</th>\n",
       "    </tr>\n",
       "  </thead>\n",
       "  <tbody>\n",
       "    <tr>\n",
       "      <th>325</th>\n",
       "      <td>2019-11-01</td>\n",
       "      <td>HV0005</td>\n",
       "      <td>213568</td>\n",
       "    </tr>\n",
       "    <tr>\n",
       "      <th>309</th>\n",
       "      <td>2019-11-02</td>\n",
       "      <td>HV0005</td>\n",
       "      <td>225958</td>\n",
       "    </tr>\n",
       "    <tr>\n",
       "      <th>460</th>\n",
       "      <td>2019-11-03</td>\n",
       "      <td>HV0005</td>\n",
       "      <td>181609</td>\n",
       "    </tr>\n",
       "    <tr>\n",
       "      <th>456</th>\n",
       "      <td>2019-11-04</td>\n",
       "      <td>HV0005</td>\n",
       "      <td>135471</td>\n",
       "    </tr>\n",
       "    <tr>\n",
       "      <th>467</th>\n",
       "      <td>2019-11-05</td>\n",
       "      <td>HV0005</td>\n",
       "      <td>125298</td>\n",
       "    </tr>\n",
       "    <tr>\n",
       "      <th>...</th>\n",
       "      <td>...</td>\n",
       "      <td>...</td>\n",
       "      <td>...</td>\n",
       "    </tr>\n",
       "    <tr>\n",
       "      <th>176</th>\n",
       "      <td>2020-04-26</td>\n",
       "      <td>HV0005</td>\n",
       "      <td>39685</td>\n",
       "    </tr>\n",
       "    <tr>\n",
       "      <th>148</th>\n",
       "      <td>2020-04-27</td>\n",
       "      <td>HV0005</td>\n",
       "      <td>41358</td>\n",
       "    </tr>\n",
       "    <tr>\n",
       "      <th>195</th>\n",
       "      <td>2020-04-28</td>\n",
       "      <td>HV0005</td>\n",
       "      <td>40319</td>\n",
       "    </tr>\n",
       "    <tr>\n",
       "      <th>163</th>\n",
       "      <td>2020-04-29</td>\n",
       "      <td>HV0005</td>\n",
       "      <td>41142</td>\n",
       "    </tr>\n",
       "    <tr>\n",
       "      <th>169</th>\n",
       "      <td>2020-04-30</td>\n",
       "      <td>HV0005</td>\n",
       "      <td>43460</td>\n",
       "    </tr>\n",
       "  </tbody>\n",
       "</table>\n",
       "<p>182 rows × 3 columns</p>\n",
       "</div>"
      ],
      "text/plain": [
       "          date hvfhs_license_num     cnt\n",
       "325 2019-11-01            HV0005  213568\n",
       "309 2019-11-02            HV0005  225958\n",
       "460 2019-11-03            HV0005  181609\n",
       "456 2019-11-04            HV0005  135471\n",
       "467 2019-11-05            HV0005  125298\n",
       "..         ...               ...     ...\n",
       "176 2020-04-26            HV0005   39685\n",
       "148 2020-04-27            HV0005   41358\n",
       "195 2020-04-28            HV0005   40319\n",
       "163 2020-04-29            HV0005   41142\n",
       "169 2020-04-30            HV0005   43460\n",
       "\n",
       "[182 rows x 3 columns]"
      ]
     },
     "execution_count": 73,
     "metadata": {},
     "output_type": "execute_result"
    }
   ],
   "source": [
    "ftrip_6months_Lyft"
   ]
  },
  {
   "cell_type": "code",
   "execution_count": 207,
   "id": "84f18bc7",
   "metadata": {},
   "outputs": [
    {
     "data": {
      "application/vnd.plotly.v1+json": {
       "config": {
        "plotlyServerURL": "https://plot.ly"
       },
       "data": [
        {
         "mode": "lines",
         "name": "Yellow Taxi",
         "type": "scatter",
         "x": [
          "2019-11-01T00:00:00",
          "2019-11-02T00:00:00",
          "2019-11-03T00:00:00",
          "2019-11-04T00:00:00",
          "2019-11-05T00:00:00",
          "2019-11-06T00:00:00",
          "2019-11-07T00:00:00",
          "2019-11-08T00:00:00",
          "2019-11-09T00:00:00",
          "2019-11-10T00:00:00",
          "2019-11-11T00:00:00",
          "2019-11-12T00:00:00",
          "2019-11-13T00:00:00",
          "2019-11-14T00:00:00",
          "2019-11-15T00:00:00",
          "2019-11-16T00:00:00",
          "2019-11-17T00:00:00",
          "2019-11-18T00:00:00",
          "2019-11-19T00:00:00",
          "2019-11-20T00:00:00",
          "2019-11-21T00:00:00",
          "2019-11-22T00:00:00",
          "2019-11-23T00:00:00",
          "2019-11-24T00:00:00",
          "2019-11-25T00:00:00",
          "2019-11-26T00:00:00",
          "2019-11-27T00:00:00",
          "2019-11-28T00:00:00",
          "2019-11-29T00:00:00",
          "2019-11-30T00:00:00",
          "2019-12-01T00:00:00",
          "2019-12-02T00:00:00",
          "2019-12-03T00:00:00",
          "2019-12-04T00:00:00",
          "2019-12-05T00:00:00",
          "2019-12-06T00:00:00",
          "2019-12-07T00:00:00",
          "2019-12-08T00:00:00",
          "2019-12-09T00:00:00",
          "2019-12-10T00:00:00",
          "2019-12-11T00:00:00",
          "2019-12-12T00:00:00",
          "2019-12-13T00:00:00",
          "2019-12-14T00:00:00",
          "2019-12-15T00:00:00",
          "2019-12-16T00:00:00",
          "2019-12-17T00:00:00",
          "2019-12-18T00:00:00",
          "2019-12-19T00:00:00",
          "2019-12-20T00:00:00",
          "2019-12-21T00:00:00",
          "2019-12-22T00:00:00",
          "2019-12-23T00:00:00",
          "2019-12-24T00:00:00",
          "2019-12-25T00:00:00",
          "2019-12-26T00:00:00",
          "2019-12-27T00:00:00",
          "2019-12-28T00:00:00",
          "2019-12-29T00:00:00",
          "2019-12-30T00:00:00",
          "2019-12-31T00:00:00",
          "2020-01-01T00:00:00",
          "2020-01-02T00:00:00",
          "2020-01-03T00:00:00",
          "2020-01-04T00:00:00",
          "2020-01-05T00:00:00",
          "2020-01-06T00:00:00",
          "2020-01-07T00:00:00",
          "2020-01-08T00:00:00",
          "2020-01-09T00:00:00",
          "2020-01-10T00:00:00",
          "2020-01-11T00:00:00",
          "2020-01-12T00:00:00",
          "2020-01-13T00:00:00",
          "2020-01-14T00:00:00",
          "2020-01-15T00:00:00",
          "2020-01-16T00:00:00",
          "2020-01-17T00:00:00",
          "2020-01-18T00:00:00",
          "2020-01-19T00:00:00",
          "2020-01-20T00:00:00",
          "2020-01-21T00:00:00",
          "2020-01-22T00:00:00",
          "2020-01-23T00:00:00",
          "2020-01-24T00:00:00",
          "2020-01-25T00:00:00",
          "2020-01-26T00:00:00",
          "2020-01-27T00:00:00",
          "2020-01-28T00:00:00",
          "2020-01-29T00:00:00",
          "2020-01-30T00:00:00",
          "2020-01-31T00:00:00",
          "2020-02-01T00:00:00",
          "2020-02-02T00:00:00",
          "2020-02-03T00:00:00",
          "2020-02-04T00:00:00",
          "2020-02-05T00:00:00",
          "2020-02-06T00:00:00",
          "2020-02-07T00:00:00",
          "2020-02-08T00:00:00",
          "2020-02-09T00:00:00",
          "2020-02-10T00:00:00",
          "2020-02-11T00:00:00",
          "2020-02-12T00:00:00",
          "2020-02-13T00:00:00",
          "2020-02-14T00:00:00",
          "2020-02-15T00:00:00",
          "2020-02-16T00:00:00",
          "2020-02-17T00:00:00",
          "2020-02-18T00:00:00",
          "2020-02-19T00:00:00",
          "2020-02-20T00:00:00",
          "2020-02-21T00:00:00",
          "2020-02-22T00:00:00",
          "2020-02-23T00:00:00",
          "2020-02-24T00:00:00",
          "2020-02-25T00:00:00",
          "2020-02-26T00:00:00",
          "2020-02-27T00:00:00",
          "2020-02-28T00:00:00",
          "2020-02-29T00:00:00",
          "2020-03-01T00:00:00",
          "2020-03-02T00:00:00",
          "2020-03-03T00:00:00",
          "2020-03-04T00:00:00",
          "2020-03-05T00:00:00",
          "2020-03-06T00:00:00",
          "2020-03-07T00:00:00",
          "2020-03-08T00:00:00",
          "2020-03-09T00:00:00",
          "2020-03-10T00:00:00",
          "2020-03-11T00:00:00",
          "2020-03-12T00:00:00",
          "2020-03-13T00:00:00",
          "2020-03-14T00:00:00",
          "2020-03-15T00:00:00",
          "2020-03-16T00:00:00",
          "2020-03-17T00:00:00",
          "2020-03-18T00:00:00",
          "2020-03-19T00:00:00",
          "2020-03-20T00:00:00",
          "2020-03-21T00:00:00",
          "2020-03-22T00:00:00",
          "2020-03-23T00:00:00",
          "2020-03-24T00:00:00",
          "2020-03-25T00:00:00",
          "2020-03-26T00:00:00",
          "2020-03-27T00:00:00",
          "2020-03-28T00:00:00",
          "2020-03-29T00:00:00",
          "2020-03-30T00:00:00",
          "2020-03-31T00:00:00",
          "2020-04-01T00:00:00",
          "2020-04-02T00:00:00",
          "2020-04-03T00:00:00",
          "2020-04-04T00:00:00",
          "2020-04-05T00:00:00",
          "2020-04-06T00:00:00",
          "2020-04-07T00:00:00",
          "2020-04-08T00:00:00",
          "2020-04-09T00:00:00",
          "2020-04-10T00:00:00",
          "2020-04-11T00:00:00",
          "2020-04-12T00:00:00",
          "2020-04-13T00:00:00",
          "2020-04-14T00:00:00",
          "2020-04-15T00:00:00",
          "2020-04-16T00:00:00",
          "2020-04-17T00:00:00",
          "2020-04-18T00:00:00",
          "2020-04-19T00:00:00",
          "2020-04-20T00:00:00",
          "2020-04-21T00:00:00",
          "2020-04-22T00:00:00",
          "2020-04-23T00:00:00",
          "2020-04-24T00:00:00",
          "2020-04-25T00:00:00",
          "2020-04-26T00:00:00",
          "2020-04-27T00:00:00",
          "2020-04-28T00:00:00",
          "2020-04-29T00:00:00",
          "2020-04-30T00:00:00"
         ],
         "y": [
          276056,
          249616,
          211208,
          218546,
          229324,
          244732,
          258222,
          269399,
          244849,
          204009,
          187087,
          241991,
          252007,
          260966,
          257847,
          257993,
          209353,
          228515,
          235069,
          249603,
          261117,
          247479,
          240269,
          205067,
          211096,
          224681,
          208600,
          138463,
          164426,
          190033,
          182601,
          208525,
          249197,
          250790,
          272259,
          274921,
          267696,
          222438,
          225452,
          246744,
          267848,
          278488,
          278129,
          263929,
          233950,
          236418,
          256629,
          267246,
          286929,
          274892,
          227258,
          179054,
          180870,
          164421,
          101911,
          146952,
          169615,
          172029,
          165125,
          174562,
          169322,
          169442,
          162160,
          183477,
          182765,
          164402,
          179520,
          201521,
          217105,
          231687,
          228203,
          217503,
          186745,
          209210,
          217734,
          217496,
          239661,
          243689,
          190165,
          175836,
          161956,
          213824,
          221898,
          232108,
          233295,
          223230,
          188189,
          189794,
          215832,
          227430,
          243018,
          236330,
          211632,
          193744,
          194478,
          216051,
          231688,
          242757,
          252416,
          219593,
          182478,
          211573,
          220135,
          236428,
          246519,
          258281,
          202204,
          165875,
          148846,
          190386,
          216938,
          237933,
          237185,
          209729,
          179708,
          197782,
          226546,
          231333,
          255937,
          250826,
          230529,
          179749,
          193511,
          222917,
          229735,
          244451,
          243743,
          208201,
          165805,
          175574,
          184068,
          182630,
          171077,
          134702,
          89651,
          59871,
          64202,
          45617,
          36248,
          29803,
          27622,
          16175,
          10340,
          13579,
          11851,
          11207,
          10666,
          11778,
          7633,
          5545,
          9579,
          9448,
          9473,
          8786,
          10309,
          6396,
          5046,
          8270,
          7886,
          7915,
          7827,
          8585,
          6274,
          4434,
          7473,
          8329,
          8303,
          8495,
          9672,
          5808,
          5124,
          8134,
          8089,
          8626,
          8720,
          9395,
          7221,
          4992,
          8904,
          9457,
          9683,
          10279
         ]
        },
        {
         "mode": "lines",
         "name": "Uber",
         "type": "scatter",
         "x": [
          "2019-11-01T00:00:00",
          "2019-11-02T00:00:00",
          "2019-11-03T00:00:00",
          "2019-11-04T00:00:00",
          "2019-11-05T00:00:00",
          "2019-11-06T00:00:00",
          "2019-11-07T00:00:00",
          "2019-11-08T00:00:00",
          "2019-11-09T00:00:00",
          "2019-11-10T00:00:00",
          "2019-11-11T00:00:00",
          "2019-11-12T00:00:00",
          "2019-11-13T00:00:00",
          "2019-11-14T00:00:00",
          "2019-11-15T00:00:00",
          "2019-11-16T00:00:00",
          "2019-11-17T00:00:00",
          "2019-11-18T00:00:00",
          "2019-11-19T00:00:00",
          "2019-11-20T00:00:00",
          "2019-11-21T00:00:00",
          "2019-11-22T00:00:00",
          "2019-11-23T00:00:00",
          "2019-11-24T00:00:00",
          "2019-11-25T00:00:00",
          "2019-11-26T00:00:00",
          "2019-11-27T00:00:00",
          "2019-11-28T00:00:00",
          "2019-11-29T00:00:00",
          "2019-11-30T00:00:00",
          "2019-12-01T00:00:00",
          "2019-12-02T00:00:00",
          "2019-12-03T00:00:00",
          "2019-12-04T00:00:00",
          "2019-12-05T00:00:00",
          "2019-12-06T00:00:00",
          "2019-12-07T00:00:00",
          "2019-12-08T00:00:00",
          "2019-12-09T00:00:00",
          "2019-12-10T00:00:00",
          "2019-12-11T00:00:00",
          "2019-12-12T00:00:00",
          "2019-12-13T00:00:00",
          "2019-12-14T00:00:00",
          "2019-12-15T00:00:00",
          "2019-12-16T00:00:00",
          "2019-12-17T00:00:00",
          "2019-12-18T00:00:00",
          "2019-12-19T00:00:00",
          "2019-12-20T00:00:00",
          "2019-12-21T00:00:00",
          "2019-12-22T00:00:00",
          "2019-12-23T00:00:00",
          "2019-12-24T00:00:00",
          "2019-12-25T00:00:00",
          "2019-12-26T00:00:00",
          "2019-12-27T00:00:00",
          "2019-12-28T00:00:00",
          "2019-12-29T00:00:00",
          "2019-12-30T00:00:00",
          "2019-12-31T00:00:00",
          "2020-01-01T00:00:00",
          "2020-01-02T00:00:00",
          "2020-01-03T00:00:00",
          "2020-01-04T00:00:00",
          "2020-01-05T00:00:00",
          "2020-01-06T00:00:00",
          "2020-01-07T00:00:00",
          "2020-01-08T00:00:00",
          "2020-01-09T00:00:00",
          "2020-01-10T00:00:00",
          "2020-01-11T00:00:00",
          "2020-01-12T00:00:00",
          "2020-01-13T00:00:00",
          "2020-01-14T00:00:00",
          "2020-01-15T00:00:00",
          "2020-01-16T00:00:00",
          "2020-01-17T00:00:00",
          "2020-01-18T00:00:00",
          "2020-01-19T00:00:00",
          "2020-01-20T00:00:00",
          "2020-01-21T00:00:00",
          "2020-01-22T00:00:00",
          "2020-01-23T00:00:00",
          "2020-01-24T00:00:00",
          "2020-01-25T00:00:00",
          "2020-01-26T00:00:00",
          "2020-01-27T00:00:00",
          "2020-01-28T00:00:00",
          "2020-01-29T00:00:00",
          "2020-01-30T00:00:00",
          "2020-01-31T00:00:00",
          "2020-02-01T00:00:00",
          "2020-02-02T00:00:00",
          "2020-02-03T00:00:00",
          "2020-02-04T00:00:00",
          "2020-02-05T00:00:00",
          "2020-02-06T00:00:00",
          "2020-02-07T00:00:00",
          "2020-02-08T00:00:00",
          "2020-02-09T00:00:00",
          "2020-02-10T00:00:00",
          "2020-02-11T00:00:00",
          "2020-02-12T00:00:00",
          "2020-02-13T00:00:00",
          "2020-02-14T00:00:00",
          "2020-02-15T00:00:00",
          "2020-02-16T00:00:00",
          "2020-02-17T00:00:00",
          "2020-02-18T00:00:00",
          "2020-02-19T00:00:00",
          "2020-02-20T00:00:00",
          "2020-02-21T00:00:00",
          "2020-02-22T00:00:00",
          "2020-02-23T00:00:00",
          "2020-02-24T00:00:00",
          "2020-02-25T00:00:00",
          "2020-02-26T00:00:00",
          "2020-02-27T00:00:00",
          "2020-02-28T00:00:00",
          "2020-02-29T00:00:00",
          "2020-03-01T00:00:00",
          "2020-03-02T00:00:00",
          "2020-03-03T00:00:00",
          "2020-03-04T00:00:00",
          "2020-03-05T00:00:00",
          "2020-03-06T00:00:00",
          "2020-03-07T00:00:00",
          "2020-03-08T00:00:00",
          "2020-03-09T00:00:00",
          "2020-03-10T00:00:00",
          "2020-03-11T00:00:00",
          "2020-03-12T00:00:00",
          "2020-03-13T00:00:00",
          "2020-03-14T00:00:00",
          "2020-03-15T00:00:00",
          "2020-03-16T00:00:00",
          "2020-03-17T00:00:00",
          "2020-03-18T00:00:00",
          "2020-03-19T00:00:00",
          "2020-03-20T00:00:00",
          "2020-03-21T00:00:00",
          "2020-03-22T00:00:00",
          "2020-03-23T00:00:00",
          "2020-03-24T00:00:00",
          "2020-03-25T00:00:00",
          "2020-03-26T00:00:00",
          "2020-03-27T00:00:00",
          "2020-03-28T00:00:00",
          "2020-03-29T00:00:00",
          "2020-03-30T00:00:00",
          "2020-03-31T00:00:00",
          "2020-04-01T00:00:00",
          "2020-04-02T00:00:00",
          "2020-04-03T00:00:00",
          "2020-04-04T00:00:00",
          "2020-04-05T00:00:00",
          "2020-04-06T00:00:00",
          "2020-04-07T00:00:00",
          "2020-04-08T00:00:00",
          "2020-04-09T00:00:00",
          "2020-04-10T00:00:00",
          "2020-04-11T00:00:00",
          "2020-04-12T00:00:00",
          "2020-04-13T00:00:00",
          "2020-04-14T00:00:00",
          "2020-04-15T00:00:00",
          "2020-04-16T00:00:00",
          "2020-04-17T00:00:00",
          "2020-04-18T00:00:00",
          "2020-04-19T00:00:00",
          "2020-04-20T00:00:00",
          "2020-04-21T00:00:00",
          "2020-04-22T00:00:00",
          "2020-04-23T00:00:00",
          "2020-04-24T00:00:00",
          "2020-04-25T00:00:00",
          "2020-04-26T00:00:00",
          "2020-04-27T00:00:00",
          "2020-04-28T00:00:00",
          "2020-04-29T00:00:00",
          "2020-04-30T00:00:00"
         ],
         "y": [
          568181,
          590679,
          499554,
          432773,
          434168,
          463163,
          518893,
          601031,
          635420,
          539670,
          418086,
          515430,
          524123,
          529156,
          581621,
          667434,
          561206,
          513152,
          484519,
          503065,
          519858,
          603991,
          645040,
          572001,
          431427,
          428884,
          470203,
          458304,
          426139,
          473770,
          482781,
          483300,
          492179,
          496465,
          528008,
          582325,
          648107,
          539689,
          531495,
          497657,
          542047,
          564115,
          675274,
          693644,
          567010,
          492541,
          549882,
          541035,
          607844,
          620358,
          587623,
          484702,
          410963,
          447772,
          367554,
          356893,
          415201,
          454452,
          458156,
          443770,
          542760,
          530257,
          364207,
          425594,
          461752,
          417214,
          389782,
          391833,
          430776,
          462225,
          497117,
          542628,
          465886,
          430173,
          434258,
          431506,
          472748,
          555179,
          559819,
          485286,
          417197,
          457329,
          457074,
          471532,
          530901,
          615844,
          492812,
          421386,
          441804,
          470391,
          501996,
          555971,
          591642,
          557270,
          449071,
          455434,
          488177,
          536839,
          620068,
          638767,
          537524,
          488369,
          474745,
          493095,
          532885,
          646480,
          627477,
          520562,
          424054,
          447773,
          476264,
          526308,
          592075,
          631560,
          545883,
          466199,
          520524,
          533830,
          584245,
          639535,
          696720,
          571075,
          479707,
          522644,
          512950,
          513804,
          637006,
          641273,
          531312,
          459584,
          458998,
          448862,
          457530,
          466869,
          434878,
          346448,
          278662,
          221703,
          209000,
          200183,
          211545,
          172896,
          127634,
          123734,
          109797,
          105798,
          105470,
          117381,
          99531,
          81103,
          94889,
          94497,
          94106,
          93652,
          106088,
          90272,
          75556,
          92514,
          92678,
          92899,
          93890,
          107552,
          94656,
          79592,
          99594,
          98181,
          108812,
          111055,
          127578,
          107154,
          92133,
          108366,
          105946,
          110687,
          111585,
          126989,
          112010,
          94219,
          111648,
          116649,
          118377,
          128397
         ]
        },
        {
         "mode": "lines",
         "name": "Juno",
         "type": "scatter",
         "x": [
          "2019-11-01T00:00:00",
          "2019-11-02T00:00:00",
          "2019-11-03T00:00:00",
          "2019-11-04T00:00:00",
          "2019-11-05T00:00:00",
          "2019-11-06T00:00:00",
          "2019-11-07T00:00:00",
          "2019-11-08T00:00:00",
          "2019-11-09T00:00:00",
          "2019-11-10T00:00:00",
          "2019-11-11T00:00:00",
          "2019-11-12T00:00:00",
          "2019-11-13T00:00:00",
          "2019-11-14T00:00:00",
          "2019-11-15T00:00:00",
          "2019-11-16T00:00:00",
          "2019-11-17T00:00:00",
          "2019-11-18T00:00:00"
         ],
         "y": [
          6963,
          6913,
          4495,
          5080,
          5992,
          6174,
          6837,
          6714,
          6738,
          5589,
          4800,
          6068,
          6093,
          6377,
          6294,
          6698,
          5409,
          2645
         ]
        },
        {
         "mode": "lines",
         "name": "Lyft",
         "type": "scatter",
         "x": [
          "2019-11-01T00:00:00",
          "2019-11-02T00:00:00",
          "2019-11-03T00:00:00",
          "2019-11-04T00:00:00",
          "2019-11-05T00:00:00",
          "2019-11-06T00:00:00",
          "2019-11-07T00:00:00",
          "2019-11-08T00:00:00",
          "2019-11-09T00:00:00",
          "2019-11-10T00:00:00",
          "2019-11-11T00:00:00",
          "2019-11-12T00:00:00",
          "2019-11-13T00:00:00",
          "2019-11-14T00:00:00",
          "2019-11-15T00:00:00",
          "2019-11-16T00:00:00",
          "2019-11-17T00:00:00",
          "2019-11-18T00:00:00",
          "2019-11-19T00:00:00",
          "2019-11-20T00:00:00",
          "2019-11-21T00:00:00",
          "2019-11-22T00:00:00",
          "2019-11-23T00:00:00",
          "2019-11-24T00:00:00",
          "2019-11-25T00:00:00",
          "2019-11-26T00:00:00",
          "2019-11-27T00:00:00",
          "2019-11-28T00:00:00",
          "2019-11-29T00:00:00",
          "2019-11-30T00:00:00",
          "2019-12-01T00:00:00",
          "2019-12-02T00:00:00",
          "2019-12-03T00:00:00",
          "2019-12-04T00:00:00",
          "2019-12-05T00:00:00",
          "2019-12-06T00:00:00",
          "2019-12-07T00:00:00",
          "2019-12-08T00:00:00",
          "2019-12-09T00:00:00",
          "2019-12-10T00:00:00",
          "2019-12-11T00:00:00",
          "2019-12-12T00:00:00",
          "2019-12-13T00:00:00",
          "2019-12-14T00:00:00",
          "2019-12-15T00:00:00",
          "2019-12-16T00:00:00",
          "2019-12-17T00:00:00",
          "2019-12-18T00:00:00",
          "2019-12-19T00:00:00",
          "2019-12-20T00:00:00",
          "2019-12-21T00:00:00",
          "2019-12-22T00:00:00",
          "2019-12-23T00:00:00",
          "2019-12-24T00:00:00",
          "2019-12-25T00:00:00",
          "2019-12-26T00:00:00",
          "2019-12-27T00:00:00",
          "2019-12-28T00:00:00",
          "2019-12-29T00:00:00",
          "2019-12-30T00:00:00",
          "2019-12-31T00:00:00",
          "2020-01-01T00:00:00",
          "2020-01-02T00:00:00",
          "2020-01-03T00:00:00",
          "2020-01-04T00:00:00",
          "2020-01-05T00:00:00",
          "2020-01-06T00:00:00",
          "2020-01-07T00:00:00",
          "2020-01-08T00:00:00",
          "2020-01-09T00:00:00",
          "2020-01-10T00:00:00",
          "2020-01-11T00:00:00",
          "2020-01-12T00:00:00",
          "2020-01-13T00:00:00",
          "2020-01-14T00:00:00",
          "2020-01-15T00:00:00",
          "2020-01-16T00:00:00",
          "2020-01-17T00:00:00",
          "2020-01-18T00:00:00",
          "2020-01-19T00:00:00",
          "2020-01-20T00:00:00",
          "2020-01-21T00:00:00",
          "2020-01-22T00:00:00",
          "2020-01-23T00:00:00",
          "2020-01-24T00:00:00",
          "2020-01-25T00:00:00",
          "2020-01-26T00:00:00",
          "2020-01-27T00:00:00",
          "2020-01-28T00:00:00",
          "2020-01-29T00:00:00",
          "2020-01-30T00:00:00",
          "2020-01-31T00:00:00",
          "2020-02-01T00:00:00",
          "2020-02-02T00:00:00",
          "2020-02-03T00:00:00",
          "2020-02-04T00:00:00",
          "2020-02-05T00:00:00",
          "2020-02-06T00:00:00",
          "2020-02-07T00:00:00",
          "2020-02-08T00:00:00",
          "2020-02-09T00:00:00",
          "2020-02-10T00:00:00",
          "2020-02-11T00:00:00",
          "2020-02-12T00:00:00",
          "2020-02-13T00:00:00",
          "2020-02-14T00:00:00",
          "2020-02-15T00:00:00",
          "2020-02-16T00:00:00",
          "2020-02-17T00:00:00",
          "2020-02-18T00:00:00",
          "2020-02-19T00:00:00",
          "2020-02-20T00:00:00",
          "2020-02-21T00:00:00",
          "2020-02-22T00:00:00",
          "2020-02-23T00:00:00",
          "2020-02-24T00:00:00",
          "2020-02-25T00:00:00",
          "2020-02-26T00:00:00",
          "2020-02-27T00:00:00",
          "2020-02-28T00:00:00",
          "2020-02-29T00:00:00",
          "2020-03-01T00:00:00",
          "2020-03-02T00:00:00",
          "2020-03-03T00:00:00",
          "2020-03-04T00:00:00",
          "2020-03-05T00:00:00",
          "2020-03-06T00:00:00",
          "2020-03-07T00:00:00",
          "2020-03-08T00:00:00",
          "2020-03-09T00:00:00",
          "2020-03-10T00:00:00",
          "2020-03-11T00:00:00",
          "2020-03-12T00:00:00",
          "2020-03-13T00:00:00",
          "2020-03-14T00:00:00",
          "2020-03-15T00:00:00",
          "2020-03-16T00:00:00",
          "2020-03-17T00:00:00",
          "2020-03-18T00:00:00",
          "2020-03-19T00:00:00",
          "2020-03-20T00:00:00",
          "2020-03-21T00:00:00",
          "2020-03-22T00:00:00",
          "2020-03-23T00:00:00",
          "2020-03-24T00:00:00",
          "2020-03-25T00:00:00",
          "2020-03-26T00:00:00",
          "2020-03-27T00:00:00",
          "2020-03-28T00:00:00",
          "2020-03-29T00:00:00",
          "2020-03-30T00:00:00",
          "2020-03-31T00:00:00",
          "2020-04-01T00:00:00",
          "2020-04-02T00:00:00",
          "2020-04-03T00:00:00",
          "2020-04-04T00:00:00",
          "2020-04-05T00:00:00",
          "2020-04-06T00:00:00",
          "2020-04-07T00:00:00",
          "2020-04-08T00:00:00",
          "2020-04-09T00:00:00",
          "2020-04-10T00:00:00",
          "2020-04-11T00:00:00",
          "2020-04-12T00:00:00",
          "2020-04-13T00:00:00",
          "2020-04-14T00:00:00",
          "2020-04-15T00:00:00",
          "2020-04-16T00:00:00",
          "2020-04-17T00:00:00",
          "2020-04-18T00:00:00",
          "2020-04-19T00:00:00",
          "2020-04-20T00:00:00",
          "2020-04-21T00:00:00",
          "2020-04-22T00:00:00",
          "2020-04-23T00:00:00",
          "2020-04-24T00:00:00",
          "2020-04-25T00:00:00",
          "2020-04-26T00:00:00",
          "2020-04-27T00:00:00",
          "2020-04-28T00:00:00",
          "2020-04-29T00:00:00",
          "2020-04-30T00:00:00"
         ],
         "y": [
          213568,
          225958,
          181609,
          135471,
          125298,
          133047,
          156817,
          185036,
          215470,
          186806,
          120334,
          151179,
          147919,
          154977,
          177429,
          219372,
          192405,
          141205,
          133285,
          147781,
          164035,
          193709,
          223315,
          204295,
          150885,
          160607,
          178846,
          175328,
          156526,
          192225,
          211363,
          168959,
          164954,
          161307,
          177015,
          208011,
          244304,
          213104,
          170645,
          163400,
          163658,
          177489,
          197952,
          235103,
          209725,
          164574,
          177548,
          165610,
          186887,
          193392,
          212120,
          178540,
          141965,
          145454,
          113191,
          107196,
          129177,
          155780,
          169494,
          157562,
          164503,
          158722,
          115468,
          147182,
          179245,
          168259,
          133524,
          134512,
          138503,
          157538,
          172432,
          209679,
          190670,
          144362,
          143246,
          143093,
          169550,
          215954,
          232020,
          214345,
          158638,
          152363,
          158323,
          171676,
          199792,
          252456,
          197589,
          147731,
          143214,
          147936,
          170724,
          205502,
          225728,
          210171,
          144684,
          140767,
          149435,
          176747,
          213446,
          242955,
          208334,
          169076,
          156670,
          157806,
          187281,
          215036,
          243454,
          207332,
          144508,
          131995,
          143984,
          170632,
          206329,
          226252,
          193729,
          140033,
          147910,
          155581,
          178711,
          208857,
          242106,
          198692,
          146470,
          150462,
          169524,
          190972,
          209796,
          226778,
          185843,
          147601,
          144810,
          158213,
          166146,
          178447,
          124706,
          94712,
          104633,
          84428,
          55832,
          49357,
          47325,
          40734,
          33032,
          36120,
          29802,
          33327,
          33854,
          39431,
          36914,
          32731,
          35741,
          33102,
          35951,
          35575,
          42042,
          33926,
          30562,
          32729,
          30951,
          32024,
          32540,
          36791,
          35644,
          31614,
          37201,
          34878,
          39254,
          39956,
          43888,
          38931,
          38481,
          42746,
          40546,
          40523,
          40276,
          46296,
          44794,
          39685,
          41358,
          40319,
          41142,
          43460
         ]
        },
        {
         "mode": "lines",
         "name": "Via",
         "type": "scatter",
         "x": [
          "2019-11-01T00:00:00",
          "2019-11-02T00:00:00",
          "2019-11-03T00:00:00",
          "2019-11-04T00:00:00",
          "2019-11-05T00:00:00",
          "2019-11-06T00:00:00",
          "2019-11-07T00:00:00",
          "2019-11-08T00:00:00",
          "2019-11-09T00:00:00",
          "2019-11-10T00:00:00",
          "2019-11-11T00:00:00",
          "2019-11-12T00:00:00",
          "2019-11-13T00:00:00",
          "2019-11-14T00:00:00",
          "2019-11-15T00:00:00",
          "2019-11-16T00:00:00",
          "2019-11-17T00:00:00",
          "2019-11-18T00:00:00",
          "2019-11-19T00:00:00",
          "2019-11-20T00:00:00",
          "2019-11-21T00:00:00",
          "2019-11-22T00:00:00",
          "2019-11-23T00:00:00",
          "2019-11-24T00:00:00",
          "2019-11-25T00:00:00",
          "2019-11-26T00:00:00",
          "2019-11-27T00:00:00",
          "2019-11-28T00:00:00",
          "2019-11-29T00:00:00",
          "2019-11-30T00:00:00",
          "2019-12-01T00:00:00",
          "2019-12-02T00:00:00",
          "2019-12-03T00:00:00",
          "2019-12-04T00:00:00",
          "2019-12-05T00:00:00",
          "2019-12-06T00:00:00",
          "2019-12-07T00:00:00",
          "2019-12-08T00:00:00",
          "2019-12-09T00:00:00",
          "2019-12-10T00:00:00",
          "2019-12-11T00:00:00",
          "2019-12-12T00:00:00",
          "2019-12-13T00:00:00",
          "2019-12-14T00:00:00",
          "2019-12-15T00:00:00",
          "2019-12-16T00:00:00",
          "2019-12-17T00:00:00",
          "2019-12-18T00:00:00",
          "2019-12-19T00:00:00",
          "2019-12-20T00:00:00",
          "2019-12-21T00:00:00",
          "2019-12-22T00:00:00",
          "2019-12-23T00:00:00",
          "2019-12-24T00:00:00",
          "2019-12-25T00:00:00",
          "2019-12-26T00:00:00",
          "2019-12-27T00:00:00",
          "2019-12-28T00:00:00",
          "2019-12-29T00:00:00",
          "2019-12-30T00:00:00",
          "2019-12-31T00:00:00",
          "2020-01-01T00:00:00",
          "2020-01-02T00:00:00",
          "2020-01-03T00:00:00",
          "2020-01-04T00:00:00",
          "2020-01-05T00:00:00",
          "2020-01-06T00:00:00",
          "2020-01-07T00:00:00",
          "2020-01-08T00:00:00",
          "2020-01-09T00:00:00",
          "2020-01-10T00:00:00",
          "2020-01-11T00:00:00",
          "2020-01-12T00:00:00",
          "2020-01-13T00:00:00",
          "2020-01-14T00:00:00",
          "2020-01-15T00:00:00",
          "2020-01-16T00:00:00",
          "2020-01-17T00:00:00",
          "2020-01-18T00:00:00",
          "2020-01-19T00:00:00",
          "2020-01-20T00:00:00",
          "2020-01-21T00:00:00",
          "2020-01-22T00:00:00",
          "2020-01-23T00:00:00",
          "2020-01-24T00:00:00",
          "2020-01-25T00:00:00",
          "2020-01-26T00:00:00",
          "2020-01-27T00:00:00",
          "2020-01-28T00:00:00",
          "2020-01-29T00:00:00",
          "2020-01-30T00:00:00",
          "2020-01-31T00:00:00",
          "2020-02-01T00:00:00",
          "2020-02-02T00:00:00",
          "2020-02-03T00:00:00",
          "2020-02-04T00:00:00",
          "2020-02-05T00:00:00",
          "2020-02-06T00:00:00",
          "2020-02-07T00:00:00",
          "2020-02-08T00:00:00",
          "2020-02-09T00:00:00",
          "2020-02-10T00:00:00",
          "2020-02-11T00:00:00",
          "2020-02-12T00:00:00",
          "2020-02-13T00:00:00",
          "2020-02-14T00:00:00",
          "2020-02-15T00:00:00",
          "2020-02-16T00:00:00",
          "2020-02-17T00:00:00",
          "2020-02-18T00:00:00",
          "2020-02-19T00:00:00",
          "2020-02-20T00:00:00",
          "2020-02-21T00:00:00",
          "2020-02-22T00:00:00",
          "2020-02-23T00:00:00",
          "2020-02-24T00:00:00",
          "2020-02-25T00:00:00",
          "2020-02-26T00:00:00",
          "2020-02-27T00:00:00",
          "2020-02-28T00:00:00",
          "2020-02-29T00:00:00",
          "2020-03-01T00:00:00",
          "2020-03-02T00:00:00",
          "2020-03-03T00:00:00",
          "2020-03-04T00:00:00",
          "2020-03-05T00:00:00",
          "2020-03-06T00:00:00",
          "2020-03-07T00:00:00",
          "2020-03-08T00:00:00",
          "2020-03-09T00:00:00",
          "2020-03-10T00:00:00",
          "2020-03-11T00:00:00",
          "2020-03-12T00:00:00",
          "2020-03-13T00:00:00",
          "2020-03-14T00:00:00",
          "2020-03-15T00:00:00",
          "2020-03-16T00:00:00",
          "2020-03-17T00:00:00",
          "2020-03-18T00:00:00",
          "2020-03-19T00:00:00",
          "2020-03-20T00:00:00",
          "2020-03-21T00:00:00",
          "2020-03-22T00:00:00",
          "2020-03-23T00:00:00",
          "2020-03-24T00:00:00",
          "2020-03-25T00:00:00",
          "2020-03-26T00:00:00",
          "2020-03-27T00:00:00",
          "2020-03-28T00:00:00",
          "2020-03-29T00:00:00",
          "2020-03-30T00:00:00",
          "2020-03-31T00:00:00",
          "2020-04-01T00:00:00",
          "2020-04-02T00:00:00",
          "2020-04-03T00:00:00",
          "2020-04-04T00:00:00",
          "2020-04-05T00:00:00",
          "2020-04-06T00:00:00",
          "2020-04-07T00:00:00",
          "2020-04-08T00:00:00",
          "2020-04-09T00:00:00",
          "2020-04-10T00:00:00",
          "2020-04-11T00:00:00",
          "2020-04-12T00:00:00",
          "2020-04-13T00:00:00",
          "2020-04-14T00:00:00",
          "2020-04-15T00:00:00",
          "2020-04-16T00:00:00",
          "2020-04-17T00:00:00",
          "2020-04-18T00:00:00",
          "2020-04-19T00:00:00",
          "2020-04-20T00:00:00",
          "2020-04-21T00:00:00",
          "2020-04-22T00:00:00",
          "2020-04-23T00:00:00",
          "2020-04-24T00:00:00",
          "2020-04-25T00:00:00",
          "2020-04-26T00:00:00",
          "2020-04-27T00:00:00",
          "2020-04-28T00:00:00",
          "2020-04-29T00:00:00",
          "2020-04-30T00:00:00"
         ],
         "y": [
          32136,
          26358,
          20137,
          27526,
          29226,
          29938,
          30722,
          30656,
          22783,
          19174,
          23815,
          29102,
          30574,
          31183,
          29399,
          23868,
          20185,
          28393,
          28871,
          30281,
          30970,
          30095,
          23559,
          20247,
          27098,
          27367,
          23866,
          13842,
          15806,
          16774,
          16344,
          27491,
          29220,
          29397,
          30960,
          18078,
          23660,
          19339,
          27837,
          28408,
          29692,
          29850,
          30020,
          25614,
          21276,
          27244,
          29951,
          29356,
          32107,
          30910,
          20799,
          16394,
          18224,
          15286,
          9843,
          14231,
          15356,
          13225,
          12397,
          17669,
          17387,
          15868,
          20238,
          22147,
          16996,
          15178,
          24423,
          25894,
          27197,
          28005,
          26351,
          19274,
          16190,
          25680,
          26085,
          26219,
          26774,
          27207,
          16886,
          15953,
          16222,
          26272,
          27000,
          26869,
          25897,
          19354,
          16539,
          24151,
          25715,
          26963,
          27894,
          27159,
          19340,
          18638,
          24159,
          25656,
          25712,
          26398,
          27275,
          19737,
          16249,
          23791,
          25744,
          26476,
          26357,
          25068,
          17783,
          14866,
          14166,
          21559,
          23119,
          24611,
          23880,
          16866,
          14215,
          22315,
          24600,
          24809,
          25627,
          24964,
          17961,
          14479,
          22809,
          24774,
          25405,
          26389,
          25210,
          18020,
          14067,
          21755,
          22666,
          21526,
          19581,
          15598,
          9813,
          6965,
          8223,
          6167,
          4400,
          3233,
          3030,
          2115,
          1499,
          2538,
          2087,
          1963,
          2283,
          2527,
          2011,
          1559,
          1963,
          1951,
          2018,
          1980,
          2299,
          1740,
          1378,
          1855,
          1865,
          2001,
          2104,
          2388,
          1984,
          1600,
          2130,
          2093,
          2115,
          2280,
          2487,
          1916,
          1797,
          2346,
          2286,
          2547,
          2501,
          2847,
          2402,
          1934,
          2542,
          2652,
          2848,
          3056
         ]
        }
       ],
       "layout": {
        "legend": {
         "title": {
          "text": "Taxi Type"
         }
        },
        "plot_bgcolor": "rgba(245, 245, 245 ,10)",
        "shapes": [
         {
          "line": {
           "color": "green",
           "width": 1.5
          },
          "type": "line",
          "x0": "2020-03-07",
          "x1": "2020-03-07",
          "xref": "x",
          "y0": 0,
          "y1": 1,
          "yref": "y domain"
         }
        ],
        "template": {
         "data": {
          "bar": [
           {
            "error_x": {
             "color": "#2a3f5f"
            },
            "error_y": {
             "color": "#2a3f5f"
            },
            "marker": {
             "line": {
              "color": "#E5ECF6",
              "width": 0.5
             }
            },
            "type": "bar"
           }
          ],
          "barpolar": [
           {
            "marker": {
             "line": {
              "color": "#E5ECF6",
              "width": 0.5
             }
            },
            "type": "barpolar"
           }
          ],
          "carpet": [
           {
            "aaxis": {
             "endlinecolor": "#2a3f5f",
             "gridcolor": "white",
             "linecolor": "white",
             "minorgridcolor": "white",
             "startlinecolor": "#2a3f5f"
            },
            "baxis": {
             "endlinecolor": "#2a3f5f",
             "gridcolor": "white",
             "linecolor": "white",
             "minorgridcolor": "white",
             "startlinecolor": "#2a3f5f"
            },
            "type": "carpet"
           }
          ],
          "choropleth": [
           {
            "colorbar": {
             "outlinewidth": 0,
             "ticks": ""
            },
            "type": "choropleth"
           }
          ],
          "contour": [
           {
            "colorbar": {
             "outlinewidth": 0,
             "ticks": ""
            },
            "colorscale": [
             [
              0,
              "#0d0887"
             ],
             [
              0.1111111111111111,
              "#46039f"
             ],
             [
              0.2222222222222222,
              "#7201a8"
             ],
             [
              0.3333333333333333,
              "#9c179e"
             ],
             [
              0.4444444444444444,
              "#bd3786"
             ],
             [
              0.5555555555555556,
              "#d8576b"
             ],
             [
              0.6666666666666666,
              "#ed7953"
             ],
             [
              0.7777777777777778,
              "#fb9f3a"
             ],
             [
              0.8888888888888888,
              "#fdca26"
             ],
             [
              1,
              "#f0f921"
             ]
            ],
            "type": "contour"
           }
          ],
          "contourcarpet": [
           {
            "colorbar": {
             "outlinewidth": 0,
             "ticks": ""
            },
            "type": "contourcarpet"
           }
          ],
          "heatmap": [
           {
            "colorbar": {
             "outlinewidth": 0,
             "ticks": ""
            },
            "colorscale": [
             [
              0,
              "#0d0887"
             ],
             [
              0.1111111111111111,
              "#46039f"
             ],
             [
              0.2222222222222222,
              "#7201a8"
             ],
             [
              0.3333333333333333,
              "#9c179e"
             ],
             [
              0.4444444444444444,
              "#bd3786"
             ],
             [
              0.5555555555555556,
              "#d8576b"
             ],
             [
              0.6666666666666666,
              "#ed7953"
             ],
             [
              0.7777777777777778,
              "#fb9f3a"
             ],
             [
              0.8888888888888888,
              "#fdca26"
             ],
             [
              1,
              "#f0f921"
             ]
            ],
            "type": "heatmap"
           }
          ],
          "heatmapgl": [
           {
            "colorbar": {
             "outlinewidth": 0,
             "ticks": ""
            },
            "colorscale": [
             [
              0,
              "#0d0887"
             ],
             [
              0.1111111111111111,
              "#46039f"
             ],
             [
              0.2222222222222222,
              "#7201a8"
             ],
             [
              0.3333333333333333,
              "#9c179e"
             ],
             [
              0.4444444444444444,
              "#bd3786"
             ],
             [
              0.5555555555555556,
              "#d8576b"
             ],
             [
              0.6666666666666666,
              "#ed7953"
             ],
             [
              0.7777777777777778,
              "#fb9f3a"
             ],
             [
              0.8888888888888888,
              "#fdca26"
             ],
             [
              1,
              "#f0f921"
             ]
            ],
            "type": "heatmapgl"
           }
          ],
          "histogram": [
           {
            "marker": {
             "colorbar": {
              "outlinewidth": 0,
              "ticks": ""
             }
            },
            "type": "histogram"
           }
          ],
          "histogram2d": [
           {
            "colorbar": {
             "outlinewidth": 0,
             "ticks": ""
            },
            "colorscale": [
             [
              0,
              "#0d0887"
             ],
             [
              0.1111111111111111,
              "#46039f"
             ],
             [
              0.2222222222222222,
              "#7201a8"
             ],
             [
              0.3333333333333333,
              "#9c179e"
             ],
             [
              0.4444444444444444,
              "#bd3786"
             ],
             [
              0.5555555555555556,
              "#d8576b"
             ],
             [
              0.6666666666666666,
              "#ed7953"
             ],
             [
              0.7777777777777778,
              "#fb9f3a"
             ],
             [
              0.8888888888888888,
              "#fdca26"
             ],
             [
              1,
              "#f0f921"
             ]
            ],
            "type": "histogram2d"
           }
          ],
          "histogram2dcontour": [
           {
            "colorbar": {
             "outlinewidth": 0,
             "ticks": ""
            },
            "colorscale": [
             [
              0,
              "#0d0887"
             ],
             [
              0.1111111111111111,
              "#46039f"
             ],
             [
              0.2222222222222222,
              "#7201a8"
             ],
             [
              0.3333333333333333,
              "#9c179e"
             ],
             [
              0.4444444444444444,
              "#bd3786"
             ],
             [
              0.5555555555555556,
              "#d8576b"
             ],
             [
              0.6666666666666666,
              "#ed7953"
             ],
             [
              0.7777777777777778,
              "#fb9f3a"
             ],
             [
              0.8888888888888888,
              "#fdca26"
             ],
             [
              1,
              "#f0f921"
             ]
            ],
            "type": "histogram2dcontour"
           }
          ],
          "mesh3d": [
           {
            "colorbar": {
             "outlinewidth": 0,
             "ticks": ""
            },
            "type": "mesh3d"
           }
          ],
          "parcoords": [
           {
            "line": {
             "colorbar": {
              "outlinewidth": 0,
              "ticks": ""
             }
            },
            "type": "parcoords"
           }
          ],
          "pie": [
           {
            "automargin": true,
            "type": "pie"
           }
          ],
          "scatter": [
           {
            "marker": {
             "colorbar": {
              "outlinewidth": 0,
              "ticks": ""
             }
            },
            "type": "scatter"
           }
          ],
          "scatter3d": [
           {
            "line": {
             "colorbar": {
              "outlinewidth": 0,
              "ticks": ""
             }
            },
            "marker": {
             "colorbar": {
              "outlinewidth": 0,
              "ticks": ""
             }
            },
            "type": "scatter3d"
           }
          ],
          "scattercarpet": [
           {
            "marker": {
             "colorbar": {
              "outlinewidth": 0,
              "ticks": ""
             }
            },
            "type": "scattercarpet"
           }
          ],
          "scattergeo": [
           {
            "marker": {
             "colorbar": {
              "outlinewidth": 0,
              "ticks": ""
             }
            },
            "type": "scattergeo"
           }
          ],
          "scattergl": [
           {
            "marker": {
             "colorbar": {
              "outlinewidth": 0,
              "ticks": ""
             }
            },
            "type": "scattergl"
           }
          ],
          "scattermapbox": [
           {
            "marker": {
             "colorbar": {
              "outlinewidth": 0,
              "ticks": ""
             }
            },
            "type": "scattermapbox"
           }
          ],
          "scatterpolar": [
           {
            "marker": {
             "colorbar": {
              "outlinewidth": 0,
              "ticks": ""
             }
            },
            "type": "scatterpolar"
           }
          ],
          "scatterpolargl": [
           {
            "marker": {
             "colorbar": {
              "outlinewidth": 0,
              "ticks": ""
             }
            },
            "type": "scatterpolargl"
           }
          ],
          "scatterternary": [
           {
            "marker": {
             "colorbar": {
              "outlinewidth": 0,
              "ticks": ""
             }
            },
            "type": "scatterternary"
           }
          ],
          "surface": [
           {
            "colorbar": {
             "outlinewidth": 0,
             "ticks": ""
            },
            "colorscale": [
             [
              0,
              "#0d0887"
             ],
             [
              0.1111111111111111,
              "#46039f"
             ],
             [
              0.2222222222222222,
              "#7201a8"
             ],
             [
              0.3333333333333333,
              "#9c179e"
             ],
             [
              0.4444444444444444,
              "#bd3786"
             ],
             [
              0.5555555555555556,
              "#d8576b"
             ],
             [
              0.6666666666666666,
              "#ed7953"
             ],
             [
              0.7777777777777778,
              "#fb9f3a"
             ],
             [
              0.8888888888888888,
              "#fdca26"
             ],
             [
              1,
              "#f0f921"
             ]
            ],
            "type": "surface"
           }
          ],
          "table": [
           {
            "cells": {
             "fill": {
              "color": "#EBF0F8"
             },
             "line": {
              "color": "white"
             }
            },
            "header": {
             "fill": {
              "color": "#C8D4E3"
             },
             "line": {
              "color": "white"
             }
            },
            "type": "table"
           }
          ]
         },
         "layout": {
          "annotationdefaults": {
           "arrowcolor": "#2a3f5f",
           "arrowhead": 0,
           "arrowwidth": 1
          },
          "autotypenumbers": "strict",
          "coloraxis": {
           "colorbar": {
            "outlinewidth": 0,
            "ticks": ""
           }
          },
          "colorscale": {
           "diverging": [
            [
             0,
             "#8e0152"
            ],
            [
             0.1,
             "#c51b7d"
            ],
            [
             0.2,
             "#de77ae"
            ],
            [
             0.3,
             "#f1b6da"
            ],
            [
             0.4,
             "#fde0ef"
            ],
            [
             0.5,
             "#f7f7f7"
            ],
            [
             0.6,
             "#e6f5d0"
            ],
            [
             0.7,
             "#b8e186"
            ],
            [
             0.8,
             "#7fbc41"
            ],
            [
             0.9,
             "#4d9221"
            ],
            [
             1,
             "#276419"
            ]
           ],
           "sequential": [
            [
             0,
             "#0d0887"
            ],
            [
             0.1111111111111111,
             "#46039f"
            ],
            [
             0.2222222222222222,
             "#7201a8"
            ],
            [
             0.3333333333333333,
             "#9c179e"
            ],
            [
             0.4444444444444444,
             "#bd3786"
            ],
            [
             0.5555555555555556,
             "#d8576b"
            ],
            [
             0.6666666666666666,
             "#ed7953"
            ],
            [
             0.7777777777777778,
             "#fb9f3a"
            ],
            [
             0.8888888888888888,
             "#fdca26"
            ],
            [
             1,
             "#f0f921"
            ]
           ],
           "sequentialminus": [
            [
             0,
             "#0d0887"
            ],
            [
             0.1111111111111111,
             "#46039f"
            ],
            [
             0.2222222222222222,
             "#7201a8"
            ],
            [
             0.3333333333333333,
             "#9c179e"
            ],
            [
             0.4444444444444444,
             "#bd3786"
            ],
            [
             0.5555555555555556,
             "#d8576b"
            ],
            [
             0.6666666666666666,
             "#ed7953"
            ],
            [
             0.7777777777777778,
             "#fb9f3a"
            ],
            [
             0.8888888888888888,
             "#fdca26"
            ],
            [
             1,
             "#f0f921"
            ]
           ]
          },
          "colorway": [
           "#636efa",
           "#EF553B",
           "#00cc96",
           "#ab63fa",
           "#FFA15A",
           "#19d3f3",
           "#FF6692",
           "#B6E880",
           "#FF97FF",
           "#FECB52"
          ],
          "font": {
           "color": "#2a3f5f"
          },
          "geo": {
           "bgcolor": "white",
           "lakecolor": "white",
           "landcolor": "#E5ECF6",
           "showlakes": true,
           "showland": true,
           "subunitcolor": "white"
          },
          "hoverlabel": {
           "align": "left"
          },
          "hovermode": "closest",
          "mapbox": {
           "style": "light"
          },
          "paper_bgcolor": "white",
          "plot_bgcolor": "#E5ECF6",
          "polar": {
           "angularaxis": {
            "gridcolor": "white",
            "linecolor": "white",
            "ticks": ""
           },
           "bgcolor": "#E5ECF6",
           "radialaxis": {
            "gridcolor": "white",
            "linecolor": "white",
            "ticks": ""
           }
          },
          "scene": {
           "xaxis": {
            "backgroundcolor": "#E5ECF6",
            "gridcolor": "white",
            "gridwidth": 2,
            "linecolor": "white",
            "showbackground": true,
            "ticks": "",
            "zerolinecolor": "white"
           },
           "yaxis": {
            "backgroundcolor": "#E5ECF6",
            "gridcolor": "white",
            "gridwidth": 2,
            "linecolor": "white",
            "showbackground": true,
            "ticks": "",
            "zerolinecolor": "white"
           },
           "zaxis": {
            "backgroundcolor": "#E5ECF6",
            "gridcolor": "white",
            "gridwidth": 2,
            "linecolor": "white",
            "showbackground": true,
            "ticks": "",
            "zerolinecolor": "white"
           }
          },
          "shapedefaults": {
           "line": {
            "color": "#2a3f5f"
           }
          },
          "ternary": {
           "aaxis": {
            "gridcolor": "white",
            "linecolor": "white",
            "ticks": ""
           },
           "baxis": {
            "gridcolor": "white",
            "linecolor": "white",
            "ticks": ""
           },
           "bgcolor": "#E5ECF6",
           "caxis": {
            "gridcolor": "white",
            "linecolor": "white",
            "ticks": ""
           }
          },
          "title": {
           "x": 0.05
          },
          "xaxis": {
           "automargin": true,
           "gridcolor": "white",
           "linecolor": "white",
           "ticks": "",
           "title": {
            "standoff": 15
           },
           "zerolinecolor": "white",
           "zerolinewidth": 2
          },
          "yaxis": {
           "automargin": true,
           "gridcolor": "white",
           "linecolor": "white",
           "ticks": "",
           "title": {
            "standoff": 15
           },
           "zerolinecolor": "white",
           "zerolinewidth": 2
          }
         }
        },
        "title": {
         "text": "Pickup Volume Across Six Months"
        },
        "xaxis": {
         "gridcolor": "rgb(227, 227, 227)",
         "title": {
          "text": "Time"
         },
         "zerolinecolor": "rgb(125, 125, 125)",
         "zerolinewidth": 3
        },
        "yaxis": {
         "gridcolor": "rgb(227, 227, 227)",
         "title": {
          "text": "Pickup Volume"
         }
        }
       }
      },
      "text/html": [
       "<div>                            <div id=\"db5f2eb3-d088-4654-b5fa-ee35d23a073f\" class=\"plotly-graph-div\" style=\"height:525px; width:100%;\"></div>            <script type=\"text/javascript\">                require([\"plotly\"], function(Plotly) {                    window.PLOTLYENV=window.PLOTLYENV || {};                                    if (document.getElementById(\"db5f2eb3-d088-4654-b5fa-ee35d23a073f\")) {                    Plotly.newPlot(                        \"db5f2eb3-d088-4654-b5fa-ee35d23a073f\",                        [{\"mode\": \"lines\", \"name\": \"Yellow Taxi\", \"type\": \"scatter\", \"x\": [\"2019-11-01T00:00:00\", \"2019-11-02T00:00:00\", \"2019-11-03T00:00:00\", \"2019-11-04T00:00:00\", \"2019-11-05T00:00:00\", \"2019-11-06T00:00:00\", \"2019-11-07T00:00:00\", \"2019-11-08T00:00:00\", \"2019-11-09T00:00:00\", \"2019-11-10T00:00:00\", \"2019-11-11T00:00:00\", \"2019-11-12T00:00:00\", \"2019-11-13T00:00:00\", \"2019-11-14T00:00:00\", \"2019-11-15T00:00:00\", \"2019-11-16T00:00:00\", \"2019-11-17T00:00:00\", \"2019-11-18T00:00:00\", \"2019-11-19T00:00:00\", \"2019-11-20T00:00:00\", \"2019-11-21T00:00:00\", \"2019-11-22T00:00:00\", \"2019-11-23T00:00:00\", \"2019-11-24T00:00:00\", \"2019-11-25T00:00:00\", \"2019-11-26T00:00:00\", \"2019-11-27T00:00:00\", \"2019-11-28T00:00:00\", \"2019-11-29T00:00:00\", \"2019-11-30T00:00:00\", \"2019-12-01T00:00:00\", \"2019-12-02T00:00:00\", \"2019-12-03T00:00:00\", \"2019-12-04T00:00:00\", \"2019-12-05T00:00:00\", \"2019-12-06T00:00:00\", \"2019-12-07T00:00:00\", \"2019-12-08T00:00:00\", \"2019-12-09T00:00:00\", \"2019-12-10T00:00:00\", \"2019-12-11T00:00:00\", \"2019-12-12T00:00:00\", \"2019-12-13T00:00:00\", \"2019-12-14T00:00:00\", \"2019-12-15T00:00:00\", \"2019-12-16T00:00:00\", \"2019-12-17T00:00:00\", \"2019-12-18T00:00:00\", \"2019-12-19T00:00:00\", \"2019-12-20T00:00:00\", \"2019-12-21T00:00:00\", \"2019-12-22T00:00:00\", \"2019-12-23T00:00:00\", \"2019-12-24T00:00:00\", \"2019-12-25T00:00:00\", \"2019-12-26T00:00:00\", \"2019-12-27T00:00:00\", \"2019-12-28T00:00:00\", \"2019-12-29T00:00:00\", \"2019-12-30T00:00:00\", \"2019-12-31T00:00:00\", \"2020-01-01T00:00:00\", \"2020-01-02T00:00:00\", \"2020-01-03T00:00:00\", \"2020-01-04T00:00:00\", \"2020-01-05T00:00:00\", \"2020-01-06T00:00:00\", \"2020-01-07T00:00:00\", \"2020-01-08T00:00:00\", \"2020-01-09T00:00:00\", \"2020-01-10T00:00:00\", \"2020-01-11T00:00:00\", \"2020-01-12T00:00:00\", \"2020-01-13T00:00:00\", \"2020-01-14T00:00:00\", \"2020-01-15T00:00:00\", \"2020-01-16T00:00:00\", \"2020-01-17T00:00:00\", \"2020-01-18T00:00:00\", \"2020-01-19T00:00:00\", \"2020-01-20T00:00:00\", \"2020-01-21T00:00:00\", \"2020-01-22T00:00:00\", \"2020-01-23T00:00:00\", \"2020-01-24T00:00:00\", \"2020-01-25T00:00:00\", \"2020-01-26T00:00:00\", \"2020-01-27T00:00:00\", \"2020-01-28T00:00:00\", \"2020-01-29T00:00:00\", \"2020-01-30T00:00:00\", \"2020-01-31T00:00:00\", \"2020-02-01T00:00:00\", \"2020-02-02T00:00:00\", \"2020-02-03T00:00:00\", \"2020-02-04T00:00:00\", \"2020-02-05T00:00:00\", \"2020-02-06T00:00:00\", \"2020-02-07T00:00:00\", \"2020-02-08T00:00:00\", \"2020-02-09T00:00:00\", \"2020-02-10T00:00:00\", \"2020-02-11T00:00:00\", \"2020-02-12T00:00:00\", \"2020-02-13T00:00:00\", \"2020-02-14T00:00:00\", \"2020-02-15T00:00:00\", \"2020-02-16T00:00:00\", \"2020-02-17T00:00:00\", \"2020-02-18T00:00:00\", \"2020-02-19T00:00:00\", \"2020-02-20T00:00:00\", \"2020-02-21T00:00:00\", \"2020-02-22T00:00:00\", \"2020-02-23T00:00:00\", \"2020-02-24T00:00:00\", \"2020-02-25T00:00:00\", \"2020-02-26T00:00:00\", \"2020-02-27T00:00:00\", \"2020-02-28T00:00:00\", \"2020-02-29T00:00:00\", \"2020-03-01T00:00:00\", \"2020-03-02T00:00:00\", \"2020-03-03T00:00:00\", \"2020-03-04T00:00:00\", \"2020-03-05T00:00:00\", \"2020-03-06T00:00:00\", \"2020-03-07T00:00:00\", \"2020-03-08T00:00:00\", \"2020-03-09T00:00:00\", \"2020-03-10T00:00:00\", \"2020-03-11T00:00:00\", \"2020-03-12T00:00:00\", \"2020-03-13T00:00:00\", \"2020-03-14T00:00:00\", \"2020-03-15T00:00:00\", \"2020-03-16T00:00:00\", \"2020-03-17T00:00:00\", \"2020-03-18T00:00:00\", \"2020-03-19T00:00:00\", \"2020-03-20T00:00:00\", \"2020-03-21T00:00:00\", \"2020-03-22T00:00:00\", \"2020-03-23T00:00:00\", \"2020-03-24T00:00:00\", \"2020-03-25T00:00:00\", \"2020-03-26T00:00:00\", \"2020-03-27T00:00:00\", \"2020-03-28T00:00:00\", \"2020-03-29T00:00:00\", \"2020-03-30T00:00:00\", \"2020-03-31T00:00:00\", \"2020-04-01T00:00:00\", \"2020-04-02T00:00:00\", \"2020-04-03T00:00:00\", \"2020-04-04T00:00:00\", \"2020-04-05T00:00:00\", \"2020-04-06T00:00:00\", \"2020-04-07T00:00:00\", \"2020-04-08T00:00:00\", \"2020-04-09T00:00:00\", \"2020-04-10T00:00:00\", \"2020-04-11T00:00:00\", \"2020-04-12T00:00:00\", \"2020-04-13T00:00:00\", \"2020-04-14T00:00:00\", \"2020-04-15T00:00:00\", \"2020-04-16T00:00:00\", \"2020-04-17T00:00:00\", \"2020-04-18T00:00:00\", \"2020-04-19T00:00:00\", \"2020-04-20T00:00:00\", \"2020-04-21T00:00:00\", \"2020-04-22T00:00:00\", \"2020-04-23T00:00:00\", \"2020-04-24T00:00:00\", \"2020-04-25T00:00:00\", \"2020-04-26T00:00:00\", \"2020-04-27T00:00:00\", \"2020-04-28T00:00:00\", \"2020-04-29T00:00:00\", \"2020-04-30T00:00:00\"], \"y\": [276056, 249616, 211208, 218546, 229324, 244732, 258222, 269399, 244849, 204009, 187087, 241991, 252007, 260966, 257847, 257993, 209353, 228515, 235069, 249603, 261117, 247479, 240269, 205067, 211096, 224681, 208600, 138463, 164426, 190033, 182601, 208525, 249197, 250790, 272259, 274921, 267696, 222438, 225452, 246744, 267848, 278488, 278129, 263929, 233950, 236418, 256629, 267246, 286929, 274892, 227258, 179054, 180870, 164421, 101911, 146952, 169615, 172029, 165125, 174562, 169322, 169442, 162160, 183477, 182765, 164402, 179520, 201521, 217105, 231687, 228203, 217503, 186745, 209210, 217734, 217496, 239661, 243689, 190165, 175836, 161956, 213824, 221898, 232108, 233295, 223230, 188189, 189794, 215832, 227430, 243018, 236330, 211632, 193744, 194478, 216051, 231688, 242757, 252416, 219593, 182478, 211573, 220135, 236428, 246519, 258281, 202204, 165875, 148846, 190386, 216938, 237933, 237185, 209729, 179708, 197782, 226546, 231333, 255937, 250826, 230529, 179749, 193511, 222917, 229735, 244451, 243743, 208201, 165805, 175574, 184068, 182630, 171077, 134702, 89651, 59871, 64202, 45617, 36248, 29803, 27622, 16175, 10340, 13579, 11851, 11207, 10666, 11778, 7633, 5545, 9579, 9448, 9473, 8786, 10309, 6396, 5046, 8270, 7886, 7915, 7827, 8585, 6274, 4434, 7473, 8329, 8303, 8495, 9672, 5808, 5124, 8134, 8089, 8626, 8720, 9395, 7221, 4992, 8904, 9457, 9683, 10279]}, {\"mode\": \"lines\", \"name\": \"Uber\", \"type\": \"scatter\", \"x\": [\"2019-11-01T00:00:00\", \"2019-11-02T00:00:00\", \"2019-11-03T00:00:00\", \"2019-11-04T00:00:00\", \"2019-11-05T00:00:00\", \"2019-11-06T00:00:00\", \"2019-11-07T00:00:00\", \"2019-11-08T00:00:00\", \"2019-11-09T00:00:00\", \"2019-11-10T00:00:00\", \"2019-11-11T00:00:00\", \"2019-11-12T00:00:00\", \"2019-11-13T00:00:00\", \"2019-11-14T00:00:00\", \"2019-11-15T00:00:00\", \"2019-11-16T00:00:00\", \"2019-11-17T00:00:00\", \"2019-11-18T00:00:00\", \"2019-11-19T00:00:00\", \"2019-11-20T00:00:00\", \"2019-11-21T00:00:00\", \"2019-11-22T00:00:00\", \"2019-11-23T00:00:00\", \"2019-11-24T00:00:00\", \"2019-11-25T00:00:00\", \"2019-11-26T00:00:00\", \"2019-11-27T00:00:00\", \"2019-11-28T00:00:00\", \"2019-11-29T00:00:00\", \"2019-11-30T00:00:00\", \"2019-12-01T00:00:00\", \"2019-12-02T00:00:00\", \"2019-12-03T00:00:00\", \"2019-12-04T00:00:00\", \"2019-12-05T00:00:00\", \"2019-12-06T00:00:00\", \"2019-12-07T00:00:00\", \"2019-12-08T00:00:00\", \"2019-12-09T00:00:00\", \"2019-12-10T00:00:00\", \"2019-12-11T00:00:00\", \"2019-12-12T00:00:00\", \"2019-12-13T00:00:00\", \"2019-12-14T00:00:00\", \"2019-12-15T00:00:00\", \"2019-12-16T00:00:00\", \"2019-12-17T00:00:00\", \"2019-12-18T00:00:00\", \"2019-12-19T00:00:00\", \"2019-12-20T00:00:00\", \"2019-12-21T00:00:00\", \"2019-12-22T00:00:00\", \"2019-12-23T00:00:00\", \"2019-12-24T00:00:00\", \"2019-12-25T00:00:00\", \"2019-12-26T00:00:00\", \"2019-12-27T00:00:00\", \"2019-12-28T00:00:00\", \"2019-12-29T00:00:00\", \"2019-12-30T00:00:00\", \"2019-12-31T00:00:00\", \"2020-01-01T00:00:00\", \"2020-01-02T00:00:00\", \"2020-01-03T00:00:00\", \"2020-01-04T00:00:00\", \"2020-01-05T00:00:00\", \"2020-01-06T00:00:00\", \"2020-01-07T00:00:00\", \"2020-01-08T00:00:00\", \"2020-01-09T00:00:00\", \"2020-01-10T00:00:00\", \"2020-01-11T00:00:00\", \"2020-01-12T00:00:00\", \"2020-01-13T00:00:00\", \"2020-01-14T00:00:00\", \"2020-01-15T00:00:00\", \"2020-01-16T00:00:00\", \"2020-01-17T00:00:00\", \"2020-01-18T00:00:00\", \"2020-01-19T00:00:00\", \"2020-01-20T00:00:00\", \"2020-01-21T00:00:00\", \"2020-01-22T00:00:00\", \"2020-01-23T00:00:00\", \"2020-01-24T00:00:00\", \"2020-01-25T00:00:00\", \"2020-01-26T00:00:00\", \"2020-01-27T00:00:00\", \"2020-01-28T00:00:00\", \"2020-01-29T00:00:00\", \"2020-01-30T00:00:00\", \"2020-01-31T00:00:00\", \"2020-02-01T00:00:00\", \"2020-02-02T00:00:00\", \"2020-02-03T00:00:00\", \"2020-02-04T00:00:00\", \"2020-02-05T00:00:00\", \"2020-02-06T00:00:00\", \"2020-02-07T00:00:00\", \"2020-02-08T00:00:00\", \"2020-02-09T00:00:00\", \"2020-02-10T00:00:00\", \"2020-02-11T00:00:00\", \"2020-02-12T00:00:00\", \"2020-02-13T00:00:00\", \"2020-02-14T00:00:00\", \"2020-02-15T00:00:00\", \"2020-02-16T00:00:00\", \"2020-02-17T00:00:00\", \"2020-02-18T00:00:00\", \"2020-02-19T00:00:00\", \"2020-02-20T00:00:00\", \"2020-02-21T00:00:00\", \"2020-02-22T00:00:00\", \"2020-02-23T00:00:00\", \"2020-02-24T00:00:00\", \"2020-02-25T00:00:00\", \"2020-02-26T00:00:00\", \"2020-02-27T00:00:00\", \"2020-02-28T00:00:00\", \"2020-02-29T00:00:00\", \"2020-03-01T00:00:00\", \"2020-03-02T00:00:00\", \"2020-03-03T00:00:00\", \"2020-03-04T00:00:00\", \"2020-03-05T00:00:00\", \"2020-03-06T00:00:00\", \"2020-03-07T00:00:00\", \"2020-03-08T00:00:00\", \"2020-03-09T00:00:00\", \"2020-03-10T00:00:00\", \"2020-03-11T00:00:00\", \"2020-03-12T00:00:00\", \"2020-03-13T00:00:00\", \"2020-03-14T00:00:00\", \"2020-03-15T00:00:00\", \"2020-03-16T00:00:00\", \"2020-03-17T00:00:00\", \"2020-03-18T00:00:00\", \"2020-03-19T00:00:00\", \"2020-03-20T00:00:00\", \"2020-03-21T00:00:00\", \"2020-03-22T00:00:00\", \"2020-03-23T00:00:00\", \"2020-03-24T00:00:00\", \"2020-03-25T00:00:00\", \"2020-03-26T00:00:00\", \"2020-03-27T00:00:00\", \"2020-03-28T00:00:00\", \"2020-03-29T00:00:00\", \"2020-03-30T00:00:00\", \"2020-03-31T00:00:00\", \"2020-04-01T00:00:00\", \"2020-04-02T00:00:00\", \"2020-04-03T00:00:00\", \"2020-04-04T00:00:00\", \"2020-04-05T00:00:00\", \"2020-04-06T00:00:00\", \"2020-04-07T00:00:00\", \"2020-04-08T00:00:00\", \"2020-04-09T00:00:00\", \"2020-04-10T00:00:00\", \"2020-04-11T00:00:00\", \"2020-04-12T00:00:00\", \"2020-04-13T00:00:00\", \"2020-04-14T00:00:00\", \"2020-04-15T00:00:00\", \"2020-04-16T00:00:00\", \"2020-04-17T00:00:00\", \"2020-04-18T00:00:00\", \"2020-04-19T00:00:00\", \"2020-04-20T00:00:00\", \"2020-04-21T00:00:00\", \"2020-04-22T00:00:00\", \"2020-04-23T00:00:00\", \"2020-04-24T00:00:00\", \"2020-04-25T00:00:00\", \"2020-04-26T00:00:00\", \"2020-04-27T00:00:00\", \"2020-04-28T00:00:00\", \"2020-04-29T00:00:00\", \"2020-04-30T00:00:00\"], \"y\": [568181, 590679, 499554, 432773, 434168, 463163, 518893, 601031, 635420, 539670, 418086, 515430, 524123, 529156, 581621, 667434, 561206, 513152, 484519, 503065, 519858, 603991, 645040, 572001, 431427, 428884, 470203, 458304, 426139, 473770, 482781, 483300, 492179, 496465, 528008, 582325, 648107, 539689, 531495, 497657, 542047, 564115, 675274, 693644, 567010, 492541, 549882, 541035, 607844, 620358, 587623, 484702, 410963, 447772, 367554, 356893, 415201, 454452, 458156, 443770, 542760, 530257, 364207, 425594, 461752, 417214, 389782, 391833, 430776, 462225, 497117, 542628, 465886, 430173, 434258, 431506, 472748, 555179, 559819, 485286, 417197, 457329, 457074, 471532, 530901, 615844, 492812, 421386, 441804, 470391, 501996, 555971, 591642, 557270, 449071, 455434, 488177, 536839, 620068, 638767, 537524, 488369, 474745, 493095, 532885, 646480, 627477, 520562, 424054, 447773, 476264, 526308, 592075, 631560, 545883, 466199, 520524, 533830, 584245, 639535, 696720, 571075, 479707, 522644, 512950, 513804, 637006, 641273, 531312, 459584, 458998, 448862, 457530, 466869, 434878, 346448, 278662, 221703, 209000, 200183, 211545, 172896, 127634, 123734, 109797, 105798, 105470, 117381, 99531, 81103, 94889, 94497, 94106, 93652, 106088, 90272, 75556, 92514, 92678, 92899, 93890, 107552, 94656, 79592, 99594, 98181, 108812, 111055, 127578, 107154, 92133, 108366, 105946, 110687, 111585, 126989, 112010, 94219, 111648, 116649, 118377, 128397]}, {\"mode\": \"lines\", \"name\": \"Juno\", \"type\": \"scatter\", \"x\": [\"2019-11-01T00:00:00\", \"2019-11-02T00:00:00\", \"2019-11-03T00:00:00\", \"2019-11-04T00:00:00\", \"2019-11-05T00:00:00\", \"2019-11-06T00:00:00\", \"2019-11-07T00:00:00\", \"2019-11-08T00:00:00\", \"2019-11-09T00:00:00\", \"2019-11-10T00:00:00\", \"2019-11-11T00:00:00\", \"2019-11-12T00:00:00\", \"2019-11-13T00:00:00\", \"2019-11-14T00:00:00\", \"2019-11-15T00:00:00\", \"2019-11-16T00:00:00\", \"2019-11-17T00:00:00\", \"2019-11-18T00:00:00\"], \"y\": [6963, 6913, 4495, 5080, 5992, 6174, 6837, 6714, 6738, 5589, 4800, 6068, 6093, 6377, 6294, 6698, 5409, 2645]}, {\"mode\": \"lines\", \"name\": \"Lyft\", \"type\": \"scatter\", \"x\": [\"2019-11-01T00:00:00\", \"2019-11-02T00:00:00\", \"2019-11-03T00:00:00\", \"2019-11-04T00:00:00\", \"2019-11-05T00:00:00\", \"2019-11-06T00:00:00\", \"2019-11-07T00:00:00\", \"2019-11-08T00:00:00\", \"2019-11-09T00:00:00\", \"2019-11-10T00:00:00\", \"2019-11-11T00:00:00\", \"2019-11-12T00:00:00\", \"2019-11-13T00:00:00\", \"2019-11-14T00:00:00\", \"2019-11-15T00:00:00\", \"2019-11-16T00:00:00\", \"2019-11-17T00:00:00\", \"2019-11-18T00:00:00\", \"2019-11-19T00:00:00\", \"2019-11-20T00:00:00\", \"2019-11-21T00:00:00\", \"2019-11-22T00:00:00\", \"2019-11-23T00:00:00\", \"2019-11-24T00:00:00\", \"2019-11-25T00:00:00\", \"2019-11-26T00:00:00\", \"2019-11-27T00:00:00\", \"2019-11-28T00:00:00\", \"2019-11-29T00:00:00\", \"2019-11-30T00:00:00\", \"2019-12-01T00:00:00\", \"2019-12-02T00:00:00\", \"2019-12-03T00:00:00\", \"2019-12-04T00:00:00\", \"2019-12-05T00:00:00\", \"2019-12-06T00:00:00\", \"2019-12-07T00:00:00\", \"2019-12-08T00:00:00\", \"2019-12-09T00:00:00\", \"2019-12-10T00:00:00\", \"2019-12-11T00:00:00\", \"2019-12-12T00:00:00\", \"2019-12-13T00:00:00\", \"2019-12-14T00:00:00\", \"2019-12-15T00:00:00\", \"2019-12-16T00:00:00\", \"2019-12-17T00:00:00\", \"2019-12-18T00:00:00\", \"2019-12-19T00:00:00\", \"2019-12-20T00:00:00\", \"2019-12-21T00:00:00\", \"2019-12-22T00:00:00\", \"2019-12-23T00:00:00\", \"2019-12-24T00:00:00\", \"2019-12-25T00:00:00\", \"2019-12-26T00:00:00\", \"2019-12-27T00:00:00\", \"2019-12-28T00:00:00\", \"2019-12-29T00:00:00\", \"2019-12-30T00:00:00\", \"2019-12-31T00:00:00\", \"2020-01-01T00:00:00\", \"2020-01-02T00:00:00\", \"2020-01-03T00:00:00\", \"2020-01-04T00:00:00\", \"2020-01-05T00:00:00\", \"2020-01-06T00:00:00\", \"2020-01-07T00:00:00\", \"2020-01-08T00:00:00\", \"2020-01-09T00:00:00\", \"2020-01-10T00:00:00\", \"2020-01-11T00:00:00\", \"2020-01-12T00:00:00\", \"2020-01-13T00:00:00\", \"2020-01-14T00:00:00\", \"2020-01-15T00:00:00\", \"2020-01-16T00:00:00\", \"2020-01-17T00:00:00\", \"2020-01-18T00:00:00\", \"2020-01-19T00:00:00\", \"2020-01-20T00:00:00\", \"2020-01-21T00:00:00\", \"2020-01-22T00:00:00\", \"2020-01-23T00:00:00\", \"2020-01-24T00:00:00\", \"2020-01-25T00:00:00\", \"2020-01-26T00:00:00\", \"2020-01-27T00:00:00\", \"2020-01-28T00:00:00\", \"2020-01-29T00:00:00\", \"2020-01-30T00:00:00\", \"2020-01-31T00:00:00\", \"2020-02-01T00:00:00\", \"2020-02-02T00:00:00\", \"2020-02-03T00:00:00\", \"2020-02-04T00:00:00\", \"2020-02-05T00:00:00\", \"2020-02-06T00:00:00\", \"2020-02-07T00:00:00\", \"2020-02-08T00:00:00\", \"2020-02-09T00:00:00\", \"2020-02-10T00:00:00\", \"2020-02-11T00:00:00\", \"2020-02-12T00:00:00\", \"2020-02-13T00:00:00\", \"2020-02-14T00:00:00\", \"2020-02-15T00:00:00\", \"2020-02-16T00:00:00\", \"2020-02-17T00:00:00\", \"2020-02-18T00:00:00\", \"2020-02-19T00:00:00\", \"2020-02-20T00:00:00\", \"2020-02-21T00:00:00\", \"2020-02-22T00:00:00\", \"2020-02-23T00:00:00\", \"2020-02-24T00:00:00\", \"2020-02-25T00:00:00\", \"2020-02-26T00:00:00\", \"2020-02-27T00:00:00\", \"2020-02-28T00:00:00\", \"2020-02-29T00:00:00\", \"2020-03-01T00:00:00\", \"2020-03-02T00:00:00\", \"2020-03-03T00:00:00\", \"2020-03-04T00:00:00\", \"2020-03-05T00:00:00\", \"2020-03-06T00:00:00\", \"2020-03-07T00:00:00\", \"2020-03-08T00:00:00\", \"2020-03-09T00:00:00\", \"2020-03-10T00:00:00\", \"2020-03-11T00:00:00\", \"2020-03-12T00:00:00\", \"2020-03-13T00:00:00\", \"2020-03-14T00:00:00\", \"2020-03-15T00:00:00\", \"2020-03-16T00:00:00\", \"2020-03-17T00:00:00\", \"2020-03-18T00:00:00\", \"2020-03-19T00:00:00\", \"2020-03-20T00:00:00\", \"2020-03-21T00:00:00\", \"2020-03-22T00:00:00\", \"2020-03-23T00:00:00\", \"2020-03-24T00:00:00\", \"2020-03-25T00:00:00\", \"2020-03-26T00:00:00\", \"2020-03-27T00:00:00\", \"2020-03-28T00:00:00\", \"2020-03-29T00:00:00\", \"2020-03-30T00:00:00\", \"2020-03-31T00:00:00\", \"2020-04-01T00:00:00\", \"2020-04-02T00:00:00\", \"2020-04-03T00:00:00\", \"2020-04-04T00:00:00\", \"2020-04-05T00:00:00\", \"2020-04-06T00:00:00\", \"2020-04-07T00:00:00\", \"2020-04-08T00:00:00\", \"2020-04-09T00:00:00\", \"2020-04-10T00:00:00\", \"2020-04-11T00:00:00\", \"2020-04-12T00:00:00\", \"2020-04-13T00:00:00\", \"2020-04-14T00:00:00\", \"2020-04-15T00:00:00\", \"2020-04-16T00:00:00\", \"2020-04-17T00:00:00\", \"2020-04-18T00:00:00\", \"2020-04-19T00:00:00\", \"2020-04-20T00:00:00\", \"2020-04-21T00:00:00\", \"2020-04-22T00:00:00\", \"2020-04-23T00:00:00\", \"2020-04-24T00:00:00\", \"2020-04-25T00:00:00\", \"2020-04-26T00:00:00\", \"2020-04-27T00:00:00\", \"2020-04-28T00:00:00\", \"2020-04-29T00:00:00\", \"2020-04-30T00:00:00\"], \"y\": [213568, 225958, 181609, 135471, 125298, 133047, 156817, 185036, 215470, 186806, 120334, 151179, 147919, 154977, 177429, 219372, 192405, 141205, 133285, 147781, 164035, 193709, 223315, 204295, 150885, 160607, 178846, 175328, 156526, 192225, 211363, 168959, 164954, 161307, 177015, 208011, 244304, 213104, 170645, 163400, 163658, 177489, 197952, 235103, 209725, 164574, 177548, 165610, 186887, 193392, 212120, 178540, 141965, 145454, 113191, 107196, 129177, 155780, 169494, 157562, 164503, 158722, 115468, 147182, 179245, 168259, 133524, 134512, 138503, 157538, 172432, 209679, 190670, 144362, 143246, 143093, 169550, 215954, 232020, 214345, 158638, 152363, 158323, 171676, 199792, 252456, 197589, 147731, 143214, 147936, 170724, 205502, 225728, 210171, 144684, 140767, 149435, 176747, 213446, 242955, 208334, 169076, 156670, 157806, 187281, 215036, 243454, 207332, 144508, 131995, 143984, 170632, 206329, 226252, 193729, 140033, 147910, 155581, 178711, 208857, 242106, 198692, 146470, 150462, 169524, 190972, 209796, 226778, 185843, 147601, 144810, 158213, 166146, 178447, 124706, 94712, 104633, 84428, 55832, 49357, 47325, 40734, 33032, 36120, 29802, 33327, 33854, 39431, 36914, 32731, 35741, 33102, 35951, 35575, 42042, 33926, 30562, 32729, 30951, 32024, 32540, 36791, 35644, 31614, 37201, 34878, 39254, 39956, 43888, 38931, 38481, 42746, 40546, 40523, 40276, 46296, 44794, 39685, 41358, 40319, 41142, 43460]}, {\"mode\": \"lines\", \"name\": \"Via\", \"type\": \"scatter\", \"x\": [\"2019-11-01T00:00:00\", \"2019-11-02T00:00:00\", \"2019-11-03T00:00:00\", \"2019-11-04T00:00:00\", \"2019-11-05T00:00:00\", \"2019-11-06T00:00:00\", \"2019-11-07T00:00:00\", \"2019-11-08T00:00:00\", \"2019-11-09T00:00:00\", \"2019-11-10T00:00:00\", \"2019-11-11T00:00:00\", \"2019-11-12T00:00:00\", \"2019-11-13T00:00:00\", \"2019-11-14T00:00:00\", \"2019-11-15T00:00:00\", \"2019-11-16T00:00:00\", \"2019-11-17T00:00:00\", \"2019-11-18T00:00:00\", \"2019-11-19T00:00:00\", \"2019-11-20T00:00:00\", \"2019-11-21T00:00:00\", \"2019-11-22T00:00:00\", \"2019-11-23T00:00:00\", \"2019-11-24T00:00:00\", \"2019-11-25T00:00:00\", \"2019-11-26T00:00:00\", \"2019-11-27T00:00:00\", \"2019-11-28T00:00:00\", \"2019-11-29T00:00:00\", \"2019-11-30T00:00:00\", \"2019-12-01T00:00:00\", \"2019-12-02T00:00:00\", \"2019-12-03T00:00:00\", \"2019-12-04T00:00:00\", \"2019-12-05T00:00:00\", \"2019-12-06T00:00:00\", \"2019-12-07T00:00:00\", \"2019-12-08T00:00:00\", \"2019-12-09T00:00:00\", \"2019-12-10T00:00:00\", \"2019-12-11T00:00:00\", \"2019-12-12T00:00:00\", \"2019-12-13T00:00:00\", \"2019-12-14T00:00:00\", \"2019-12-15T00:00:00\", \"2019-12-16T00:00:00\", \"2019-12-17T00:00:00\", \"2019-12-18T00:00:00\", \"2019-12-19T00:00:00\", \"2019-12-20T00:00:00\", \"2019-12-21T00:00:00\", \"2019-12-22T00:00:00\", \"2019-12-23T00:00:00\", \"2019-12-24T00:00:00\", \"2019-12-25T00:00:00\", \"2019-12-26T00:00:00\", \"2019-12-27T00:00:00\", \"2019-12-28T00:00:00\", \"2019-12-29T00:00:00\", \"2019-12-30T00:00:00\", \"2019-12-31T00:00:00\", \"2020-01-01T00:00:00\", \"2020-01-02T00:00:00\", \"2020-01-03T00:00:00\", \"2020-01-04T00:00:00\", \"2020-01-05T00:00:00\", \"2020-01-06T00:00:00\", \"2020-01-07T00:00:00\", \"2020-01-08T00:00:00\", \"2020-01-09T00:00:00\", \"2020-01-10T00:00:00\", \"2020-01-11T00:00:00\", \"2020-01-12T00:00:00\", \"2020-01-13T00:00:00\", \"2020-01-14T00:00:00\", \"2020-01-15T00:00:00\", \"2020-01-16T00:00:00\", \"2020-01-17T00:00:00\", \"2020-01-18T00:00:00\", \"2020-01-19T00:00:00\", \"2020-01-20T00:00:00\", \"2020-01-21T00:00:00\", \"2020-01-22T00:00:00\", \"2020-01-23T00:00:00\", \"2020-01-24T00:00:00\", \"2020-01-25T00:00:00\", \"2020-01-26T00:00:00\", \"2020-01-27T00:00:00\", \"2020-01-28T00:00:00\", \"2020-01-29T00:00:00\", \"2020-01-30T00:00:00\", \"2020-01-31T00:00:00\", \"2020-02-01T00:00:00\", \"2020-02-02T00:00:00\", \"2020-02-03T00:00:00\", \"2020-02-04T00:00:00\", \"2020-02-05T00:00:00\", \"2020-02-06T00:00:00\", \"2020-02-07T00:00:00\", \"2020-02-08T00:00:00\", \"2020-02-09T00:00:00\", \"2020-02-10T00:00:00\", \"2020-02-11T00:00:00\", \"2020-02-12T00:00:00\", \"2020-02-13T00:00:00\", \"2020-02-14T00:00:00\", \"2020-02-15T00:00:00\", \"2020-02-16T00:00:00\", \"2020-02-17T00:00:00\", \"2020-02-18T00:00:00\", \"2020-02-19T00:00:00\", \"2020-02-20T00:00:00\", \"2020-02-21T00:00:00\", \"2020-02-22T00:00:00\", \"2020-02-23T00:00:00\", \"2020-02-24T00:00:00\", \"2020-02-25T00:00:00\", \"2020-02-26T00:00:00\", \"2020-02-27T00:00:00\", \"2020-02-28T00:00:00\", \"2020-02-29T00:00:00\", \"2020-03-01T00:00:00\", \"2020-03-02T00:00:00\", \"2020-03-03T00:00:00\", \"2020-03-04T00:00:00\", \"2020-03-05T00:00:00\", \"2020-03-06T00:00:00\", \"2020-03-07T00:00:00\", \"2020-03-08T00:00:00\", \"2020-03-09T00:00:00\", \"2020-03-10T00:00:00\", \"2020-03-11T00:00:00\", \"2020-03-12T00:00:00\", \"2020-03-13T00:00:00\", \"2020-03-14T00:00:00\", \"2020-03-15T00:00:00\", \"2020-03-16T00:00:00\", \"2020-03-17T00:00:00\", \"2020-03-18T00:00:00\", \"2020-03-19T00:00:00\", \"2020-03-20T00:00:00\", \"2020-03-21T00:00:00\", \"2020-03-22T00:00:00\", \"2020-03-23T00:00:00\", \"2020-03-24T00:00:00\", \"2020-03-25T00:00:00\", \"2020-03-26T00:00:00\", \"2020-03-27T00:00:00\", \"2020-03-28T00:00:00\", \"2020-03-29T00:00:00\", \"2020-03-30T00:00:00\", \"2020-03-31T00:00:00\", \"2020-04-01T00:00:00\", \"2020-04-02T00:00:00\", \"2020-04-03T00:00:00\", \"2020-04-04T00:00:00\", \"2020-04-05T00:00:00\", \"2020-04-06T00:00:00\", \"2020-04-07T00:00:00\", \"2020-04-08T00:00:00\", \"2020-04-09T00:00:00\", \"2020-04-10T00:00:00\", \"2020-04-11T00:00:00\", \"2020-04-12T00:00:00\", \"2020-04-13T00:00:00\", \"2020-04-14T00:00:00\", \"2020-04-15T00:00:00\", \"2020-04-16T00:00:00\", \"2020-04-17T00:00:00\", \"2020-04-18T00:00:00\", \"2020-04-19T00:00:00\", \"2020-04-20T00:00:00\", \"2020-04-21T00:00:00\", \"2020-04-22T00:00:00\", \"2020-04-23T00:00:00\", \"2020-04-24T00:00:00\", \"2020-04-25T00:00:00\", \"2020-04-26T00:00:00\", \"2020-04-27T00:00:00\", \"2020-04-28T00:00:00\", \"2020-04-29T00:00:00\", \"2020-04-30T00:00:00\"], \"y\": [32136, 26358, 20137, 27526, 29226, 29938, 30722, 30656, 22783, 19174, 23815, 29102, 30574, 31183, 29399, 23868, 20185, 28393, 28871, 30281, 30970, 30095, 23559, 20247, 27098, 27367, 23866, 13842, 15806, 16774, 16344, 27491, 29220, 29397, 30960, 18078, 23660, 19339, 27837, 28408, 29692, 29850, 30020, 25614, 21276, 27244, 29951, 29356, 32107, 30910, 20799, 16394, 18224, 15286, 9843, 14231, 15356, 13225, 12397, 17669, 17387, 15868, 20238, 22147, 16996, 15178, 24423, 25894, 27197, 28005, 26351, 19274, 16190, 25680, 26085, 26219, 26774, 27207, 16886, 15953, 16222, 26272, 27000, 26869, 25897, 19354, 16539, 24151, 25715, 26963, 27894, 27159, 19340, 18638, 24159, 25656, 25712, 26398, 27275, 19737, 16249, 23791, 25744, 26476, 26357, 25068, 17783, 14866, 14166, 21559, 23119, 24611, 23880, 16866, 14215, 22315, 24600, 24809, 25627, 24964, 17961, 14479, 22809, 24774, 25405, 26389, 25210, 18020, 14067, 21755, 22666, 21526, 19581, 15598, 9813, 6965, 8223, 6167, 4400, 3233, 3030, 2115, 1499, 2538, 2087, 1963, 2283, 2527, 2011, 1559, 1963, 1951, 2018, 1980, 2299, 1740, 1378, 1855, 1865, 2001, 2104, 2388, 1984, 1600, 2130, 2093, 2115, 2280, 2487, 1916, 1797, 2346, 2286, 2547, 2501, 2847, 2402, 1934, 2542, 2652, 2848, 3056]}],                        {\"legend\": {\"title\": {\"text\": \"Taxi Type\"}}, \"plot_bgcolor\": \"rgba(245, 245, 245 ,10)\", \"shapes\": [{\"line\": {\"color\": \"green\", \"width\": 1.5}, \"type\": \"line\", \"x0\": \"2020-03-07\", \"x1\": \"2020-03-07\", \"xref\": \"x\", \"y0\": 0, \"y1\": 1, \"yref\": \"y domain\"}], \"template\": {\"data\": {\"bar\": [{\"error_x\": {\"color\": \"#2a3f5f\"}, \"error_y\": {\"color\": \"#2a3f5f\"}, \"marker\": {\"line\": {\"color\": \"#E5ECF6\", \"width\": 0.5}}, \"type\": \"bar\"}], \"barpolar\": [{\"marker\": {\"line\": {\"color\": \"#E5ECF6\", \"width\": 0.5}}, \"type\": \"barpolar\"}], \"carpet\": [{\"aaxis\": {\"endlinecolor\": \"#2a3f5f\", \"gridcolor\": \"white\", \"linecolor\": \"white\", \"minorgridcolor\": \"white\", \"startlinecolor\": \"#2a3f5f\"}, \"baxis\": {\"endlinecolor\": \"#2a3f5f\", \"gridcolor\": \"white\", \"linecolor\": \"white\", \"minorgridcolor\": \"white\", \"startlinecolor\": \"#2a3f5f\"}, \"type\": \"carpet\"}], \"choropleth\": [{\"colorbar\": {\"outlinewidth\": 0, \"ticks\": \"\"}, \"type\": \"choropleth\"}], \"contour\": [{\"colorbar\": {\"outlinewidth\": 0, \"ticks\": \"\"}, \"colorscale\": [[0.0, \"#0d0887\"], [0.1111111111111111, \"#46039f\"], [0.2222222222222222, \"#7201a8\"], [0.3333333333333333, \"#9c179e\"], [0.4444444444444444, \"#bd3786\"], [0.5555555555555556, \"#d8576b\"], [0.6666666666666666, \"#ed7953\"], [0.7777777777777778, \"#fb9f3a\"], [0.8888888888888888, \"#fdca26\"], [1.0, \"#f0f921\"]], \"type\": \"contour\"}], \"contourcarpet\": [{\"colorbar\": {\"outlinewidth\": 0, \"ticks\": \"\"}, \"type\": \"contourcarpet\"}], \"heatmap\": [{\"colorbar\": {\"outlinewidth\": 0, \"ticks\": \"\"}, \"colorscale\": [[0.0, \"#0d0887\"], [0.1111111111111111, \"#46039f\"], [0.2222222222222222, \"#7201a8\"], [0.3333333333333333, \"#9c179e\"], [0.4444444444444444, \"#bd3786\"], [0.5555555555555556, \"#d8576b\"], [0.6666666666666666, \"#ed7953\"], [0.7777777777777778, \"#fb9f3a\"], [0.8888888888888888, \"#fdca26\"], [1.0, \"#f0f921\"]], \"type\": \"heatmap\"}], \"heatmapgl\": [{\"colorbar\": {\"outlinewidth\": 0, \"ticks\": \"\"}, \"colorscale\": [[0.0, \"#0d0887\"], [0.1111111111111111, \"#46039f\"], [0.2222222222222222, \"#7201a8\"], [0.3333333333333333, \"#9c179e\"], [0.4444444444444444, \"#bd3786\"], [0.5555555555555556, \"#d8576b\"], [0.6666666666666666, \"#ed7953\"], [0.7777777777777778, \"#fb9f3a\"], [0.8888888888888888, \"#fdca26\"], [1.0, \"#f0f921\"]], \"type\": \"heatmapgl\"}], \"histogram\": [{\"marker\": {\"colorbar\": {\"outlinewidth\": 0, \"ticks\": \"\"}}, \"type\": \"histogram\"}], \"histogram2d\": [{\"colorbar\": {\"outlinewidth\": 0, \"ticks\": \"\"}, \"colorscale\": [[0.0, \"#0d0887\"], [0.1111111111111111, \"#46039f\"], [0.2222222222222222, \"#7201a8\"], [0.3333333333333333, \"#9c179e\"], [0.4444444444444444, \"#bd3786\"], [0.5555555555555556, \"#d8576b\"], [0.6666666666666666, \"#ed7953\"], [0.7777777777777778, \"#fb9f3a\"], [0.8888888888888888, \"#fdca26\"], [1.0, \"#f0f921\"]], \"type\": \"histogram2d\"}], \"histogram2dcontour\": [{\"colorbar\": {\"outlinewidth\": 0, \"ticks\": \"\"}, \"colorscale\": [[0.0, \"#0d0887\"], [0.1111111111111111, \"#46039f\"], [0.2222222222222222, \"#7201a8\"], [0.3333333333333333, \"#9c179e\"], [0.4444444444444444, \"#bd3786\"], [0.5555555555555556, \"#d8576b\"], [0.6666666666666666, \"#ed7953\"], [0.7777777777777778, \"#fb9f3a\"], [0.8888888888888888, \"#fdca26\"], [1.0, \"#f0f921\"]], \"type\": \"histogram2dcontour\"}], \"mesh3d\": [{\"colorbar\": {\"outlinewidth\": 0, \"ticks\": \"\"}, \"type\": \"mesh3d\"}], \"parcoords\": [{\"line\": {\"colorbar\": {\"outlinewidth\": 0, \"ticks\": \"\"}}, \"type\": \"parcoords\"}], \"pie\": [{\"automargin\": true, \"type\": \"pie\"}], \"scatter\": [{\"marker\": {\"colorbar\": {\"outlinewidth\": 0, \"ticks\": \"\"}}, \"type\": \"scatter\"}], \"scatter3d\": [{\"line\": {\"colorbar\": {\"outlinewidth\": 0, \"ticks\": \"\"}}, \"marker\": {\"colorbar\": {\"outlinewidth\": 0, \"ticks\": \"\"}}, \"type\": \"scatter3d\"}], \"scattercarpet\": [{\"marker\": {\"colorbar\": {\"outlinewidth\": 0, \"ticks\": \"\"}}, \"type\": \"scattercarpet\"}], \"scattergeo\": [{\"marker\": {\"colorbar\": {\"outlinewidth\": 0, \"ticks\": \"\"}}, \"type\": \"scattergeo\"}], \"scattergl\": [{\"marker\": {\"colorbar\": {\"outlinewidth\": 0, \"ticks\": \"\"}}, \"type\": \"scattergl\"}], \"scattermapbox\": [{\"marker\": {\"colorbar\": {\"outlinewidth\": 0, \"ticks\": \"\"}}, \"type\": \"scattermapbox\"}], \"scatterpolar\": [{\"marker\": {\"colorbar\": {\"outlinewidth\": 0, \"ticks\": \"\"}}, \"type\": \"scatterpolar\"}], \"scatterpolargl\": [{\"marker\": {\"colorbar\": {\"outlinewidth\": 0, \"ticks\": \"\"}}, \"type\": \"scatterpolargl\"}], \"scatterternary\": [{\"marker\": {\"colorbar\": {\"outlinewidth\": 0, \"ticks\": \"\"}}, \"type\": \"scatterternary\"}], \"surface\": [{\"colorbar\": {\"outlinewidth\": 0, \"ticks\": \"\"}, \"colorscale\": [[0.0, \"#0d0887\"], [0.1111111111111111, \"#46039f\"], [0.2222222222222222, \"#7201a8\"], [0.3333333333333333, \"#9c179e\"], [0.4444444444444444, \"#bd3786\"], [0.5555555555555556, \"#d8576b\"], [0.6666666666666666, \"#ed7953\"], [0.7777777777777778, \"#fb9f3a\"], [0.8888888888888888, \"#fdca26\"], [1.0, \"#f0f921\"]], \"type\": \"surface\"}], \"table\": [{\"cells\": {\"fill\": {\"color\": \"#EBF0F8\"}, \"line\": {\"color\": \"white\"}}, \"header\": {\"fill\": {\"color\": \"#C8D4E3\"}, \"line\": {\"color\": \"white\"}}, \"type\": \"table\"}]}, \"layout\": {\"annotationdefaults\": {\"arrowcolor\": \"#2a3f5f\", \"arrowhead\": 0, \"arrowwidth\": 1}, \"autotypenumbers\": \"strict\", \"coloraxis\": {\"colorbar\": {\"outlinewidth\": 0, \"ticks\": \"\"}}, \"colorscale\": {\"diverging\": [[0, \"#8e0152\"], [0.1, \"#c51b7d\"], [0.2, \"#de77ae\"], [0.3, \"#f1b6da\"], [0.4, \"#fde0ef\"], [0.5, \"#f7f7f7\"], [0.6, \"#e6f5d0\"], [0.7, \"#b8e186\"], [0.8, \"#7fbc41\"], [0.9, \"#4d9221\"], [1, \"#276419\"]], \"sequential\": [[0.0, \"#0d0887\"], [0.1111111111111111, \"#46039f\"], [0.2222222222222222, \"#7201a8\"], [0.3333333333333333, \"#9c179e\"], [0.4444444444444444, \"#bd3786\"], [0.5555555555555556, \"#d8576b\"], [0.6666666666666666, \"#ed7953\"], [0.7777777777777778, \"#fb9f3a\"], [0.8888888888888888, \"#fdca26\"], [1.0, \"#f0f921\"]], \"sequentialminus\": [[0.0, \"#0d0887\"], [0.1111111111111111, \"#46039f\"], [0.2222222222222222, \"#7201a8\"], [0.3333333333333333, \"#9c179e\"], [0.4444444444444444, \"#bd3786\"], [0.5555555555555556, \"#d8576b\"], [0.6666666666666666, \"#ed7953\"], [0.7777777777777778, \"#fb9f3a\"], [0.8888888888888888, \"#fdca26\"], [1.0, \"#f0f921\"]]}, \"colorway\": [\"#636efa\", \"#EF553B\", \"#00cc96\", \"#ab63fa\", \"#FFA15A\", \"#19d3f3\", \"#FF6692\", \"#B6E880\", \"#FF97FF\", \"#FECB52\"], \"font\": {\"color\": \"#2a3f5f\"}, \"geo\": {\"bgcolor\": \"white\", \"lakecolor\": \"white\", \"landcolor\": \"#E5ECF6\", \"showlakes\": true, \"showland\": true, \"subunitcolor\": \"white\"}, \"hoverlabel\": {\"align\": \"left\"}, \"hovermode\": \"closest\", \"mapbox\": {\"style\": \"light\"}, \"paper_bgcolor\": \"white\", \"plot_bgcolor\": \"#E5ECF6\", \"polar\": {\"angularaxis\": {\"gridcolor\": \"white\", \"linecolor\": \"white\", \"ticks\": \"\"}, \"bgcolor\": \"#E5ECF6\", \"radialaxis\": {\"gridcolor\": \"white\", \"linecolor\": \"white\", \"ticks\": \"\"}}, \"scene\": {\"xaxis\": {\"backgroundcolor\": \"#E5ECF6\", \"gridcolor\": \"white\", \"gridwidth\": 2, \"linecolor\": \"white\", \"showbackground\": true, \"ticks\": \"\", \"zerolinecolor\": \"white\"}, \"yaxis\": {\"backgroundcolor\": \"#E5ECF6\", \"gridcolor\": \"white\", \"gridwidth\": 2, \"linecolor\": \"white\", \"showbackground\": true, \"ticks\": \"\", \"zerolinecolor\": \"white\"}, \"zaxis\": {\"backgroundcolor\": \"#E5ECF6\", \"gridcolor\": \"white\", \"gridwidth\": 2, \"linecolor\": \"white\", \"showbackground\": true, \"ticks\": \"\", \"zerolinecolor\": \"white\"}}, \"shapedefaults\": {\"line\": {\"color\": \"#2a3f5f\"}}, \"ternary\": {\"aaxis\": {\"gridcolor\": \"white\", \"linecolor\": \"white\", \"ticks\": \"\"}, \"baxis\": {\"gridcolor\": \"white\", \"linecolor\": \"white\", \"ticks\": \"\"}, \"bgcolor\": \"#E5ECF6\", \"caxis\": {\"gridcolor\": \"white\", \"linecolor\": \"white\", \"ticks\": \"\"}}, \"title\": {\"x\": 0.05}, \"xaxis\": {\"automargin\": true, \"gridcolor\": \"white\", \"linecolor\": \"white\", \"ticks\": \"\", \"title\": {\"standoff\": 15}, \"zerolinecolor\": \"white\", \"zerolinewidth\": 2}, \"yaxis\": {\"automargin\": true, \"gridcolor\": \"white\", \"linecolor\": \"white\", \"ticks\": \"\", \"title\": {\"standoff\": 15}, \"zerolinecolor\": \"white\", \"zerolinewidth\": 2}}}, \"title\": {\"text\": \"Pickup Volume Across Six Months\"}, \"xaxis\": {\"gridcolor\": \"rgb(227, 227, 227)\", \"title\": {\"text\": \"Time\"}, \"zerolinecolor\": \"rgb(125, 125, 125)\", \"zerolinewidth\": 3}, \"yaxis\": {\"gridcolor\": \"rgb(227, 227, 227)\", \"title\": {\"text\": \"Pickup Volume\"}}},                        {\"responsive\": true}                    ).then(function(){\n",
       "                            \n",
       "var gd = document.getElementById('db5f2eb3-d088-4654-b5fa-ee35d23a073f');\n",
       "var x = new MutationObserver(function (mutations, observer) {{\n",
       "        var display = window.getComputedStyle(gd).display;\n",
       "        if (!display || display === 'none') {{\n",
       "            console.log([gd, 'removed!']);\n",
       "            Plotly.purge(gd);\n",
       "            observer.disconnect();\n",
       "        }}\n",
       "}});\n",
       "\n",
       "// Listen for the removal of the full notebook cells\n",
       "var notebookContainer = gd.closest('#notebook-container');\n",
       "if (notebookContainer) {{\n",
       "    x.observe(notebookContainer, {childList: true});\n",
       "}}\n",
       "\n",
       "// Listen for the clearing of the current output cell\n",
       "var outputEl = gd.closest('.output');\n",
       "if (outputEl) {{\n",
       "    x.observe(outputEl, {childList: true});\n",
       "}}\n",
       "\n",
       "                        })                };                });            </script>        </div>"
      ]
     },
     "metadata": {},
     "output_type": "display_data"
    }
   ],
   "source": [
    "fig8 = go.Figure()\n",
    "fig8.add_trace(go.Scatter(x=ytrip_6months_df['date'], y=ytrip_6months_df['cnt'],mode='lines',name='Yellow Taxi'))\n",
    "# fig8.add_trace(go.Scatter(x=ftrip_6months_df['date'], y=ftrip_6months_df['cnt'],mode='lines',name='FHV Taxi'))\n",
    "fig8.add_trace(go.Scatter(x=ftrip_6months_Uber['date'], y=ftrip_6months_Uber['cnt'],mode='lines',name='Uber'))\n",
    "fig8.add_trace(go.Scatter(x=ftrip_6months_Juno['date'], y=ftrip_6months_Juno['cnt'],mode='lines',name='Juno'))\n",
    "fig8.add_trace(go.Scatter(x=ftrip_6months_Lyft['date'], y=ftrip_6months_Lyft['cnt'],mode='lines',name='Lyft'))\n",
    "fig8.add_trace(go.Scatter(x=ftrip_6months_Via['date'], y=ftrip_6months_Via['cnt'],mode='lines',name='Via'))\n",
    "\n",
    "fig8.update_layout(\n",
    "    title=\"Pickup Volume Across Six Months\",\n",
    "    legend_title=\"Taxi Type\",\n",
    "    plot_bgcolor='rgba(245, 245, 245 ,10)'\n",
    "    )\n",
    "\n",
    "fig8.add_vline(x='2020-03-07', line_width=1.5, line_color=\"green\")\n",
    "fig8.update_xaxes(title_text=\"Time\", gridcolor= 'rgb(227, 227, 227)',zerolinewidth=3, \n",
    "            zerolinecolor='rgb(125, 125, 125)')\n",
    "fig8.update_yaxes(title_text=\"Pickup Volume\", gridcolor= 'rgb(227, 227, 227)')\n",
    "\n",
    "fig8.show()"
   ]
  },
  {
   "cell_type": "code",
   "execution_count": 75,
   "id": "9c7db875",
   "metadata": {},
   "outputs": [],
   "source": [
    "jfk_airport_yellow = yellow_df[yellow_df.PULocationID == 132 or yellow_df.DOLocationID == 132]"
   ]
  },
  {
   "cell_type": "code",
   "execution_count": 76,
   "id": "9d70e7b0",
   "metadata": {},
   "outputs": [
    {
     "data": {
      "text/html": [
       "<table>\n",
       "<thead>\n",
       "<tr><th>#                                  </th><th>VendorID  </th><th>tpep_pickup_datetime         </th><th>tpep_dropoff_datetime        </th><th>passenger_count  </th><th>trip_distance  </th><th>RatecodeID  </th><th>PULocationID  </th><th>DOLocationID  </th><th>payment_type  </th><th>fare_amount  </th><th>extra  </th><th>mta_tax  </th><th>tip_amount  </th><th>tolls_amount  </th><th>improvement_surcharge  </th><th>total_amount  </th><th>congestion_surcharge  </th><th>pickup_hour  </th><th>pickup_day  </th><th>trip_duration  </th><th>date      </th></tr>\n",
       "</thead>\n",
       "<tbody>\n",
       "<tr><td><i style='opacity: 0.6'>0</i>      </td><td>2.0       </td><td>2019-11-01 00:19:06.000000000</td><td>2019-11-01 00:21:33.000000000</td><td>1.0              </td><td>0.95           </td><td>1.0         </td><td>132           </td><td>132           </td><td>2.0           </td><td>5.0          </td><td>0.5    </td><td>0.5      </td><td>0.0         </td><td>0.0           </td><td>0.3                    </td><td>6.3           </td><td>0.0                   </td><td>0            </td><td>&#x27;Friday&#x27;    </td><td>2.45           </td><td>2019-11-01</td></tr>\n",
       "<tr><td><i style='opacity: 0.6'>1</i>      </td><td>2.0       </td><td>2019-11-01 00:58:52.000000000</td><td>2019-11-01 01:35:30.000000000</td><td>3.0              </td><td>17.84          </td><td>2.0         </td><td>48            </td><td>132           </td><td>1.0           </td><td>52.0         </td><td>0.0    </td><td>0.5      </td><td>2.76        </td><td>0.0           </td><td>0.3                    </td><td>58.06         </td><td>2.5                   </td><td>0            </td><td>&#x27;Friday&#x27;    </td><td>36.6333        </td><td>2019-11-01</td></tr>\n",
       "<tr><td><i style='opacity: 0.6'>2</i>      </td><td>1.0       </td><td>2019-11-01 00:09:45.000000000</td><td>2019-11-01 00:14:21.000000000</td><td>1.0              </td><td>2.0            </td><td>1.0         </td><td>132           </td><td>132           </td><td>2.0           </td><td>7.5          </td><td>0.5    </td><td>0.5      </td><td>0.0         </td><td>0.0           </td><td>0.3                    </td><td>8.8           </td><td>0.0                   </td><td>0            </td><td>&#x27;Friday&#x27;    </td><td>4.6            </td><td>2019-11-01</td></tr>\n",
       "<tr><td><i style='opacity: 0.6'>3</i>      </td><td>2.0       </td><td>2019-11-01 00:02:27.000000000</td><td>2019-11-01 00:24:29.000000000</td><td>1.0              </td><td>2.45           </td><td>1.0         </td><td>132           </td><td>132           </td><td>2.0           </td><td>16.0         </td><td>0.5    </td><td>0.5      </td><td>0.0         </td><td>0.0           </td><td>0.3                    </td><td>17.3          </td><td>0.0                   </td><td>0            </td><td>&#x27;Friday&#x27;    </td><td>22.0333        </td><td>2019-11-01</td></tr>\n",
       "<tr><td><i style='opacity: 0.6'>4</i>      </td><td>2.0       </td><td>2019-11-01 00:47:44.000000000</td><td>2019-11-01 00:47:51.000000000</td><td>4.0              </td><td>0.0            </td><td>5.0         </td><td>132           </td><td>132           </td><td>1.0           </td><td>60.0         </td><td>0.0    </td><td>0.0      </td><td>8.0         </td><td>0.0           </td><td>0.3                    </td><td>68.3          </td><td>0.0                   </td><td>0            </td><td>&#x27;Friday&#x27;    </td><td>0.1167         </td><td>2019-11-01</td></tr>\n",
       "<tr><td>...                                </td><td>...       </td><td>...                          </td><td>...                          </td><td>...              </td><td>...            </td><td>...         </td><td>...           </td><td>...           </td><td>...           </td><td>...          </td><td>...    </td><td>...      </td><td>...         </td><td>...           </td><td>...                    </td><td>...           </td><td>...                   </td><td>...          </td><td>...         </td><td>...            </td><td>...       </td></tr>\n",
       "<tr><td><i style='opacity: 0.6'>257,859</i></td><td>nan       </td><td>2020-04-23 06:18:00.000000000</td><td>2020-04-23 06:38:00.000000000</td><td>nan              </td><td>14.83          </td><td>nan         </td><td>250           </td><td>132           </td><td>nan           </td><td>37.04        </td><td>0.0    </td><td>0.5      </td><td>2.75        </td><td>6.12          </td><td>0.3                    </td><td>46.71         </td><td>0.0                   </td><td>6            </td><td>&#x27;Thursday&#x27;  </td><td>20.0           </td><td>2020-04-23</td></tr>\n",
       "<tr><td><i style='opacity: 0.6'>257,860</i></td><td>nan       </td><td>2020-04-24 06:18:04.000000000</td><td>2020-04-24 06:36:46.000000000</td><td>nan              </td><td>15.28          </td><td>nan         </td><td>250           </td><td>132           </td><td>nan           </td><td>37.17        </td><td>0.0    </td><td>0.0      </td><td>2.75        </td><td>6.12          </td><td>0.3                    </td><td>46.34         </td><td>0.0                   </td><td>6            </td><td>&#x27;Friday&#x27;    </td><td>18.7           </td><td>2020-04-24</td></tr>\n",
       "<tr><td><i style='opacity: 0.6'>257,861</i></td><td>nan       </td><td>2020-04-26 05:20:00.000000000</td><td>2020-04-26 05:49:00.000000000</td><td>nan              </td><td>18.51          </td><td>nan         </td><td>42            </td><td>132           </td><td>nan           </td><td>41.49        </td><td>0.0    </td><td>0.5      </td><td>2.75        </td><td>6.12          </td><td>0.3                    </td><td>51.16         </td><td>0.0                   </td><td>5            </td><td>&#x27;Sunday&#x27;    </td><td>29.0           </td><td>2020-04-26</td></tr>\n",
       "<tr><td><i style='opacity: 0.6'>257,862</i></td><td>nan       </td><td>2020-04-25 09:28:34.000000000</td><td>2020-04-25 09:54:52.000000000</td><td>nan              </td><td>0.0            </td><td>nan         </td><td>41            </td><td>132           </td><td>nan           </td><td>52.2         </td><td>0.0    </td><td>0.5      </td><td>0.0         </td><td>6.12          </td><td>0.3                    </td><td>61.12         </td><td>0.0                   </td><td>9            </td><td>&#x27;Saturday&#x27;  </td><td>26.3           </td><td>2020-04-25</td></tr>\n",
       "<tr><td><i style='opacity: 0.6'>257,863</i></td><td>nan       </td><td>2020-04-30 06:57:00.000000000</td><td>2020-04-30 07:04:00.000000000</td><td>nan              </td><td>5.0            </td><td>nan         </td><td>130           </td><td>132           </td><td>nan           </td><td>13.82        </td><td>0.0    </td><td>0.5      </td><td>2.75        </td><td>0.0           </td><td>0.3                    </td><td>17.37         </td><td>0.0                   </td><td>6            </td><td>&#x27;Thursday&#x27;  </td><td>7.0            </td><td>2020-04-30</td></tr>\n",
       "</tbody>\n",
       "</table>"
      ],
      "text/plain": [
       "#        VendorID    tpep_pickup_datetime           tpep_dropoff_datetime          passenger_count    trip_distance    RatecodeID    PULocationID    DOLocationID    payment_type    fare_amount    extra    mta_tax    tip_amount    tolls_amount    improvement_surcharge    total_amount    congestion_surcharge    pickup_hour    pickup_day    trip_duration    date\n",
       "0        2.0         2019-11-01 00:19:06.000000000  2019-11-01 00:21:33.000000000  1.0                0.95             1.0           132             132             2.0             5.0            0.5      0.5        0.0           0.0             0.3                      6.3             0.0                     0              'Friday'      2.45             2019-11-01\n",
       "1        2.0         2019-11-01 00:58:52.000000000  2019-11-01 01:35:30.000000000  3.0                17.84            2.0           48              132             1.0             52.0           0.0      0.5        2.76          0.0             0.3                      58.06           2.5                     0              'Friday'      36.6333          2019-11-01\n",
       "2        1.0         2019-11-01 00:09:45.000000000  2019-11-01 00:14:21.000000000  1.0                2.0              1.0           132             132             2.0             7.5            0.5      0.5        0.0           0.0             0.3                      8.8             0.0                     0              'Friday'      4.6              2019-11-01\n",
       "3        2.0         2019-11-01 00:02:27.000000000  2019-11-01 00:24:29.000000000  1.0                2.45             1.0           132             132             2.0             16.0           0.5      0.5        0.0           0.0             0.3                      17.3            0.0                     0              'Friday'      22.0333          2019-11-01\n",
       "4        2.0         2019-11-01 00:47:44.000000000  2019-11-01 00:47:51.000000000  4.0                0.0              5.0           132             132             1.0             60.0           0.0      0.0        8.0           0.0             0.3                      68.3            0.0                     0              'Friday'      0.1167           2019-11-01\n",
       "...      ...         ...                            ...                            ...                ...              ...           ...             ...             ...             ...            ...      ...        ...           ...             ...                      ...             ...                     ...            ...           ...              ...\n",
       "257,859  nan         2020-04-23 06:18:00.000000000  2020-04-23 06:38:00.000000000  nan                14.83            nan           250             132             nan             37.04          0.0      0.5        2.75          6.12            0.3                      46.71           0.0                     6              'Thursday'    20.0             2020-04-23\n",
       "257,860  nan         2020-04-24 06:18:04.000000000  2020-04-24 06:36:46.000000000  nan                15.28            nan           250             132             nan             37.17          0.0      0.0        2.75          6.12            0.3                      46.34           0.0                     6              'Friday'      18.7             2020-04-24\n",
       "257,861  nan         2020-04-26 05:20:00.000000000  2020-04-26 05:49:00.000000000  nan                18.51            nan           42              132             nan             41.49          0.0      0.5        2.75          6.12            0.3                      51.16           0.0                     5              'Sunday'      29.0             2020-04-26\n",
       "257,862  nan         2020-04-25 09:28:34.000000000  2020-04-25 09:54:52.000000000  nan                0.0              nan           41              132             nan             52.2           0.0      0.5        0.0           6.12            0.3                      61.12           0.0                     9              'Saturday'    26.3             2020-04-25\n",
       "257,863  nan         2020-04-30 06:57:00.000000000  2020-04-30 07:04:00.000000000  nan                5.0              nan           130             132             nan             13.82          0.0      0.5        2.75          0.0             0.3                      17.37           0.0                     6              'Thursday'    7.0              2020-04-30"
      ]
     },
     "execution_count": 76,
     "metadata": {},
     "output_type": "execute_result"
    }
   ],
   "source": [
    "jfk_airport_yellow"
   ]
  },
  {
   "cell_type": "code",
   "execution_count": 77,
   "id": "38547d57",
   "metadata": {},
   "outputs": [
    {
     "data": {
      "text/html": [
       "<table>\n",
       "<thead>\n",
       "<tr><th>#                                    </th><th>hvfhs_license_num  </th><th>dispatching_base_num  </th><th>pickup_datetime              </th><th>dropoff_datetime             </th><th>PULocationID  </th><th>DOLocationID  </th><th>SR_Flag  </th><th>pickup_hour  </th><th>pickup_day  </th><th>trip_duration  </th><th>date      </th></tr>\n",
       "</thead>\n",
       "<tbody>\n",
       "<tr><td><i style='opacity: 0.6'>0</i>        </td><td>&#x27;HV0003&#x27;           </td><td>&#x27;B02617&#x27;              </td><td>2019-11-01 00:11:16.000000000</td><td>2019-11-01 00:28:41.000000000</td><td>95            </td><td>132           </td><td>nan      </td><td>0            </td><td>&#x27;Friday&#x27;    </td><td>17.4167        </td><td>2019-11-01</td></tr>\n",
       "<tr><td><i style='opacity: 0.6'>1</i>        </td><td>&#x27;HV0003&#x27;           </td><td>&#x27;B02835&#x27;              </td><td>2019-11-01 00:00:11.000000000</td><td>2019-11-01 00:08:20.000000000</td><td>219           </td><td>132           </td><td>nan      </td><td>0            </td><td>&#x27;Friday&#x27;    </td><td>8.15           </td><td>2019-11-01</td></tr>\n",
       "<tr><td><i style='opacity: 0.6'>2</i>        </td><td>&#x27;HV0003&#x27;           </td><td>&#x27;B02835&#x27;              </td><td>2019-11-01 00:13:35.000000000</td><td>2019-11-01 00:21:05.000000000</td><td>10            </td><td>132           </td><td>nan      </td><td>0            </td><td>&#x27;Friday&#x27;    </td><td>7.5            </td><td>2019-11-01</td></tr>\n",
       "<tr><td><i style='opacity: 0.6'>3</i>        </td><td>&#x27;HV0005&#x27;           </td><td>&#x27;B02510&#x27;              </td><td>2019-11-01 00:42:52.000000000</td><td>2019-11-01 01:16:01.000000000</td><td>244           </td><td>132           </td><td>1.0      </td><td>0            </td><td>&#x27;Friday&#x27;    </td><td>33.15          </td><td>2019-11-01</td></tr>\n",
       "<tr><td><i style='opacity: 0.6'>4</i>        </td><td>&#x27;HV0003&#x27;           </td><td>&#x27;B02617&#x27;              </td><td>2019-11-01 00:30:28.000000000</td><td>2019-11-01 00:33:41.000000000</td><td>218           </td><td>132           </td><td>nan      </td><td>0            </td><td>&#x27;Friday&#x27;    </td><td>3.2167         </td><td>2019-11-01</td></tr>\n",
       "<tr><td>...                                  </td><td>...                </td><td>...                   </td><td>...                          </td><td>...                          </td><td>...           </td><td>...           </td><td>...      </td><td>...          </td><td>...         </td><td>...            </td><td>...       </td></tr>\n",
       "<tr><td><i style='opacity: 0.6'>1,857,620</i></td><td>&#x27;HV0003&#x27;           </td><td>&#x27;B02878&#x27;              </td><td>2020-04-30 23:22:24.000000000</td><td>2020-04-30 23:52:08.000000000</td><td>86            </td><td>132           </td><td>nan      </td><td>23           </td><td>&#x27;Thursday&#x27;  </td><td>29.7333        </td><td>2020-04-30</td></tr>\n",
       "<tr><td><i style='opacity: 0.6'>1,857,621</i></td><td>&#x27;HV0003&#x27;           </td><td>&#x27;B02872&#x27;              </td><td>2020-04-30 23:51:49.000000000</td><td>2020-05-01 00:01:27.000000000</td><td>28            </td><td>132           </td><td>nan      </td><td>23           </td><td>&#x27;Thursday&#x27;  </td><td>9.6333         </td><td>2020-04-30</td></tr>\n",
       "<tr><td><i style='opacity: 0.6'>1,857,622</i></td><td>&#x27;HV0005&#x27;           </td><td>&#x27;B02510&#x27;              </td><td>2020-04-30 23:41:16.000000000</td><td>2020-04-30 23:50:18.000000000</td><td>218           </td><td>132           </td><td>nan      </td><td>23           </td><td>&#x27;Thursday&#x27;  </td><td>9.0333         </td><td>2020-04-30</td></tr>\n",
       "<tr><td><i style='opacity: 0.6'>1,857,623</i></td><td>&#x27;HV0005&#x27;           </td><td>&#x27;B02510&#x27;              </td><td>2020-04-30 23:32:59.000000000</td><td>2020-04-30 23:47:14.000000000</td><td>197           </td><td>132           </td><td>nan      </td><td>23           </td><td>&#x27;Thursday&#x27;  </td><td>14.25          </td><td>2020-04-30</td></tr>\n",
       "<tr><td><i style='opacity: 0.6'>1,857,624</i></td><td>&#x27;HV0003&#x27;           </td><td>&#x27;B02875&#x27;              </td><td>2020-04-30 23:53:30.000000000</td><td>2020-05-01 00:22:15.000000000</td><td>254           </td><td>132           </td><td>nan      </td><td>23           </td><td>&#x27;Thursday&#x27;  </td><td>28.75          </td><td>2020-04-30</td></tr>\n",
       "</tbody>\n",
       "</table>"
      ],
      "text/plain": [
       "#          hvfhs_license_num    dispatching_base_num    pickup_datetime                dropoff_datetime               PULocationID    DOLocationID    SR_Flag    pickup_hour    pickup_day    trip_duration    date\n",
       "0          'HV0003'             'B02617'                2019-11-01 00:11:16.000000000  2019-11-01 00:28:41.000000000  95              132             nan        0              'Friday'      17.4167          2019-11-01\n",
       "1          'HV0003'             'B02835'                2019-11-01 00:00:11.000000000  2019-11-01 00:08:20.000000000  219             132             nan        0              'Friday'      8.15             2019-11-01\n",
       "2          'HV0003'             'B02835'                2019-11-01 00:13:35.000000000  2019-11-01 00:21:05.000000000  10              132             nan        0              'Friday'      7.5              2019-11-01\n",
       "3          'HV0005'             'B02510'                2019-11-01 00:42:52.000000000  2019-11-01 01:16:01.000000000  244             132             1.0        0              'Friday'      33.15            2019-11-01\n",
       "4          'HV0003'             'B02617'                2019-11-01 00:30:28.000000000  2019-11-01 00:33:41.000000000  218             132             nan        0              'Friday'      3.2167           2019-11-01\n",
       "...        ...                  ...                     ...                            ...                            ...             ...             ...        ...            ...           ...              ...\n",
       "1,857,620  'HV0003'             'B02878'                2020-04-30 23:22:24.000000000  2020-04-30 23:52:08.000000000  86              132             nan        23             'Thursday'    29.7333          2020-04-30\n",
       "1,857,621  'HV0003'             'B02872'                2020-04-30 23:51:49.000000000  2020-05-01 00:01:27.000000000  28              132             nan        23             'Thursday'    9.6333           2020-04-30\n",
       "1,857,622  'HV0005'             'B02510'                2020-04-30 23:41:16.000000000  2020-04-30 23:50:18.000000000  218             132             nan        23             'Thursday'    9.0333           2020-04-30\n",
       "1,857,623  'HV0005'             'B02510'                2020-04-30 23:32:59.000000000  2020-04-30 23:47:14.000000000  197             132             nan        23             'Thursday'    14.25            2020-04-30\n",
       "1,857,624  'HV0003'             'B02875'                2020-04-30 23:53:30.000000000  2020-05-01 00:22:15.000000000  254             132             nan        23             'Thursday'    28.75            2020-04-30"
      ]
     },
     "execution_count": 77,
     "metadata": {},
     "output_type": "execute_result"
    }
   ],
   "source": [
    "jfk_airport_fhv = fhv_df[fhv_df.PULocationID == 132 or fhv_df.DOLocationID == 132]\n",
    "jfk_airport_fhv"
   ]
  },
  {
   "cell_type": "code",
   "execution_count": 78,
   "id": "eb19e4cc",
   "metadata": {},
   "outputs": [],
   "source": [
    "ftrip_jfk = jfk_airport_fhv.groupby(by='pickup_day',agg={ 'cnt':vaex.agg.count()})\n",
    "ytrip_jfk = jfk_airport_yellow.groupby(by='pickup_day',agg={ 'cnt':vaex.agg.count()})"
   ]
  },
  {
   "cell_type": "code",
   "execution_count": 79,
   "id": "698c6202",
   "metadata": {},
   "outputs": [
    {
     "data": {
      "text/html": [
       "<table>\n",
       "<thead>\n",
       "<tr><th>#                            </th><th>pickup_day  </th><th style=\"text-align: right;\">   cnt</th></tr>\n",
       "</thead>\n",
       "<tbody>\n",
       "<tr><td><i style='opacity: 0.6'>0</i></td><td>&#x27;Friday&#x27;    </td><td style=\"text-align: right;\">296342</td></tr>\n",
       "<tr><td><i style='opacity: 0.6'>1</i></td><td>&#x27;Saturday&#x27;  </td><td style=\"text-align: right;\">250402</td></tr>\n",
       "<tr><td><i style='opacity: 0.6'>2</i></td><td>&#x27;Sunday&#x27;    </td><td style=\"text-align: right;\">287684</td></tr>\n",
       "<tr><td><i style='opacity: 0.6'>3</i></td><td>&#x27;Thursday&#x27;  </td><td style=\"text-align: right;\">275149</td></tr>\n",
       "<tr><td><i style='opacity: 0.6'>4</i></td><td>&#x27;Monday&#x27;    </td><td style=\"text-align: right;\">262705</td></tr>\n",
       "<tr><td><i style='opacity: 0.6'>5</i></td><td>&#x27;Tuesday&#x27;   </td><td style=\"text-align: right;\">233619</td></tr>\n",
       "<tr><td><i style='opacity: 0.6'>6</i></td><td>&#x27;Wednesday&#x27; </td><td style=\"text-align: right;\">251724</td></tr>\n",
       "</tbody>\n",
       "</table>"
      ],
      "text/plain": [
       "  #  pickup_day       cnt\n",
       "  0  'Friday'      296342\n",
       "  1  'Saturday'    250402\n",
       "  2  'Sunday'      287684\n",
       "  3  'Thursday'    275149\n",
       "  4  'Monday'      262705\n",
       "  5  'Tuesday'     233619\n",
       "  6  'Wednesday'   251724"
      ]
     },
     "execution_count": 79,
     "metadata": {},
     "output_type": "execute_result"
    }
   ],
   "source": [
    "ftrip_jfk"
   ]
  },
  {
   "cell_type": "code",
   "execution_count": 80,
   "id": "9756565d",
   "metadata": {},
   "outputs": [],
   "source": [
    "ftrip_jfk_df = ftrip_jfk.to_pandas_df()\n",
    "ytrip_jfk_df = ytrip_jfk.to_pandas_df()"
   ]
  },
  {
   "cell_type": "code",
   "execution_count": 81,
   "id": "3e4b375a",
   "metadata": {},
   "outputs": [],
   "source": [
    "days_jfk = ftrip_jfk_df.set_index('pickup_day').add(ytrip_jfk_df.set_index('pickup_day'), fill_value=0).reset_index()"
   ]
  },
  {
   "cell_type": "code",
   "execution_count": 82,
   "id": "603a343b",
   "metadata": {},
   "outputs": [
    {
     "data": {
      "text/html": [
       "<div>\n",
       "<style scoped>\n",
       "    .dataframe tbody tr th:only-of-type {\n",
       "        vertical-align: middle;\n",
       "    }\n",
       "\n",
       "    .dataframe tbody tr th {\n",
       "        vertical-align: top;\n",
       "    }\n",
       "\n",
       "    .dataframe thead th {\n",
       "        text-align: right;\n",
       "    }\n",
       "</style>\n",
       "<table border=\"1\" class=\"dataframe\">\n",
       "  <thead>\n",
       "    <tr style=\"text-align: right;\">\n",
       "      <th></th>\n",
       "      <th>pickup_day</th>\n",
       "      <th>cnt</th>\n",
       "      <th>day_num</th>\n",
       "    </tr>\n",
       "  </thead>\n",
       "  <tbody>\n",
       "    <tr>\n",
       "      <th>0</th>\n",
       "      <td>Friday</td>\n",
       "      <td>338470</td>\n",
       "      <td>5</td>\n",
       "    </tr>\n",
       "    <tr>\n",
       "      <th>1</th>\n",
       "      <td>Monday</td>\n",
       "      <td>299937</td>\n",
       "      <td>1</td>\n",
       "    </tr>\n",
       "    <tr>\n",
       "      <th>2</th>\n",
       "      <td>Saturday</td>\n",
       "      <td>282523</td>\n",
       "      <td>6</td>\n",
       "    </tr>\n",
       "    <tr>\n",
       "      <th>3</th>\n",
       "      <td>Sunday</td>\n",
       "      <td>328383</td>\n",
       "      <td>7</td>\n",
       "    </tr>\n",
       "    <tr>\n",
       "      <th>4</th>\n",
       "      <td>Thursday</td>\n",
       "      <td>314625</td>\n",
       "      <td>4</td>\n",
       "    </tr>\n",
       "    <tr>\n",
       "      <th>5</th>\n",
       "      <td>Tuesday</td>\n",
       "      <td>265613</td>\n",
       "      <td>2</td>\n",
       "    </tr>\n",
       "    <tr>\n",
       "      <th>6</th>\n",
       "      <td>Wednesday</td>\n",
       "      <td>285938</td>\n",
       "      <td>3</td>\n",
       "    </tr>\n",
       "  </tbody>\n",
       "</table>\n",
       "</div>"
      ],
      "text/plain": [
       "  pickup_day     cnt  day_num\n",
       "0     Friday  338470        5\n",
       "1     Monday  299937        1\n",
       "2   Saturday  282523        6\n",
       "3     Sunday  328383        7\n",
       "4   Thursday  314625        4\n",
       "5    Tuesday  265613        2\n",
       "6  Wednesday  285938        3"
      ]
     },
     "execution_count": 82,
     "metadata": {},
     "output_type": "execute_result"
    }
   ],
   "source": [
    "days_jfk['day_num'] = days_jfk['pickup_day'].map(day_dict)\n",
    "days_jfk"
   ]
  },
  {
   "cell_type": "code",
   "execution_count": 83,
   "id": "c512aacb",
   "metadata": {},
   "outputs": [
    {
     "data": {
      "text/html": [
       "<div>\n",
       "<style scoped>\n",
       "    .dataframe tbody tr th:only-of-type {\n",
       "        vertical-align: middle;\n",
       "    }\n",
       "\n",
       "    .dataframe tbody tr th {\n",
       "        vertical-align: top;\n",
       "    }\n",
       "\n",
       "    .dataframe thead th {\n",
       "        text-align: right;\n",
       "    }\n",
       "</style>\n",
       "<table border=\"1\" class=\"dataframe\">\n",
       "  <thead>\n",
       "    <tr style=\"text-align: right;\">\n",
       "      <th></th>\n",
       "      <th>pickup_day</th>\n",
       "      <th>cnt</th>\n",
       "      <th>day_num</th>\n",
       "    </tr>\n",
       "  </thead>\n",
       "  <tbody>\n",
       "    <tr>\n",
       "      <th>1</th>\n",
       "      <td>Monday</td>\n",
       "      <td>299937</td>\n",
       "      <td>1</td>\n",
       "    </tr>\n",
       "    <tr>\n",
       "      <th>5</th>\n",
       "      <td>Tuesday</td>\n",
       "      <td>265613</td>\n",
       "      <td>2</td>\n",
       "    </tr>\n",
       "    <tr>\n",
       "      <th>6</th>\n",
       "      <td>Wednesday</td>\n",
       "      <td>285938</td>\n",
       "      <td>3</td>\n",
       "    </tr>\n",
       "    <tr>\n",
       "      <th>4</th>\n",
       "      <td>Thursday</td>\n",
       "      <td>314625</td>\n",
       "      <td>4</td>\n",
       "    </tr>\n",
       "    <tr>\n",
       "      <th>0</th>\n",
       "      <td>Friday</td>\n",
       "      <td>338470</td>\n",
       "      <td>5</td>\n",
       "    </tr>\n",
       "    <tr>\n",
       "      <th>2</th>\n",
       "      <td>Saturday</td>\n",
       "      <td>282523</td>\n",
       "      <td>6</td>\n",
       "    </tr>\n",
       "    <tr>\n",
       "      <th>3</th>\n",
       "      <td>Sunday</td>\n",
       "      <td>328383</td>\n",
       "      <td>7</td>\n",
       "    </tr>\n",
       "  </tbody>\n",
       "</table>\n",
       "</div>"
      ],
      "text/plain": [
       "  pickup_day     cnt  day_num\n",
       "1     Monday  299937        1\n",
       "5    Tuesday  265613        2\n",
       "6  Wednesday  285938        3\n",
       "4   Thursday  314625        4\n",
       "0     Friday  338470        5\n",
       "2   Saturday  282523        6\n",
       "3     Sunday  328383        7"
      ]
     },
     "execution_count": 83,
     "metadata": {},
     "output_type": "execute_result"
    }
   ],
   "source": [
    "days_jfk=days_jfk.sort_values(by='day_num')\n",
    "days_jfk"
   ]
  },
  {
   "cell_type": "code",
   "execution_count": 210,
   "id": "12c91552",
   "metadata": {},
   "outputs": [
    {
     "data": {
      "application/vnd.plotly.v1+json": {
       "config": {
        "plotlyServerURL": "https://plot.ly"
       },
       "data": [
        {
         "marker": {
          "color": "rgb(255, 135, 45)"
         },
         "type": "bar",
         "x": [
          "Monday",
          "Tuesday",
          "Wednesday",
          "Thursday",
          "Friday",
          "Saturday",
          "Sunday"
         ],
         "y": [
          299937,
          265613,
          285938,
          314625,
          338470,
          282523,
          328383
         ]
        }
       ],
       "layout": {
        "plot_bgcolor": "rgba(245, 245, 245 ,10)",
        "template": {
         "data": {
          "bar": [
           {
            "error_x": {
             "color": "#2a3f5f"
            },
            "error_y": {
             "color": "#2a3f5f"
            },
            "marker": {
             "line": {
              "color": "#E5ECF6",
              "width": 0.5
             }
            },
            "type": "bar"
           }
          ],
          "barpolar": [
           {
            "marker": {
             "line": {
              "color": "#E5ECF6",
              "width": 0.5
             }
            },
            "type": "barpolar"
           }
          ],
          "carpet": [
           {
            "aaxis": {
             "endlinecolor": "#2a3f5f",
             "gridcolor": "white",
             "linecolor": "white",
             "minorgridcolor": "white",
             "startlinecolor": "#2a3f5f"
            },
            "baxis": {
             "endlinecolor": "#2a3f5f",
             "gridcolor": "white",
             "linecolor": "white",
             "minorgridcolor": "white",
             "startlinecolor": "#2a3f5f"
            },
            "type": "carpet"
           }
          ],
          "choropleth": [
           {
            "colorbar": {
             "outlinewidth": 0,
             "ticks": ""
            },
            "type": "choropleth"
           }
          ],
          "contour": [
           {
            "colorbar": {
             "outlinewidth": 0,
             "ticks": ""
            },
            "colorscale": [
             [
              0,
              "#0d0887"
             ],
             [
              0.1111111111111111,
              "#46039f"
             ],
             [
              0.2222222222222222,
              "#7201a8"
             ],
             [
              0.3333333333333333,
              "#9c179e"
             ],
             [
              0.4444444444444444,
              "#bd3786"
             ],
             [
              0.5555555555555556,
              "#d8576b"
             ],
             [
              0.6666666666666666,
              "#ed7953"
             ],
             [
              0.7777777777777778,
              "#fb9f3a"
             ],
             [
              0.8888888888888888,
              "#fdca26"
             ],
             [
              1,
              "#f0f921"
             ]
            ],
            "type": "contour"
           }
          ],
          "contourcarpet": [
           {
            "colorbar": {
             "outlinewidth": 0,
             "ticks": ""
            },
            "type": "contourcarpet"
           }
          ],
          "heatmap": [
           {
            "colorbar": {
             "outlinewidth": 0,
             "ticks": ""
            },
            "colorscale": [
             [
              0,
              "#0d0887"
             ],
             [
              0.1111111111111111,
              "#46039f"
             ],
             [
              0.2222222222222222,
              "#7201a8"
             ],
             [
              0.3333333333333333,
              "#9c179e"
             ],
             [
              0.4444444444444444,
              "#bd3786"
             ],
             [
              0.5555555555555556,
              "#d8576b"
             ],
             [
              0.6666666666666666,
              "#ed7953"
             ],
             [
              0.7777777777777778,
              "#fb9f3a"
             ],
             [
              0.8888888888888888,
              "#fdca26"
             ],
             [
              1,
              "#f0f921"
             ]
            ],
            "type": "heatmap"
           }
          ],
          "heatmapgl": [
           {
            "colorbar": {
             "outlinewidth": 0,
             "ticks": ""
            },
            "colorscale": [
             [
              0,
              "#0d0887"
             ],
             [
              0.1111111111111111,
              "#46039f"
             ],
             [
              0.2222222222222222,
              "#7201a8"
             ],
             [
              0.3333333333333333,
              "#9c179e"
             ],
             [
              0.4444444444444444,
              "#bd3786"
             ],
             [
              0.5555555555555556,
              "#d8576b"
             ],
             [
              0.6666666666666666,
              "#ed7953"
             ],
             [
              0.7777777777777778,
              "#fb9f3a"
             ],
             [
              0.8888888888888888,
              "#fdca26"
             ],
             [
              1,
              "#f0f921"
             ]
            ],
            "type": "heatmapgl"
           }
          ],
          "histogram": [
           {
            "marker": {
             "colorbar": {
              "outlinewidth": 0,
              "ticks": ""
             }
            },
            "type": "histogram"
           }
          ],
          "histogram2d": [
           {
            "colorbar": {
             "outlinewidth": 0,
             "ticks": ""
            },
            "colorscale": [
             [
              0,
              "#0d0887"
             ],
             [
              0.1111111111111111,
              "#46039f"
             ],
             [
              0.2222222222222222,
              "#7201a8"
             ],
             [
              0.3333333333333333,
              "#9c179e"
             ],
             [
              0.4444444444444444,
              "#bd3786"
             ],
             [
              0.5555555555555556,
              "#d8576b"
             ],
             [
              0.6666666666666666,
              "#ed7953"
             ],
             [
              0.7777777777777778,
              "#fb9f3a"
             ],
             [
              0.8888888888888888,
              "#fdca26"
             ],
             [
              1,
              "#f0f921"
             ]
            ],
            "type": "histogram2d"
           }
          ],
          "histogram2dcontour": [
           {
            "colorbar": {
             "outlinewidth": 0,
             "ticks": ""
            },
            "colorscale": [
             [
              0,
              "#0d0887"
             ],
             [
              0.1111111111111111,
              "#46039f"
             ],
             [
              0.2222222222222222,
              "#7201a8"
             ],
             [
              0.3333333333333333,
              "#9c179e"
             ],
             [
              0.4444444444444444,
              "#bd3786"
             ],
             [
              0.5555555555555556,
              "#d8576b"
             ],
             [
              0.6666666666666666,
              "#ed7953"
             ],
             [
              0.7777777777777778,
              "#fb9f3a"
             ],
             [
              0.8888888888888888,
              "#fdca26"
             ],
             [
              1,
              "#f0f921"
             ]
            ],
            "type": "histogram2dcontour"
           }
          ],
          "mesh3d": [
           {
            "colorbar": {
             "outlinewidth": 0,
             "ticks": ""
            },
            "type": "mesh3d"
           }
          ],
          "parcoords": [
           {
            "line": {
             "colorbar": {
              "outlinewidth": 0,
              "ticks": ""
             }
            },
            "type": "parcoords"
           }
          ],
          "pie": [
           {
            "automargin": true,
            "type": "pie"
           }
          ],
          "scatter": [
           {
            "marker": {
             "colorbar": {
              "outlinewidth": 0,
              "ticks": ""
             }
            },
            "type": "scatter"
           }
          ],
          "scatter3d": [
           {
            "line": {
             "colorbar": {
              "outlinewidth": 0,
              "ticks": ""
             }
            },
            "marker": {
             "colorbar": {
              "outlinewidth": 0,
              "ticks": ""
             }
            },
            "type": "scatter3d"
           }
          ],
          "scattercarpet": [
           {
            "marker": {
             "colorbar": {
              "outlinewidth": 0,
              "ticks": ""
             }
            },
            "type": "scattercarpet"
           }
          ],
          "scattergeo": [
           {
            "marker": {
             "colorbar": {
              "outlinewidth": 0,
              "ticks": ""
             }
            },
            "type": "scattergeo"
           }
          ],
          "scattergl": [
           {
            "marker": {
             "colorbar": {
              "outlinewidth": 0,
              "ticks": ""
             }
            },
            "type": "scattergl"
           }
          ],
          "scattermapbox": [
           {
            "marker": {
             "colorbar": {
              "outlinewidth": 0,
              "ticks": ""
             }
            },
            "type": "scattermapbox"
           }
          ],
          "scatterpolar": [
           {
            "marker": {
             "colorbar": {
              "outlinewidth": 0,
              "ticks": ""
             }
            },
            "type": "scatterpolar"
           }
          ],
          "scatterpolargl": [
           {
            "marker": {
             "colorbar": {
              "outlinewidth": 0,
              "ticks": ""
             }
            },
            "type": "scatterpolargl"
           }
          ],
          "scatterternary": [
           {
            "marker": {
             "colorbar": {
              "outlinewidth": 0,
              "ticks": ""
             }
            },
            "type": "scatterternary"
           }
          ],
          "surface": [
           {
            "colorbar": {
             "outlinewidth": 0,
             "ticks": ""
            },
            "colorscale": [
             [
              0,
              "#0d0887"
             ],
             [
              0.1111111111111111,
              "#46039f"
             ],
             [
              0.2222222222222222,
              "#7201a8"
             ],
             [
              0.3333333333333333,
              "#9c179e"
             ],
             [
              0.4444444444444444,
              "#bd3786"
             ],
             [
              0.5555555555555556,
              "#d8576b"
             ],
             [
              0.6666666666666666,
              "#ed7953"
             ],
             [
              0.7777777777777778,
              "#fb9f3a"
             ],
             [
              0.8888888888888888,
              "#fdca26"
             ],
             [
              1,
              "#f0f921"
             ]
            ],
            "type": "surface"
           }
          ],
          "table": [
           {
            "cells": {
             "fill": {
              "color": "#EBF0F8"
             },
             "line": {
              "color": "white"
             }
            },
            "header": {
             "fill": {
              "color": "#C8D4E3"
             },
             "line": {
              "color": "white"
             }
            },
            "type": "table"
           }
          ]
         },
         "layout": {
          "annotationdefaults": {
           "arrowcolor": "#2a3f5f",
           "arrowhead": 0,
           "arrowwidth": 1
          },
          "autotypenumbers": "strict",
          "coloraxis": {
           "colorbar": {
            "outlinewidth": 0,
            "ticks": ""
           }
          },
          "colorscale": {
           "diverging": [
            [
             0,
             "#8e0152"
            ],
            [
             0.1,
             "#c51b7d"
            ],
            [
             0.2,
             "#de77ae"
            ],
            [
             0.3,
             "#f1b6da"
            ],
            [
             0.4,
             "#fde0ef"
            ],
            [
             0.5,
             "#f7f7f7"
            ],
            [
             0.6,
             "#e6f5d0"
            ],
            [
             0.7,
             "#b8e186"
            ],
            [
             0.8,
             "#7fbc41"
            ],
            [
             0.9,
             "#4d9221"
            ],
            [
             1,
             "#276419"
            ]
           ],
           "sequential": [
            [
             0,
             "#0d0887"
            ],
            [
             0.1111111111111111,
             "#46039f"
            ],
            [
             0.2222222222222222,
             "#7201a8"
            ],
            [
             0.3333333333333333,
             "#9c179e"
            ],
            [
             0.4444444444444444,
             "#bd3786"
            ],
            [
             0.5555555555555556,
             "#d8576b"
            ],
            [
             0.6666666666666666,
             "#ed7953"
            ],
            [
             0.7777777777777778,
             "#fb9f3a"
            ],
            [
             0.8888888888888888,
             "#fdca26"
            ],
            [
             1,
             "#f0f921"
            ]
           ],
           "sequentialminus": [
            [
             0,
             "#0d0887"
            ],
            [
             0.1111111111111111,
             "#46039f"
            ],
            [
             0.2222222222222222,
             "#7201a8"
            ],
            [
             0.3333333333333333,
             "#9c179e"
            ],
            [
             0.4444444444444444,
             "#bd3786"
            ],
            [
             0.5555555555555556,
             "#d8576b"
            ],
            [
             0.6666666666666666,
             "#ed7953"
            ],
            [
             0.7777777777777778,
             "#fb9f3a"
            ],
            [
             0.8888888888888888,
             "#fdca26"
            ],
            [
             1,
             "#f0f921"
            ]
           ]
          },
          "colorway": [
           "#636efa",
           "#EF553B",
           "#00cc96",
           "#ab63fa",
           "#FFA15A",
           "#19d3f3",
           "#FF6692",
           "#B6E880",
           "#FF97FF",
           "#FECB52"
          ],
          "font": {
           "color": "#2a3f5f"
          },
          "geo": {
           "bgcolor": "white",
           "lakecolor": "white",
           "landcolor": "#E5ECF6",
           "showlakes": true,
           "showland": true,
           "subunitcolor": "white"
          },
          "hoverlabel": {
           "align": "left"
          },
          "hovermode": "closest",
          "mapbox": {
           "style": "light"
          },
          "paper_bgcolor": "white",
          "plot_bgcolor": "#E5ECF6",
          "polar": {
           "angularaxis": {
            "gridcolor": "white",
            "linecolor": "white",
            "ticks": ""
           },
           "bgcolor": "#E5ECF6",
           "radialaxis": {
            "gridcolor": "white",
            "linecolor": "white",
            "ticks": ""
           }
          },
          "scene": {
           "xaxis": {
            "backgroundcolor": "#E5ECF6",
            "gridcolor": "white",
            "gridwidth": 2,
            "linecolor": "white",
            "showbackground": true,
            "ticks": "",
            "zerolinecolor": "white"
           },
           "yaxis": {
            "backgroundcolor": "#E5ECF6",
            "gridcolor": "white",
            "gridwidth": 2,
            "linecolor": "white",
            "showbackground": true,
            "ticks": "",
            "zerolinecolor": "white"
           },
           "zaxis": {
            "backgroundcolor": "#E5ECF6",
            "gridcolor": "white",
            "gridwidth": 2,
            "linecolor": "white",
            "showbackground": true,
            "ticks": "",
            "zerolinecolor": "white"
           }
          },
          "shapedefaults": {
           "line": {
            "color": "#2a3f5f"
           }
          },
          "ternary": {
           "aaxis": {
            "gridcolor": "white",
            "linecolor": "white",
            "ticks": ""
           },
           "baxis": {
            "gridcolor": "white",
            "linecolor": "white",
            "ticks": ""
           },
           "bgcolor": "#E5ECF6",
           "caxis": {
            "gridcolor": "white",
            "linecolor": "white",
            "ticks": ""
           }
          },
          "title": {
           "x": 0.05
          },
          "xaxis": {
           "automargin": true,
           "gridcolor": "white",
           "linecolor": "white",
           "ticks": "",
           "title": {
            "standoff": 15
           },
           "zerolinecolor": "white",
           "zerolinewidth": 2
          },
          "yaxis": {
           "automargin": true,
           "gridcolor": "white",
           "linecolor": "white",
           "ticks": "",
           "title": {
            "standoff": 15
           },
           "zerolinecolor": "white",
           "zerolinewidth": 2
          }
         }
        },
        "title": {
         "text": "Footfall at JFK Airport over Days of the Week"
        },
        "xaxis": {
         "showgrid": false,
         "title": {
          "text": "Days"
         }
        },
        "yaxis": {
         "gridcolor": "rgb(209, 207, 207)",
         "title": {
          "text": "Footfall"
         }
        }
       }
      },
      "text/html": [
       "<div>                            <div id=\"2a344c80-f253-4709-a521-56803cc63114\" class=\"plotly-graph-div\" style=\"height:525px; width:100%;\"></div>            <script type=\"text/javascript\">                require([\"plotly\"], function(Plotly) {                    window.PLOTLYENV=window.PLOTLYENV || {};                                    if (document.getElementById(\"2a344c80-f253-4709-a521-56803cc63114\")) {                    Plotly.newPlot(                        \"2a344c80-f253-4709-a521-56803cc63114\",                        [{\"marker\": {\"color\": \"rgb(255, 135, 45)\"}, \"type\": \"bar\", \"x\": [\"Monday\", \"Tuesday\", \"Wednesday\", \"Thursday\", \"Friday\", \"Saturday\", \"Sunday\"], \"y\": [299937, 265613, 285938, 314625, 338470, 282523, 328383]}],                        {\"plot_bgcolor\": \"rgba(245, 245, 245 ,10)\", \"template\": {\"data\": {\"bar\": [{\"error_x\": {\"color\": \"#2a3f5f\"}, \"error_y\": {\"color\": \"#2a3f5f\"}, \"marker\": {\"line\": {\"color\": \"#E5ECF6\", \"width\": 0.5}}, \"type\": \"bar\"}], \"barpolar\": [{\"marker\": {\"line\": {\"color\": \"#E5ECF6\", \"width\": 0.5}}, \"type\": \"barpolar\"}], \"carpet\": [{\"aaxis\": {\"endlinecolor\": \"#2a3f5f\", \"gridcolor\": \"white\", \"linecolor\": \"white\", \"minorgridcolor\": \"white\", \"startlinecolor\": \"#2a3f5f\"}, \"baxis\": {\"endlinecolor\": \"#2a3f5f\", \"gridcolor\": \"white\", \"linecolor\": \"white\", \"minorgridcolor\": \"white\", \"startlinecolor\": \"#2a3f5f\"}, \"type\": \"carpet\"}], \"choropleth\": [{\"colorbar\": {\"outlinewidth\": 0, \"ticks\": \"\"}, \"type\": \"choropleth\"}], \"contour\": [{\"colorbar\": {\"outlinewidth\": 0, \"ticks\": \"\"}, \"colorscale\": [[0.0, \"#0d0887\"], [0.1111111111111111, \"#46039f\"], [0.2222222222222222, \"#7201a8\"], [0.3333333333333333, \"#9c179e\"], [0.4444444444444444, \"#bd3786\"], [0.5555555555555556, \"#d8576b\"], [0.6666666666666666, \"#ed7953\"], [0.7777777777777778, \"#fb9f3a\"], [0.8888888888888888, \"#fdca26\"], [1.0, \"#f0f921\"]], \"type\": \"contour\"}], \"contourcarpet\": [{\"colorbar\": {\"outlinewidth\": 0, \"ticks\": \"\"}, \"type\": \"contourcarpet\"}], \"heatmap\": [{\"colorbar\": {\"outlinewidth\": 0, \"ticks\": \"\"}, \"colorscale\": [[0.0, \"#0d0887\"], [0.1111111111111111, \"#46039f\"], [0.2222222222222222, \"#7201a8\"], [0.3333333333333333, \"#9c179e\"], [0.4444444444444444, \"#bd3786\"], [0.5555555555555556, \"#d8576b\"], [0.6666666666666666, \"#ed7953\"], [0.7777777777777778, \"#fb9f3a\"], [0.8888888888888888, \"#fdca26\"], [1.0, \"#f0f921\"]], \"type\": \"heatmap\"}], \"heatmapgl\": [{\"colorbar\": {\"outlinewidth\": 0, \"ticks\": \"\"}, \"colorscale\": [[0.0, \"#0d0887\"], [0.1111111111111111, \"#46039f\"], [0.2222222222222222, \"#7201a8\"], [0.3333333333333333, \"#9c179e\"], [0.4444444444444444, \"#bd3786\"], [0.5555555555555556, \"#d8576b\"], [0.6666666666666666, \"#ed7953\"], [0.7777777777777778, \"#fb9f3a\"], [0.8888888888888888, \"#fdca26\"], [1.0, \"#f0f921\"]], \"type\": \"heatmapgl\"}], \"histogram\": [{\"marker\": {\"colorbar\": {\"outlinewidth\": 0, \"ticks\": \"\"}}, \"type\": \"histogram\"}], \"histogram2d\": [{\"colorbar\": {\"outlinewidth\": 0, \"ticks\": \"\"}, \"colorscale\": [[0.0, \"#0d0887\"], [0.1111111111111111, \"#46039f\"], [0.2222222222222222, \"#7201a8\"], [0.3333333333333333, \"#9c179e\"], [0.4444444444444444, \"#bd3786\"], [0.5555555555555556, \"#d8576b\"], [0.6666666666666666, \"#ed7953\"], [0.7777777777777778, \"#fb9f3a\"], [0.8888888888888888, \"#fdca26\"], [1.0, \"#f0f921\"]], \"type\": \"histogram2d\"}], \"histogram2dcontour\": [{\"colorbar\": {\"outlinewidth\": 0, \"ticks\": \"\"}, \"colorscale\": [[0.0, \"#0d0887\"], [0.1111111111111111, \"#46039f\"], [0.2222222222222222, \"#7201a8\"], [0.3333333333333333, \"#9c179e\"], [0.4444444444444444, \"#bd3786\"], [0.5555555555555556, \"#d8576b\"], [0.6666666666666666, \"#ed7953\"], [0.7777777777777778, \"#fb9f3a\"], [0.8888888888888888, \"#fdca26\"], [1.0, \"#f0f921\"]], \"type\": \"histogram2dcontour\"}], \"mesh3d\": [{\"colorbar\": {\"outlinewidth\": 0, \"ticks\": \"\"}, \"type\": \"mesh3d\"}], \"parcoords\": [{\"line\": {\"colorbar\": {\"outlinewidth\": 0, \"ticks\": \"\"}}, \"type\": \"parcoords\"}], \"pie\": [{\"automargin\": true, \"type\": \"pie\"}], \"scatter\": [{\"marker\": {\"colorbar\": {\"outlinewidth\": 0, \"ticks\": \"\"}}, \"type\": \"scatter\"}], \"scatter3d\": [{\"line\": {\"colorbar\": {\"outlinewidth\": 0, \"ticks\": \"\"}}, \"marker\": {\"colorbar\": {\"outlinewidth\": 0, \"ticks\": \"\"}}, \"type\": \"scatter3d\"}], \"scattercarpet\": [{\"marker\": {\"colorbar\": {\"outlinewidth\": 0, \"ticks\": \"\"}}, \"type\": \"scattercarpet\"}], \"scattergeo\": [{\"marker\": {\"colorbar\": {\"outlinewidth\": 0, \"ticks\": \"\"}}, \"type\": \"scattergeo\"}], \"scattergl\": [{\"marker\": {\"colorbar\": {\"outlinewidth\": 0, \"ticks\": \"\"}}, \"type\": \"scattergl\"}], \"scattermapbox\": [{\"marker\": {\"colorbar\": {\"outlinewidth\": 0, \"ticks\": \"\"}}, \"type\": \"scattermapbox\"}], \"scatterpolar\": [{\"marker\": {\"colorbar\": {\"outlinewidth\": 0, \"ticks\": \"\"}}, \"type\": \"scatterpolar\"}], \"scatterpolargl\": [{\"marker\": {\"colorbar\": {\"outlinewidth\": 0, \"ticks\": \"\"}}, \"type\": \"scatterpolargl\"}], \"scatterternary\": [{\"marker\": {\"colorbar\": {\"outlinewidth\": 0, \"ticks\": \"\"}}, \"type\": \"scatterternary\"}], \"surface\": [{\"colorbar\": {\"outlinewidth\": 0, \"ticks\": \"\"}, \"colorscale\": [[0.0, \"#0d0887\"], [0.1111111111111111, \"#46039f\"], [0.2222222222222222, \"#7201a8\"], [0.3333333333333333, \"#9c179e\"], [0.4444444444444444, \"#bd3786\"], [0.5555555555555556, \"#d8576b\"], [0.6666666666666666, \"#ed7953\"], [0.7777777777777778, \"#fb9f3a\"], [0.8888888888888888, \"#fdca26\"], [1.0, \"#f0f921\"]], \"type\": \"surface\"}], \"table\": [{\"cells\": {\"fill\": {\"color\": \"#EBF0F8\"}, \"line\": {\"color\": \"white\"}}, \"header\": {\"fill\": {\"color\": \"#C8D4E3\"}, \"line\": {\"color\": \"white\"}}, \"type\": \"table\"}]}, \"layout\": {\"annotationdefaults\": {\"arrowcolor\": \"#2a3f5f\", \"arrowhead\": 0, \"arrowwidth\": 1}, \"autotypenumbers\": \"strict\", \"coloraxis\": {\"colorbar\": {\"outlinewidth\": 0, \"ticks\": \"\"}}, \"colorscale\": {\"diverging\": [[0, \"#8e0152\"], [0.1, \"#c51b7d\"], [0.2, \"#de77ae\"], [0.3, \"#f1b6da\"], [0.4, \"#fde0ef\"], [0.5, \"#f7f7f7\"], [0.6, \"#e6f5d0\"], [0.7, \"#b8e186\"], [0.8, \"#7fbc41\"], [0.9, \"#4d9221\"], [1, \"#276419\"]], \"sequential\": [[0.0, \"#0d0887\"], [0.1111111111111111, \"#46039f\"], [0.2222222222222222, \"#7201a8\"], [0.3333333333333333, \"#9c179e\"], [0.4444444444444444, \"#bd3786\"], [0.5555555555555556, \"#d8576b\"], [0.6666666666666666, \"#ed7953\"], [0.7777777777777778, \"#fb9f3a\"], [0.8888888888888888, \"#fdca26\"], [1.0, \"#f0f921\"]], \"sequentialminus\": [[0.0, \"#0d0887\"], [0.1111111111111111, \"#46039f\"], [0.2222222222222222, \"#7201a8\"], [0.3333333333333333, \"#9c179e\"], [0.4444444444444444, \"#bd3786\"], [0.5555555555555556, \"#d8576b\"], [0.6666666666666666, \"#ed7953\"], [0.7777777777777778, \"#fb9f3a\"], [0.8888888888888888, \"#fdca26\"], [1.0, \"#f0f921\"]]}, \"colorway\": [\"#636efa\", \"#EF553B\", \"#00cc96\", \"#ab63fa\", \"#FFA15A\", \"#19d3f3\", \"#FF6692\", \"#B6E880\", \"#FF97FF\", \"#FECB52\"], \"font\": {\"color\": \"#2a3f5f\"}, \"geo\": {\"bgcolor\": \"white\", \"lakecolor\": \"white\", \"landcolor\": \"#E5ECF6\", \"showlakes\": true, \"showland\": true, \"subunitcolor\": \"white\"}, \"hoverlabel\": {\"align\": \"left\"}, \"hovermode\": \"closest\", \"mapbox\": {\"style\": \"light\"}, \"paper_bgcolor\": \"white\", \"plot_bgcolor\": \"#E5ECF6\", \"polar\": {\"angularaxis\": {\"gridcolor\": \"white\", \"linecolor\": \"white\", \"ticks\": \"\"}, \"bgcolor\": \"#E5ECF6\", \"radialaxis\": {\"gridcolor\": \"white\", \"linecolor\": \"white\", \"ticks\": \"\"}}, \"scene\": {\"xaxis\": {\"backgroundcolor\": \"#E5ECF6\", \"gridcolor\": \"white\", \"gridwidth\": 2, \"linecolor\": \"white\", \"showbackground\": true, \"ticks\": \"\", \"zerolinecolor\": \"white\"}, \"yaxis\": {\"backgroundcolor\": \"#E5ECF6\", \"gridcolor\": \"white\", \"gridwidth\": 2, \"linecolor\": \"white\", \"showbackground\": true, \"ticks\": \"\", \"zerolinecolor\": \"white\"}, \"zaxis\": {\"backgroundcolor\": \"#E5ECF6\", \"gridcolor\": \"white\", \"gridwidth\": 2, \"linecolor\": \"white\", \"showbackground\": true, \"ticks\": \"\", \"zerolinecolor\": \"white\"}}, \"shapedefaults\": {\"line\": {\"color\": \"#2a3f5f\"}}, \"ternary\": {\"aaxis\": {\"gridcolor\": \"white\", \"linecolor\": \"white\", \"ticks\": \"\"}, \"baxis\": {\"gridcolor\": \"white\", \"linecolor\": \"white\", \"ticks\": \"\"}, \"bgcolor\": \"#E5ECF6\", \"caxis\": {\"gridcolor\": \"white\", \"linecolor\": \"white\", \"ticks\": \"\"}}, \"title\": {\"x\": 0.05}, \"xaxis\": {\"automargin\": true, \"gridcolor\": \"white\", \"linecolor\": \"white\", \"ticks\": \"\", \"title\": {\"standoff\": 15}, \"zerolinecolor\": \"white\", \"zerolinewidth\": 2}, \"yaxis\": {\"automargin\": true, \"gridcolor\": \"white\", \"linecolor\": \"white\", \"ticks\": \"\", \"title\": {\"standoff\": 15}, \"zerolinecolor\": \"white\", \"zerolinewidth\": 2}}}, \"title\": {\"text\": \"Footfall at JFK Airport over Days of the Week\"}, \"xaxis\": {\"showgrid\": false, \"title\": {\"text\": \"Days\"}}, \"yaxis\": {\"gridcolor\": \"rgb(209, 207, 207)\", \"title\": {\"text\": \"Footfall\"}}},                        {\"responsive\": true}                    ).then(function(){\n",
       "                            \n",
       "var gd = document.getElementById('2a344c80-f253-4709-a521-56803cc63114');\n",
       "var x = new MutationObserver(function (mutations, observer) {{\n",
       "        var display = window.getComputedStyle(gd).display;\n",
       "        if (!display || display === 'none') {{\n",
       "            console.log([gd, 'removed!']);\n",
       "            Plotly.purge(gd);\n",
       "            observer.disconnect();\n",
       "        }}\n",
       "}});\n",
       "\n",
       "// Listen for the removal of the full notebook cells\n",
       "var notebookContainer = gd.closest('#notebook-container');\n",
       "if (notebookContainer) {{\n",
       "    x.observe(notebookContainer, {childList: true});\n",
       "}}\n",
       "\n",
       "// Listen for the clearing of the current output cell\n",
       "var outputEl = gd.closest('.output');\n",
       "if (outputEl) {{\n",
       "    x.observe(outputEl, {childList: true});\n",
       "}}\n",
       "\n",
       "                        })                };                });            </script>        </div>"
      ]
     },
     "metadata": {},
     "output_type": "display_data"
    }
   ],
   "source": [
    "fig9 = go.Figure([go.Bar(x=days_jfk['pickup_day'], y=days_jfk['cnt'],marker_color='rgb(255, 135, 45)')])\n",
    "fig9.update_xaxes(showgrid=False, title_text='Days')\n",
    "fig9.update_yaxes(gridcolor= 'rgb(209, 207, 207)', title_text=\"Footfall\")\n",
    "fig9.update_layout(\n",
    "    title=\"Footfall at JFK Airport over Days of the Week\",\n",
    "    plot_bgcolor='rgba(245, 245, 245 ,10)')\n",
    "fig9.show()\n",
    "\n"
   ]
  },
  {
   "cell_type": "code",
   "execution_count": null,
   "id": "2c38a206",
   "metadata": {},
   "outputs": [],
   "source": []
  }
 ],
 "metadata": {
  "kernelspec": {
   "display_name": "Python 3",
   "language": "python",
   "name": "python3"
  },
  "language_info": {
   "codemirror_mode": {
    "name": "ipython",
    "version": 3
   },
   "file_extension": ".py",
   "mimetype": "text/x-python",
   "name": "python",
   "nbconvert_exporter": "python",
   "pygments_lexer": "ipython3",
   "version": "3.8.5"
  }
 },
 "nbformat": 4,
 "nbformat_minor": 5
}
